{
 "cells": [
  {
   "cell_type": "markdown",
   "metadata": {
    "id": "lOHLpU5y0Wgo"
   },
   "source": [
    "#Part 1. n-Gram Language Models (30 points)\n",
    "\n",
    "Create 1-5-gram language models trained on the tiny shakespeare dataset. The relevant probabilities P(word|context) will be stored in Python dictionaries. Do not use any smoothing or back-off (until Question 4). Pay special attention to beginning and end of sequences in the modeling process.\n",
    "\n",
    "In this section, you may only use libraries imported in the original template."
   ]
  },
  {
   "cell_type": "code",
   "execution_count": 1,
   "metadata": {
    "id": "KQ0G021VWiOh"
   },
   "outputs": [],
   "source": [
    "# Import Libaries\n",
    "import requests\n",
    "import collections\n",
    "import random\n",
    "import math"
   ]
  },
  {
   "cell_type": "code",
   "execution_count": 2,
   "metadata": {
    "colab": {
     "base_uri": "https://localhost:8080/"
    },
    "id": "Ya2CfD3vWk2_",
    "outputId": "c70cd5a7-6701-41ed-d1bf-0f6f965d4310"
   },
   "outputs": [
    {
     "data": {
      "text/plain": [
       "(1115394,\n",
       " 'First Citizen:\\nBefore we proceed any further, hear me speak.\\n\\nAll:\\nSpeak, speak.\\n\\nFirst Citizen:\\nYou')"
      ]
     },
     "execution_count": 2,
     "metadata": {},
     "output_type": "execute_result"
    }
   ],
   "source": [
    "url = \"https://raw.githubusercontent.com/karpathy/char-rnn/master/data/tinyshakespeare/input.txt\"\n",
    "response = requests.get(url)\n",
    "response.raise_for_status() # Raise an exception for invalid HTTP status codes\n",
    "text_data = response.text\n",
    "len(text_data), text_data[:100]"
   ]
  },
  {
   "cell_type": "code",
   "execution_count": 3,
   "metadata": {
    "colab": {
     "base_uri": "https://localhost:8080/"
    },
    "id": "HtJfs33cWmBJ",
    "outputId": "6aa4ad21-9b4b-42fd-d653-44772de78ec2"
   },
   "outputs": [
    {
     "name": "stdout",
     "output_type": "stream",
     "text": [
      "BY:\n",
      "Many good morrows to my noble lord!\n",
      "\n",
      "HASTINGS:\n",
      "Good morrow, Catesby; you are early stirring\n",
      "What\n"
     ]
    }
   ],
   "source": [
    "# sample\n",
    "random.seed(42)\n",
    "\n",
    "pos = random.randint(0, len(text_data) - 1000)\n",
    "print(text_data[pos:pos+100])"
   ]
  },
  {
   "cell_type": "code",
   "execution_count": 4,
   "metadata": {
    "colab": {
     "base_uri": "https://localhost:8080/"
    },
    "id": "SaPIqFwHWpA3",
    "outputId": "ca2e49b4-65f6-4fa3-f646-1c9845299470"
   },
   "outputs": [
    {
     "name": "stdout",
     "output_type": "stream",
     "text": [
      "Number of words: 328097\n"
     ]
    }
   ],
   "source": [
    "# preprocessing - do not change\n",
    "def preprocess_text(text_data):\n",
    "  text_data = text_data.replace(',',' , ').replace(';', ' ').replace(':', ' ').replace('.',' . ').replace('?',' ? ').replace('!',' ! ')\n",
    "  text_data = text_data.replace('-', ' ')\n",
    "  text_data = text_data.replace('\\'', '').replace('\"', '')\n",
    "  text_data = text_data.replace('  ', ' ')\n",
    "  text_data = text_data.replace('\\n\\n','\\n').replace('\\n',' </s> <s> ')\n",
    "  text_data = '<s> ' + text_data + ' </s>'\n",
    "  text_data = text_data.lower()\n",
    "  return text_data\n",
    "\n",
    "text_data = preprocess_text(response.text)\n",
    "print(f\"Number of words: {len(text_data.split(' '))}\")"
   ]
  },
  {
   "cell_type": "code",
   "execution_count": 5,
   "metadata": {
    "colab": {
     "base_uri": "https://localhost:8080/"
    },
    "id": "cnHQ-enjWqVb",
    "outputId": "eb6dd468-58b3-4a8e-8be4-4641db722cfd"
   },
   "outputs": [
    {
     "data": {
      "text/plain": [
       "(1431030, 10000)"
      ]
     },
     "execution_count": 5,
     "metadata": {},
     "output_type": "execute_result"
    }
   ],
   "source": [
    "train_data = text_data[:-10_000]\n",
    "test_data = text_data[-10_000:]\n",
    "len(train_data), len(test_data)"
   ]
  },
  {
   "cell_type": "code",
   "execution_count": 6,
   "metadata": {
    "colab": {
     "base_uri": "https://localhost:8080/"
    },
    "id": "IrYnPsMKWrvG",
    "outputId": "233d8e3f-6798-46ab-bcba-52166198c348"
   },
   "outputs": [
    {
     "name": "stdout",
     "output_type": "stream",
     "text": [
      "Number of unique words: 12124\n",
      "Sample unique words: ['', 'mar', 'talks', 'fiddlestick', 'deposing', 'marvel', 'kated', 'gainsay', 'concupiscible', 'nations']\n"
     ]
    }
   ],
   "source": [
    "vocab = set(train_data.split(' '))\n",
    "print(f\"Number of unique words: {len(vocab)}\")\n",
    "print(f\"Sample unique words: {list(vocab)[:10]}\")"
   ]
  },
  {
   "cell_type": "markdown",
   "metadata": {
    "id": "9YO9DwrkWuQQ"
   },
   "source": [
    " ## A. Dealing with Out of Vocabulary Words  (5 Points)\n",
    "\n",
    "We want a way to handle words that did not appear in the train set. Create a list of out of vocabulary words by identifying words that appear in the train dataset less than 3 times.\n",
    "\n",
    "**Hint:** You can split the dataset into terms by using corpus.split(' '). You can assume the results will be valid word tokens. No more preprocessing is necessary."
   ]
  },
  {
   "cell_type": "code",
   "execution_count": 7,
   "metadata": {
    "id": "CzuEDZoZWs7t"
   },
   "outputs": [],
   "source": [
    "def identify_oov_words(corpus, n=3):\n",
    "    \"\"\"\n",
    "    Identify out-of-vocabulary (OOV) words that appear less than `n` times in the dataset.\n",
    "\n",
    "    Parameters:\n",
    "    - dataset: The dataset to process. It should be a dictionary with a 'text' key.\n",
    "    - n: The frequency threshold below which words are considered OOV.\n",
    "\n",
    "    Returns:\n",
    "    - A set of out-of-vocabulary words.\n",
    "    \"\"\"\n",
    "    # INSERT CODE HERE\n",
    "\n",
    "    count_dict = {}\n",
    "    oov_words = set()\n",
    "\n",
    "    words = corpus.split(' ')\n",
    "    for word in words:\n",
    "      if word not in count_dict:\n",
    "        count_dict[word] = 1\n",
    "      else:\n",
    "        count_dict[word] += 1\n",
    "\n",
    "    for word in words:\n",
    "      if count_dict[word] < n:\n",
    "        oov_words.add(word)\n",
    "\n",
    "    return oov_words"
   ]
  },
  {
   "cell_type": "code",
   "execution_count": 8,
   "metadata": {
    "colab": {
     "base_uri": "https://localhost:8080/"
    },
    "id": "S3_q0smRW2Ex",
    "outputId": "8351957b-8f55-4dc7-f595-814f0199d73d"
   },
   "outputs": [
    {
     "name": "stdout",
     "output_type": "stream",
     "text": [
      "Number of OOV words: 7181\n",
      "Expected number of OOV words: 7181\n"
     ]
    }
   ],
   "source": [
    "oov_words = identify_oov_words(train_data)\n",
    "\n",
    "vocab = vocab - oov_words\n",
    "vocab.add('<UNK>')\n",
    "print(f\"Number of OOV words: {len(oov_words)}\")\n",
    "print(f\"Expected number of OOV words: {7181}\")\n",
    "\n",
    "assert len(oov_words) == 7181"
   ]
  },
  {
   "cell_type": "code",
   "execution_count": 9,
   "metadata": {
    "id": "L60G-KIEW5KA"
   },
   "outputs": [],
   "source": [
    "train_data = ' '.join(['<UNK>' if word not in vocab else word for word in train_data.split(' ')])\n",
    "test_data = ' '.join(['<UNK>' if word not in vocab else word for word in test_data.split(' ')])"
   ]
  },
  {
   "cell_type": "markdown",
   "metadata": {
    "id": "LHKNJJ-gW6qh"
   },
   "source": [
    "## B. Create the N-Gram Models (12 Points)\n",
    "In this section, we will train several N-Gram models on ONLY the train_data.\n",
    "\n",
    "First, calculate the counts of each N-Gram."
   ]
  },
  {
   "cell_type": "code",
   "execution_count": 10,
   "metadata": {
    "id": "s6p1troiW9lF"
   },
   "outputs": [],
   "source": [
    "uni_counts = collections.defaultdict(lambda:0)\n",
    "bi_counts = collections.defaultdict(lambda:0)\n",
    "tri_counts = collections.defaultdict(lambda:0)\n",
    "four_counts = collections.defaultdict(lambda:0)\n",
    "five_counts = collections.defaultdict(lambda:0)"
   ]
  },
  {
   "cell_type": "code",
   "execution_count": 11,
   "metadata": {
    "id": "nY3UMFE6W_ys"
   },
   "outputs": [],
   "source": [
    "# INSERT CODE HERE\n",
    "\n",
    "# Tokenize the text into words\n",
    "split_train_data = train_data.split(' ')\n",
    "\n",
    "for i in range(len(split_train_data)):\n",
    "  uni_counts[(split_train_data[i])] += 1\n",
    "\n",
    "  if i < len(split_train_data) - 2:\n",
    "    bi_counts[(split_train_data[i], split_train_data[i + 1])] += 1\n",
    "\n",
    "  if i < len(split_train_data) - 3:\n",
    "    tri_counts[(split_train_data[i], split_train_data[i + 1], split_train_data[i + 2])] += 1\n",
    "\n",
    "  if i < len(split_train_data) - 4:\n",
    "    four_counts[(split_train_data[i], split_train_data[i + 1], split_train_data[i + 2], split_train_data[i + 3])] += 1\n",
    "\n",
    "  if i < len(split_train_data) - 5:\n",
    "    five_counts[(split_train_data[i], split_train_data[i + 1], split_train_data[i + 2], split_train_data[i + 3], split_train_data[i + 4])] += 1"
   ]
  },
  {
   "cell_type": "markdown",
   "metadata": {
    "id": "7DdgHEI5XB0H"
   },
   "source": [
    "Next, implement the N-Gram models themselves.\n",
    "\n"
   ]
  },
  {
   "cell_type": "code",
   "execution_count": 12,
   "metadata": {
    "id": "-aACGp05XAVW"
   },
   "outputs": [],
   "source": [
    "uni = collections.defaultdict(lambda:0)\n",
    "bi = collections.defaultdict(lambda:0)\n",
    "tri = collections.defaultdict(lambda:0)\n",
    "four = collections.defaultdict(lambda:0)\n",
    "five = collections.defaultdict(lambda:0)"
   ]
  },
  {
   "cell_type": "code",
   "execution_count": 13,
   "metadata": {
    "id": "CBnpHlliY3wP"
   },
   "outputs": [],
   "source": [
    "# INSERT CODE HERE\n",
    "\n",
    "for (w) in uni_counts:\n",
    "  uni[(w)] = uni_counts[(w)] / len(split_train_data)\n",
    "\n",
    "for (w1, w2) in bi_counts:\n",
    "  bi[(w1, w2)] = bi_counts[(w1, w2)] / uni_counts[(w1)]\n",
    "\n",
    "for (w1, w2, w3) in tri_counts:\n",
    "  tri[(w1, w2, w3)] = tri_counts[(w1, w2, w3)] / bi_counts[(w1, w2)]\n",
    "\n",
    "for (w1, w2, w3, w4) in four_counts:\n",
    "  four[(w1, w2, w3, w4)] = four_counts[(w1, w2, w3, w4)] / tri_counts[(w1, w2, w3)]\n",
    "\n",
    "for (w1, w2, w3, w4, w5) in five_counts:\n",
    "  five[(w1, w2, w3, w4, w5)] = five_counts[(w1, w2, w3, w4, w5)] / four_counts[(w1, w2, w3, w4)]\n",
    "\n",
    "# print(five[('<s>', 'against', 'the', 'roman', 'state')])\n",
    "# print(four[('remain', '</s>', '<s>', 'i')])\n",
    "# print(tri[('did', 'see', 'and')])\n",
    "# print(bi[('rash', 'like')])\n",
    "# print(round(uni[('citizen')],5))"
   ]
  },
  {
   "cell_type": "code",
   "execution_count": 14,
   "metadata": {
    "id": "CUgTaWzVXDsQ"
   },
   "outputs": [],
   "source": [
    "# Evaluation\n",
    "assert five[('<s>', 'against', 'the', 'roman', 'state')] == 1.0 # prob of last given prev 4\n",
    "assert four[('remain', '</s>', '<s>', 'i')] == 0.25 # prob of last given prev 3\n",
    "assert tri[('did', 'see', 'and')] == 0.5 # prob of last given prev 2\n",
    "assert bi[('rash', 'like')] == 0.1 # prob of last given prev 1\n",
    "assert round(uni[('citizen')],5) == 0.00031 # prob of last"
   ]
  },
  {
   "cell_type": "markdown",
   "metadata": {
    "id": "Le7l1pSAXGWq"
   },
   "source": [
    "## C. Laplace Smoothing (6 Points)\n",
    "\n",
    "From now on, we will **focus our attention to the bigram model**. Reimplement the bigram model using Laplacian Smoothing."
   ]
  },
  {
   "cell_type": "code",
   "execution_count": 15,
   "metadata": {
    "id": "sVXNg0bZXLfM"
   },
   "outputs": [],
   "source": [
    "def calculate_bigram_probability_with_smoothing(word1, word2):\n",
    "  # INSERT CODE HERE\n",
    "\n",
    "  b_count = bi_counts[(word1, word2)] + 1\n",
    "  u_count = uni_counts[(word1)] + len(vocab)\n",
    "\n",
    "  return b_count / u_count"
   ]
  },
  {
   "cell_type": "markdown",
   "metadata": {
    "id": "p70s9JZcXQIC"
   },
   "source": [
    "## D. Evaluate Perplexity (7 Points)\n",
    "\n",
    "Now let's evaluate the smoothed bigram model quantitively using the intrinsic metric **perplexity**.\n",
    "\n",
    "Recall perplexity is the inverse probability of the test text\n",
    "$$\\text{ppl}(w_1, \\dots, w_n) = p(w_1, \\dots, w_n)^{-\\frac{1}{N}}$$\n",
    "\n",
    "For an n-gram model, perplexity is computed by\n",
    "$$\\text{ppl}(w_1, \\dots, w_n) = (\\prod_i p(w_{i+n}|w_i^{i+n-1})^{-\\frac{1}{N}}$$\n",
    "\n",
    "To get rid of numerical issue, we usually compute through:\n",
    "$$\\text{ppl}(w_1, \\dots, w_n) = \\exp(-\\frac{1}{N}\\sum_i \\log p(w_{i+n}|w_i^{i+n-1}))$$\n",
    "\n",
    "Note that you do NOT need to optimize the language model in any way so as to minimize perplexity. Your reported perplexity will have no correlation with your score on this assignment, as far as it is implemented correctly.\n",
    "\n",
    "**HINT:** Use the calculate_bigram_probability_with_smoothing function created above."
   ]
  },
  {
   "cell_type": "code",
   "execution_count": 16,
   "metadata": {
    "id": "pqODu8L-XPS9"
   },
   "outputs": [],
   "source": [
    "def compute_perplexity(data):\n",
    "  \"\"\"\n",
    "    Computes the perplexity of a given text data using a bigram language model.\n",
    "\n",
    "    Parameters:\n",
    "    - data : str\n",
    "    Returns:\n",
    "    - float\n",
    "  \"\"\"\n",
    "\n",
    "  assert len(data.split(' ')) >= 5\n",
    "  # Hint: You should use the math library for exp and log\n",
    "  # INSERT CODE HERE\n",
    "\n",
    "  sum_log_probability = 0\n",
    "  split_test_data = data.split(' ')\n",
    "  N = len(split_test_data)\n",
    "\n",
    "  for i in range(N - 1):\n",
    "      word1, word2 = split_test_data[i], split_test_data[i + 1]\n",
    "\n",
    "      prob = calculate_bigram_probability_with_smoothing(word1, word2)\n",
    "\n",
    "      sum_log_probability += math.log(prob)\n",
    "\n",
    "  perplexity = math.exp(-sum_log_probability / N)\n",
    "\n",
    "  return perplexity"
   ]
  },
  {
   "cell_type": "code",
   "execution_count": 17,
   "metadata": {
    "id": "vVLFr2EfXWOH"
   },
   "outputs": [],
   "source": [
    "assert round(compute_perplexity(test_data)) == 129"
   ]
  },
  {
   "cell_type": "markdown",
   "metadata": {
    "id": "c-evK15Gwf3_"
   },
   "source": [
    "# Part 2. Logistic Regression (40 points)\n",
    "\n"
   ]
  },
  {
   "cell_type": "markdown",
   "metadata": {
    "id": "1iiTuJWnfhA5"
   },
   "source": [
    " In this question, you will be guided to implement logistic regression classifer from scratch. You will use LR classifer to do sentiment analysis task on Twitter dataset (the dataset is provided in the code)."
   ]
  },
  {
   "cell_type": "markdown",
   "metadata": {
    "id": "M7etuJ5pwymq"
   },
   "source": [
    "## Import Data"
   ]
  },
  {
   "cell_type": "code",
   "execution_count": 18,
   "metadata": {
    "id": "Tw63O_jqwfJ1"
   },
   "outputs": [],
   "source": [
    "# run this cell to import nltk\n",
    "import nltk"
   ]
  },
  {
   "cell_type": "code",
   "execution_count": 19,
   "metadata": {
    "colab": {
     "base_uri": "https://localhost:8080/"
    },
    "id": "HotoYOViw3Bv",
    "outputId": "b3116aa0-7ded-443a-adf0-8502b0953673"
   },
   "outputs": [
    {
     "name": "stderr",
     "output_type": "stream",
     "text": [
      "[nltk_data] Downloading package twitter_samples to /root/nltk_data...\n",
      "[nltk_data]   Package twitter_samples is already up-to-date!\n",
      "[nltk_data] Downloading package stopwords to /root/nltk_data...\n",
      "[nltk_data]   Package stopwords is already up-to-date!\n"
     ]
    },
    {
     "data": {
      "text/plain": [
       "True"
      ]
     },
     "execution_count": 19,
     "metadata": {},
     "output_type": "execute_result"
    }
   ],
   "source": [
    "nltk.download('twitter_samples')\n",
    "nltk.download('stopwords')\n",
    "# you only need to run it once\n"
   ]
  },
  {
   "cell_type": "code",
   "execution_count": 20,
   "metadata": {
    "id": "O8KazUgww7rU"
   },
   "outputs": [],
   "source": [
    "import numpy as np\n",
    "import pandas as pd\n",
    "from nltk.corpus import twitter_samples\n",
    "import re\n",
    "import string\n",
    "\n",
    "from nltk.corpus import stopwords\n",
    "from nltk.stem import PorterStemmer\n",
    "from nltk.tokenize import TweetTokenizer"
   ]
  },
  {
   "cell_type": "markdown",
   "metadata": {
    "id": "0zmbOD3-xgpf"
   },
   "source": [
    "## Prepare the data\n",
    "* You do not need to split the data. We provide the code for you and you just need to run the code below.\n"
   ]
  },
  {
   "cell_type": "code",
   "execution_count": 21,
   "metadata": {
    "id": "lq8Rr5R4xc8d"
   },
   "outputs": [],
   "source": [
    "# select the set of positive and negative tweets\n",
    "all_positive_tweets = twitter_samples.strings('positive_tweets.json')\n",
    "all_negative_tweets = twitter_samples.strings('negative_tweets.json')"
   ]
  },
  {
   "cell_type": "markdown",
   "metadata": {
    "id": "pd-qM1SBxlQw"
   },
   "source": [
    "* Train test split: 20% will be in the test set, and 80% in the training set.\n"
   ]
  },
  {
   "cell_type": "code",
   "execution_count": 22,
   "metadata": {
    "id": "SJsYMwnoxodO"
   },
   "outputs": [],
   "source": [
    "# split the data into two pieces, one for training and one for testing (validation set)\n",
    "test_pos = all_positive_tweets[4000:]\n",
    "train_pos = all_positive_tweets[:4000]\n",
    "test_neg = all_negative_tweets[4000:]\n",
    "train_neg = all_negative_tweets[:4000]\n",
    "\n",
    "train_x = train_pos + train_neg\n",
    "test_x = test_pos + test_neg"
   ]
  },
  {
   "cell_type": "markdown",
   "metadata": {
    "id": "usI6KCj6xtBX"
   },
   "source": [
    "* Create the numpy array of positive labels and negative labels."
   ]
  },
  {
   "cell_type": "code",
   "execution_count": 23,
   "metadata": {
    "id": "CVEhgGkix0UR"
   },
   "outputs": [],
   "source": [
    "# combine positive and negative labels\n",
    "train_y = np.append(np.ones((len(train_pos), 1)), np.zeros((len(train_neg), 1)), axis=0)\n",
    "test_y = np.append(np.ones((len(test_pos), 1)), np.zeros((len(test_neg), 1)), axis=0)"
   ]
  },
  {
   "cell_type": "markdown",
   "metadata": {
    "id": "vqd8BjfkxDaI"
   },
   "source": [
    "## A.  Text processing (6 points)\n",
    "\n",
    "\n",
    "\n",
    "\n",
    "\n",
    "\n",
    "*   Remove old style retweet with 'RT' in the sentence\n",
    "*   Remove hyperlinks\n",
    "\n",
    "*   Remove hashtag\n",
    "*   Tokenize the sentence using TweetTokenizer\n",
    "\n",
    "\n",
    "*   Remove stop words\n",
    "*   Use PorterStemmer to create stem of words in tweet\n",
    "\n",
    "\n",
    "\n",
    "\n",
    "\n",
    "\n",
    "\n",
    "\n",
    "\n",
    "\n"
   ]
  },
  {
   "cell_type": "code",
   "execution_count": 24,
   "metadata": {
    "id": "Cp6zvJ3uw-rP"
   },
   "outputs": [],
   "source": [
    "def process_tweet(tweet):\n",
    "  # write your code here\n",
    "\n",
    "  tokenizer = TweetTokenizer(preserve_case=False, strip_handles=True, reduce_len=True)\n",
    "  stop_words = stopwords.words('english')\n",
    "  stemmer = PorterStemmer()\n",
    "  processed_tweets = []\n",
    "\n",
    "  # 1. Removing the old style retweet\n",
    "  tweet = re.sub(r'^RT[\\s]+', '', tweet)\n",
    "\n",
    "  # 2. Removing hyperlinks\n",
    "  tweet = re.sub(r'https?:\\/\\/.*[\\r\\n]*', '', tweet)\n",
    "\n",
    "  # 3. Removing hashtag\n",
    "  tweet = re.sub(r'#', '', tweet)\n",
    "\n",
    "  # 4. Tokenizing using TweetTokenizer\n",
    "  tokens = tokenizer.tokenize(tweet)\n",
    "\n",
    "  # 5. Removing stop words and stemming\n",
    "  for token in tokens:\n",
    "    if (token not in stop_words and token not in string.punctuation):\n",
    "      stemmed_token = stemmer.stem(token)\n",
    "      processed_tweets.append(stemmed_token)\n",
    "\n",
    "  return processed_tweets"
   ]
  },
  {
   "cell_type": "markdown",
   "metadata": {
    "id": "SeW_hTjhxTQz"
   },
   "source": [
    "We will create a function that will take tweets and their labels as input, go through every tweet, preprocess them, count the occurrence of every word in the data set and create a frequency dictionary.\n",
    "\n",
    "Notice how the outer for loop goes through each tweet, and the inner for loop steps through each word in a tweet.\n",
    "The freqs dictionary is the frequency dictionary that's being built.\n",
    "The key is the tuple (word, label), such as (\"happy\",1) or (\"happy\",0). The value stored for each key is the count of how many times the word \"happy\" was associated with a positive label, or how many times \"happy\" was associated with a negative label."
   ]
  },
  {
   "cell_type": "code",
   "execution_count": 27,
   "metadata": {
    "id": "L-s8dg8NxX4i"
   },
   "outputs": [],
   "source": [
    "def build_freqs(tweets, ys):\n",
    "\n",
    "    # write your code here\n",
    "\n",
    "    freqs = {}\n",
    "\n",
    "    for tweet, label in zip(tweets, ys):\n",
    "\n",
    "        words = process_tweet(tweet)\n",
    "\n",
    "        for word in words:\n",
    "            freqs[(word, label[0])] = freqs.get((word, label[0]), 0) + 1\n",
    "\n",
    "    return freqs"
   ]
  },
  {
   "cell_type": "markdown",
   "metadata": {
    "id": "A5iTSkQHx6I4"
   },
   "source": [
    "## B. Logistic regression (16 points)\n",
    "\n",
    "\n",
    "### Sigmoid (4 points)\n",
    "\n",
    "You will learn to use logistic regression for text classification.\n",
    "* The sigmoid function is defined as:\n",
    "\n",
    "$$ h(z) = \\frac{1}{1+\\exp^{-z}} \\tag{1}$$\n",
    "\n",
    "It maps the input 'z' to a value that ranges between 0 and 1, and so it can be treated as a probability.\n"
   ]
  },
  {
   "cell_type": "code",
   "execution_count": 28,
   "metadata": {
    "id": "WP5U6cRDyFqb"
   },
   "outputs": [],
   "source": [
    "def sigmoid(z):\n",
    "    '''\n",
    "    Input:\n",
    "        z: is the input (can be a scalar or an array)\n",
    "    Output:\n",
    "        h: the sigmoid of z\n",
    "    '''\n",
    "\n",
    "    # write your code here\n",
    "\n",
    "    h = 1 / (1 + np.exp(-z))\n",
    "    return h"
   ]
  },
  {
   "cell_type": "markdown",
   "metadata": {
    "id": "Ckn5acahyKHF"
   },
   "source": [
    "*If you are familiar with Logistic regression, you don't need to go over this instructions. *\n",
    "\n",
    "### Logistic regression: regression and a sigmoid\n",
    "\n",
    "Logistic regression takes a regular linear regression, and applies a sigmoid to the output of the linear regression.\n",
    "\n",
    "Regression:\n",
    "$$z = \\theta_0 x_0 + \\theta_1 x_1 + \\theta_2 x_2 + ... \\theta_N x_N$$\n",
    "Note that the $\\theta$ values are \"weights\". If you took the Deep Learning Specialization, we referred to the weights with the `w` vector.  In this course, we're using a different variable $\\theta$ to refer to the weights.\n",
    "\n",
    "Logistic regression\n",
    "$$ h(z) = \\frac{1}{1+\\exp^{-z}}$$\n",
    "$$z = \\theta_0 x_0 + \\theta_1 x_1 + \\theta_2 x_2 + ... \\theta_N x_N$$\n",
    "We will refer to 'z' as the 'logits'.\n",
    "\n",
    "###  Cost function and Gradient\n",
    "\n",
    "The cost function used for logistic regression is the average of the log loss across all training examples:\n",
    "\n",
    "$$J(\\theta) = -\\frac{1}{m} \\sum_{i=1}^m y^{(i)}\\log (h(z(\\theta)^{(i)})) + (1-y^{(i)})\\log (1-h(z(\\theta)^{(i)}))\\tag{5} $$\n",
    "* $m$ is the number of training examples\n",
    "* $y^{(i)}$ is the actual label of the i-th training example.\n",
    "* $h(z(\\theta)^{(i)})$ is the model's prediction for the i-th training example.\n",
    "\n",
    "The loss function for a single training example is\n",
    "$$ Loss = -1 \\times \\left( y^{(i)}\\log (h(z(\\theta)^{(i)})) + (1-y^{(i)})\\log (1-h(z(\\theta)^{(i)})) \\right)$$\n",
    "\n",
    "* All the $h$ values are between 0 and 1, so the logs will be negative. That is the reason for the factor of -1 applied to the sum of the two loss terms.\n",
    "* Note that when the model predicts 1 ($h(z(\\theta)) = 1$) and the label $y$ is also 1, the loss for that training example is 0.\n",
    "\n",
    "### Update the weights\n",
    "\n",
    "To update your weight vector $\\theta$, you will apply gradient descent to iteratively improve your model's predictions.  \n",
    "The gradient of the cost function $J$ with respect to one of the weights $\\theta_j$ is:\n",
    "\n",
    "$$\\nabla_{\\theta_j}J(\\theta) = \\frac{1}{m} \\sum_{i=1}^m(h^{(i)}-y^{(i)})x_j \\tag{5}$$\n",
    "* 'i' is the index across all 'm' training examples.\n",
    "* 'j' is the index of the weight $\\theta_j$, so $x_j$ is the feature associated with weight $\\theta_j$\n",
    "\n",
    "* To update the weight $\\theta_j$, we adjust it by subtracting a fraction of the gradient determined by $\\alpha$:\n",
    "$$\\theta_j = \\theta_j - \\alpha \\times \\nabla_{\\theta_j}J(\\theta) $$\n",
    "* The learning rate $\\alpha$ is a value that we choose to control how big a single update will be.\n"
   ]
  },
  {
   "cell_type": "markdown",
   "metadata": {
    "id": "VYaPWAXoy8E4"
   },
   "source": [
    "### Implement gradient descent function (12 points)\n",
    "\n",
    "* The number of iterations `num_iters` is the number of times that you'll use the entire training set.\n",
    "* For each iteration, you'll calculate the cost function using all training examples (there are `m` training examples), and for all features.\n",
    "* Instead of updating a single weight $\\theta_i$ at a time, we can update all the weights in the column vector:  \n",
    "$$\\mathbf{\\theta} = \\begin{pmatrix}\n",
    "\\theta_0\n",
    "\\\\\n",
    "\\theta_1\n",
    "\\\\\n",
    "\\theta_2\n",
    "\\\\\n",
    "\\vdots\n",
    "\\\\\n",
    "\\theta_n\n",
    "\\end{pmatrix}$$\n",
    "* $\\mathbf{\\theta}$ has dimensions (n+1, 1), where 'n' is the number of features, and there is one more element for the bias term $\\theta_0$ (note that the corresponding feature value $\\mathbf{x_0}$ is 1).\n",
    "* The 'logits', 'z', are calculated by multiplying the feature matrix 'x' with the weight vector 'theta'.  $z = \\mathbf{x}\\mathbf{\\theta}$\n",
    "    * $\\mathbf{x}$ has dimensions (m, n+1)\n",
    "    * $\\mathbf{\\theta}$: has dimensions (n+1, 1)\n",
    "    * $\\mathbf{z}$: has dimensions (m, 1)\n",
    "* The prediction 'h', is calculated by applying the sigmoid to each element in 'z': $h(z) = sigmoid(z)$, and has dimensions (m,1).\n",
    "* The cost function $J$ is calculated by taking the dot product of the vectors 'y' and 'log(h)'.  Since both 'y' and 'h' are column vectors (m,1), transpose the vector to the left, so that matrix multiplication of a row vector with column vector performs the dot product.\n",
    "$$J = \\frac{-1}{m} \\times \\left(\\mathbf{y}^T \\cdot log(\\mathbf{h}) + \\mathbf{(1-y)}^T \\cdot log(\\mathbf{1-h}) \\right)$$\n",
    "* The update of theta is also vectorized.  Because the dimensions of $\\mathbf{x}$ are (m, n+1), and both $\\mathbf{h}$ and $\\mathbf{y}$ are (m, 1), we need to transpose the $\\mathbf{x}$ and place it on the left in order to perform matrix multiplication, which then yields the (n+1, 1) answer we need:\n",
    "$$\\mathbf{\\theta} = \\mathbf{\\theta} - \\frac{\\alpha}{m} \\times \\left( \\mathbf{x}^T \\cdot \\left( \\mathbf{h-y} \\right) \\right)$$"
   ]
  },
  {
   "cell_type": "code",
   "execution_count": 29,
   "metadata": {
    "id": "u5ylWyKIzEqs"
   },
   "outputs": [],
   "source": [
    "def gradientDescent(x, y, theta, alpha, num_iters):\n",
    "    '''\n",
    "    Input:\n",
    "        x: matrix of features which is (m,n+1)\n",
    "        y: corresponding labels of the input matrix x, dimensions (m,1)\n",
    "        theta: weight vector of dimension (n+1,1)\n",
    "        alpha: learning rate\n",
    "        num_iters: number of iterations you want to train your model for\n",
    "    Output:\n",
    "        J: the final cost\n",
    "        theta: your final weight vector\n",
    "    Hint: you might want to print the cost to make sure that it is going down.\n",
    "    '''\n",
    "    ### Write your code here\n",
    "\n",
    "    for i in range(num_iters):\n",
    "\n",
    "      # 𝑧=𝜃0𝑥0+𝜃1𝑥1+𝜃2𝑥2+...𝜃𝑁𝑥𝑁\n",
    "      # h is the sigmoid of z\n",
    "      z = np.dot(x, theta)\n",
    "      h = sigmoid(z)\n",
    "\n",
    "      J = -(1/x.shape[0]) * (np.dot(y.T, np.log(h)) + np.dot((1-y).T, np.log(1-h)))\n",
    "\n",
    "      theta -= (alpha / x.shape[0]) * (np.dot(x.T,h-y))\n",
    "\n",
    "    return float(J), theta\n"
   ]
  },
  {
   "cell_type": "markdown",
   "metadata": {
    "id": "kOW5hhOezOnu"
   },
   "source": [
    "## C. Extracting the features (6 points)\n",
    "\n",
    "* Given a list of tweets, extract the features and store them in a matrix. You will extract two features.\n",
    "    * The first feature is the number of positive words in a tweet.\n",
    "    * The second feature is the number of negative words in a tweet.\n",
    "* Then train your logistic regression classifier on these features.\n",
    "* Test the classifier on a validation set.\n",
    "\n",
    "### Instructions: Implement the extract_features function.\n",
    "* This function takes in a single tweet.\n",
    "* Process the tweet using the imported `process_tweet()` function and save the list of tweet words.\n",
    "* Loop through each word in the list of processed words\n",
    "    * For each word, check the `freqs` dictionary for the count when that word has a positive '1' label. (Check for the key (word, 1.0)\n",
    "    * Do the same for the count for when the word is associated with the negative label '0'. (Check for the key (word, 0.0).)"
   ]
  },
  {
   "cell_type": "code",
   "execution_count": 30,
   "metadata": {
    "id": "KosqgShlzIbD"
   },
   "outputs": [],
   "source": [
    "def extract_features(tweet, freqs):\n",
    "    '''\n",
    "    Input:\n",
    "        tweet: a list of words for one tweet\n",
    "        freqs: a dictionary corresponding to the frequencies of each tuple (word, label)\n",
    "    Output:\n",
    "        x: a feature vector of dimension (1,3)\n",
    "    '''\n",
    "\n",
    "    # process_tweet tokenizes, stems, and removes stopwords\n",
    "    word_l = process_tweet(tweet)\n",
    "\n",
    "    # 3 elements in the form of a 1 x 3 vector\n",
    "    x = np.zeros((1, 3))\n",
    "\n",
    "    #bias term is set to 1\n",
    "    x[0,0] = 1\n",
    "\n",
    "    # write your code here\n",
    "    for word in word_l:\n",
    "      pos_freq = freqs.get((word, 1.0), 0)\n",
    "      neg_freq = freqs.get((word, 0.0), 0)\n",
    "\n",
    "      x[0, 1] += pos_freq\n",
    "      x[0, 2] += neg_freq\n",
    "\n",
    "    return x\n"
   ]
  },
  {
   "cell_type": "markdown",
   "metadata": {
    "id": "ThQX8MJUzYQa"
   },
   "source": [
    "## D. Training Your Model (6 points)\n",
    "\n",
    "To train the model:\n",
    "* Stack the features for all training examples into a matrix `X`.\n",
    "* Call `gradientDescent`, which you've implemented above.\n",
    "* Print the cost J and final weights theta."
   ]
  },
  {
   "cell_type": "code",
   "execution_count": 31,
   "metadata": {
    "colab": {
     "base_uri": "https://localhost:8080/"
    },
    "id": "Bh-KGwH1zXkF",
    "outputId": "230f8503-91c5-4dda-a3f0-bf6681fd5be8"
   },
   "outputs": [
    {
     "name": "stdout",
     "output_type": "stream",
     "text": [
      "Cost J: 0.2188175976584986\n",
      "Theta: [[ 9.06795618e-08]\n",
      " [ 5.94290232e-04]\n",
      " [-6.11656682e-04]]\n"
     ]
    },
    {
     "name": "stderr",
     "output_type": "stream",
     "text": [
      "<ipython-input-29-665db2fd54cb>:27: DeprecationWarning: Conversion of an array with ndim > 0 to a scalar is deprecated, and will error in future. Ensure you extract a single element from your array before performing this operation. (Deprecated NumPy 1.25.)\n",
      "  return float(J), theta\n"
     ]
    }
   ],
   "source": [
    "# write your code here\n",
    "\n",
    "freqs = build_freqs(train_x, train_y)\n",
    "# print(f'len(freqs) = {len(freqs)}')\n",
    "\n",
    "# Stacking the features for all training examples into a matrix X.\n",
    "X = np.vstack([extract_features(tweet, freqs) for tweet in train_x])\n",
    "\n",
    "# Calling gradientDescent implemented above.\n",
    "J, theta = gradientDescent(X, train_y, np.zeros((3, 1)), 1e-9, 1850)\n",
    "\n",
    "print(\"Cost J:\", J)\n",
    "print(\"Theta:\", theta)\n"
   ]
  },
  {
   "cell_type": "markdown",
   "metadata": {
    "id": "dZ3BTrKTziUF"
   },
   "source": [
    "## E. Test your model (6 points)\n",
    "\n",
    "It is time for you to test your logistic regression function on some new input that your model has not seen before.\n",
    "\n",
    "#### Instructions: Write `predict_tweet`\n",
    "Predict whether a tweet is positive or negative.\n",
    "\n",
    "* Given a tweet, process it, then extract the features.\n",
    "* Apply the model's learned weights on the features to get the logits.\n",
    "* Apply the sigmoid to the logits to get the prediction (a value between 0 and 1).\n",
    "\n",
    "$$y_{pred} = sigmoid(\\mathbf{x} \\cdot \\theta)$$"
   ]
  },
  {
   "cell_type": "code",
   "execution_count": 32,
   "metadata": {
    "id": "C0gsWj6ozgiT"
   },
   "outputs": [],
   "source": [
    "def predict_tweet(tweet, freqs, theta):\n",
    "    '''\n",
    "    Input:\n",
    "        tweet: a string\n",
    "        freqs: a dictionary corresponding to the frequencies of each tuple (word, label)\n",
    "        theta: (3,1) vector of weights\n",
    "    Output:\n",
    "        y_pred: the probability of a tweet being positive or negative\n",
    "    '''\n",
    "    # write your code here\n",
    "\n",
    "    y_pred = sigmoid(np.dot(extract_features(tweet, freqs), theta))\n",
    "\n",
    "    return y_pred"
   ]
  },
  {
   "cell_type": "markdown",
   "metadata": {
    "id": "qfL3YpxMzxEl"
   },
   "source": [
    "### Check performance using the test set\n",
    "After training your model using the training set above, check how your model might perform on real, unseen data, by testing it against the test set.\n",
    "\n",
    "#### Instructions: Implement `test_logistic_regression`\n",
    "* Given the test data and the weights of your trained model, calculate the accuracy of your logistic regression model.\n",
    "* Use your `predict_tweet()` function to make predictions on each tweet in the test set.\n",
    "* If the prediction is > 0.5, set the model's classification `y_hat` to 1, otherwise set the model's classification `y_hat` to 0.\n",
    "* A prediction is accurate when `y_hat` equals `test_y`.  Sum up all the instances when they are equal and divide by `m`."
   ]
  },
  {
   "cell_type": "code",
   "execution_count": 33,
   "metadata": {
    "id": "3U2Cht1Cz437"
   },
   "outputs": [],
   "source": [
    "def test_logistic_regression(test_x, test_y, freqs, theta):\n",
    "    \"\"\"\n",
    "    Input:\n",
    "        test_x: a list of tweets\n",
    "        test_y: (m, 1) vector with the corresponding labels for the list of tweets\n",
    "        freqs: a dictionary with the frequency of each pair (or tuple)\n",
    "        theta: weight vector of dimension (3, 1)\n",
    "    Output:\n",
    "        accuracy: (# of tweets classified correctly) / (total # of tweets)\n",
    "    \"\"\"\n",
    "\n",
    "   # write your code here\n",
    "    predicted_y = [1.0 if predict_tweet(tweet, freqs, theta) > 0.5 else 0.0 for tweet in test_x]\n",
    "    accuracy = np.mean(np.squeeze(test_y) == np.array(predicted_y))\n",
    "\n",
    "    return accuracy"
   ]
  },
  {
   "cell_type": "code",
   "execution_count": 34,
   "metadata": {
    "colab": {
     "base_uri": "https://localhost:8080/"
    },
    "id": "GwaUhFDlz8wg",
    "outputId": "cdfca996-4936-4bd8-8253-f5069b9582fb"
   },
   "outputs": [
    {
     "name": "stdout",
     "output_type": "stream",
     "text": [
      "Logistic regression model's accuracy = 0.9955\n"
     ]
    }
   ],
   "source": [
    "tmp_accuracy = test_logistic_regression(test_x, test_y, freqs, theta)\n",
    "print(f\"Logistic regression model's accuracy = {tmp_accuracy:.4f}\")"
   ]
  },
  {
   "cell_type": "markdown",
   "metadata": {
    "id": "snPTf5W90sdC"
   },
   "source": [
    "#Part 3. Word Embeddings (30 points)"
   ]
  },
  {
   "cell_type": "markdown",
   "metadata": {
    "id": "qujKDYlzgG8V"
   },
   "source": [
    "In this question, you will implement cosine similarities from scratch and solve some word analogy problems with pre-trained word vectors."
   ]
  },
  {
   "cell_type": "markdown",
   "metadata": {
    "id": "Y-RqYJcv05rP"
   },
   "source": [
    "## A. Load Pre-trained GloVe Word Vectors with Gensim (0 points)\n",
    "\n",
    "- Gensim is a package that implements the word2vec family of algorithms. Here, we use it to load a pre-trained word vectors named GloVe ([Pennington et al. 2014](https://aclanthology.org/D14-1162/)). Please follow the instructions below.\n",
    "- See more about the Gensim API here: https://radimrehurek.com/gensim/models/word2vec.html"
   ]
  },
  {
   "cell_type": "code",
   "execution_count": 35,
   "metadata": {
    "colab": {
     "base_uri": "https://localhost:8080/"
    },
    "id": "ZoQgPZiL0yG1",
    "outputId": "2fbbf44d-d081-4b7f-ff99-1095d5950868"
   },
   "outputs": [
    {
     "name": "stdout",
     "output_type": "stream",
     "text": [
      "Requirement already satisfied: gensim in /usr/local/lib/python3.10/dist-packages (4.3.3)\n",
      "Requirement already satisfied: numpy<2.0,>=1.18.5 in /usr/local/lib/python3.10/dist-packages (from gensim) (1.26.4)\n",
      "Requirement already satisfied: scipy<1.14.0,>=1.7.0 in /usr/local/lib/python3.10/dist-packages (from gensim) (1.13.1)\n",
      "Requirement already satisfied: smart-open>=1.8.1 in /usr/local/lib/python3.10/dist-packages (from gensim) (7.0.4)\n",
      "Requirement already satisfied: wrapt in /usr/local/lib/python3.10/dist-packages (from smart-open>=1.8.1->gensim) (1.16.0)\n"
     ]
    }
   ],
   "source": [
    "!pip install gensim"
   ]
  },
  {
   "cell_type": "code",
   "execution_count": 36,
   "metadata": {
    "id": "k1-WXnpN03RC"
   },
   "outputs": [],
   "source": [
    "import gensim.downloader\n",
    "import numpy as np"
   ]
  },
  {
   "cell_type": "code",
   "execution_count": 37,
   "metadata": {
    "id": "WKEQ0svQ0_bu"
   },
   "outputs": [],
   "source": [
    "glove_vectors = gensim.downloader.load('glove-wiki-gigaword-50')"
   ]
  },
  {
   "cell_type": "code",
   "execution_count": 38,
   "metadata": {
    "colab": {
     "base_uri": "https://localhost:8080/"
    },
    "id": "Emb5Z-y61Bb5",
    "outputId": "e75d1d39-1573-4590-939b-263fe43ab582"
   },
   "outputs": [
    {
     "name": "stdout",
     "output_type": "stream",
     "text": [
      "data type: <class 'numpy.ndarray'>\n",
      "# words: 400000\n",
      "Embedding dimension: 50\n"
     ]
    }
   ],
   "source": [
    "print('data type:', type(glove_vectors.vectors))\n",
    "print('# words:', glove_vectors.vectors.shape[0])\n",
    "print('Embedding dimension:', glove_vectors.vectors.shape[1])"
   ]
  },
  {
   "cell_type": "markdown",
   "metadata": {
    "id": "ZduEu4W61Lvq"
   },
   "source": [
    "## B. Given a query word, find the top 10 words in the vocabulary that have the highest cosine similarity scores (10 points)"
   ]
  },
  {
   "cell_type": "code",
   "execution_count": 39,
   "metadata": {
    "colab": {
     "base_uri": "https://localhost:8080/"
    },
    "id": "u4E-tYXy1Jly",
    "outputId": "d8b5a74b-79a4-450f-d083-1300310b786b"
   },
   "outputs": [
    {
     "data": {
      "text/plain": [
       "[('dog', 0.9218006134033203),\n",
       " ('rabbit', 0.8487821221351624),\n",
       " ('monkey', 0.8041081428527832),\n",
       " ('rat', 0.7891963124275208),\n",
       " ('cats', 0.7865270972251892),\n",
       " ('snake', 0.7798910737037659),\n",
       " ('dogs', 0.7795814871788025),\n",
       " ('pet', 0.7792249917984009),\n",
       " ('mouse', 0.773166835308075),\n",
       " ('bite', 0.7728800177574158)]"
      ]
     },
     "execution_count": 39,
     "metadata": {},
     "output_type": "execute_result"
    }
   ],
   "source": [
    "glove_vectors.most_similar('cat', topn=10)"
   ]
  },
  {
   "cell_type": "markdown",
   "metadata": {
    "id": "b2CvdJZ41RcJ"
   },
   "source": [
    "## You need to implement `my_most_similar()` that will do the same thing as the built-in `most_similar()` function above\n",
    "- cosine similarity: $\\frac{v_1 \\cdot v_2}{\\lVert v_1 \\rVert \\lVert v_2 \\rVert}$\n",
    "- $\\lVert v_1 \\rVert$ means the vector norm of $v_1$\n",
    "- We have a vocabulary of 400000 words. You should calculate the cosine similarity between `vec(query_word)` and `vec(any other words)`.\n",
    "- Find the top 10 words that have the highest cosine similarity with the query word.\n",
    "- Return a list of tuple, where each tuple contains a word (str) and its corresponding cosine similarity score (float) to the query word.\n",
    "- The following functions are the only built-in functions you are allowed to use for all the questions in Part 3:\n",
    "  - `glove_vectors.get_index()`, `glove_vectors.get_vector()`, `glove_vectors.index_to_key` (See how to use these functions below.)\n",
    "  - `np.dot()`, `np.sum()`, `np.argsort(), np.transpose()`\n",
    "- Hint: Do **not** include the query word itself in the top 10 words\n",
    "- Hint: To implement $\\sqrt{N}$, you can do `N**0.5`"
   ]
  },
  {
   "cell_type": "code",
   "execution_count": 40,
   "metadata": {
    "colab": {
     "base_uri": "https://localhost:8080/"
    },
    "id": "IsWUyrr-nb4l",
    "outputId": "bf0f37df-3eba-4fd4-b904-83e04e772a85"
   },
   "outputs": [
    {
     "data": {
      "text/plain": [
       "3292"
      ]
     },
     "execution_count": 40,
     "metadata": {},
     "output_type": "execute_result"
    }
   ],
   "source": [
    "glove_vectors.get_index('apple') # get the index of a word in the vocabulary"
   ]
  },
  {
   "cell_type": "code",
   "execution_count": 41,
   "metadata": {
    "colab": {
     "base_uri": "https://localhost:8080/",
     "height": 35
    },
    "id": "Jg5oUogSneB7",
    "outputId": "48764cfd-4ca2-4deb-e203-8769a6b5c975"
   },
   "outputs": [
    {
     "data": {
      "application/vnd.google.colaboratory.intrinsic+json": {
       "type": "string"
      },
      "text/plain": [
       "'apple'"
      ]
     },
     "execution_count": 41,
     "metadata": {},
     "output_type": "execute_result"
    }
   ],
   "source": [
    "glove_vectors.index_to_key[3292] # index to word"
   ]
  },
  {
   "cell_type": "code",
   "execution_count": 42,
   "metadata": {
    "colab": {
     "base_uri": "https://localhost:8080/"
    },
    "id": "_vkbFKQ2nfuN",
    "outputId": "9d82769a-cf55-4375-fefb-22d9ee46ab17"
   },
   "outputs": [
    {
     "data": {
      "text/plain": [
       "array([ 0.52042 , -0.8314  ,  0.49961 ,  1.2893  ,  0.1151  ,  0.057521,\n",
       "       -1.3753  , -0.97313 ,  0.18346 ,  0.47672 , -0.15112 ,  0.35532 ,\n",
       "        0.25912 , -0.77857 ,  0.52181 ,  0.47695 , -1.4251  ,  0.858   ,\n",
       "        0.59821 , -1.0903  ,  0.33574 , -0.60891 ,  0.41742 ,  0.21569 ,\n",
       "       -0.07417 , -0.5822  , -0.4502  ,  0.17253 ,  0.16448 , -0.38413 ,\n",
       "        2.3283  , -0.66682 , -0.58181 ,  0.74389 ,  0.095015, -0.47865 ,\n",
       "       -0.84591 ,  0.38704 ,  0.23693 , -1.5523  ,  0.64802 , -0.16521 ,\n",
       "       -1.4719  , -0.16224 ,  0.79857 ,  0.97391 ,  0.40027 , -0.21912 ,\n",
       "       -0.30938 ,  0.26581 ], dtype=float32)"
      ]
     },
     "execution_count": 42,
     "metadata": {},
     "output_type": "execute_result"
    }
   ],
   "source": [
    "glove_vectors.get_vector('apple') # get the word vector of a word"
   ]
  },
  {
   "cell_type": "code",
   "execution_count": 43,
   "metadata": {
    "id": "z9VKWxnV1PRP"
   },
   "outputs": [],
   "source": [
    "def my_most_similar(glove_vectors, query_word, topn):\n",
    "    \"\"\"\n",
    "    Find the most similar words to a given query word based on cosine similarity in the GloVe embedding space.\n",
    "\n",
    "    Args:\n",
    "        glove_vectors (Gensim KeyedVectors)\n",
    "        query_word (str): The word for which to find the most similar words.\n",
    "        topn (int): The number of most similar words to return.\n",
    "\n",
    "    Returns:\n",
    "        list of tuples:\n",
    "            - Each tuple contains a word (str) and its corresponding cosine similarity score (float) to the query word.\n",
    "            - The list is sorted in descending order of cosine similarity.\n",
    "    \"\"\"\n",
    "    # W (numpy.ndarray): glove word embeddings of shape (400000, 50)\n",
    "    W = glove_vectors.vectors\n",
    "\n",
    "    # Your code here\n",
    "\n",
    "    given_word_vector = glove_vectors.get_vector(query_word)\n",
    "    norm_given_word = np.sum(given_word_vector**2)**0.5\n",
    "    similarities = []\n",
    "\n",
    "    for word in glove_vectors.index_to_key:\n",
    "      if word == query_word:\n",
    "        continue\n",
    "\n",
    "      word_vector = glove_vectors.get_vector(word)\n",
    "      norm_word = np.sum(word_vector**2)**0.5\n",
    "\n",
    "      cos_sim = np.dot(given_word_vector, word_vector) / (norm_given_word * norm_word)\n",
    "      similarities.append((word, cos_sim))\n",
    "\n",
    "    similarities = sorted(similarities, key=lambda x: x[1], reverse=True)\n",
    "    my_list = similarities[:topn]\n",
    "\n",
    "    assert len(my_list) == topn\n",
    "    return my_list"
   ]
  },
  {
   "cell_type": "markdown",
   "metadata": {
    "id": "9yQZwJ0b1gye"
   },
   "source": [
    "## C. What are the highest and lowest vector norms among all the word vectors? Answer with two values. (4 points)"
   ]
  },
  {
   "cell_type": "code",
   "execution_count": 44,
   "metadata": {
    "colab": {
     "base_uri": "https://localhost:8080/"
    },
    "id": "IzIc2brD2VdI",
    "outputId": "2c1ea892-07d3-4832-c04b-c3dc73565081"
   },
   "outputs": [
    {
     "name": "stdout",
     "output_type": "stream",
     "text": [
      "max_vector_norm: 14.122, min_vector_norm: 0.047\n"
     ]
    }
   ],
   "source": [
    "#Your code here\n",
    "#print(f'max_vector_norm: {max_vector_norm:.3f}, min_vector_norm: {min_vector_norm:.3f}')\n",
    "\n",
    "all_vectors = word_vectors = glove_vectors.vectors\n",
    "norms = np.linalg.norm(all_vectors, axis=1)\n",
    "\n",
    "max_vector_norm = np.max(norms)\n",
    "min_vector_norm = np.min(norms)\n",
    "\n",
    "print(f'max_vector_norm: {max_vector_norm:.3f}, min_vector_norm: {min_vector_norm:.3f}')"
   ]
  },
  {
   "cell_type": "markdown",
   "metadata": {
    "id": "PyOJW6dg1rkG"
   },
   "source": [
    "## D. Why is cosine similarity better than dot product when calculating similarities between word vectors? (3 points)"
   ]
  },
  {
   "cell_type": "markdown",
   "metadata": {
    "id": "zZU2E2fC2p-0"
   },
   "source": [
    "Your answers here (double click to edit)\n",
    "\n",
    "Cosine similarity is better than dot product for comparing word vectors because Cosine similarity focuses on the direction of vectors rather than their magnitude thus making it ideal for measuring the similarity of vectors regardless of their length.\n",
    "\n",
    "But, dot product can give high similarity just because the vectors are longer, even if the words aren’t that similar and thus misrepresenting the true relationship between word meanings. Cosine similarity avoids this by normalizing the vectors and comparing them based on the angle between them."
   ]
  },
  {
   "cell_type": "markdown",
   "metadata": {
    "id": "PErzUd1816x7"
   },
   "source": [
    "## Your implementation of `my_most_similar()` should pass the test cases below"
   ]
  },
  {
   "cell_type": "code",
   "execution_count": 45,
   "metadata": {
    "id": "r4Yi1lWK1c4X"
   },
   "outputs": [],
   "source": [
    "def diff_results(oracle_list, my_list):\n",
    "  for oracle, mine in zip(oracle_list, my_list):\n",
    "    assert oracle[0] == mine[0], \"find the wrong word\"\n",
    "    assert np.isclose(oracle[1], mine[1]), \"wrong consine similarity\"\n",
    "\n",
    "for query in ['computer', 'frog', 'car']:\n",
    "  oracle_list = glove_vectors.most_similar(query, topn=10)\n",
    "  my_list = my_most_similar(glove_vectors, query, topn=10)\n",
    "  diff_results(oracle_list, my_list)"
   ]
  },
  {
   "cell_type": "markdown",
   "metadata": {
    "id": "dD41_iZH2EYw"
   },
   "source": [
    "## E. We visualize the word embeddings with PCA below. What do you see in the figure? (3 points)\n",
    "- Hint: Each dot corresponds to a word vector. Do you observe any meaningful direction between related words?\n",
    "- You do not need to write any code in this question"
   ]
  },
  {
   "cell_type": "code",
   "execution_count": 46,
   "metadata": {
    "id": "kSAPfG3L19kM"
   },
   "outputs": [],
   "source": [
    "from sklearn.decomposition import PCA\n",
    "pca = PCA(n_components=2)\n",
    "Z = pca.fit_transform(glove_vectors.vectors)"
   ]
  },
  {
   "cell_type": "code",
   "execution_count": 47,
   "metadata": {
    "colab": {
     "base_uri": "https://localhost:8080/",
     "height": 422
    },
    "id": "0Jxt-2hc2H8r",
    "outputId": "eb8def17-e775-4509-b826-9e8fe244980e"
   },
   "outputs": [
    {
     "data": {
      "image/png": "[encoded data removed]",
      "text/plain": [
       "<Figure size 1000x500 with 1 Axes>"
      ]
     },
     "metadata": {},
     "output_type": "display_data"
    }
   ],
   "source": [
    "import matplotlib.pyplot as plt\n",
    "plt.figure(figsize=(10,5))\n",
    "for word in ['king', 'queen', 'lord', 'lady', 'prince', 'princess', 'men', 'women']:\n",
    "  point = Z[glove_vectors.get_index(word)]\n",
    "  plt.scatter(point[0], point[1], color='b')\n",
    "  plt.annotate(word, (point[0], point[1]))\n",
    "  plt.xticks([])\n",
    "  plt.yticks([])"
   ]
  },
  {
   "cell_type": "markdown",
   "metadata": {
    "id": "gUyMqZ9v51HY"
   },
   "source": [
    "Your answers here (double click to edit)\n",
    "\n",
    "We can see that pairs like king and queen, prince and princess, lord and lady, and men and women follow similar directions, capturing gender relationships in the word embeddings. There is a clear pattern where related words are aligned, with words like queen directly below king, and lady below lord.\n",
    "\n",
    "We can also notice that the words related to nobility or titles such as king, queen, lord, lady are clustered together, showing their semantic similarity.\n",
    "\n",
    "We can also notice that words like king, queen, and others related to titles are grouped together, while more general words like men and women are farther away, showing that the words related to titles are in their own cluster.\n"
   ]
  },
  {
   "cell_type": "markdown",
   "metadata": {
    "id": "t9crJ6Dx3MCz"
   },
   "source": [
    "## F. Word Analogy: prince is to princess as lord is to? (10 points)\n",
    "  - word1: `prince`, word2: `princess`, word3: `lord`\n",
    "  - `direction = vec(word2) - vec(word1)`\n",
    "  - `vec_tgt = vec(word3) + direction`\n",
    "  - Calcuate the cosine similarities between `vec_tgt` and all the words in the vocabulary, **except for word3**.\n",
    "  - Return the word that has the highest cosine similarity score."
   ]
  },
  {
   "cell_type": "code",
   "execution_count": 48,
   "metadata": {
    "id": "i51kuBJr3UW0"
   },
   "outputs": [],
   "source": [
    "def word_analogy(glove_vectors, word1, word2, word3):\n",
    "    \"\"\"\n",
    "    Args:\n",
    "        glove_vectors (Gensim KeyedVectors)\n",
    "        word1 (str): The first word in the analogy.\n",
    "        word2 (str): The second word in the analogy.\n",
    "        word3 (str): The third word in the analogy for which to find the analogous word.\n",
    "\n",
    "    Returns:\n",
    "        pred_word (str): The word that best completes the analogy.\n",
    "    \"\"\"\n",
    "\n",
    "    # Your code here\n",
    "\n",
    "    word1_vector = glove_vectors.get_vector(word1)\n",
    "    word2_vector = glove_vectors.get_vector(word2)\n",
    "    word3_vector = glove_vectors.get_vector(word3)\n",
    "    result = (0, \"\")\n",
    "\n",
    "    direction = word2_vector - word1_vector\n",
    "    vec_tgt = word3_vector + direction\n",
    "    norm_vec_tgt = np.sum(vec_tgt**2)**0.5\n",
    "\n",
    "    for word in glove_vectors.index_to_key:\n",
    "      if word == word3:\n",
    "        continue\n",
    "\n",
    "      word_vector = glove_vectors.get_vector(word)\n",
    "      norm_word = np.sum(word_vector**2)**0.5\n",
    "\n",
    "      cos_sim = np.dot(vec_tgt, word_vector) / (norm_vec_tgt * norm_word)\n",
    "      if cos_sim > result[0]:\n",
    "        result = (cos_sim, word)\n",
    "\n",
    "    pred_word = result[1]\n",
    "\n",
    "    print(f'{word1} is to {word2} as {word3} is to? {pred_word}')\n",
    "    assert pred_word != word3\n",
    "    return pred_word"
   ]
  },
  {
   "cell_type": "code",
   "execution_count": 49,
   "metadata": {
    "colab": {
     "base_uri": "https://localhost:8080/"
    },
    "id": "y1e-zPgb9Gul",
    "outputId": "a70fae72-8048-4f00-8cf1-12e7b008c7e8"
   },
   "outputs": [
    {
     "name": "stdout",
     "output_type": "stream",
     "text": [
      "prince is to princess as lord is to? lady\n",
      "aunt is to uncle as queen is to? king\n",
      "london is to england as paris is to? france\n",
      "cat is to cats as car is to? cars\n"
     ]
    }
   ],
   "source": [
    "pred_word = word_analogy(glove_vectors, 'prince', 'princess', 'lord')\n",
    "pred_word = word_analogy(glove_vectors, 'aunt', 'uncle', 'queen')\n",
    "pred_word = word_analogy(glove_vectors, 'london', 'england', 'paris')\n",
    "pred_word = word_analogy(glove_vectors, 'cat', 'cats', 'car')"
   ]
  },
  {
   "cell_type": "code",
   "execution_count": null,
   "metadata": {
    "id": "DL-bATRRphA_"
   },
   "outputs": [],
   "source": []
  }
 ],
 "metadata": {
  "accelerator": "GPU",
  "colab": {
   "gpuType": "T4",
   "provenance": []
  },
  "kernelspec": {
   "display_name": "Python 3 (ipykernel)",
   "language": "python",
   "name": "python3"
  },
  "language_info": {
   "codemirror_mode": {
    "name": "ipython",
    "version": 3
   },
   "file_extension": ".py",
   "mimetype": "text/x-python",
   "name": "python",
   "nbconvert_exporter": "python",
   "pygments_lexer": "ipython3",
   "version": "3.12.4"
  }
 },
 "nbformat": 4,
 "nbformat_minor": 4
}
