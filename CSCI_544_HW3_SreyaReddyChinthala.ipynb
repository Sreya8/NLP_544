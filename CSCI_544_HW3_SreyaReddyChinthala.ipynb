{
  "cells": [
    {
      "cell_type": "markdown",
      "metadata": {
        "id": "kVCKsKZRQUqD"
      },
      "source": [
        "# Question 1 - RNNs\n",
        "\n",
        "In this section, you will implement a simple Recurrent Neural Network (RNN) from scratch to perform sequence prediction using the IMDb movie reviews dataset.\n",
        "\n",
        "![RNN.png](data:image/png;base64,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)"
      ]
    },
    {
      "cell_type": "markdown",
      "metadata": {
        "id": "j71WWCtN0Mci"
      },
      "source": [
        "#### Importing Libraries\n",
        "\n",
        "First we import the necessary libraries for data manipulation, model building, and training. No other libraries are allowed to be imported."
      ]
    },
    {
      "cell_type": "code",
      "execution_count": 1,
      "metadata": {
        "id": "ChCCwjXNZL_m"
      },
      "outputs": [],
      "source": [
        "import numpy as np\n",
        "import gensim.downloader as api\n",
        "from gensim.models import FastText, KeyedVectors\n",
        "from tqdm import tqdm\n",
        "\n",
        "from tensorflow.keras.datasets import imdb\n",
        "from tensorflow.keras.preprocessing.sequence import pad_sequences\n",
        "from sklearn.model_selection import train_test_split\n",
        "import re"
      ]
    },
    {
      "cell_type": "markdown",
      "metadata": {
        "id": "EXz0kJe_0WEO"
      },
      "source": [
        "#### Load and Prepare Data\n",
        "\n",
        "Next, we load the IMDb dataset and prepare it for training."
      ]
    },
    {
      "cell_type": "code",
      "execution_count": 2,
      "metadata": {
        "id": "3gSq5PBFaOXN"
      },
      "outputs": [],
      "source": [
        "vocab_size = 1000\n",
        "maxlen = 100"
      ]
    },
    {
      "cell_type": "code",
      "execution_count": 3,
      "metadata": {
        "id": "RLL67eJtaPMK",
        "colab": {
          "base_uri": "https://localhost:8080/"
        },
        "outputId": "e72769f7-816f-4679-98fb-a0e284d27fe7"
      },
      "outputs": [
        {
          "output_type": "stream",
          "name": "stdout",
          "text": [
            "Downloading data from https://storage.googleapis.com/tensorflow/tf-keras-datasets/imdb.npz\n",
            "\u001b[1m17464789/17464789\u001b[0m \u001b[32m━━━━━━━━━━━━━━━━━━━━\u001b[0m\u001b[37m\u001b[0m \u001b[1m0s\u001b[0m 0us/step\n"
          ]
        }
      ],
      "source": [
        "(x_train, _), (x_test, _) = imdb.load_data(num_words=vocab_size + 3, maxlen=maxlen)"
      ]
    },
    {
      "cell_type": "code",
      "execution_count": 4,
      "metadata": {
        "id": "mycpHxZP0RW2"
      },
      "outputs": [],
      "source": [
        "# Create a one-hot encoded representation of the training data\n",
        "x_train_one_hot_encoded = np.zeros((x_train.shape[0], maxlen, vocab_size))\n",
        "\n",
        "# Iterate over each sample and each word index to set the one-hot value to 1\n",
        "for i in range(x_train.shape[0]):\n",
        "    for j in range(len(x_train[i])):\n",
        "        idx = x_train[i][j] - 3\n",
        "        if idx < 0:\n",
        "          idx = 0\n",
        "        x_train_one_hot_encoded[i, j, idx] = 1"
      ]
    },
    {
      "cell_type": "code",
      "execution_count": 5,
      "metadata": {
        "id": "lwxWAb9TaQI5",
        "colab": {
          "base_uri": "https://localhost:8080/"
        },
        "outputId": "f8fc27c1-002b-4685-9489-5e5ce1714ca4"
      },
      "outputs": [
        {
          "output_type": "stream",
          "name": "stdout",
          "text": [
            "Downloading data from https://storage.googleapis.com/tensorflow/tf-keras-datasets/imdb_word_index.json\n",
            "\u001b[1m1641221/1641221\u001b[0m \u001b[32m━━━━━━━━━━━━━━━━━━━━\u001b[0m\u001b[37m\u001b[0m \u001b[1m0s\u001b[0m 0us/step\n"
          ]
        }
      ],
      "source": [
        "# Decode the dataset back into words to train Word2Vec\n",
        "word_index = imdb.get_word_index()\n",
        "index_word = {v: k for k, v in word_index.items() if v < vocab_size}\n",
        "\n",
        "x_train_words = [[index_word.get(idx-3, \"unk\") for idx in sequence] for sequence in x_train]\n",
        "x_test_words = [[index_word.get(idx-3, \"unk\") for idx in sequence] for sequence in x_test]"
      ]
    },
    {
      "cell_type": "code",
      "execution_count": 6,
      "metadata": {
        "id": "HtlBNYZqPVKq",
        "colab": {
          "base_uri": "https://localhost:8080/"
        },
        "outputId": "3ce65200-79e0-4c97-cf5c-9a2380f8b2d6"
      },
      "outputs": [
        {
          "output_type": "stream",
          "name": "stdout",
          "text": [
            "[==================================================] 100.0% 199.5/199.5MB downloaded\n"
          ]
        }
      ],
      "source": [
        "embedding_model = api.load(\"glove-twitter-50\")\n",
        "embedding_size = embedding_model.vector_size"
      ]
    },
    {
      "cell_type": "code",
      "execution_count": 7,
      "metadata": {
        "id": "LhTZB87gaRML"
      },
      "outputs": [],
      "source": [
        "def embed_sequences(sequences, embedding_model, maxlen, embedding_size):\n",
        "    embeddings = []\n",
        "    for sequence in sequences:\n",
        "        seq_embedding = [\n",
        "            embedding_model[word] if word in embedding_model else np.zeros(embedding_size)\n",
        "            for word in sequence\n",
        "        ]\n",
        "        if len(seq_embedding) < maxlen:\n",
        "            # Padding with zero vectors if sequence is shorter\n",
        "            seq_embedding += [np.zeros(embedding_size)] * (maxlen - len(seq_embedding))\n",
        "        if len(seq_embedding) > maxlen:\n",
        "            seq_embedding = seq_embedding[:maxlen]\n",
        "\n",
        "        embeddings.append(seq_embedding)\n",
        "    return np.array(embeddings)"
      ]
    },
    {
      "cell_type": "code",
      "execution_count": 8,
      "metadata": {
        "id": "UyCuVKguaTMG"
      },
      "outputs": [],
      "source": [
        "x_train_embeddings = embed_sequences(x_train_words, embedding_model, maxlen, embedding_size)\n",
        "y_train_outputs = x_train_one_hot_encoded\n",
        "\n",
        "# Get correct values for next word prediction\n",
        "x_train_embeddings = x_train_embeddings[:, :maxlen - 1, :]\n",
        "y_train_outputs = y_train_outputs[:, -(maxlen - 1):, :]"
      ]
    },
    {
      "cell_type": "markdown",
      "metadata": {
        "id": "EBXa5NZ60uuf"
      },
      "source": [
        "#### Softmax Function (2 Points)\n",
        "\n",
        "Implement the softmax function to be used in the output layer. The fucntion should take in a one dimensional numpy array and compute softmax."
      ]
    },
    {
      "cell_type": "code",
      "execution_count": 9,
      "metadata": {
        "id": "FnRfxzrNkR2m"
      },
      "outputs": [],
      "source": [
        "def softmax(x: np.ndarray) -> np.ndarray:\n",
        "    ### BEGIN IMPLEMENTATION ###\n",
        "    e_x = np.exp(x - np.max(x))\n",
        "    return e_x / np.sum(e_x)"
      ]
    },
    {
      "cell_type": "markdown",
      "metadata": {
        "id": "9-5iuTIu4ucG"
      },
      "source": [
        "#### Input Layer Class (8 points)\n",
        "\n",
        "Define the InputLayer class. The input player includes the following variables:   This variable represents the weight matrix connecting the input layer to the hidden layer. The dimensions are defined by the hidden size and the size of the input at each time step. It is initialized with small random values to facilitate learning during training.\n",
        "\n",
        "Variables:\n",
        "- `inputs`: The input sequences for the RNN, which are encoded using word2vec. It has a shape of (max_sequence_length, word2vec_size).\n",
        "- `weights`: This weight matrix connecting the input layer to the hidden layer.\n",
        "- `delta_weights`: The accumulation of the weight matrix gradients calculated across timesteps during backpropogation.\n",
        "\n",
        "You must implement the following functions:\n",
        "- `forward`: Multiply the input by the weight matrix. The output is a weighted sum that will be passed to the hidden layer for further processing. (4 points)\n",
        "\n",
        "- `backward`: Calculate the gradient of the forward operation and add that value to `self.delta_weights`, to be updated in `update_parameters`. (4 points)\n",
        "\n"
      ]
    },
    {
      "cell_type": "code",
      "execution_count": 10,
      "metadata": {
        "id": "zRgpALOwaUm_"
      },
      "outputs": [],
      "source": [
        "class InputLayer:\n",
        "    inputs: np.ndarray\n",
        "    weights: np.ndarray = None\n",
        "    delta_weights: np.ndarray = None\n",
        "\n",
        "    def __init__(self, inputs: np.ndarray, hidden_size: int) -> None:\n",
        "        self.inputs = inputs\n",
        "\n",
        "        limit = np.sqrt(6 / (len(inputs[0]) + hidden_size))\n",
        "        self.weights = np.random.uniform(low=-limit, high=limit, size=(hidden_size, len(inputs[0])))\n",
        "\n",
        "        self.delta_weights = np.zeros_like(self.weights)\n",
        "\n",
        "    def __reset_deltas__(self):\n",
        "        self.delta_weights = np.zeros_like(self.weights)\n",
        "\n",
        "    def get_input(self, time_step: int) -> np.ndarray:\n",
        "        return self.inputs[time_step][:, np.newaxis]\n",
        "\n",
        "    def forward(self, time_step: int) -> np.ndarray:\n",
        "        ### BEGIN IMPLEMENTATION ###\n",
        "        input_at_time_step = self.get_input(time_step)\n",
        "        return np.dot(self.weights, input_at_time_step)\n",
        "\n",
        "    def backward(\n",
        "        self, time_step: int, delta_weights: np.ndarray\n",
        "    ) -> None:\n",
        "        ### BEGIN IMPLEMENTATION ###\n",
        "        input_at_time_step = self.get_input(time_step)\n",
        "        self.delta_weights += np.dot(delta_weights, input_at_time_step.T)\n",
        "\n",
        "    def update_parameters(self, learning_rate: float) -> None:\n",
        "        self.weights -= learning_rate * self.delta_weights\n",
        "\n",
        "        self.__reset_deltas__()"
      ]
    },
    {
      "cell_type": "markdown",
      "metadata": {
        "id": "UQFvMItcKi_5"
      },
      "source": [
        "#### Hidden Layer Class (8 points)\n",
        "\n",
        "Define the HiddenLayer class. The hidden layer maintains the hidden states across time steps and computes the activations based on the weighted sum of the inputs, computed in the input layer, and the previous hidden state.\n",
        "\n",
        "variables:\n",
        "- `states`: The hidden states for all time steps during the sequence processing. It has a shape of (max_num_time_steps, hidden_size, 1).\n",
        "\n",
        "- `weights`: The weight matrix connecting the previous hidden layer.\n",
        "\n",
        "- `bias`: The bias vector added to the weighted sum of inputs and hidden states.\n",
        "\n",
        "- `delta_weights`: The accumulation of gradients of the weight matrix computed during backpropogation.\n",
        "\n",
        "- `delta_bias`: The accumulation of gradients of the bias vector computed during backpropogation.\n",
        "\n",
        "- `next_delta_hidden_state_activation`: The gradient of the previously calculated hidden state activation.\n",
        "\n",
        "\n",
        "You must implement the following functions:\n",
        "\n",
        "- `forward`: This function computes the forward pass through the hidden layer. It combines the weighted input, the previous hidden state, and the bias, followed by applying the hyperbolic tangent activation function (tanh). The resulting activation is stored and returned for further processing. Be sure to update the hidden state using `set_hidden_state`. (4 points)\n",
        "\n",
        "- `backward`: This function computes the gradients for backpropagation. It calculates the delta for the activation using the incoming delta_output, propagates the gradients back to the previous hidden state, and updates delta_weights and delta_bias based on the computed gradients. (4 points)"
      ]
    },
    {
      "cell_type": "code",
      "execution_count": 11,
      "metadata": {
        "id": "mwTWFPu0au0u"
      },
      "outputs": [],
      "source": [
        "class HiddenLayer:\n",
        "    states: np.ndarray = None\n",
        "    weights: np.ndarray = None\n",
        "    delta_weights: np.ndarray = None\n",
        "    bias: np.ndarray = None\n",
        "    delta_bias: np.ndarray = None\n",
        "    next_delta_hidden_state_activation: np.ndarray = None\n",
        "\n",
        "    def __init__(self, max_num_time_steps: int, size: int) -> None:\n",
        "        limit = np.sqrt(6 / (size + size))\n",
        "        self.weights = np.random.uniform(low=-limit, high=limit, size=(size, size))\n",
        "\n",
        "        self.bias = np.random.uniform(low=-0.1, high=0.1, size=(size, 1))\n",
        "        self.states = np.zeros(shape=(max_num_time_steps, size, 1))\n",
        "        self.next_delta_hidden_state_activation = np.zeros(shape=(size, 1))\n",
        "        self.delta_bias = np.zeros_like(self.bias)\n",
        "        self.delta_weights = np.zeros_like(self.weights)\n",
        "\n",
        "    def __reset_deltas__(self):\n",
        "        self.delta_bias = np.zeros_like(self.bias)\n",
        "        self.delta_weights = np.zeros_like(self.weights)\n",
        "        self.next_delta_hidden_state_activation = np.zeros_like(self.next_delta_hidden_state_activation)\n",
        "\n",
        "    def __reset_states__(self):\n",
        "        self.states = np.zeros_like(self.states)\n",
        "\n",
        "    def get_hidden_state(self, time_step: int) -> np.ndarray:\n",
        "            if time_step < 0:\n",
        "                return np.zeros_like(self.states[0])\n",
        "            return self.states[time_step]\n",
        "\n",
        "    def set_state(self, time_step: int, prediction: np.ndarray) -> None:\n",
        "        self.states[time_step] = prediction\n",
        "\n",
        "    def forward(self, weighted_input: np.ndarray, time_step: int) -> np.ndarray:\n",
        "        ### BEGIN IMPLEMENTATION ###\n",
        "        prev_hidden_state = self.get_hidden_state(time_step - 1)\n",
        "        weighted_sum = np.dot(self.weights, prev_hidden_state) + weighted_input + self.bias\n",
        "        activation = np.tanh(weighted_sum)\n",
        "        self.set_state(time_step, activation)\n",
        "        return activation\n",
        "\n",
        "    def backward(\n",
        "        self, time_step: int, delta_output: np.ndarray\n",
        "    ) -> np.ndarray:\n",
        "        ### BEGIN IMPLEMENTATION ###\n",
        "        prev_hidden_state = self.get_hidden_state(time_step - 1)\n",
        "        delta_tanh = (1 - self.states[time_step] ** 2) * delta_output\n",
        "        self.delta_weights += np.dot(delta_tanh, prev_hidden_state.T)\n",
        "        self.delta_bias += delta_tanh\n",
        "        self.next_delta_hidden_state_activation = np.dot(self.weights.T, delta_tanh)\n",
        "        return self.next_delta_hidden_state_activation\n",
        "\n",
        "    def update_parameters(self, learning_rate: float) -> None:\n",
        "        self.weights -= learning_rate * self.delta_weights\n",
        "        self.bias -= learning_rate * self.delta_bias\n",
        "\n",
        "        self.__reset_deltas__()\n"
      ]
    },
    {
      "cell_type": "markdown",
      "metadata": {
        "id": "PzZ0uRP5O-S9"
      },
      "source": [
        "#### Output Layer Class (8 points)\n",
        "\n",
        "Define the OutputLayer class. The output layer will generate a probability distribution from the hidden state.\n",
        "\n",
        "Variables:\n",
        "- `states`: The computed probability distributions across all timesteps.\n",
        "\n",
        "- `weights`: The weight matrix connecting the hidden layer.\n",
        "\n",
        "- `bias`: The bias vector added to the output of the weighted sum.\n",
        "\n",
        "- `delta_weights`: The accumulation of gradients of the weight matrix computed during backpropogation.\n",
        "\n",
        "- `delta_bias`: The accumulation of gradients of the bias vector computed during backpropogation.\n",
        "\n",
        "You must implement the following functions:\n",
        "- `forward`: This function computes the forward pass through the output layer. It multiplies the hidden state by the weight matrix, adds the bias, and applies the softmax function to produce a probability distribution over the vocabulary. The resulting predictions MUST be stored using `set_prediction`. (4 points)\n",
        "\n",
        "- `backward`: This function computes the gradients for backpropagation based on the expected outputs, updates delta_V and delta_bias with the computed gradients, and returns the propagated error to the previous layer. (4 points)\n"
      ]
    },
    {
      "cell_type": "code",
      "execution_count": 12,
      "metadata": {
        "id": "0SfYV3ircDlq"
      },
      "outputs": [],
      "source": [
        "class OutputLayer:\n",
        "    predictions: np.ndarray = None\n",
        "    weights: np.ndarray = None\n",
        "    bias: np.ndarray = None\n",
        "    delta_bias: np.ndarray = None\n",
        "    delta_weights: np.ndarray = None\n",
        "\n",
        "    def __init__(self, max_num_time_steps: int, size: int, hidden_size: int) -> None:\n",
        "        limit = np.sqrt(6 / (size + hidden_size))\n",
        "        self.weights = np.random.uniform(low=-limit, high=limit, size=(size, hidden_size))\n",
        "        self.bias = np.random.uniform(low=-0.1, high=0.1, size=(size, 1))\n",
        "        self.predictions = np.zeros(shape=(max_num_time_steps, size, 1))\n",
        "        self.delta_bias = np.zeros_like(self.bias)\n",
        "        self.delta_weights = np.zeros_like(self.weights)\n",
        "\n",
        "    def __reset_predictions__(self):\n",
        "        self.predictions = np.zeros_like(self.predictions)\n",
        "\n",
        "    def __reset_deltas__(self):\n",
        "        self.delta_bias = np.zeros_like(self.bias)\n",
        "        self.delta_weights = np.zeros_like(self.weights)\n",
        "\n",
        "    def forward(self, hidden_state: np.ndarray, time_step: int) -> np.ndarray:\n",
        "        ### BEGIN IMPLEMENTATION ###\n",
        "        weighted_sum = np.dot(self.weights, hidden_state) + self.bias\n",
        "        prediction = softmax(weighted_sum)\n",
        "        self.set_prediction(time_step, prediction)\n",
        "        return prediction\n",
        "\n",
        "    def get_prediction(self, time_step: int) -> np.ndarray:\n",
        "        return self.predictions[time_step]\n",
        "\n",
        "    def set_prediction(self, time_step: int, prediction: np.ndarray) -> None:\n",
        "        self.predictions[time_step] = prediction\n",
        "\n",
        "    def backward(\n",
        "        self,\n",
        "        expected: np.ndarray,\n",
        "        hidden_state: np.ndarray,\n",
        "        time_step: int,\n",
        "    ) -> np.ndarray:\n",
        "        ### BEGIN IMPLEMENTATION ###\n",
        "        prediction = self.get_prediction(time_step).reshape(-1, 1)\n",
        "        expected = expected.reshape(-1, 1)\n",
        "        delta_output = prediction - expected\n",
        "        self.delta_weights += np.dot(delta_output, hidden_state.T)\n",
        "        self.delta_bias += delta_output\n",
        "        return np.dot(self.weights.T, delta_output)\n",
        "\n",
        "\n",
        "    def update_parameters(self, learning_rate: float) -> None:\n",
        "        self.weights -= learning_rate * self.delta_weights\n",
        "        self.bias -= learning_rate * self.delta_bias\n",
        "\n",
        "        self.__reset_deltas__()"
      ]
    },
    {
      "cell_type": "markdown",
      "metadata": {
        "id": "li17DVjCCYUG"
      },
      "source": [
        "#### RNN Class\n",
        "The RNN class is a Recurrent Neural Network that combines the input, hidden, and output layers to process sequences of inputs, learn their representations, and generate predictions."
      ]
    },
    {
      "cell_type": "code",
      "execution_count": 13,
      "metadata": {
        "id": "vjwSh87BelhP"
      },
      "outputs": [],
      "source": [
        "from typing import List\n",
        "\n",
        "class RNN:\n",
        "    hidden_layer: HiddenLayer\n",
        "    output_layer: OutputLayer\n",
        "    learning_rate: float\n",
        "    input_layer: InputLayer = None\n",
        "\n",
        "    def __init__(self, vocab_size: int, hidden_size: int, max_num_time_steps: int, learning_rate: float) -> None:\n",
        "        self.hidden_layer = HiddenLayer(max_num_time_steps, hidden_size)\n",
        "        self.output_layer = OutputLayer(max_num_time_steps, vocab_size, hidden_size)\n",
        "        self.hidden_size = hidden_size\n",
        "        self.learning_rate = learning_rate\n",
        "\n",
        "    def feed_forward(self, inputs: np.ndarray) -> OutputLayer:\n",
        "        self.input_layer = InputLayer(inputs, self.hidden_size)\n",
        "\n",
        "        for step in range(len(inputs)):\n",
        "            weighted_input = self.input_layer.forward(step)\n",
        "            activation = self.hidden_layer.forward(weighted_input, step)\n",
        "            self.output_layer.forward(activation, step)\n",
        "\n",
        "        return self.output_layer\n",
        "\n",
        "    def backpropagation(self, expected: np.ndarray) -> None:\n",
        "        for step_number in reversed(range(len(expected) - 1)):\n",
        "            delta_output = self.output_layer.backward(\n",
        "                expected[step_number],\n",
        "                self.hidden_layer.get_hidden_state(step_number),\n",
        "                step_number,\n",
        "            )\n",
        "            delta_weighted_sum = self.hidden_layer.backward(\n",
        "                step_number, delta_output\n",
        "            )\n",
        "            self.input_layer.backward(step_number, delta_weighted_sum)\n",
        "\n",
        "\n",
        "        self.output_layer.update_parameters(self.learning_rate)\n",
        "        self.hidden_layer.update_parameters(self.learning_rate)\n",
        "        self.input_layer.update_parameters(self.learning_rate)\n",
        "\n",
        "    def loss(self, y_hat: List[np.ndarray], y: List[np.ndarray]) -> float:\n",
        "        return -np.mean([np.sum(y[i] * np.log(y_hat[i])) for i in range(len(y))])\n",
        "\n",
        "    def _find_end_of_seq(self, expected: np.ndarray) -> int:\n",
        "        for idx, vector in enumerate(expected):\n",
        "            if np.all(vector == 0):\n",
        "                return idx\n",
        "        return len(expected)\n",
        "\n",
        "    def _reset_states(self):\n",
        "      self.output_layer.__reset_predictions__()\n",
        "      self.hidden_layer.__reset_states__()\n",
        "\n",
        "    def train(self, inputs: np.ndarray, expected: np.ndarray, epochs: int) -> None:\n",
        "        for epoch in range(epochs):\n",
        "            loss_list = []\n",
        "            for idx, input in enumerate(tqdm(inputs)):\n",
        "                end_idx = self._find_end_of_seq(expected[idx])\n",
        "                input = input[:end_idx, :]\n",
        "\n",
        "                y_hats = self.feed_forward(input)\n",
        "                self.backpropagation(expected[idx][:end_idx])\n",
        "\n",
        "                round_loss = self.loss(y_hats.predictions[:end_idx,:,0], expected[idx][:end_idx])\n",
        "\n",
        "                loss_list.append(round_loss)\n",
        "\n",
        "                self._reset_states()\n",
        "\n",
        "                if idx % 100 == 99:\n",
        "                  print(f\"Average Training Loss of Last 100 samples: {np.mean(np.array(loss_list[-100:]))}\")\n",
        "\n",
        "            print(\n",
        "                f\"Epoch Loss: {np.mean(np.array(loss_list))}\"\n",
        "            )\n"
      ]
    },
    {
      "cell_type": "markdown",
      "metadata": {
        "id": "AA5e87hCDDRi"
      },
      "source": [
        "#### Running the RNN\n",
        "\n",
        "Now we put it all together by initializing and training the RNN model. **Do not edit these hyperparameters**. Please do not change the hyperparameters. If done correctly, your loss should be below 5.0 after the second epoch."
      ]
    },
    {
      "cell_type": "code",
      "execution_count": 14,
      "metadata": {
        "id": "-tp8Grw7erxk",
        "colab": {
          "base_uri": "https://localhost:8080/"
        },
        "outputId": "2ad2da9e-9b35-4213-a740-99f496ad4002"
      },
      "outputs": [
        {
          "output_type": "stream",
          "name": "stderr",
          "text": [
            "  4%|▍         | 105/2773 [00:02<01:35, 27.82it/s]"
          ]
        },
        {
          "output_type": "stream",
          "name": "stdout",
          "text": [
            "Average Training Loss of Last 100 samples: 6.776765371963534\n"
          ]
        },
        {
          "output_type": "stream",
          "name": "stderr",
          "text": [
            "  7%|▋         | 206/2773 [00:06<00:58, 43.64it/s]"
          ]
        },
        {
          "output_type": "stream",
          "name": "stdout",
          "text": [
            "Average Training Loss of Last 100 samples: 6.399997723540033\n"
          ]
        },
        {
          "output_type": "stream",
          "name": "stderr",
          "text": [
            " 11%|█         | 309/2773 [00:08<00:45, 53.93it/s]"
          ]
        },
        {
          "output_type": "stream",
          "name": "stdout",
          "text": [
            "Average Training Loss of Last 100 samples: 5.878515683211919\n"
          ]
        },
        {
          "output_type": "stream",
          "name": "stderr",
          "text": [
            " 15%|█▍        | 407/2773 [00:10<00:44, 53.61it/s]"
          ]
        },
        {
          "output_type": "stream",
          "name": "stdout",
          "text": [
            "Average Training Loss of Last 100 samples: 5.55292205724887\n"
          ]
        },
        {
          "output_type": "stream",
          "name": "stderr",
          "text": [
            " 18%|█▊        | 504/2773 [00:12<00:43, 51.84it/s]"
          ]
        },
        {
          "output_type": "stream",
          "name": "stdout",
          "text": [
            "Average Training Loss of Last 100 samples: 5.229958393087409\n"
          ]
        },
        {
          "output_type": "stream",
          "name": "stderr",
          "text": [
            " 22%|██▏       | 607/2773 [00:14<00:40, 53.03it/s]"
          ]
        },
        {
          "output_type": "stream",
          "name": "stdout",
          "text": [
            "Average Training Loss of Last 100 samples: 5.032153481030436\n"
          ]
        },
        {
          "output_type": "stream",
          "name": "stderr",
          "text": [
            " 25%|██▌       | 703/2773 [00:16<00:55, 37.09it/s]"
          ]
        },
        {
          "output_type": "stream",
          "name": "stdout",
          "text": [
            "Average Training Loss of Last 100 samples: 5.020610670204829\n"
          ]
        },
        {
          "output_type": "stream",
          "name": "stderr",
          "text": [
            " 29%|██▉       | 806/2773 [00:20<01:01, 32.13it/s]"
          ]
        },
        {
          "output_type": "stream",
          "name": "stdout",
          "text": [
            "Average Training Loss of Last 100 samples: 5.006834736652212\n"
          ]
        },
        {
          "output_type": "stream",
          "name": "stderr",
          "text": [
            " 33%|███▎      | 908/2773 [00:22<00:35, 52.54it/s]"
          ]
        },
        {
          "output_type": "stream",
          "name": "stdout",
          "text": [
            "Average Training Loss of Last 100 samples: 4.977893294416878\n"
          ]
        },
        {
          "output_type": "stream",
          "name": "stderr",
          "text": [
            " 36%|███▋      | 1006/2773 [00:24<00:35, 50.35it/s]"
          ]
        },
        {
          "output_type": "stream",
          "name": "stdout",
          "text": [
            "Average Training Loss of Last 100 samples: 5.015049873307139\n"
          ]
        },
        {
          "output_type": "stream",
          "name": "stderr",
          "text": [
            " 40%|███▉      | 1106/2773 [00:26<00:31, 53.69it/s]"
          ]
        },
        {
          "output_type": "stream",
          "name": "stdout",
          "text": [
            "Average Training Loss of Last 100 samples: 4.977979587338649\n"
          ]
        },
        {
          "output_type": "stream",
          "name": "stderr",
          "text": [
            " 44%|████▎     | 1209/2773 [00:28<00:31, 49.17it/s]"
          ]
        },
        {
          "output_type": "stream",
          "name": "stdout",
          "text": [
            "Average Training Loss of Last 100 samples: 4.949031364159705\n"
          ]
        },
        {
          "output_type": "stream",
          "name": "stderr",
          "text": [
            " 47%|████▋     | 1309/2773 [00:30<00:28, 51.93it/s]"
          ]
        },
        {
          "output_type": "stream",
          "name": "stdout",
          "text": [
            "Average Training Loss of Last 100 samples: 4.922144235228493\n"
          ]
        },
        {
          "output_type": "stream",
          "name": "stderr",
          "text": [
            " 51%|█████     | 1402/2773 [00:34<01:03, 21.62it/s]"
          ]
        },
        {
          "output_type": "stream",
          "name": "stdout",
          "text": [
            "Average Training Loss of Last 100 samples: 4.9270578581949955\n"
          ]
        },
        {
          "output_type": "stream",
          "name": "stderr",
          "text": [
            " 54%|█████▍    | 1504/2773 [00:36<00:27, 45.45it/s]"
          ]
        },
        {
          "output_type": "stream",
          "name": "stdout",
          "text": [
            "Average Training Loss of Last 100 samples: 4.879470641909209\n"
          ]
        },
        {
          "output_type": "stream",
          "name": "stderr",
          "text": [
            " 58%|█████▊    | 1607/2773 [00:38<00:23, 48.89it/s]"
          ]
        },
        {
          "output_type": "stream",
          "name": "stdout",
          "text": [
            "Average Training Loss of Last 100 samples: 4.892068953976835\n"
          ]
        },
        {
          "output_type": "stream",
          "name": "stderr",
          "text": [
            " 61%|██████▏   | 1703/2773 [00:40<00:19, 55.48it/s]"
          ]
        },
        {
          "output_type": "stream",
          "name": "stdout",
          "text": [
            "Average Training Loss of Last 100 samples: 4.956367215602944\n"
          ]
        },
        {
          "output_type": "stream",
          "name": "stderr",
          "text": [
            " 65%|██████▌   | 1809/2773 [00:42<00:17, 55.66it/s]"
          ]
        },
        {
          "output_type": "stream",
          "name": "stdout",
          "text": [
            "Average Training Loss of Last 100 samples: 4.967828321483134\n"
          ]
        },
        {
          "output_type": "stream",
          "name": "stderr",
          "text": [
            " 69%|██████▊   | 1906/2773 [00:44<00:16, 53.40it/s]"
          ]
        },
        {
          "output_type": "stream",
          "name": "stdout",
          "text": [
            "Average Training Loss of Last 100 samples: 4.871812452660305\n"
          ]
        },
        {
          "output_type": "stream",
          "name": "stderr",
          "text": [
            " 72%|███████▏  | 2002/2773 [00:48<00:28, 26.75it/s]"
          ]
        },
        {
          "output_type": "stream",
          "name": "stdout",
          "text": [
            "Average Training Loss of Last 100 samples: 4.931190471874675\n"
          ]
        },
        {
          "output_type": "stream",
          "name": "stderr",
          "text": [
            " 76%|███████▌  | 2103/2773 [00:51<00:25, 25.92it/s]"
          ]
        },
        {
          "output_type": "stream",
          "name": "stdout",
          "text": [
            "Average Training Loss of Last 100 samples: 4.874787561067648\n"
          ]
        },
        {
          "output_type": "stream",
          "name": "stderr",
          "text": [
            " 80%|███████▉  | 2209/2773 [00:55<00:12, 43.68it/s]"
          ]
        },
        {
          "output_type": "stream",
          "name": "stdout",
          "text": [
            "Average Training Loss of Last 100 samples: 4.839953656786784\n"
          ]
        },
        {
          "output_type": "stream",
          "name": "stderr",
          "text": [
            " 83%|████████▎ | 2305/2773 [00:57<00:10, 46.56it/s]"
          ]
        },
        {
          "output_type": "stream",
          "name": "stdout",
          "text": [
            "Average Training Loss of Last 100 samples: 4.948681960772716\n"
          ]
        },
        {
          "output_type": "stream",
          "name": "stderr",
          "text": [
            " 87%|████████▋ | 2402/2773 [00:59<00:06, 54.09it/s]"
          ]
        },
        {
          "output_type": "stream",
          "name": "stdout",
          "text": [
            "Average Training Loss of Last 100 samples: 4.866303518616232\n"
          ]
        },
        {
          "output_type": "stream",
          "name": "stderr",
          "text": [
            " 90%|█████████ | 2503/2773 [01:03<00:12, 21.60it/s]"
          ]
        },
        {
          "output_type": "stream",
          "name": "stdout",
          "text": [
            "Average Training Loss of Last 100 samples: 4.869224242341129\n"
          ]
        },
        {
          "output_type": "stream",
          "name": "stderr",
          "text": [
            " 94%|█████████▍| 2605/2773 [01:05<00:03, 52.84it/s]"
          ]
        },
        {
          "output_type": "stream",
          "name": "stdout",
          "text": [
            "Average Training Loss of Last 100 samples: 4.961017548948946\n"
          ]
        },
        {
          "output_type": "stream",
          "name": "stderr",
          "text": [
            " 98%|█████████▊| 2708/2773 [01:07<00:01, 52.70it/s]"
          ]
        },
        {
          "output_type": "stream",
          "name": "stdout",
          "text": [
            "Average Training Loss of Last 100 samples: 4.963565972120364\n"
          ]
        },
        {
          "output_type": "stream",
          "name": "stderr",
          "text": [
            "100%|██████████| 2773/2773 [01:09<00:00, 40.10it/s]\n"
          ]
        },
        {
          "output_type": "stream",
          "name": "stdout",
          "text": [
            "Epoch Loss: 5.123706518284123\n"
          ]
        },
        {
          "output_type": "stream",
          "name": "stderr",
          "text": [
            "  4%|▎         | 103/2773 [00:01<00:50, 52.56it/s]"
          ]
        },
        {
          "output_type": "stream",
          "name": "stdout",
          "text": [
            "Average Training Loss of Last 100 samples: 4.941435119182798\n"
          ]
        },
        {
          "output_type": "stream",
          "name": "stderr",
          "text": [
            "  7%|▋         | 207/2773 [00:04<00:48, 52.58it/s]"
          ]
        },
        {
          "output_type": "stream",
          "name": "stdout",
          "text": [
            "Average Training Loss of Last 100 samples: 4.868540258780482\n"
          ]
        },
        {
          "output_type": "stream",
          "name": "stderr",
          "text": [
            " 11%|█         | 304/2773 [00:07<01:31, 27.10it/s]"
          ]
        },
        {
          "output_type": "stream",
          "name": "stdout",
          "text": [
            "Average Training Loss of Last 100 samples: 4.876381704906921\n"
          ]
        },
        {
          "output_type": "stream",
          "name": "stderr",
          "text": [
            " 15%|█▍        | 411/2773 [00:10<00:42, 55.64it/s]"
          ]
        },
        {
          "output_type": "stream",
          "name": "stdout",
          "text": [
            "Average Training Loss of Last 100 samples: 4.921859282144555\n"
          ]
        },
        {
          "output_type": "stream",
          "name": "stderr",
          "text": [
            " 18%|█▊        | 505/2773 [00:12<00:41, 54.13it/s]"
          ]
        },
        {
          "output_type": "stream",
          "name": "stdout",
          "text": [
            "Average Training Loss of Last 100 samples: 4.8488400381103\n"
          ]
        },
        {
          "output_type": "stream",
          "name": "stderr",
          "text": [
            " 22%|██▏       | 608/2773 [00:14<00:41, 52.80it/s]"
          ]
        },
        {
          "output_type": "stream",
          "name": "stdout",
          "text": [
            "Average Training Loss of Last 100 samples: 4.8106958040368575\n"
          ]
        },
        {
          "output_type": "stream",
          "name": "stderr",
          "text": [
            " 25%|██▌       | 707/2773 [00:16<00:39, 52.76it/s]"
          ]
        },
        {
          "output_type": "stream",
          "name": "stdout",
          "text": [
            "Average Training Loss of Last 100 samples: 4.872392165824598\n"
          ]
        },
        {
          "output_type": "stream",
          "name": "stderr",
          "text": [
            " 29%|██▉       | 808/2773 [00:17<00:35, 55.79it/s]"
          ]
        },
        {
          "output_type": "stream",
          "name": "stdout",
          "text": [
            "Average Training Loss of Last 100 samples: 4.876072100467521\n"
          ]
        },
        {
          "output_type": "stream",
          "name": "stderr",
          "text": [
            " 32%|███▏      | 901/2773 [00:19<01:02, 29.89it/s]"
          ]
        },
        {
          "output_type": "stream",
          "name": "stdout",
          "text": [
            "Average Training Loss of Last 100 samples: 4.87783816740539\n"
          ]
        },
        {
          "output_type": "stream",
          "name": "stderr",
          "text": [
            " 36%|███▌      | 1003/2773 [00:24<00:55, 31.80it/s]"
          ]
        },
        {
          "output_type": "stream",
          "name": "stdout",
          "text": [
            "Average Training Loss of Last 100 samples: 4.932976619863888\n"
          ]
        },
        {
          "output_type": "stream",
          "name": "stderr",
          "text": [
            " 40%|████      | 1110/2773 [00:26<00:31, 52.97it/s]"
          ]
        },
        {
          "output_type": "stream",
          "name": "stdout",
          "text": [
            "Average Training Loss of Last 100 samples: 4.917961730335791\n"
          ]
        },
        {
          "output_type": "stream",
          "name": "stderr",
          "text": [
            " 43%|████▎     | 1206/2773 [00:28<00:27, 56.60it/s]"
          ]
        },
        {
          "output_type": "stream",
          "name": "stdout",
          "text": [
            "Average Training Loss of Last 100 samples: 4.894642132356463\n"
          ]
        },
        {
          "output_type": "stream",
          "name": "stderr",
          "text": [
            " 47%|████▋     | 1309/2773 [00:30<00:27, 52.32it/s]"
          ]
        },
        {
          "output_type": "stream",
          "name": "stdout",
          "text": [
            "Average Training Loss of Last 100 samples: 4.868994807831165\n"
          ]
        },
        {
          "output_type": "stream",
          "name": "stderr",
          "text": [
            " 51%|█████     | 1405/2773 [00:32<00:26, 51.12it/s]"
          ]
        },
        {
          "output_type": "stream",
          "name": "stdout",
          "text": [
            "Average Training Loss of Last 100 samples: 4.88729151547561\n"
          ]
        },
        {
          "output_type": "stream",
          "name": "stderr",
          "text": [
            " 54%|█████▍    | 1501/2773 [00:34<00:34, 37.31it/s]"
          ]
        },
        {
          "output_type": "stream",
          "name": "stdout",
          "text": [
            "Average Training Loss of Last 100 samples: 4.8435138099888935\n"
          ]
        },
        {
          "output_type": "stream",
          "name": "stderr",
          "text": [
            " 58%|█████▊    | 1609/2773 [00:38<00:26, 44.00it/s]"
          ]
        },
        {
          "output_type": "stream",
          "name": "stdout",
          "text": [
            "Average Training Loss of Last 100 samples: 4.856181930389371\n"
          ]
        },
        {
          "output_type": "stream",
          "name": "stderr",
          "text": [
            " 62%|██████▏   | 1708/2773 [00:40<00:21, 50.36it/s]"
          ]
        },
        {
          "output_type": "stream",
          "name": "stdout",
          "text": [
            "Average Training Loss of Last 100 samples: 4.926094291340195\n"
          ]
        },
        {
          "output_type": "stream",
          "name": "stderr",
          "text": [
            " 65%|██████▌   | 1808/2773 [00:42<00:17, 54.00it/s]"
          ]
        },
        {
          "output_type": "stream",
          "name": "stdout",
          "text": [
            "Average Training Loss of Last 100 samples: 4.93792521961737\n"
          ]
        },
        {
          "output_type": "stream",
          "name": "stderr",
          "text": [
            " 69%|██████▊   | 1906/2773 [00:44<00:16, 52.11it/s]"
          ]
        },
        {
          "output_type": "stream",
          "name": "stdout",
          "text": [
            "Average Training Loss of Last 100 samples: 4.8488189770110495\n"
          ]
        },
        {
          "output_type": "stream",
          "name": "stderr",
          "text": [
            " 72%|███████▏  | 2005/2773 [00:46<00:14, 53.45it/s]"
          ]
        },
        {
          "output_type": "stream",
          "name": "stdout",
          "text": [
            "Average Training Loss of Last 100 samples: 4.907141632731484\n"
          ]
        },
        {
          "output_type": "stream",
          "name": "stderr",
          "text": [
            " 76%|███████▌  | 2106/2773 [00:48<00:15, 43.06it/s]"
          ]
        },
        {
          "output_type": "stream",
          "name": "stdout",
          "text": [
            "Average Training Loss of Last 100 samples: 4.850739985815053\n"
          ]
        },
        {
          "output_type": "stream",
          "name": "stderr",
          "text": [
            " 79%|███████▉  | 2204/2773 [00:52<00:25, 22.10it/s]"
          ]
        },
        {
          "output_type": "stream",
          "name": "stdout",
          "text": [
            "Average Training Loss of Last 100 samples: 4.819995392522174\n"
          ]
        },
        {
          "output_type": "stream",
          "name": "stderr",
          "text": [
            " 83%|████████▎ | 2307/2773 [00:54<00:10, 45.84it/s]"
          ]
        },
        {
          "output_type": "stream",
          "name": "stdout",
          "text": [
            "Average Training Loss of Last 100 samples: 4.927670331518892\n"
          ]
        },
        {
          "output_type": "stream",
          "name": "stderr",
          "text": [
            " 87%|████████▋ | 2407/2773 [00:56<00:07, 47.19it/s]"
          ]
        },
        {
          "output_type": "stream",
          "name": "stdout",
          "text": [
            "Average Training Loss of Last 100 samples: 4.85053805801784\n"
          ]
        },
        {
          "output_type": "stream",
          "name": "stderr",
          "text": [
            " 90%|█████████ | 2500/2773 [00:58<00:05, 53.81it/s]"
          ]
        },
        {
          "output_type": "stream",
          "name": "stdout",
          "text": [
            "Average Training Loss of Last 100 samples: 4.851605562369751\n"
          ]
        },
        {
          "output_type": "stream",
          "name": "stderr",
          "text": [
            " 94%|█████████▍| 2607/2773 [01:00<00:02, 61.04it/s]"
          ]
        },
        {
          "output_type": "stream",
          "name": "stdout",
          "text": [
            "Average Training Loss of Last 100 samples: 4.944609795173301\n"
          ]
        },
        {
          "output_type": "stream",
          "name": "stderr",
          "text": [
            " 98%|█████████▊| 2708/2773 [01:02<00:01, 55.20it/s]"
          ]
        },
        {
          "output_type": "stream",
          "name": "stdout",
          "text": [
            "Average Training Loss of Last 100 samples: 4.947510955337699\n"
          ]
        },
        {
          "output_type": "stream",
          "name": "stderr",
          "text": [
            "100%|██████████| 2773/2773 [01:05<00:00, 42.60it/s]"
          ]
        },
        {
          "output_type": "stream",
          "name": "stdout",
          "text": [
            "Epoch Loss: 4.885930208213351\n"
          ]
        },
        {
          "output_type": "stream",
          "name": "stderr",
          "text": [
            "\n"
          ]
        }
      ],
      "source": [
        "rnn = RNN(vocab_size=vocab_size, hidden_size=32, max_num_time_steps=maxlen - 1, learning_rate=1e-3)\n",
        "rnn.train(x_train_embeddings, y_train_outputs, epochs=2)"
      ]
    },
    {
      "cell_type": "markdown",
      "metadata": {
        "id": "iYm16QvVQY21"
      },
      "source": [
        "# Question 2 (30 points in total)\n",
        "- In this question, you will count the number of parameters in GPT-2 and trace the source code of different LLM implementations to better understand the Transformer architecture."
      ]
    },
    {
      "cell_type": "markdown",
      "metadata": {
        "id": "BbTqEUJf_M5x"
      },
      "source": [
        "## Q2.1 Understand Transformer with parameter counting exercise (19 points in total)\n",
        "\n",
        "### Let’s count the number of parameters in GPT-2-XL.\n",
        "- You are only allowed to use the variable names defined below to answer the questions, i.e., `n_layers * n_heads` is allowed, while `4 * d_ffn` is not allowed.\n",
        "- For simplicity, please **ignore the bias terms** in all questions."
      ]
    },
    {
      "cell_type": "code",
      "execution_count": 15,
      "metadata": {
        "id": "n9AVWuSx_C70"
      },
      "outputs": [],
      "source": [
        "n_layers = 48  # the number of transformer layers (aka. transformer blocks)\n",
        "n_heads = 25   # the number of attention heads in each layer\n",
        "d_model = 1600 # the model dimension\n",
        "d_ffn = 6400   # the FFN (aka. MLP) dimension\n",
        "d_heads = 64   # the attn head dimension\n",
        "n_vocab = 50257 # vocabulary size\n",
        "n_ctx = 1024    # the maximum sequence length the model can process"
      ]
    },
    {
      "cell_type": "markdown",
      "metadata": {
        "id": "Yx_V_P93_Y5n"
      },
      "source": [
        "#### Q2.1.1 The input embeddings consists of token embeddings (2 points) and position embeddings (2 points). Count the number of parameters in the two embeddings."
      ]
    },
    {
      "cell_type": "code",
      "execution_count": 16,
      "metadata": {
        "id": "DQeVyMUt_V3n",
        "colab": {
          "base_uri": "https://localhost:8080/"
        },
        "outputId": "7b6ad993-5f5a-44e5-dbf0-29bb09898d45"
      },
      "outputs": [
        {
          "output_type": "stream",
          "name": "stdout",
          "text": [
            "80411200\n"
          ]
        }
      ],
      "source": [
        "token_embeddings = n_vocab * d_model\n",
        "print(token_embeddings)"
      ]
    },
    {
      "cell_type": "code",
      "execution_count": 17,
      "metadata": {
        "id": "TneTC1eP_jRh",
        "colab": {
          "base_uri": "https://localhost:8080/"
        },
        "outputId": "22197e9e-f820-4a2d-caec-d00b9056a922"
      },
      "outputs": [
        {
          "output_type": "stream",
          "name": "stdout",
          "text": [
            "1638400\n"
          ]
        }
      ],
      "source": [
        "position_embeddings = n_ctx * d_model # Hint: n_ctx\n",
        "print(position_embeddings)"
      ]
    },
    {
      "cell_type": "markdown",
      "metadata": {
        "id": "E_yaWxaE_fWA"
      },
      "source": [
        "#### Q2.1.2 Multi-Headed Attention consists of W_Q (1.5 point), W_K (1.5 point), W_V (1.5 points), and W_O (3.5 points),\n",
        "- MultiHead(Q, K, V) = Concat(head_1, ..., head_n) W_O\n",
        "- see more details in https://arxiv.org/pdf/1706.03762\n",
        "#### Count the number of parameters in them.\n",
        "- Here we * n_layers to calculate the total number of parameters across layers."
      ]
    },
    {
      "cell_type": "code",
      "execution_count": 18,
      "metadata": {
        "id": "IO_JpGDB_ebx",
        "colab": {
          "base_uri": "https://localhost:8080/"
        },
        "outputId": "7295941c-a198-4899-88c1-127952bdffea"
      },
      "outputs": [
        {
          "output_type": "stream",
          "name": "stdout",
          "text": [
            "122880000\n"
          ]
        }
      ],
      "source": [
        "attn_q = n_layers * (d_model * (n_heads * d_heads))\n",
        "print(attn_q)"
      ]
    },
    {
      "cell_type": "code",
      "execution_count": 19,
      "metadata": {
        "id": "VcHxS114__nL",
        "colab": {
          "base_uri": "https://localhost:8080/"
        },
        "outputId": "b99574f7-97e8-4452-a0da-7d3547f184f6"
      },
      "outputs": [
        {
          "output_type": "stream",
          "name": "stdout",
          "text": [
            "122880000\n"
          ]
        }
      ],
      "source": [
        "attn_k = n_layers * (d_model * (n_heads * d_heads))\n",
        "print(attn_k)"
      ]
    },
    {
      "cell_type": "code",
      "execution_count": 20,
      "metadata": {
        "id": "sYXz2_jBADJB",
        "colab": {
          "base_uri": "https://localhost:8080/"
        },
        "outputId": "38f2134c-11ed-4343-ed16-2413dd08e991"
      },
      "outputs": [
        {
          "output_type": "stream",
          "name": "stdout",
          "text": [
            "122880000\n"
          ]
        }
      ],
      "source": [
        "attn_v = n_layers * (d_model * (n_heads * d_heads))\n",
        "print(attn_v)"
      ]
    },
    {
      "cell_type": "code",
      "execution_count": 21,
      "metadata": {
        "id": "y45J1CNnAIJ8",
        "colab": {
          "base_uri": "https://localhost:8080/"
        },
        "outputId": "c715b4db-661f-44ba-bdf2-534957c01c07"
      },
      "outputs": [
        {
          "output_type": "stream",
          "name": "stdout",
          "text": [
            "122880000\n"
          ]
        }
      ],
      "source": [
        "attn_o = n_layers * ((n_heads * d_heads) * d_model)\n",
        "print(attn_o)"
      ]
    },
    {
      "cell_type": "markdown",
      "metadata": {
        "id": "aUT0PRLgA2qE"
      },
      "source": [
        "#### Q2.1.3 The feed-forward network (FFN) in each transformer block consists of two layers, ffn1 (1.5 point) and ffn2 (1.5 point). Count the number of parameters in them, respectively.\n",
        "- You need to * n_layers to calculate the total number of parameters across layers."
      ]
    },
    {
      "cell_type": "code",
      "execution_count": 22,
      "metadata": {
        "id": "ez8NPTMcAzps",
        "colab": {
          "base_uri": "https://localhost:8080/"
        },
        "outputId": "4d6f65a4-94bd-43fa-ed52-bb263fe4be41"
      },
      "outputs": [
        {
          "output_type": "stream",
          "name": "stdout",
          "text": [
            "491520000\n"
          ]
        }
      ],
      "source": [
        "ffn1 = n_layers * (d_model * d_ffn)\n",
        "print(ffn1)"
      ]
    },
    {
      "cell_type": "code",
      "execution_count": 23,
      "metadata": {
        "id": "e3ISg8S_AwDu",
        "colab": {
          "base_uri": "https://localhost:8080/"
        },
        "outputId": "701f7758-6542-4045-e240-b72ff6e5b349"
      },
      "outputs": [
        {
          "output_type": "stream",
          "name": "stdout",
          "text": [
            "491520000\n"
          ]
        }
      ],
      "source": [
        "ffn2 = n_layers * (d_ffn * d_model)\n",
        "print(ffn2)"
      ]
    },
    {
      "cell_type": "markdown",
      "metadata": {
        "id": "3PTf2vMhBNqJ"
      },
      "source": [
        "#### Q2.1.4 Count the number of parameters in the output embeddings (2 points)"
      ]
    },
    {
      "cell_type": "code",
      "execution_count": 24,
      "metadata": {
        "id": "auX4xsiwBW-p",
        "colab": {
          "base_uri": "https://localhost:8080/"
        },
        "outputId": "ffd30f65-9b86-4674-c1c3-42b7e443de0b"
      },
      "outputs": [
        {
          "output_type": "stream",
          "name": "stdout",
          "text": [
            "80411200\n"
          ]
        }
      ],
      "source": [
        "output_embeddings = token_embeddings\n",
        "print(output_embeddings)"
      ]
    },
    {
      "cell_type": "markdown",
      "metadata": {
        "id": "HIUo-IIbCTZA"
      },
      "source": [
        "#### Q2.1.5 Print out the total number of parameters (1 point).\n",
        "- We do not double-count output_embeddings because GPT-2 shares the weights of token_embeddings and output_embeddings.\n",
        "- For simplicity, we ignore the bias terms and layernorms."
      ]
    },
    {
      "cell_type": "code",
      "execution_count": 25,
      "metadata": {
        "id": "31Tn7OxmCZwV",
        "colab": {
          "base_uri": "https://localhost:8080/"
        },
        "outputId": "a8859b43-a2c0-496b-8940-ee766161ff52"
      },
      "outputs": [
        {
          "output_type": "stream",
          "name": "stdout",
          "text": [
            "1.557B\n"
          ]
        }
      ],
      "source": [
        "n_total = token_embeddings + position_embeddings + attn_q + attn_k + attn_v + attn_o + ffn1 + ffn2\n",
        "print(f'{n_total/10**9:.3f}B')"
      ]
    },
    {
      "cell_type": "markdown",
      "metadata": {
        "id": "tmDac9HhBWDH"
      },
      "source": [
        "#### Q2.1.6 The majority of parameters are in the FFN layers! Print the percentage (1 point)."
      ]
    },
    {
      "cell_type": "code",
      "execution_count": 26,
      "metadata": {
        "id": "Z7xNJNoLCajv",
        "colab": {
          "base_uri": "https://localhost:8080/"
        },
        "outputId": "d8bb9616-9df0-42f6-c164-080c112fd088"
      },
      "outputs": [
        {
          "output_type": "stream",
          "name": "stdout",
          "text": [
            "63.2%\n"
          ]
        }
      ],
      "source": [
        "print(f'{(ffn1+ffn2)/n_total:.1%}')"
      ]
    },
    {
      "cell_type": "markdown",
      "metadata": {
        "id": "g_cCCCpdDB99",
        "jp-MarkdownHeadingCollapsed": true
      },
      "source": [
        "## Q2.2 Understand different implementations of large language models (11 points in total)\n",
        "\n",
        "### Different LLMs use slightly different architectures. Please read the snippets of three types of implentations below and answer the questions.\n",
        "- The code is modified from Hugging Face's implementations. To answer the questions, you do not need to understand the classes and variables that are not defined in the snippets.\n",
        "- `d_model`: the model dimension\n",
        "- `d_ffn`: the FFN (aka. MLP) dimension"
      ]
    },
    {
      "cell_type": "code",
      "execution_count": 27,
      "metadata": {
        "id": "RO82AWr9DRqo",
        "colab": {
          "base_uri": "https://localhost:8080/"
        },
        "outputId": "b5719d91-d404-4c44-8c74-ce65ee3b7d85"
      },
      "outputs": [
        {
          "output_type": "stream",
          "name": "stdout",
          "text": [
            "skipping\n"
          ]
        }
      ],
      "source": [
        "%%script echo skipping\n",
        "class GPT2MLP(nn.Module):\n",
        "    def __init__(self, config, d_model, d_ffn):\n",
        "        super().__init__()\n",
        "        self.fn1 = nn.Linear(d_model, d_ffn)\n",
        "        self.fn2 = nn.Linear(d_ffn, d_model)\n",
        "        self.act = ACT2FN[config.activation_function]\n",
        "        self.dropout = nn.Dropout(config.resid_pdrop)\n",
        "\n",
        "    def forward(self, hidden_states: Optional[Tuple[torch.FloatTensor]]) -> torch.FloatTensor:\n",
        "        hidden_states = self.fn1(hidden_states)\n",
        "        hidden_states = self.act(hidden_states)\n",
        "        hidden_states = self.fn2(hidden_states)\n",
        "        hidden_states = self.dropout(hidden_states)\n",
        "        return hidden_states\n",
        "\n",
        "\n",
        "class GPT2Block(nn.Module):\n",
        "    def __init__(self, config, d_model, d_ffn, layer_idx=None):\n",
        "        super().__init__()\n",
        "        self.ln_1 = nn.LayerNorm(d_model, eps=config.layer_norm_epsilon)\n",
        "        self.attn = GPT2_ATTENTION_CLASSES[config._attn_implementation](config=config, layer_idx=layer_idx)\n",
        "        self.ln_2 = nn.LayerNorm(d_model, eps=config.layer_norm_epsilon)\n",
        "        self.mlp = GPT2MLP(config, d_model, d_ffn)\n",
        "\n",
        "    def forward(\n",
        "        self,\n",
        "        hidden_states: Optional[Tuple[torch.FloatTensor]],\n",
        "        attention_mask: Optional[torch.FloatTensor] = None,\n",
        "    ):\n",
        "        residual = hidden_states\n",
        "        hidden_states = self.ln_1(hidden_states)\n",
        "        attn_output = self.attn(\n",
        "            hidden_states,\n",
        "            attention_mask=attention_mask,\n",
        "        )\n",
        "        # residual connection\n",
        "        hidden_states = attn_output + residual\n",
        "        residual = hidden_states\n",
        "        hidden_states = self.ln_2(hidden_states)\n",
        "        feed_forward_hidden_states = self.mlp(hidden_states)\n",
        "        # residual connection\n",
        "        hidden_states = residual + feed_forward_hidden_states\n",
        "\n",
        "        return hidden_states"
      ]
    },
    {
      "cell_type": "code",
      "execution_count": 28,
      "metadata": {
        "id": "uzQFIbWYDT0_",
        "colab": {
          "base_uri": "https://localhost:8080/"
        },
        "outputId": "b3fcf72e-0df9-4e47-fbe2-3c3055b78238"
      },
      "outputs": [
        {
          "output_type": "stream",
          "name": "stdout",
          "text": [
            "skipping\n"
          ]
        }
      ],
      "source": [
        "%%script echo skipping\n",
        "class GPTJBlock(nn.Module):\n",
        "    def __init__(self, config, d_model, d_ffn, layer_idx=None):\n",
        "        super().__init__()\n",
        "        self.ln_1 = nn.LayerNorm(d_model, eps=config.layer_norm_epsilon)\n",
        "        self.attn = GPTJ_ATTENTION_CLASSES[config._attn_implementation](config, layer_idx)\n",
        "        self.mlp = GPTJMLP(config, d_model, d_ffn)\n",
        "\n",
        "    def forward(\n",
        "        self,\n",
        "        hidden_states: Optional[torch.FloatTensor],\n",
        "        attention_mask: Optional[torch.FloatTensor] = None,\n",
        "    ):\n",
        "        residual = hidden_states\n",
        "        hidden_states = self.ln_1(hidden_states)\n",
        "        attn_output = self.attn(\n",
        "            hidden_states=hidden_states,\n",
        "            attention_mask=attention_mask,\n",
        "        )\n",
        "\n",
        "        feed_forward_hidden_states = self.mlp(hidden_states)\n",
        "        # residual connection\n",
        "        hidden_states = attn_output + feed_forward_hidden_states + residual\n",
        "\n",
        "        return hidden_states"
      ]
    },
    {
      "cell_type": "code",
      "execution_count": 29,
      "metadata": {
        "id": "c4lRLiVKDWLT",
        "colab": {
          "base_uri": "https://localhost:8080/"
        },
        "outputId": "4f0cdb6e-386f-4acd-bed7-cc8250c00b57"
      },
      "outputs": [
        {
          "output_type": "stream",
          "name": "stdout",
          "text": [
            "skipping\n"
          ]
        }
      ],
      "source": [
        "%%script echo skipping\n",
        "class LlamaMLP(nn.Module):\n",
        "    def __init__(self, config, d_model, d_ffn):\n",
        "        super().__init__()\n",
        "        self.gate_proj = nn.Linear(d_model, d_ffn, bias=config.mlp_bias)\n",
        "        self.up_proj = nn.Linear(d_model, d_ffn, bias=config.mlp_bias)\n",
        "        self.down_proj = nn.Linear(d_ffn, d_model, bias=config.mlp_bias)\n",
        "        self.act_fn = ACT2FN[config.hidden_act]\n",
        "\n",
        "    def forward(self, x):\n",
        "        # x: [BS, d_model]\n",
        "        hidden_states = self.act_fn(self.gate_proj(x)) * self.up_proj(x)\n",
        "        output = self.down_proj(hidden_states)\n",
        "        return output"
      ]
    },
    {
      "cell_type": "markdown",
      "metadata": {
        "id": "JzDenRPnDYMu"
      },
      "source": [
        "#### Q2.2.1 What are the differences between `GPTJBlock()` and `GPT2Block()`? (7 points)\n",
        "- Hint: (1) When do self.attn() and self.mlp() add to the residual stream, respectively? (2) What's the input of self.mlp()?\n",
        "- **Ignore** the differences in bias terms, layernorm, dropout, and activation functions."
      ]
    },
    {
      "cell_type": "markdown",
      "metadata": {
        "id": "6Pn_Xy3qDhrf"
      },
      "source": [
        "You answer here (double-clik to edit). Please explain things in Enghlish instead of Python.\n",
        "\n",
        "GPT2Block: The output from the attention mechanism (self.attn) is added to the original hidden states before being passed to the MLP. The MLP processes the combined output of attention and the original input.\n",
        "  \n",
        "GPTJBlock: The output from the attention mechanism is combined with the output from the MLP and the original hidden states after both computations. The MLP processes the normalized hidden states from the first layer normalization.\n",
        "\n",
        "GPT2Block: The input to the MLP is the result after the attention output has been added to the original hidden states.\n",
        "  \n",
        "GPTJBlock: The input to the MLP is the normalized hidden states from the first layer normalization, before the residual connection from the attention output is applied."
      ]
    },
    {
      "cell_type": "markdown",
      "metadata": {
        "id": "sSqczliiD-P6"
      },
      "source": [
        "#### Q2.2.2 In `LlamaMLP()`, the shape of the input `x` is `[BS, d_model]`. What are the shapes of `self.act_fn(self.gate_proj(x))`, `self.up_proj(x)`, `hidden_states`, and `output`, respectively? Answer with the variable names (4 points).\n",
        "- The type of the activation function (ReLU, SiLU, or Sigmoid) does not change the answer"
      ]
    },
    {
      "cell_type": "markdown",
      "metadata": {
        "id": "ynke0xJJELNo"
      },
      "source": [
        "#### Your answer here\n",
        "- (1 point) The shape of the output of `self.act_fn(self.gate_proj(x))`: [BS, d_ffn]\n",
        "- (1 point) The shape of the output of `self.up_proj(x)`: [BS, d_ffn]\n",
        "- (1 point) The shape of `hidden_states`: [BS, d_ffn]\n",
        "- (1 point) The shape of `output`: [BS, d_model]"
      ]
    },
    {
      "cell_type": "markdown",
      "metadata": {
        "id": "ZZFhYECBGFuO"
      },
      "source": [
        "# Question 3: Finetuning\n",
        "\n",
        "In this question, you will be asked to finetune a pretrained language model DistillBERT on sentiment analysis task using IMDb dataset."
      ]
    },
    {
      "cell_type": "code",
      "execution_count": 30,
      "metadata": {
        "id": "O3W2F3rR8zmE",
        "colab": {
          "base_uri": "https://localhost:8080/"
        },
        "outputId": "13d2675f-1a9d-4c43-b24b-8599c20105d7"
      },
      "outputs": [
        {
          "output_type": "stream",
          "name": "stdout",
          "text": [
            "Collecting datasets\n",
            "  Downloading datasets-3.0.2-py3-none-any.whl.metadata (20 kB)\n",
            "Requirement already satisfied: filelock in /usr/local/lib/python3.10/dist-packages (from datasets) (3.16.1)\n",
            "Requirement already satisfied: numpy>=1.17 in /usr/local/lib/python3.10/dist-packages (from datasets) (1.26.4)\n",
            "Requirement already satisfied: pyarrow>=15.0.0 in /usr/local/lib/python3.10/dist-packages (from datasets) (16.1.0)\n",
            "Collecting dill<0.3.9,>=0.3.0 (from datasets)\n",
            "  Downloading dill-0.3.8-py3-none-any.whl.metadata (10 kB)\n",
            "Requirement already satisfied: pandas in /usr/local/lib/python3.10/dist-packages (from datasets) (2.2.2)\n",
            "Requirement already satisfied: requests>=2.32.2 in /usr/local/lib/python3.10/dist-packages (from datasets) (2.32.3)\n",
            "Requirement already satisfied: tqdm>=4.66.3 in /usr/local/lib/python3.10/dist-packages (from datasets) (4.66.5)\n",
            "Collecting xxhash (from datasets)\n",
            "  Downloading xxhash-3.5.0-cp310-cp310-manylinux_2_17_x86_64.manylinux2014_x86_64.whl.metadata (12 kB)\n",
            "Collecting multiprocess<0.70.17 (from datasets)\n",
            "  Downloading multiprocess-0.70.16-py310-none-any.whl.metadata (7.2 kB)\n",
            "Requirement already satisfied: fsspec<=2024.9.0,>=2023.1.0 in /usr/local/lib/python3.10/dist-packages (from fsspec[http]<=2024.9.0,>=2023.1.0->datasets) (2024.6.1)\n",
            "Requirement already satisfied: aiohttp in /usr/local/lib/python3.10/dist-packages (from datasets) (3.10.10)\n",
            "Requirement already satisfied: huggingface-hub>=0.23.0 in /usr/local/lib/python3.10/dist-packages (from datasets) (0.24.7)\n",
            "Requirement already satisfied: packaging in /usr/local/lib/python3.10/dist-packages (from datasets) (24.1)\n",
            "Requirement already satisfied: pyyaml>=5.1 in /usr/local/lib/python3.10/dist-packages (from datasets) (6.0.2)\n",
            "Requirement already satisfied: aiohappyeyeballs>=2.3.0 in /usr/local/lib/python3.10/dist-packages (from aiohttp->datasets) (2.4.3)\n",
            "Requirement already satisfied: aiosignal>=1.1.2 in /usr/local/lib/python3.10/dist-packages (from aiohttp->datasets) (1.3.1)\n",
            "Requirement already satisfied: attrs>=17.3.0 in /usr/local/lib/python3.10/dist-packages (from aiohttp->datasets) (24.2.0)\n",
            "Requirement already satisfied: frozenlist>=1.1.1 in /usr/local/lib/python3.10/dist-packages (from aiohttp->datasets) (1.4.1)\n",
            "Requirement already satisfied: multidict<7.0,>=4.5 in /usr/local/lib/python3.10/dist-packages (from aiohttp->datasets) (6.1.0)\n",
            "Requirement already satisfied: yarl<2.0,>=1.12.0 in /usr/local/lib/python3.10/dist-packages (from aiohttp->datasets) (1.15.4)\n",
            "Requirement already satisfied: async-timeout<5.0,>=4.0 in /usr/local/lib/python3.10/dist-packages (from aiohttp->datasets) (4.0.3)\n",
            "Requirement already satisfied: typing-extensions>=3.7.4.3 in /usr/local/lib/python3.10/dist-packages (from huggingface-hub>=0.23.0->datasets) (4.12.2)\n",
            "Requirement already satisfied: charset-normalizer<4,>=2 in /usr/local/lib/python3.10/dist-packages (from requests>=2.32.2->datasets) (3.4.0)\n",
            "Requirement already satisfied: idna<4,>=2.5 in /usr/local/lib/python3.10/dist-packages (from requests>=2.32.2->datasets) (3.10)\n",
            "Requirement already satisfied: urllib3<3,>=1.21.1 in /usr/local/lib/python3.10/dist-packages (from requests>=2.32.2->datasets) (2.2.3)\n",
            "Requirement already satisfied: certifi>=2017.4.17 in /usr/local/lib/python3.10/dist-packages (from requests>=2.32.2->datasets) (2024.8.30)\n",
            "Requirement already satisfied: python-dateutil>=2.8.2 in /usr/local/lib/python3.10/dist-packages (from pandas->datasets) (2.8.2)\n",
            "Requirement already satisfied: pytz>=2020.1 in /usr/local/lib/python3.10/dist-packages (from pandas->datasets) (2024.2)\n",
            "Requirement already satisfied: tzdata>=2022.7 in /usr/local/lib/python3.10/dist-packages (from pandas->datasets) (2024.2)\n",
            "Requirement already satisfied: six>=1.5 in /usr/local/lib/python3.10/dist-packages (from python-dateutil>=2.8.2->pandas->datasets) (1.16.0)\n",
            "Requirement already satisfied: propcache>=0.2.0 in /usr/local/lib/python3.10/dist-packages (from yarl<2.0,>=1.12.0->aiohttp->datasets) (0.2.0)\n",
            "Downloading datasets-3.0.2-py3-none-any.whl (472 kB)\n",
            "\u001b[2K   \u001b[90m━━━━━━━━━━━━━━━━━━━━━━━━━━━━━━━━━━━━━━━━\u001b[0m \u001b[32m472.7/472.7 kB\u001b[0m \u001b[31m14.2 MB/s\u001b[0m eta \u001b[36m0:00:00\u001b[0m\n",
            "\u001b[?25hDownloading dill-0.3.8-py3-none-any.whl (116 kB)\n",
            "\u001b[2K   \u001b[90m━━━━━━━━━━━━━━━━━━━━━━━━━━━━━━━━━━━━━━━━\u001b[0m \u001b[32m116.3/116.3 kB\u001b[0m \u001b[31m10.2 MB/s\u001b[0m eta \u001b[36m0:00:00\u001b[0m\n",
            "\u001b[?25hDownloading multiprocess-0.70.16-py310-none-any.whl (134 kB)\n",
            "\u001b[2K   \u001b[90m━━━━━━━━━━━━━━━━━━━━━━━━━━━━━━━━━━━━━━━━\u001b[0m \u001b[32m134.8/134.8 kB\u001b[0m \u001b[31m10.7 MB/s\u001b[0m eta \u001b[36m0:00:00\u001b[0m\n",
            "\u001b[?25hDownloading xxhash-3.5.0-cp310-cp310-manylinux_2_17_x86_64.manylinux2014_x86_64.whl (194 kB)\n",
            "\u001b[2K   \u001b[90m━━━━━━━━━━━━━━━━━━━━━━━━━━━━━━━━━━━━━━━━\u001b[0m \u001b[32m194.1/194.1 kB\u001b[0m \u001b[31m13.7 MB/s\u001b[0m eta \u001b[36m0:00:00\u001b[0m\n",
            "\u001b[?25hInstalling collected packages: xxhash, dill, multiprocess, datasets\n",
            "Successfully installed datasets-3.0.2 dill-0.3.8 multiprocess-0.70.16 xxhash-3.5.0\n"
          ]
        }
      ],
      "source": [
        "!pip install datasets"
      ]
    },
    {
      "cell_type": "code",
      "execution_count": 31,
      "metadata": {
        "id": "g-ydErHGG-Fv",
        "colab": {
          "base_uri": "https://localhost:8080/",
          "height": 363,
          "referenced_widgets": [
            "1f4c29c8b37b49f2ae09352e562bcb79",
            "1233aa601b6e466d99e2acf1cd1d9b73",
            "8ff16097c91f4ccb82e6baf4cd7783a6",
            "1343dccf96bd4dae98b1384f84e715ab",
            "e77d6beeb0a04749aa3ed655865f84ff",
            "eb0acc1a0c8f48a7b775744143c8ddba",
            "ac17def4324744c58151ce2ca906c18f",
            "022940df183740c6a876f1b1a7e26288",
            "1eb83560032c4c2d959daa9eef345771",
            "b3406645664b4a6d8f02d9205fb5becc",
            "14585b4b67084e5b88b74a275b5a9a64",
            "102f9796b8c44f99b4c08373427a9afa",
            "8daf272c249f4896ab05b747b8befab5",
            "0f1cac29df82465c92bb9b7bccaeb13e",
            "cf348bb5a27d466594403c9b83a54d5c",
            "3e3f7266db5544d187e3f9804c85bc6e",
            "0d28acc80f124eff84509955f44d76cd",
            "5e964a793a9e4538834f55e21bffdc0c",
            "4eaacd82ac8941bba040758056e20822",
            "ca449e7a43c14449894a45d4d443baa1",
            "2e709866dbe64297948a8655b633a2a5",
            "64e77121b5164004a9dffe91236e38c8",
            "1b8e078c8f7b469b8d35caf5ebf95be1",
            "61bc1139729a4e269acc110a6e1fb91e",
            "72ce2de2f3924f3eb7392ad68871f02f",
            "dab58a215d7c4666803f4cab75e94782",
            "f2ca7cf87a50421d9f620df86a84a8f2",
            "901d8d0980264b089a18369bc624bc95",
            "28d601e9f6bf42858e6a9b03365c3cae",
            "d5a6e1f4978547449a3b1bc6fb3e9220",
            "e4f8f4fc48c842c9bc62d01373329ee7",
            "908994f3efd6443fbaccf30d76e36daf",
            "33c18a743b7a4381a8510120f23b0f93",
            "23d23e3ae9e9441b82a01f726739409f",
            "7b2b9d18f09f444baf6cd667bc440b1f",
            "9ae85e24f032416b97d0f2c81a57a697",
            "45372b0e83444dfa9c9a8c3931cc2608",
            "f95e19be325a4a1ca87b3313eebed8a8",
            "1bea3f7f8f684afaa01420e6b3efc1db",
            "70d7e02df26a4b4b907f9ef606bac796",
            "1b4493329785477dbeed0a30dc73bde9",
            "a67a4d085ae44ef8b1c98976e9e6b2f3",
            "92951f95d3f94e919e6b7dcedc651505",
            "bf16054cd1c9478f93ae8cada7aaa9de",
            "ef2fb572c728413cac761be08b2485a5",
            "259f642a47e846559b230e0ae6d33d4b",
            "51f8e77d7b024c77a36fc74bd40de7ed",
            "5538a36fd68b4468af35936e66931cf6",
            "61225504c3724cc4b066ba1a2edf4bfc",
            "4171106f488a49feba2240296ec7de1a",
            "89e02420183e4b43b119eb0639527b73",
            "ae09173f63fd4520a542ab683d48bb80",
            "71f76c20613e409aaf6f3c8a3450cac2",
            "6b5c301420fd47b59abd4d3e1977de63",
            "324cbc13f5644e8b89cc5023c85b79ac",
            "31b287b857204559bbeea5fb94dbd5d6",
            "e938b1de1ad04a2a8ea86b4f2ba4d375",
            "a9212cc010c84a75a2c87ce37430f2a4",
            "9930481e76924598824fc8da2f0ff644",
            "c2c8381ec59c471383238c5bc9b3e17f",
            "6a10d316e19d49e8bb903339c11db06f",
            "c387b15f220c4b1aa1a98f490f2c114d",
            "4d2497e0c88346b58c59340688052c35",
            "e91df60e78244434bb6f5dda18181c95",
            "5e351f3b2f6a41b6b0825fd33b92da5e",
            "069a7286228543db9328f6d71095a8b7",
            "b96bc4cecf8346ad94c43bc20d788819",
            "7eb72ef8294d4a248b2918f9e1332722",
            "26b9af4d9c2948b8a9cf26eb3e3749c0",
            "8543d3aa46c04a70a68eddc6fea44382",
            "25f443296da744f68774532d80637dd9",
            "7f512267b4dd4af794adcbcef08cad1d",
            "37838c0cb8864f4b8ca00979724d1d7a",
            "7c3ebde45b394bd2881e8f6fca591fd3",
            "da85170024e94953aca8c88c9db0178f",
            "9723574f0a7f43089aa8e9f4d06452d5",
            "8c5a38eca285434b8593b3c368318902"
          ]
        },
        "outputId": "7fd8a8fc-6bba-4bab-e644-4ce050b6214d"
      },
      "outputs": [
        {
          "output_type": "stream",
          "name": "stderr",
          "text": [
            "/usr/local/lib/python3.10/dist-packages/huggingface_hub/utils/_token.py:89: UserWarning: \n",
            "The secret `HF_TOKEN` does not exist in your Colab secrets.\n",
            "To authenticate with the Hugging Face Hub, create a token in your settings tab (https://huggingface.co/settings/tokens), set it as secret in your Google Colab and restart your session.\n",
            "You will be able to reuse this secret in all of your notebooks.\n",
            "Please note that authentication is recommended but still optional to access public models or datasets.\n",
            "  warnings.warn(\n"
          ]
        },
        {
          "output_type": "display_data",
          "data": {
            "text/plain": [
              "README.md:   0%|          | 0.00/7.81k [00:00<?, ?B/s]"
            ],
            "application/vnd.jupyter.widget-view+json": {
              "version_major": 2,
              "version_minor": 0,
              "model_id": "1f4c29c8b37b49f2ae09352e562bcb79"
            }
          },
          "metadata": {}
        },
        {
          "output_type": "display_data",
          "data": {
            "text/plain": [
              "train-00000-of-00001.parquet:   0%|          | 0.00/21.0M [00:00<?, ?B/s]"
            ],
            "application/vnd.jupyter.widget-view+json": {
              "version_major": 2,
              "version_minor": 0,
              "model_id": "102f9796b8c44f99b4c08373427a9afa"
            }
          },
          "metadata": {}
        },
        {
          "output_type": "display_data",
          "data": {
            "text/plain": [
              "test-00000-of-00001.parquet:   0%|          | 0.00/20.5M [00:00<?, ?B/s]"
            ],
            "application/vnd.jupyter.widget-view+json": {
              "version_major": 2,
              "version_minor": 0,
              "model_id": "1b8e078c8f7b469b8d35caf5ebf95be1"
            }
          },
          "metadata": {}
        },
        {
          "output_type": "display_data",
          "data": {
            "text/plain": [
              "unsupervised-00000-of-00001.parquet:   0%|          | 0.00/42.0M [00:00<?, ?B/s]"
            ],
            "application/vnd.jupyter.widget-view+json": {
              "version_major": 2,
              "version_minor": 0,
              "model_id": "23d23e3ae9e9441b82a01f726739409f"
            }
          },
          "metadata": {}
        },
        {
          "output_type": "display_data",
          "data": {
            "text/plain": [
              "Generating train split:   0%|          | 0/25000 [00:00<?, ? examples/s]"
            ],
            "application/vnd.jupyter.widget-view+json": {
              "version_major": 2,
              "version_minor": 0,
              "model_id": "ef2fb572c728413cac761be08b2485a5"
            }
          },
          "metadata": {}
        },
        {
          "output_type": "display_data",
          "data": {
            "text/plain": [
              "Generating test split:   0%|          | 0/25000 [00:00<?, ? examples/s]"
            ],
            "application/vnd.jupyter.widget-view+json": {
              "version_major": 2,
              "version_minor": 0,
              "model_id": "31b287b857204559bbeea5fb94dbd5d6"
            }
          },
          "metadata": {}
        },
        {
          "output_type": "display_data",
          "data": {
            "text/plain": [
              "Generating unsupervised split:   0%|          | 0/50000 [00:00<?, ? examples/s]"
            ],
            "application/vnd.jupyter.widget-view+json": {
              "version_major": 2,
              "version_minor": 0,
              "model_id": "b96bc4cecf8346ad94c43bc20d788819"
            }
          },
          "metadata": {}
        }
      ],
      "source": [
        "#load dataset\n",
        "# we use imdb dataset to finetune the model. We test the model on imdb and sst2.\n",
        "from datasets import load_dataset\n",
        "\n",
        "imdb_dataset = load_dataset('stanfordnlp/imdb')\n"
      ]
    },
    {
      "cell_type": "markdown",
      "metadata": {
        "id": "hCdtYhZfIUbn"
      },
      "source": [
        "## 1. Preprocess the data (4pts)\n",
        "\n",
        "\n",
        "For imdb, split the train dataset into train set and dev set. The dev set is used within training process to select the best checkpoint. Use train_test_split() from sklearn to split. The ratio of dev set is 0.1. Set the random state as 42."
      ]
    },
    {
      "cell_type": "code",
      "execution_count": 32,
      "metadata": {
        "id": "ZrVgOCBEITjC"
      },
      "outputs": [],
      "source": [
        "from sklearn.model_selection import train_test_split\n",
        "# write your code here, make sure you use the name defined below.\n",
        "train_x, dev_x, train_y, dev_y = train_test_split(\n",
        "    imdb_dataset['train']['text'],\n",
        "    imdb_dataset['train']['label'],\n",
        "    test_size=0.1,\n",
        "    random_state=42,\n",
        "    stratify=imdb_dataset['train']['label']\n",
        ")"
      ]
    },
    {
      "cell_type": "code",
      "execution_count": 33,
      "metadata": {
        "id": "m0-NstVLwf9H",
        "colab": {
          "base_uri": "https://localhost:8080/"
        },
        "outputId": "b1c0ae03-1ddf-447d-ed63-644921c05633"
      },
      "outputs": [
        {
          "output_type": "stream",
          "name": "stdout",
          "text": [
            "\"Algie, the Miner\" is one bad and unfunny silent comedy. The timing of the slapstick is completely off. This is the kind of humor with certain sequences that make you wonder if they're supposed to be funny or not. However, the actual quality of the film is irrelevant. This is mandatory viewing for film buffs mainly because its one of the earliest examples of gay cinema. The main character of Algie is an effeminate guy, acting much like the stereotypical \"pansy\" common in many early films. The film has the homophobic attitude common of the time. \"Algie, the Miner\" is pretty awful, but fascinating from a historical viewpoint. (3/10)\n"
          ]
        }
      ],
      "source": [
        "print(train_x[0])"
      ]
    },
    {
      "cell_type": "markdown",
      "metadata": {
        "id": "kw7QOg__Lz7t"
      },
      "source": [
        "## 2. Prepare the data (10pts)\n",
        "\n",
        "\n",
        "We use Dataset class from torch.utils.data to prepare data, and DataLoader class to prepare batches for training.\n",
        "\n",
        "In the SentimentAnalysisDataset class, you need to use DistillBert tokenizer to tokenize the sentence."
      ]
    },
    {
      "cell_type": "code",
      "execution_count": 34,
      "metadata": {
        "id": "7F7rgxCPO5JO",
        "colab": {
          "base_uri": "https://localhost:8080/",
          "height": 248,
          "referenced_widgets": [
            "5ee2ec85e3a7463fbbc53c1f8d28c2e0",
            "f18ef93d709e4b9a87f3da812e006480",
            "9f5eafd1c879435893dd0bc629ba3aba",
            "c40efb222be248f1bca5f5dacaaf3b8c",
            "7e452ef372b74000bfe62eaca3d030ca",
            "2a9bb9bc9e064c0788eee5030856c1c9",
            "47cec584c7bd462aae019cb72d03e56c",
            "9aea421d0eed47838232ede0bdb04156",
            "2c979611e0714cf59c05560e8090f2bb",
            "c30beb1aed504cc1933c09be931b9467",
            "f7095aed601e4b65bf33294872903e27",
            "3862cc33cdea4c54bb1651ec167e2e7c",
            "bbcadd5dc925499fbd397f574bbb3fcb",
            "faec28e1ef2b4087930620e73d29484f",
            "7d1a8533a5dd49cba5886559600cbb0c",
            "ee49618ef0f7430993c144194174994b",
            "d6c687ebfab148e6a8aad6d1b3c6da87",
            "4c11c23ff3174736a4981f0a799cd25b",
            "bc3a792157ba4855a4d6833ef74bb752",
            "6ed954b8f11643c8a35774945b883bd0",
            "905a2c0c84fb4c9c8fc29662517fe998",
            "b41f5a6d441e43c8ba52948f397333b2",
            "1a76972bcb2d4757b5bc03e95e55686f",
            "1131e7682d9043618a4569c828015d8a",
            "ecf0e0827ac54c05b4c2e203b8cbba5a",
            "83de388716e64239a39c11f566f8ee8b",
            "f87ec528a4714800bae3386ad2336120",
            "95931b1d343542e1a9000f36b313b2f3",
            "b734eb3509a9416bb01210f76c596a9a",
            "c0757fce61f64dc5ae31a75f064ff4c0",
            "b38fe68c185147a7bc0ee551c34508b1",
            "3c8f196edb424f7aa9afd1d732349ba8",
            "68291680a0c144e18879267ddb86ab87",
            "eee02bff615840a89d112211eb82267e",
            "c49e3f7bd97f439eb7dc2a2daf94c0ce",
            "8334cb388c7b407cb139cea851ec4d02",
            "f8ebe7cfe43c49c6bf91028e7bf7edf7",
            "2b82c0befd02433f997684704e393c7f",
            "9083ef8d30854d068270049841dd1523",
            "c2afd4f4fac14c1c913f20db34456007",
            "90e9fb3e0fe44591879bc26c453441d7",
            "145018d488524ad09deb301dae321b8b",
            "48daebdca7514f509ec44420ad1762b3",
            "e8c72dcd6a56411ebadc5ebb8e5496b8",
            "4cee6646b5414508a4943dc267a1a74f",
            "f7ea97239e4a45089d2170a985779f32",
            "38038ae0ea6d47498d5a0d8430e4a8f5",
            "112be245071445ffbb8a06eae0c36b5a",
            "bfe66a18ce9a49b2a65d8003176ff98d",
            "b41c56fe242d419490f78650b147f501",
            "2c14b27cafd249a99fca564da3370d6f",
            "2785e4ed4f5845e9b1b7b68637d7f209",
            "b3d72bbac57344419bb46548948059b0",
            "55d14710442347c387bc0f29498c0b16",
            "e26743b071e14aac947d4ada29f9299d"
          ]
        },
        "outputId": "9ffd4596-d9e5-431a-b41f-8888f56ab830"
      },
      "outputs": [
        {
          "output_type": "stream",
          "name": "stderr",
          "text": [
            "The cache for model files in Transformers v4.22.0 has been updated. Migrating your old cache. This is a one-time only operation. You can interrupt this and resume the migration later on by calling `transformers.utils.move_cache()`.\n"
          ]
        },
        {
          "output_type": "display_data",
          "data": {
            "text/plain": [
              "0it [00:00, ?it/s]"
            ],
            "application/vnd.jupyter.widget-view+json": {
              "version_major": 2,
              "version_minor": 0,
              "model_id": "5ee2ec85e3a7463fbbc53c1f8d28c2e0"
            }
          },
          "metadata": {}
        },
        {
          "output_type": "display_data",
          "data": {
            "text/plain": [
              "tokenizer_config.json:   0%|          | 0.00/48.0 [00:00<?, ?B/s]"
            ],
            "application/vnd.jupyter.widget-view+json": {
              "version_major": 2,
              "version_minor": 0,
              "model_id": "3862cc33cdea4c54bb1651ec167e2e7c"
            }
          },
          "metadata": {}
        },
        {
          "output_type": "display_data",
          "data": {
            "text/plain": [
              "config.json:   0%|          | 0.00/483 [00:00<?, ?B/s]"
            ],
            "application/vnd.jupyter.widget-view+json": {
              "version_major": 2,
              "version_minor": 0,
              "model_id": "1a76972bcb2d4757b5bc03e95e55686f"
            }
          },
          "metadata": {}
        },
        {
          "output_type": "display_data",
          "data": {
            "text/plain": [
              "vocab.txt:   0%|          | 0.00/232k [00:00<?, ?B/s]"
            ],
            "application/vnd.jupyter.widget-view+json": {
              "version_major": 2,
              "version_minor": 0,
              "model_id": "eee02bff615840a89d112211eb82267e"
            }
          },
          "metadata": {}
        },
        {
          "output_type": "display_data",
          "data": {
            "text/plain": [
              "tokenizer.json:   0%|          | 0.00/466k [00:00<?, ?B/s]"
            ],
            "application/vnd.jupyter.widget-view+json": {
              "version_major": 2,
              "version_minor": 0,
              "model_id": "4cee6646b5414508a4943dc267a1a74f"
            }
          },
          "metadata": {}
        },
        {
          "output_type": "stream",
          "name": "stderr",
          "text": [
            "/usr/local/lib/python3.10/dist-packages/transformers/tokenization_utils_base.py:1601: FutureWarning: `clean_up_tokenization_spaces` was not set. It will be set to `True` by default. This behavior will be depracted in transformers v4.45, and will be then set to `False` by default. For more details check this issue: https://github.com/huggingface/transformers/issues/31884\n",
            "  warnings.warn(\n"
          ]
        }
      ],
      "source": [
        "from transformers import AutoTokenizer, AutoModel\n",
        "tokenizer = AutoTokenizer.from_pretrained('distilbert/distilbert-base-uncased')\n"
      ]
    },
    {
      "cell_type": "code",
      "execution_count": 35,
      "metadata": {
        "id": "UAWZHrraLzEb"
      },
      "outputs": [],
      "source": [
        "from torch.utils.data import Dataset, DataLoader\n",
        "\n",
        "import torch\n",
        "\n",
        "\n",
        "class SentimentAnalysisDataset(Dataset):\n",
        "  #write your code here\n",
        "  def __init__(self,data, tokenizer, max_len = 512):\n",
        "      self.sentences = data['input']\n",
        "      self.labels = data['label']\n",
        "      self.tokenizer = tokenizer\n",
        "      self.max_len = max_len\n",
        "      self.input_ids = []\n",
        "      self.attention_masks = []\n",
        "      self.prepare()\n",
        "\n",
        "  def prepare(self):\n",
        "      for sentence in self.sentences:\n",
        "          encoding = self.tokenizer(\n",
        "              sentence,\n",
        "              truncation=True,\n",
        "              padding='max_length',\n",
        "              max_length=self.max_len,\n",
        "              return_tensors='pt')\n",
        "          self.input_ids.append(encoding['input_ids'][0])\n",
        "          self.attention_masks.append(encoding['attention_mask'][0])\n",
        "      self.input_ids = torch.stack(self.input_ids)\n",
        "      self.attention_masks = torch.stack(self.attention_masks)\n",
        "      self.len = len(self.sentences)\n",
        "\n",
        "  def __len__(self):\n",
        "    return self.len\n",
        "\n",
        "  def __getitem__(self,idx):\n",
        "      return {\n",
        "          'input_ids': self.input_ids[idx],\n",
        "          'attention_mask': self.attention_masks[idx],\n",
        "          'label': torch.tensor(self.labels[idx], dtype=torch.long)\n",
        "      }\n",
        "\n",
        "\n",
        "# Example of usage\n",
        "# Usage of GPU: due to limit usage of GPU on Colab, we will not train the whole training set. If you can get access to GPU, we strongly recommend you to run it on GPU and try it on the whole dataset. In this homework, we only run first 20 samples.\n",
        "train = {'input':train_x[:20], 'label':train_y[:20]}\n",
        "train_dataset = SentimentAnalysisDataset(train, tokenizer)\n",
        "\n",
        "train_dataloader = DataLoader(train_dataset, batch_size = 4, shuffle = True)\n",
        "\n",
        "\n",
        "dev = {'input': dev_x[:20], 'label': dev_y[:20]}\n",
        "dev_dataset = SentimentAnalysisDataset(dev, tokenizer)\n",
        "dev_dataloader = DataLoader(dev_dataset, batch_size=4, shuffle=False)"
      ]
    },
    {
      "cell_type": "code",
      "execution_count": 36,
      "metadata": {
        "id": "FeRXj-Hgw-vv"
      },
      "outputs": [],
      "source": [
        "assert sum(train_dataset.attention_masks[0])==149"
      ]
    },
    {
      "cell_type": "markdown",
      "metadata": {
        "id": "WRFvGe7p11TO"
      },
      "source": [
        "## 3. Define the model (12pts)\n",
        "\n",
        "We use DistillBERT as base model. We still need a linear layer to mapping the last hidden state to classes dimension.\n",
        "\n",
        "The model should have a base model, a linear layer, a dropout layer (0.5) and softmax function. The forward function go through all the layers one by one and return the softmax result."
      ]
    },
    {
      "cell_type": "code",
      "execution_count": 37,
      "metadata": {
        "id": "WUl4nHap1fSX",
        "colab": {
          "base_uri": "https://localhost:8080/",
          "height": 49,
          "referenced_widgets": [
            "4027f80c126445b7bc7c44c354037f10",
            "d856d218e2824894b8a2a15f5fb65136",
            "93f04a5b547a43a485aef76b8f9939b1",
            "d1758bebbeaf4fec94071e18f1439afd",
            "8a2b5f2b49db4707a350467db847f501",
            "2122d1382a9c4e68bf8c3d4f121a74c6",
            "931e2309a94a40659611a5a1c6daac90",
            "a028574ccfa0492e92aafdf0cf95922a",
            "393f18f550404f3dad67ce6f193f55cb",
            "a4a41acb43ac4d459491bfe055ecae3f",
            "01b9fbdbeeea42849eb3bd631342c884"
          ]
        },
        "outputId": "c5fc2cf4-5a55-4e40-99ce-7fd7ba72b996"
      },
      "outputs": [
        {
          "output_type": "display_data",
          "data": {
            "text/plain": [
              "model.safetensors:   0%|          | 0.00/268M [00:00<?, ?B/s]"
            ],
            "application/vnd.jupyter.widget-view+json": {
              "version_major": 2,
              "version_minor": 0,
              "model_id": "4027f80c126445b7bc7c44c354037f10"
            }
          },
          "metadata": {}
        }
      ],
      "source": [
        "from torch import nn\n",
        "torch.manual_seed(42)\n",
        "device = torch.device(\"cuda:0\" if torch.cuda.is_available() else \"cpu\")\n",
        "bertmodel = AutoModel.from_pretrained(\"distilbert/distilbert-base-uncased\")\n",
        "\n",
        "class ClassificationModel(nn.Module):\n",
        "    def __init__(self,base_model,num_classes):\n",
        "        super().__init__()\n",
        "        #write your code here\n",
        "        self.base_model = base_model\n",
        "        self.dropout = nn.Dropout(0.5)\n",
        "        self.classifier = nn.Linear(self.base_model.config.hidden_size, num_classes)\n",
        "        self.softmax = nn.Softmax(dim=1)\n",
        "\n",
        "\n",
        "    def forward(self,input_ids, attention_mask):\n",
        "        #write your code here\n",
        "        outputs = self.base_model(input_ids=input_ids, attention_mask=attention_mask)\n",
        "        hidden_state = outputs.last_hidden_state[:, 0, :]  # Take the [CLS] token representation (first token)\n",
        "        hidden_state = self.dropout(hidden_state)\n",
        "        logits = self.classifier(hidden_state)\n",
        "        predictions = nn.functional.softmax(logits, dim=-1)\n",
        "\n",
        "        return predictions"
      ]
    },
    {
      "cell_type": "code",
      "execution_count": 38,
      "metadata": {
        "id": "_rrqu5dB2wXd"
      },
      "outputs": [],
      "source": [
        "model = ClassificationModel(base_model = bertmodel, num_classes = 2 )"
      ]
    },
    {
      "cell_type": "code",
      "execution_count": 39,
      "metadata": {
        "id": "vHjc-17g3Dx4"
      },
      "outputs": [],
      "source": [
        "#test case\n",
        "input_ids = train_dataset.input_ids[0]\n",
        "attention_mask = train_dataset.attention_masks[0]\n",
        "model.eval()\n",
        "with torch.no_grad():\n",
        "  predicts = model(input_ids,attention_mask)"
      ]
    },
    {
      "cell_type": "code",
      "execution_count": 40,
      "metadata": {
        "id": "1mspVXim3Yk3"
      },
      "outputs": [],
      "source": [
        "# Rounding the predicts -> The assert passes on my local environment without rounding\n",
        "# Only while using colab it seems to need rounding\n",
        "predicts = [[round(p, 4) for p in sublist] for sublist in predicts.tolist()]\n",
        "assert predicts == [[round(0.4507104158401489, 4), round(0.5492895841598511, 4)]]"
      ]
    },
    {
      "cell_type": "markdown",
      "metadata": {
        "id": "5_Vbj3xMLJr8"
      },
      "source": [
        "## 4. Model finetuning (10pts)\n",
        "\n",
        "In this section, you need to implement train loop and evaluation loop."
      ]
    },
    {
      "cell_type": "markdown",
      "metadata": {
        "id": "P1_w9rx9Ldqm"
      },
      "source": [
        " Initialize the optimizer. We use AdamW for optimizer and cross entropy loss. (3pts)"
      ]
    },
    {
      "cell_type": "code",
      "execution_count": 41,
      "metadata": {
        "id": "X7g8NKCILc0h"
      },
      "outputs": [],
      "source": [
        "# write your code here\n",
        "from torch.optim import AdamW\n",
        "from torch.nn import CrossEntropyLoss\n",
        "optimizer = AdamW(model.parameters(), lr=2e-5)\n",
        "loss_fn = CrossEntropyLoss()"
      ]
    },
    {
      "cell_type": "markdown",
      "metadata": {
        "id": "JRnQzQbhOSs8"
      },
      "source": [
        "We use pytorch to implement. For each epoch, we run one training loop and one evaluation loop. At the end of training, we run the model on test set using the best model saved. For one training step, we run forward pass using pretrained model given input. Then we calculate loss and do backward propagation. See the instructions in the code block.  (7pts)\n",
        "\n",
        "Ideally, you should see a obvious decrease (0.7-1) in train loss, but no decrease in dev loss, since the model is overfitting on a small training set.\n"
      ]
    },
    {
      "cell_type": "code",
      "execution_count": 42,
      "metadata": {
        "id": "eCeuEA4nLawd",
        "colab": {
          "base_uri": "https://localhost:8080/"
        },
        "outputId": "085da231-dc14-4d9a-d2b6-192fa89e03d4"
      },
      "outputs": [
        {
          "output_type": "stream",
          "name": "stderr",
          "text": [
            "Finetuning::  10%|█         | 5/50 [01:02<09:02, 12.05s/it]"
          ]
        },
        {
          "output_type": "stream",
          "name": "stdout",
          "text": [
            "Epoch 0: train loss is 0.7066766619682312\n",
            "Epoch 0: dev loss is 0.6966711282730103\n",
            "The best loss is 0.6966711282730103. Saving checkpoint!\n"
          ]
        },
        {
          "output_type": "stream",
          "name": "stderr",
          "text": [
            "Finetuning::  20%|██        | 10/50 [02:21<09:02, 13.57s/it]"
          ]
        },
        {
          "output_type": "stream",
          "name": "stdout",
          "text": [
            "Epoch 1: train loss is 0.6646392822265625\n",
            "Epoch 1: dev loss is 0.719009792804718\n"
          ]
        },
        {
          "output_type": "stream",
          "name": "stderr",
          "text": [
            "Finetuning::  30%|███       | 15/50 [03:43<08:09, 13.98s/it]"
          ]
        },
        {
          "output_type": "stream",
          "name": "stdout",
          "text": [
            "Epoch 2: train loss is 0.6220359563827514\n",
            "Epoch 2: dev loss is 0.7357733249664307\n"
          ]
        },
        {
          "output_type": "stream",
          "name": "stderr",
          "text": [
            "Finetuning::  40%|████      | 20/50 [05:02<06:59, 13.99s/it]"
          ]
        },
        {
          "output_type": "stream",
          "name": "stdout",
          "text": [
            "Epoch 3: train loss is 0.5920003831386567\n",
            "Epoch 3: dev loss is 0.7372004389762878\n"
          ]
        },
        {
          "output_type": "stream",
          "name": "stderr",
          "text": [
            "Finetuning::  50%|█████     | 25/50 [06:23<05:53, 14.13s/it]"
          ]
        },
        {
          "output_type": "stream",
          "name": "stdout",
          "text": [
            "Epoch 4: train loss is 0.5656440317630768\n",
            "Epoch 4: dev loss is 0.7409250974655152\n"
          ]
        },
        {
          "output_type": "stream",
          "name": "stderr",
          "text": [
            "Finetuning::  60%|██████    | 30/50 [07:44<04:49, 14.49s/it]"
          ]
        },
        {
          "output_type": "stream",
          "name": "stdout",
          "text": [
            "Epoch 5: train loss is 0.49391054511070254\n",
            "Epoch 5: dev loss is 0.7225637316703797\n"
          ]
        },
        {
          "output_type": "stream",
          "name": "stderr",
          "text": [
            "Finetuning::  70%|███████   | 35/50 [09:02<03:25, 13.69s/it]"
          ]
        },
        {
          "output_type": "stream",
          "name": "stdout",
          "text": [
            "Epoch 6: train loss is 0.4413000404834747\n",
            "Epoch 6: dev loss is 0.6987208247184753\n"
          ]
        },
        {
          "output_type": "stream",
          "name": "stderr",
          "text": [
            "Finetuning::  80%|████████  | 40/50 [10:23<02:20, 14.01s/it]"
          ]
        },
        {
          "output_type": "stream",
          "name": "stdout",
          "text": [
            "Epoch 7: train loss is 0.42229595184326174\n",
            "Epoch 7: dev loss is 0.6815919995307922\n",
            "The best loss is 0.6815919995307922. Saving checkpoint!\n"
          ]
        },
        {
          "output_type": "stream",
          "name": "stderr",
          "text": [
            "Finetuning::  90%|█████████ | 45/50 [11:45<01:11, 14.35s/it]"
          ]
        },
        {
          "output_type": "stream",
          "name": "stdout",
          "text": [
            "Epoch 8: train loss is 0.37201780676841734\n",
            "Epoch 8: dev loss is 0.7429375648498535\n"
          ]
        },
        {
          "output_type": "stream",
          "name": "stderr",
          "text": [
            "Finetuning:: 100%|██████████| 50/50 [13:10<00:00, 14.78s/it]"
          ]
        },
        {
          "output_type": "stream",
          "name": "stdout",
          "text": [
            "Epoch 9: train loss is 0.3465863764286041\n"
          ]
        },
        {
          "output_type": "stream",
          "name": "stderr",
          "text": [
            "\rFinetuning:: 100%|██████████| 50/50 [13:27<00:00, 16.15s/it]"
          ]
        },
        {
          "output_type": "stream",
          "name": "stdout",
          "text": [
            "Epoch 9: dev loss is 0.7603296756744384\n"
          ]
        },
        {
          "output_type": "stream",
          "name": "stderr",
          "text": [
            "\n"
          ]
        }
      ],
      "source": [
        "from tqdm import tqdm\n",
        "epochs = 10 # don't change\n",
        "\n",
        "num_training_steps = epochs * len(train_dataloader)\n",
        "best_model = None\n",
        "best_loss = 10000\n",
        "\n",
        "with tqdm(total=num_training_steps, desc='Finetuning:') as pbar:\n",
        "  for epoch in range(epochs):\n",
        "    # training loop\n",
        "    model.train()\n",
        "    train_loss = 0\n",
        "    for batch in train_dataloader:\n",
        "      '''\n",
        "      Tips:\n",
        "      1. Put the input and model on the same device\n",
        "      2. Use the optimizer correctly\n",
        "      3. Update the train loss. The printed train loss should be train_loss/len(train_dataloader)\n",
        "      '''\n",
        "      # write your code here\n",
        "      input_ids = batch['input_ids'].to(device)\n",
        "      attention_mask = batch['attention_mask'].to(device)\n",
        "      labels = batch['label'].to(device)\n",
        "      outputs = model(input_ids, attention_mask)\n",
        "      loss = loss_fn(outputs, labels)\n",
        "      optimizer.zero_grad()\n",
        "      loss.backward()\n",
        "      optimizer.step()\n",
        "      train_loss += loss.item()\n",
        "      pbar.update(1)\n",
        "\n",
        "    train_loss /= len(train_dataloader)\n",
        "    print(f'Epoch {epoch}: train loss is {train_loss}')\n",
        "\n",
        "    model.eval()\n",
        "    dev_loss = 0\n",
        "    with torch.no_grad():\n",
        "      for batch in dev_dataloader:\n",
        "        '''\n",
        "        Tips:\n",
        "        1. You don't need to use optimizer\n",
        "        2. Update the dev loss. The printed dev loss should be dev_loss/len(dev_dataloader)\n",
        "        3. Save the checkpoint if the dev loss is smaller than best loss and update the best loss to dev loss\n",
        "        '''\n",
        "        input_ids = batch['input_ids'].to(device)\n",
        "        attention_mask = batch['attention_mask'].to(device)\n",
        "        labels = batch['label'].to(device)\n",
        "        outputs = model(input_ids, attention_mask)\n",
        "        loss = loss_fn(outputs, labels)\n",
        "        dev_loss += loss.item()\n",
        "\n",
        "      dev_loss /= len(dev_dataloader)\n",
        "      print(f'Epoch {epoch}: dev loss is {dev_loss}')\n",
        "      if dev_loss < best_loss:\n",
        "        #save the checkpoint\n",
        "        # write your code here\n",
        "        best_loss = dev_loss\n",
        "        best_model = model.state_dict()\n",
        "        print(f'The best loss is {dev_loss}. Saving checkpoint!')\n"
      ]
    },
    {
      "cell_type": "code",
      "execution_count": 42,
      "metadata": {
        "id": "TBmLJ0vASj9C"
      },
      "outputs": [],
      "source": []
    }
  ],
  "metadata": {
    "colab": {
      "provenance": []
    },
    "kernelspec": {
      "display_name": "Python 3",
      "name": "python3"
    },
    "language_info": {
      "codemirror_mode": {
        "name": "ipython",
        "version": 3
      },
      "file_extension": ".py",
      "mimetype": "text/x-python",
      "name": "python",
      "nbconvert_exporter": "python",
      "pygments_lexer": "ipython3",
      "version": "3.12.4"
    },
    "widgets": {
      "application/vnd.jupyter.widget-state+json": {
        "1f4c29c8b37b49f2ae09352e562bcb79": {
          "model_module": "@jupyter-widgets/controls",
          "model_name": "HBoxModel",
          "model_module_version": "1.5.0",
          "state": {
            "_dom_classes": [],
            "_model_module": "@jupyter-widgets/controls",
            "_model_module_version": "1.5.0",
            "_model_name": "HBoxModel",
            "_view_count": null,
            "_view_module": "@jupyter-widgets/controls",
            "_view_module_version": "1.5.0",
            "_view_name": "HBoxView",
            "box_style": "",
            "children": [
              "IPY_MODEL_1233aa601b6e466d99e2acf1cd1d9b73",
              "IPY_MODEL_8ff16097c91f4ccb82e6baf4cd7783a6",
              "IPY_MODEL_1343dccf96bd4dae98b1384f84e715ab"
            ],
            "layout": "IPY_MODEL_e77d6beeb0a04749aa3ed655865f84ff"
          }
        },
        "1233aa601b6e466d99e2acf1cd1d9b73": {
          "model_module": "@jupyter-widgets/controls",
          "model_name": "HTMLModel",
          "model_module_version": "1.5.0",
          "state": {
            "_dom_classes": [],
            "_model_module": "@jupyter-widgets/controls",
            "_model_module_version": "1.5.0",
            "_model_name": "HTMLModel",
            "_view_count": null,
            "_view_module": "@jupyter-widgets/controls",
            "_view_module_version": "1.5.0",
            "_view_name": "HTMLView",
            "description": "",
            "description_tooltip": null,
            "layout": "IPY_MODEL_eb0acc1a0c8f48a7b775744143c8ddba",
            "placeholder": "​",
            "style": "IPY_MODEL_ac17def4324744c58151ce2ca906c18f",
            "value": "README.md: 100%"
          }
        },
        "8ff16097c91f4ccb82e6baf4cd7783a6": {
          "model_module": "@jupyter-widgets/controls",
          "model_name": "FloatProgressModel",
          "model_module_version": "1.5.0",
          "state": {
            "_dom_classes": [],
            "_model_module": "@jupyter-widgets/controls",
            "_model_module_version": "1.5.0",
            "_model_name": "FloatProgressModel",
            "_view_count": null,
            "_view_module": "@jupyter-widgets/controls",
            "_view_module_version": "1.5.0",
            "_view_name": "ProgressView",
            "bar_style": "success",
            "description": "",
            "description_tooltip": null,
            "layout": "IPY_MODEL_022940df183740c6a876f1b1a7e26288",
            "max": 7809,
            "min": 0,
            "orientation": "horizontal",
            "style": "IPY_MODEL_1eb83560032c4c2d959daa9eef345771",
            "value": 7809
          }
        },
        "1343dccf96bd4dae98b1384f84e715ab": {
          "model_module": "@jupyter-widgets/controls",
          "model_name": "HTMLModel",
          "model_module_version": "1.5.0",
          "state": {
            "_dom_classes": [],
            "_model_module": "@jupyter-widgets/controls",
            "_model_module_version": "1.5.0",
            "_model_name": "HTMLModel",
            "_view_count": null,
            "_view_module": "@jupyter-widgets/controls",
            "_view_module_version": "1.5.0",
            "_view_name": "HTMLView",
            "description": "",
            "description_tooltip": null,
            "layout": "IPY_MODEL_b3406645664b4a6d8f02d9205fb5becc",
            "placeholder": "​",
            "style": "IPY_MODEL_14585b4b67084e5b88b74a275b5a9a64",
            "value": " 7.81k/7.81k [00:00&lt;00:00, 372kB/s]"
          }
        },
        "e77d6beeb0a04749aa3ed655865f84ff": {
          "model_module": "@jupyter-widgets/base",
          "model_name": "LayoutModel",
          "model_module_version": "1.2.0",
          "state": {
            "_model_module": "@jupyter-widgets/base",
            "_model_module_version": "1.2.0",
            "_model_name": "LayoutModel",
            "_view_count": null,
            "_view_module": "@jupyter-widgets/base",
            "_view_module_version": "1.2.0",
            "_view_name": "LayoutView",
            "align_content": null,
            "align_items": null,
            "align_self": null,
            "border": null,
            "bottom": null,
            "display": null,
            "flex": null,
            "flex_flow": null,
            "grid_area": null,
            "grid_auto_columns": null,
            "grid_auto_flow": null,
            "grid_auto_rows": null,
            "grid_column": null,
            "grid_gap": null,
            "grid_row": null,
            "grid_template_areas": null,
            "grid_template_columns": null,
            "grid_template_rows": null,
            "height": null,
            "justify_content": null,
            "justify_items": null,
            "left": null,
            "margin": null,
            "max_height": null,
            "max_width": null,
            "min_height": null,
            "min_width": null,
            "object_fit": null,
            "object_position": null,
            "order": null,
            "overflow": null,
            "overflow_x": null,
            "overflow_y": null,
            "padding": null,
            "right": null,
            "top": null,
            "visibility": null,
            "width": null
          }
        },
        "eb0acc1a0c8f48a7b775744143c8ddba": {
          "model_module": "@jupyter-widgets/base",
          "model_name": "LayoutModel",
          "model_module_version": "1.2.0",
          "state": {
            "_model_module": "@jupyter-widgets/base",
            "_model_module_version": "1.2.0",
            "_model_name": "LayoutModel",
            "_view_count": null,
            "_view_module": "@jupyter-widgets/base",
            "_view_module_version": "1.2.0",
            "_view_name": "LayoutView",
            "align_content": null,
            "align_items": null,
            "align_self": null,
            "border": null,
            "bottom": null,
            "display": null,
            "flex": null,
            "flex_flow": null,
            "grid_area": null,
            "grid_auto_columns": null,
            "grid_auto_flow": null,
            "grid_auto_rows": null,
            "grid_column": null,
            "grid_gap": null,
            "grid_row": null,
            "grid_template_areas": null,
            "grid_template_columns": null,
            "grid_template_rows": null,
            "height": null,
            "justify_content": null,
            "justify_items": null,
            "left": null,
            "margin": null,
            "max_height": null,
            "max_width": null,
            "min_height": null,
            "min_width": null,
            "object_fit": null,
            "object_position": null,
            "order": null,
            "overflow": null,
            "overflow_x": null,
            "overflow_y": null,
            "padding": null,
            "right": null,
            "top": null,
            "visibility": null,
            "width": null
          }
        },
        "ac17def4324744c58151ce2ca906c18f": {
          "model_module": "@jupyter-widgets/controls",
          "model_name": "DescriptionStyleModel",
          "model_module_version": "1.5.0",
          "state": {
            "_model_module": "@jupyter-widgets/controls",
            "_model_module_version": "1.5.0",
            "_model_name": "DescriptionStyleModel",
            "_view_count": null,
            "_view_module": "@jupyter-widgets/base",
            "_view_module_version": "1.2.0",
            "_view_name": "StyleView",
            "description_width": ""
          }
        },
        "022940df183740c6a876f1b1a7e26288": {
          "model_module": "@jupyter-widgets/base",
          "model_name": "LayoutModel",
          "model_module_version": "1.2.0",
          "state": {
            "_model_module": "@jupyter-widgets/base",
            "_model_module_version": "1.2.0",
            "_model_name": "LayoutModel",
            "_view_count": null,
            "_view_module": "@jupyter-widgets/base",
            "_view_module_version": "1.2.0",
            "_view_name": "LayoutView",
            "align_content": null,
            "align_items": null,
            "align_self": null,
            "border": null,
            "bottom": null,
            "display": null,
            "flex": null,
            "flex_flow": null,
            "grid_area": null,
            "grid_auto_columns": null,
            "grid_auto_flow": null,
            "grid_auto_rows": null,
            "grid_column": null,
            "grid_gap": null,
            "grid_row": null,
            "grid_template_areas": null,
            "grid_template_columns": null,
            "grid_template_rows": null,
            "height": null,
            "justify_content": null,
            "justify_items": null,
            "left": null,
            "margin": null,
            "max_height": null,
            "max_width": null,
            "min_height": null,
            "min_width": null,
            "object_fit": null,
            "object_position": null,
            "order": null,
            "overflow": null,
            "overflow_x": null,
            "overflow_y": null,
            "padding": null,
            "right": null,
            "top": null,
            "visibility": null,
            "width": null
          }
        },
        "1eb83560032c4c2d959daa9eef345771": {
          "model_module": "@jupyter-widgets/controls",
          "model_name": "ProgressStyleModel",
          "model_module_version": "1.5.0",
          "state": {
            "_model_module": "@jupyter-widgets/controls",
            "_model_module_version": "1.5.0",
            "_model_name": "ProgressStyleModel",
            "_view_count": null,
            "_view_module": "@jupyter-widgets/base",
            "_view_module_version": "1.2.0",
            "_view_name": "StyleView",
            "bar_color": null,
            "description_width": ""
          }
        },
        "b3406645664b4a6d8f02d9205fb5becc": {
          "model_module": "@jupyter-widgets/base",
          "model_name": "LayoutModel",
          "model_module_version": "1.2.0",
          "state": {
            "_model_module": "@jupyter-widgets/base",
            "_model_module_version": "1.2.0",
            "_model_name": "LayoutModel",
            "_view_count": null,
            "_view_module": "@jupyter-widgets/base",
            "_view_module_version": "1.2.0",
            "_view_name": "LayoutView",
            "align_content": null,
            "align_items": null,
            "align_self": null,
            "border": null,
            "bottom": null,
            "display": null,
            "flex": null,
            "flex_flow": null,
            "grid_area": null,
            "grid_auto_columns": null,
            "grid_auto_flow": null,
            "grid_auto_rows": null,
            "grid_column": null,
            "grid_gap": null,
            "grid_row": null,
            "grid_template_areas": null,
            "grid_template_columns": null,
            "grid_template_rows": null,
            "height": null,
            "justify_content": null,
            "justify_items": null,
            "left": null,
            "margin": null,
            "max_height": null,
            "max_width": null,
            "min_height": null,
            "min_width": null,
            "object_fit": null,
            "object_position": null,
            "order": null,
            "overflow": null,
            "overflow_x": null,
            "overflow_y": null,
            "padding": null,
            "right": null,
            "top": null,
            "visibility": null,
            "width": null
          }
        },
        "14585b4b67084e5b88b74a275b5a9a64": {
          "model_module": "@jupyter-widgets/controls",
          "model_name": "DescriptionStyleModel",
          "model_module_version": "1.5.0",
          "state": {
            "_model_module": "@jupyter-widgets/controls",
            "_model_module_version": "1.5.0",
            "_model_name": "DescriptionStyleModel",
            "_view_count": null,
            "_view_module": "@jupyter-widgets/base",
            "_view_module_version": "1.2.0",
            "_view_name": "StyleView",
            "description_width": ""
          }
        },
        "102f9796b8c44f99b4c08373427a9afa": {
          "model_module": "@jupyter-widgets/controls",
          "model_name": "HBoxModel",
          "model_module_version": "1.5.0",
          "state": {
            "_dom_classes": [],
            "_model_module": "@jupyter-widgets/controls",
            "_model_module_version": "1.5.0",
            "_model_name": "HBoxModel",
            "_view_count": null,
            "_view_module": "@jupyter-widgets/controls",
            "_view_module_version": "1.5.0",
            "_view_name": "HBoxView",
            "box_style": "",
            "children": [
              "IPY_MODEL_8daf272c249f4896ab05b747b8befab5",
              "IPY_MODEL_0f1cac29df82465c92bb9b7bccaeb13e",
              "IPY_MODEL_cf348bb5a27d466594403c9b83a54d5c"
            ],
            "layout": "IPY_MODEL_3e3f7266db5544d187e3f9804c85bc6e"
          }
        },
        "8daf272c249f4896ab05b747b8befab5": {
          "model_module": "@jupyter-widgets/controls",
          "model_name": "HTMLModel",
          "model_module_version": "1.5.0",
          "state": {
            "_dom_classes": [],
            "_model_module": "@jupyter-widgets/controls",
            "_model_module_version": "1.5.0",
            "_model_name": "HTMLModel",
            "_view_count": null,
            "_view_module": "@jupyter-widgets/controls",
            "_view_module_version": "1.5.0",
            "_view_name": "HTMLView",
            "description": "",
            "description_tooltip": null,
            "layout": "IPY_MODEL_0d28acc80f124eff84509955f44d76cd",
            "placeholder": "​",
            "style": "IPY_MODEL_5e964a793a9e4538834f55e21bffdc0c",
            "value": "train-00000-of-00001.parquet: 100%"
          }
        },
        "0f1cac29df82465c92bb9b7bccaeb13e": {
          "model_module": "@jupyter-widgets/controls",
          "model_name": "FloatProgressModel",
          "model_module_version": "1.5.0",
          "state": {
            "_dom_classes": [],
            "_model_module": "@jupyter-widgets/controls",
            "_model_module_version": "1.5.0",
            "_model_name": "FloatProgressModel",
            "_view_count": null,
            "_view_module": "@jupyter-widgets/controls",
            "_view_module_version": "1.5.0",
            "_view_name": "ProgressView",
            "bar_style": "success",
            "description": "",
            "description_tooltip": null,
            "layout": "IPY_MODEL_4eaacd82ac8941bba040758056e20822",
            "max": 20979968,
            "min": 0,
            "orientation": "horizontal",
            "style": "IPY_MODEL_ca449e7a43c14449894a45d4d443baa1",
            "value": 20979968
          }
        },
        "cf348bb5a27d466594403c9b83a54d5c": {
          "model_module": "@jupyter-widgets/controls",
          "model_name": "HTMLModel",
          "model_module_version": "1.5.0",
          "state": {
            "_dom_classes": [],
            "_model_module": "@jupyter-widgets/controls",
            "_model_module_version": "1.5.0",
            "_model_name": "HTMLModel",
            "_view_count": null,
            "_view_module": "@jupyter-widgets/controls",
            "_view_module_version": "1.5.0",
            "_view_name": "HTMLView",
            "description": "",
            "description_tooltip": null,
            "layout": "IPY_MODEL_2e709866dbe64297948a8655b633a2a5",
            "placeholder": "​",
            "style": "IPY_MODEL_64e77121b5164004a9dffe91236e38c8",
            "value": " 21.0M/21.0M [00:00&lt;00:00, 47.1MB/s]"
          }
        },
        "3e3f7266db5544d187e3f9804c85bc6e": {
          "model_module": "@jupyter-widgets/base",
          "model_name": "LayoutModel",
          "model_module_version": "1.2.0",
          "state": {
            "_model_module": "@jupyter-widgets/base",
            "_model_module_version": "1.2.0",
            "_model_name": "LayoutModel",
            "_view_count": null,
            "_view_module": "@jupyter-widgets/base",
            "_view_module_version": "1.2.0",
            "_view_name": "LayoutView",
            "align_content": null,
            "align_items": null,
            "align_self": null,
            "border": null,
            "bottom": null,
            "display": null,
            "flex": null,
            "flex_flow": null,
            "grid_area": null,
            "grid_auto_columns": null,
            "grid_auto_flow": null,
            "grid_auto_rows": null,
            "grid_column": null,
            "grid_gap": null,
            "grid_row": null,
            "grid_template_areas": null,
            "grid_template_columns": null,
            "grid_template_rows": null,
            "height": null,
            "justify_content": null,
            "justify_items": null,
            "left": null,
            "margin": null,
            "max_height": null,
            "max_width": null,
            "min_height": null,
            "min_width": null,
            "object_fit": null,
            "object_position": null,
            "order": null,
            "overflow": null,
            "overflow_x": null,
            "overflow_y": null,
            "padding": null,
            "right": null,
            "top": null,
            "visibility": null,
            "width": null
          }
        },
        "0d28acc80f124eff84509955f44d76cd": {
          "model_module": "@jupyter-widgets/base",
          "model_name": "LayoutModel",
          "model_module_version": "1.2.0",
          "state": {
            "_model_module": "@jupyter-widgets/base",
            "_model_module_version": "1.2.0",
            "_model_name": "LayoutModel",
            "_view_count": null,
            "_view_module": "@jupyter-widgets/base",
            "_view_module_version": "1.2.0",
            "_view_name": "LayoutView",
            "align_content": null,
            "align_items": null,
            "align_self": null,
            "border": null,
            "bottom": null,
            "display": null,
            "flex": null,
            "flex_flow": null,
            "grid_area": null,
            "grid_auto_columns": null,
            "grid_auto_flow": null,
            "grid_auto_rows": null,
            "grid_column": null,
            "grid_gap": null,
            "grid_row": null,
            "grid_template_areas": null,
            "grid_template_columns": null,
            "grid_template_rows": null,
            "height": null,
            "justify_content": null,
            "justify_items": null,
            "left": null,
            "margin": null,
            "max_height": null,
            "max_width": null,
            "min_height": null,
            "min_width": null,
            "object_fit": null,
            "object_position": null,
            "order": null,
            "overflow": null,
            "overflow_x": null,
            "overflow_y": null,
            "padding": null,
            "right": null,
            "top": null,
            "visibility": null,
            "width": null
          }
        },
        "5e964a793a9e4538834f55e21bffdc0c": {
          "model_module": "@jupyter-widgets/controls",
          "model_name": "DescriptionStyleModel",
          "model_module_version": "1.5.0",
          "state": {
            "_model_module": "@jupyter-widgets/controls",
            "_model_module_version": "1.5.0",
            "_model_name": "DescriptionStyleModel",
            "_view_count": null,
            "_view_module": "@jupyter-widgets/base",
            "_view_module_version": "1.2.0",
            "_view_name": "StyleView",
            "description_width": ""
          }
        },
        "4eaacd82ac8941bba040758056e20822": {
          "model_module": "@jupyter-widgets/base",
          "model_name": "LayoutModel",
          "model_module_version": "1.2.0",
          "state": {
            "_model_module": "@jupyter-widgets/base",
            "_model_module_version": "1.2.0",
            "_model_name": "LayoutModel",
            "_view_count": null,
            "_view_module": "@jupyter-widgets/base",
            "_view_module_version": "1.2.0",
            "_view_name": "LayoutView",
            "align_content": null,
            "align_items": null,
            "align_self": null,
            "border": null,
            "bottom": null,
            "display": null,
            "flex": null,
            "flex_flow": null,
            "grid_area": null,
            "grid_auto_columns": null,
            "grid_auto_flow": null,
            "grid_auto_rows": null,
            "grid_column": null,
            "grid_gap": null,
            "grid_row": null,
            "grid_template_areas": null,
            "grid_template_columns": null,
            "grid_template_rows": null,
            "height": null,
            "justify_content": null,
            "justify_items": null,
            "left": null,
            "margin": null,
            "max_height": null,
            "max_width": null,
            "min_height": null,
            "min_width": null,
            "object_fit": null,
            "object_position": null,
            "order": null,
            "overflow": null,
            "overflow_x": null,
            "overflow_y": null,
            "padding": null,
            "right": null,
            "top": null,
            "visibility": null,
            "width": null
          }
        },
        "ca449e7a43c14449894a45d4d443baa1": {
          "model_module": "@jupyter-widgets/controls",
          "model_name": "ProgressStyleModel",
          "model_module_version": "1.5.0",
          "state": {
            "_model_module": "@jupyter-widgets/controls",
            "_model_module_version": "1.5.0",
            "_model_name": "ProgressStyleModel",
            "_view_count": null,
            "_view_module": "@jupyter-widgets/base",
            "_view_module_version": "1.2.0",
            "_view_name": "StyleView",
            "bar_color": null,
            "description_width": ""
          }
        },
        "2e709866dbe64297948a8655b633a2a5": {
          "model_module": "@jupyter-widgets/base",
          "model_name": "LayoutModel",
          "model_module_version": "1.2.0",
          "state": {
            "_model_module": "@jupyter-widgets/base",
            "_model_module_version": "1.2.0",
            "_model_name": "LayoutModel",
            "_view_count": null,
            "_view_module": "@jupyter-widgets/base",
            "_view_module_version": "1.2.0",
            "_view_name": "LayoutView",
            "align_content": null,
            "align_items": null,
            "align_self": null,
            "border": null,
            "bottom": null,
            "display": null,
            "flex": null,
            "flex_flow": null,
            "grid_area": null,
            "grid_auto_columns": null,
            "grid_auto_flow": null,
            "grid_auto_rows": null,
            "grid_column": null,
            "grid_gap": null,
            "grid_row": null,
            "grid_template_areas": null,
            "grid_template_columns": null,
            "grid_template_rows": null,
            "height": null,
            "justify_content": null,
            "justify_items": null,
            "left": null,
            "margin": null,
            "max_height": null,
            "max_width": null,
            "min_height": null,
            "min_width": null,
            "object_fit": null,
            "object_position": null,
            "order": null,
            "overflow": null,
            "overflow_x": null,
            "overflow_y": null,
            "padding": null,
            "right": null,
            "top": null,
            "visibility": null,
            "width": null
          }
        },
        "64e77121b5164004a9dffe91236e38c8": {
          "model_module": "@jupyter-widgets/controls",
          "model_name": "DescriptionStyleModel",
          "model_module_version": "1.5.0",
          "state": {
            "_model_module": "@jupyter-widgets/controls",
            "_model_module_version": "1.5.0",
            "_model_name": "DescriptionStyleModel",
            "_view_count": null,
            "_view_module": "@jupyter-widgets/base",
            "_view_module_version": "1.2.0",
            "_view_name": "StyleView",
            "description_width": ""
          }
        },
        "1b8e078c8f7b469b8d35caf5ebf95be1": {
          "model_module": "@jupyter-widgets/controls",
          "model_name": "HBoxModel",
          "model_module_version": "1.5.0",
          "state": {
            "_dom_classes": [],
            "_model_module": "@jupyter-widgets/controls",
            "_model_module_version": "1.5.0",
            "_model_name": "HBoxModel",
            "_view_count": null,
            "_view_module": "@jupyter-widgets/controls",
            "_view_module_version": "1.5.0",
            "_view_name": "HBoxView",
            "box_style": "",
            "children": [
              "IPY_MODEL_61bc1139729a4e269acc110a6e1fb91e",
              "IPY_MODEL_72ce2de2f3924f3eb7392ad68871f02f",
              "IPY_MODEL_dab58a215d7c4666803f4cab75e94782"
            ],
            "layout": "IPY_MODEL_f2ca7cf87a50421d9f620df86a84a8f2"
          }
        },
        "61bc1139729a4e269acc110a6e1fb91e": {
          "model_module": "@jupyter-widgets/controls",
          "model_name": "HTMLModel",
          "model_module_version": "1.5.0",
          "state": {
            "_dom_classes": [],
            "_model_module": "@jupyter-widgets/controls",
            "_model_module_version": "1.5.0",
            "_model_name": "HTMLModel",
            "_view_count": null,
            "_view_module": "@jupyter-widgets/controls",
            "_view_module_version": "1.5.0",
            "_view_name": "HTMLView",
            "description": "",
            "description_tooltip": null,
            "layout": "IPY_MODEL_901d8d0980264b089a18369bc624bc95",
            "placeholder": "​",
            "style": "IPY_MODEL_28d601e9f6bf42858e6a9b03365c3cae",
            "value": "test-00000-of-00001.parquet: 100%"
          }
        },
        "72ce2de2f3924f3eb7392ad68871f02f": {
          "model_module": "@jupyter-widgets/controls",
          "model_name": "FloatProgressModel",
          "model_module_version": "1.5.0",
          "state": {
            "_dom_classes": [],
            "_model_module": "@jupyter-widgets/controls",
            "_model_module_version": "1.5.0",
            "_model_name": "FloatProgressModel",
            "_view_count": null,
            "_view_module": "@jupyter-widgets/controls",
            "_view_module_version": "1.5.0",
            "_view_name": "ProgressView",
            "bar_style": "success",
            "description": "",
            "description_tooltip": null,
            "layout": "IPY_MODEL_d5a6e1f4978547449a3b1bc6fb3e9220",
            "max": 20470363,
            "min": 0,
            "orientation": "horizontal",
            "style": "IPY_MODEL_e4f8f4fc48c842c9bc62d01373329ee7",
            "value": 20470363
          }
        },
        "dab58a215d7c4666803f4cab75e94782": {
          "model_module": "@jupyter-widgets/controls",
          "model_name": "HTMLModel",
          "model_module_version": "1.5.0",
          "state": {
            "_dom_classes": [],
            "_model_module": "@jupyter-widgets/controls",
            "_model_module_version": "1.5.0",
            "_model_name": "HTMLModel",
            "_view_count": null,
            "_view_module": "@jupyter-widgets/controls",
            "_view_module_version": "1.5.0",
            "_view_name": "HTMLView",
            "description": "",
            "description_tooltip": null,
            "layout": "IPY_MODEL_908994f3efd6443fbaccf30d76e36daf",
            "placeholder": "​",
            "style": "IPY_MODEL_33c18a743b7a4381a8510120f23b0f93",
            "value": " 20.5M/20.5M [00:00&lt;00:00, 66.0MB/s]"
          }
        },
        "f2ca7cf87a50421d9f620df86a84a8f2": {
          "model_module": "@jupyter-widgets/base",
          "model_name": "LayoutModel",
          "model_module_version": "1.2.0",
          "state": {
            "_model_module": "@jupyter-widgets/base",
            "_model_module_version": "1.2.0",
            "_model_name": "LayoutModel",
            "_view_count": null,
            "_view_module": "@jupyter-widgets/base",
            "_view_module_version": "1.2.0",
            "_view_name": "LayoutView",
            "align_content": null,
            "align_items": null,
            "align_self": null,
            "border": null,
            "bottom": null,
            "display": null,
            "flex": null,
            "flex_flow": null,
            "grid_area": null,
            "grid_auto_columns": null,
            "grid_auto_flow": null,
            "grid_auto_rows": null,
            "grid_column": null,
            "grid_gap": null,
            "grid_row": null,
            "grid_template_areas": null,
            "grid_template_columns": null,
            "grid_template_rows": null,
            "height": null,
            "justify_content": null,
            "justify_items": null,
            "left": null,
            "margin": null,
            "max_height": null,
            "max_width": null,
            "min_height": null,
            "min_width": null,
            "object_fit": null,
            "object_position": null,
            "order": null,
            "overflow": null,
            "overflow_x": null,
            "overflow_y": null,
            "padding": null,
            "right": null,
            "top": null,
            "visibility": null,
            "width": null
          }
        },
        "901d8d0980264b089a18369bc624bc95": {
          "model_module": "@jupyter-widgets/base",
          "model_name": "LayoutModel",
          "model_module_version": "1.2.0",
          "state": {
            "_model_module": "@jupyter-widgets/base",
            "_model_module_version": "1.2.0",
            "_model_name": "LayoutModel",
            "_view_count": null,
            "_view_module": "@jupyter-widgets/base",
            "_view_module_version": "1.2.0",
            "_view_name": "LayoutView",
            "align_content": null,
            "align_items": null,
            "align_self": null,
            "border": null,
            "bottom": null,
            "display": null,
            "flex": null,
            "flex_flow": null,
            "grid_area": null,
            "grid_auto_columns": null,
            "grid_auto_flow": null,
            "grid_auto_rows": null,
            "grid_column": null,
            "grid_gap": null,
            "grid_row": null,
            "grid_template_areas": null,
            "grid_template_columns": null,
            "grid_template_rows": null,
            "height": null,
            "justify_content": null,
            "justify_items": null,
            "left": null,
            "margin": null,
            "max_height": null,
            "max_width": null,
            "min_height": null,
            "min_width": null,
            "object_fit": null,
            "object_position": null,
            "order": null,
            "overflow": null,
            "overflow_x": null,
            "overflow_y": null,
            "padding": null,
            "right": null,
            "top": null,
            "visibility": null,
            "width": null
          }
        },
        "28d601e9f6bf42858e6a9b03365c3cae": {
          "model_module": "@jupyter-widgets/controls",
          "model_name": "DescriptionStyleModel",
          "model_module_version": "1.5.0",
          "state": {
            "_model_module": "@jupyter-widgets/controls",
            "_model_module_version": "1.5.0",
            "_model_name": "DescriptionStyleModel",
            "_view_count": null,
            "_view_module": "@jupyter-widgets/base",
            "_view_module_version": "1.2.0",
            "_view_name": "StyleView",
            "description_width": ""
          }
        },
        "d5a6e1f4978547449a3b1bc6fb3e9220": {
          "model_module": "@jupyter-widgets/base",
          "model_name": "LayoutModel",
          "model_module_version": "1.2.0",
          "state": {
            "_model_module": "@jupyter-widgets/base",
            "_model_module_version": "1.2.0",
            "_model_name": "LayoutModel",
            "_view_count": null,
            "_view_module": "@jupyter-widgets/base",
            "_view_module_version": "1.2.0",
            "_view_name": "LayoutView",
            "align_content": null,
            "align_items": null,
            "align_self": null,
            "border": null,
            "bottom": null,
            "display": null,
            "flex": null,
            "flex_flow": null,
            "grid_area": null,
            "grid_auto_columns": null,
            "grid_auto_flow": null,
            "grid_auto_rows": null,
            "grid_column": null,
            "grid_gap": null,
            "grid_row": null,
            "grid_template_areas": null,
            "grid_template_columns": null,
            "grid_template_rows": null,
            "height": null,
            "justify_content": null,
            "justify_items": null,
            "left": null,
            "margin": null,
            "max_height": null,
            "max_width": null,
            "min_height": null,
            "min_width": null,
            "object_fit": null,
            "object_position": null,
            "order": null,
            "overflow": null,
            "overflow_x": null,
            "overflow_y": null,
            "padding": null,
            "right": null,
            "top": null,
            "visibility": null,
            "width": null
          }
        },
        "e4f8f4fc48c842c9bc62d01373329ee7": {
          "model_module": "@jupyter-widgets/controls",
          "model_name": "ProgressStyleModel",
          "model_module_version": "1.5.0",
          "state": {
            "_model_module": "@jupyter-widgets/controls",
            "_model_module_version": "1.5.0",
            "_model_name": "ProgressStyleModel",
            "_view_count": null,
            "_view_module": "@jupyter-widgets/base",
            "_view_module_version": "1.2.0",
            "_view_name": "StyleView",
            "bar_color": null,
            "description_width": ""
          }
        },
        "908994f3efd6443fbaccf30d76e36daf": {
          "model_module": "@jupyter-widgets/base",
          "model_name": "LayoutModel",
          "model_module_version": "1.2.0",
          "state": {
            "_model_module": "@jupyter-widgets/base",
            "_model_module_version": "1.2.0",
            "_model_name": "LayoutModel",
            "_view_count": null,
            "_view_module": "@jupyter-widgets/base",
            "_view_module_version": "1.2.0",
            "_view_name": "LayoutView",
            "align_content": null,
            "align_items": null,
            "align_self": null,
            "border": null,
            "bottom": null,
            "display": null,
            "flex": null,
            "flex_flow": null,
            "grid_area": null,
            "grid_auto_columns": null,
            "grid_auto_flow": null,
            "grid_auto_rows": null,
            "grid_column": null,
            "grid_gap": null,
            "grid_row": null,
            "grid_template_areas": null,
            "grid_template_columns": null,
            "grid_template_rows": null,
            "height": null,
            "justify_content": null,
            "justify_items": null,
            "left": null,
            "margin": null,
            "max_height": null,
            "max_width": null,
            "min_height": null,
            "min_width": null,
            "object_fit": null,
            "object_position": null,
            "order": null,
            "overflow": null,
            "overflow_x": null,
            "overflow_y": null,
            "padding": null,
            "right": null,
            "top": null,
            "visibility": null,
            "width": null
          }
        },
        "33c18a743b7a4381a8510120f23b0f93": {
          "model_module": "@jupyter-widgets/controls",
          "model_name": "DescriptionStyleModel",
          "model_module_version": "1.5.0",
          "state": {
            "_model_module": "@jupyter-widgets/controls",
            "_model_module_version": "1.5.0",
            "_model_name": "DescriptionStyleModel",
            "_view_count": null,
            "_view_module": "@jupyter-widgets/base",
            "_view_module_version": "1.2.0",
            "_view_name": "StyleView",
            "description_width": ""
          }
        },
        "23d23e3ae9e9441b82a01f726739409f": {
          "model_module": "@jupyter-widgets/controls",
          "model_name": "HBoxModel",
          "model_module_version": "1.5.0",
          "state": {
            "_dom_classes": [],
            "_model_module": "@jupyter-widgets/controls",
            "_model_module_version": "1.5.0",
            "_model_name": "HBoxModel",
            "_view_count": null,
            "_view_module": "@jupyter-widgets/controls",
            "_view_module_version": "1.5.0",
            "_view_name": "HBoxView",
            "box_style": "",
            "children": [
              "IPY_MODEL_7b2b9d18f09f444baf6cd667bc440b1f",
              "IPY_MODEL_9ae85e24f032416b97d0f2c81a57a697",
              "IPY_MODEL_45372b0e83444dfa9c9a8c3931cc2608"
            ],
            "layout": "IPY_MODEL_f95e19be325a4a1ca87b3313eebed8a8"
          }
        },
        "7b2b9d18f09f444baf6cd667bc440b1f": {
          "model_module": "@jupyter-widgets/controls",
          "model_name": "HTMLModel",
          "model_module_version": "1.5.0",
          "state": {
            "_dom_classes": [],
            "_model_module": "@jupyter-widgets/controls",
            "_model_module_version": "1.5.0",
            "_model_name": "HTMLModel",
            "_view_count": null,
            "_view_module": "@jupyter-widgets/controls",
            "_view_module_version": "1.5.0",
            "_view_name": "HTMLView",
            "description": "",
            "description_tooltip": null,
            "layout": "IPY_MODEL_1bea3f7f8f684afaa01420e6b3efc1db",
            "placeholder": "​",
            "style": "IPY_MODEL_70d7e02df26a4b4b907f9ef606bac796",
            "value": "unsupervised-00000-of-00001.parquet: 100%"
          }
        },
        "9ae85e24f032416b97d0f2c81a57a697": {
          "model_module": "@jupyter-widgets/controls",
          "model_name": "FloatProgressModel",
          "model_module_version": "1.5.0",
          "state": {
            "_dom_classes": [],
            "_model_module": "@jupyter-widgets/controls",
            "_model_module_version": "1.5.0",
            "_model_name": "FloatProgressModel",
            "_view_count": null,
            "_view_module": "@jupyter-widgets/controls",
            "_view_module_version": "1.5.0",
            "_view_name": "ProgressView",
            "bar_style": "success",
            "description": "",
            "description_tooltip": null,
            "layout": "IPY_MODEL_1b4493329785477dbeed0a30dc73bde9",
            "max": 41996509,
            "min": 0,
            "orientation": "horizontal",
            "style": "IPY_MODEL_a67a4d085ae44ef8b1c98976e9e6b2f3",
            "value": 41996509
          }
        },
        "45372b0e83444dfa9c9a8c3931cc2608": {
          "model_module": "@jupyter-widgets/controls",
          "model_name": "HTMLModel",
          "model_module_version": "1.5.0",
          "state": {
            "_dom_classes": [],
            "_model_module": "@jupyter-widgets/controls",
            "_model_module_version": "1.5.0",
            "_model_name": "HTMLModel",
            "_view_count": null,
            "_view_module": "@jupyter-widgets/controls",
            "_view_module_version": "1.5.0",
            "_view_name": "HTMLView",
            "description": "",
            "description_tooltip": null,
            "layout": "IPY_MODEL_92951f95d3f94e919e6b7dcedc651505",
            "placeholder": "​",
            "style": "IPY_MODEL_bf16054cd1c9478f93ae8cada7aaa9de",
            "value": " 42.0M/42.0M [00:00&lt;00:00, 104MB/s]"
          }
        },
        "f95e19be325a4a1ca87b3313eebed8a8": {
          "model_module": "@jupyter-widgets/base",
          "model_name": "LayoutModel",
          "model_module_version": "1.2.0",
          "state": {
            "_model_module": "@jupyter-widgets/base",
            "_model_module_version": "1.2.0",
            "_model_name": "LayoutModel",
            "_view_count": null,
            "_view_module": "@jupyter-widgets/base",
            "_view_module_version": "1.2.0",
            "_view_name": "LayoutView",
            "align_content": null,
            "align_items": null,
            "align_self": null,
            "border": null,
            "bottom": null,
            "display": null,
            "flex": null,
            "flex_flow": null,
            "grid_area": null,
            "grid_auto_columns": null,
            "grid_auto_flow": null,
            "grid_auto_rows": null,
            "grid_column": null,
            "grid_gap": null,
            "grid_row": null,
            "grid_template_areas": null,
            "grid_template_columns": null,
            "grid_template_rows": null,
            "height": null,
            "justify_content": null,
            "justify_items": null,
            "left": null,
            "margin": null,
            "max_height": null,
            "max_width": null,
            "min_height": null,
            "min_width": null,
            "object_fit": null,
            "object_position": null,
            "order": null,
            "overflow": null,
            "overflow_x": null,
            "overflow_y": null,
            "padding": null,
            "right": null,
            "top": null,
            "visibility": null,
            "width": null
          }
        },
        "1bea3f7f8f684afaa01420e6b3efc1db": {
          "model_module": "@jupyter-widgets/base",
          "model_name": "LayoutModel",
          "model_module_version": "1.2.0",
          "state": {
            "_model_module": "@jupyter-widgets/base",
            "_model_module_version": "1.2.0",
            "_model_name": "LayoutModel",
            "_view_count": null,
            "_view_module": "@jupyter-widgets/base",
            "_view_module_version": "1.2.0",
            "_view_name": "LayoutView",
            "align_content": null,
            "align_items": null,
            "align_self": null,
            "border": null,
            "bottom": null,
            "display": null,
            "flex": null,
            "flex_flow": null,
            "grid_area": null,
            "grid_auto_columns": null,
            "grid_auto_flow": null,
            "grid_auto_rows": null,
            "grid_column": null,
            "grid_gap": null,
            "grid_row": null,
            "grid_template_areas": null,
            "grid_template_columns": null,
            "grid_template_rows": null,
            "height": null,
            "justify_content": null,
            "justify_items": null,
            "left": null,
            "margin": null,
            "max_height": null,
            "max_width": null,
            "min_height": null,
            "min_width": null,
            "object_fit": null,
            "object_position": null,
            "order": null,
            "overflow": null,
            "overflow_x": null,
            "overflow_y": null,
            "padding": null,
            "right": null,
            "top": null,
            "visibility": null,
            "width": null
          }
        },
        "70d7e02df26a4b4b907f9ef606bac796": {
          "model_module": "@jupyter-widgets/controls",
          "model_name": "DescriptionStyleModel",
          "model_module_version": "1.5.0",
          "state": {
            "_model_module": "@jupyter-widgets/controls",
            "_model_module_version": "1.5.0",
            "_model_name": "DescriptionStyleModel",
            "_view_count": null,
            "_view_module": "@jupyter-widgets/base",
            "_view_module_version": "1.2.0",
            "_view_name": "StyleView",
            "description_width": ""
          }
        },
        "1b4493329785477dbeed0a30dc73bde9": {
          "model_module": "@jupyter-widgets/base",
          "model_name": "LayoutModel",
          "model_module_version": "1.2.0",
          "state": {
            "_model_module": "@jupyter-widgets/base",
            "_model_module_version": "1.2.0",
            "_model_name": "LayoutModel",
            "_view_count": null,
            "_view_module": "@jupyter-widgets/base",
            "_view_module_version": "1.2.0",
            "_view_name": "LayoutView",
            "align_content": null,
            "align_items": null,
            "align_self": null,
            "border": null,
            "bottom": null,
            "display": null,
            "flex": null,
            "flex_flow": null,
            "grid_area": null,
            "grid_auto_columns": null,
            "grid_auto_flow": null,
            "grid_auto_rows": null,
            "grid_column": null,
            "grid_gap": null,
            "grid_row": null,
            "grid_template_areas": null,
            "grid_template_columns": null,
            "grid_template_rows": null,
            "height": null,
            "justify_content": null,
            "justify_items": null,
            "left": null,
            "margin": null,
            "max_height": null,
            "max_width": null,
            "min_height": null,
            "min_width": null,
            "object_fit": null,
            "object_position": null,
            "order": null,
            "overflow": null,
            "overflow_x": null,
            "overflow_y": null,
            "padding": null,
            "right": null,
            "top": null,
            "visibility": null,
            "width": null
          }
        },
        "a67a4d085ae44ef8b1c98976e9e6b2f3": {
          "model_module": "@jupyter-widgets/controls",
          "model_name": "ProgressStyleModel",
          "model_module_version": "1.5.0",
          "state": {
            "_model_module": "@jupyter-widgets/controls",
            "_model_module_version": "1.5.0",
            "_model_name": "ProgressStyleModel",
            "_view_count": null,
            "_view_module": "@jupyter-widgets/base",
            "_view_module_version": "1.2.0",
            "_view_name": "StyleView",
            "bar_color": null,
            "description_width": ""
          }
        },
        "92951f95d3f94e919e6b7dcedc651505": {
          "model_module": "@jupyter-widgets/base",
          "model_name": "LayoutModel",
          "model_module_version": "1.2.0",
          "state": {
            "_model_module": "@jupyter-widgets/base",
            "_model_module_version": "1.2.0",
            "_model_name": "LayoutModel",
            "_view_count": null,
            "_view_module": "@jupyter-widgets/base",
            "_view_module_version": "1.2.0",
            "_view_name": "LayoutView",
            "align_content": null,
            "align_items": null,
            "align_self": null,
            "border": null,
            "bottom": null,
            "display": null,
            "flex": null,
            "flex_flow": null,
            "grid_area": null,
            "grid_auto_columns": null,
            "grid_auto_flow": null,
            "grid_auto_rows": null,
            "grid_column": null,
            "grid_gap": null,
            "grid_row": null,
            "grid_template_areas": null,
            "grid_template_columns": null,
            "grid_template_rows": null,
            "height": null,
            "justify_content": null,
            "justify_items": null,
            "left": null,
            "margin": null,
            "max_height": null,
            "max_width": null,
            "min_height": null,
            "min_width": null,
            "object_fit": null,
            "object_position": null,
            "order": null,
            "overflow": null,
            "overflow_x": null,
            "overflow_y": null,
            "padding": null,
            "right": null,
            "top": null,
            "visibility": null,
            "width": null
          }
        },
        "bf16054cd1c9478f93ae8cada7aaa9de": {
          "model_module": "@jupyter-widgets/controls",
          "model_name": "DescriptionStyleModel",
          "model_module_version": "1.5.0",
          "state": {
            "_model_module": "@jupyter-widgets/controls",
            "_model_module_version": "1.5.0",
            "_model_name": "DescriptionStyleModel",
            "_view_count": null,
            "_view_module": "@jupyter-widgets/base",
            "_view_module_version": "1.2.0",
            "_view_name": "StyleView",
            "description_width": ""
          }
        },
        "ef2fb572c728413cac761be08b2485a5": {
          "model_module": "@jupyter-widgets/controls",
          "model_name": "HBoxModel",
          "model_module_version": "1.5.0",
          "state": {
            "_dom_classes": [],
            "_model_module": "@jupyter-widgets/controls",
            "_model_module_version": "1.5.0",
            "_model_name": "HBoxModel",
            "_view_count": null,
            "_view_module": "@jupyter-widgets/controls",
            "_view_module_version": "1.5.0",
            "_view_name": "HBoxView",
            "box_style": "",
            "children": [
              "IPY_MODEL_259f642a47e846559b230e0ae6d33d4b",
              "IPY_MODEL_51f8e77d7b024c77a36fc74bd40de7ed",
              "IPY_MODEL_5538a36fd68b4468af35936e66931cf6"
            ],
            "layout": "IPY_MODEL_61225504c3724cc4b066ba1a2edf4bfc"
          }
        },
        "259f642a47e846559b230e0ae6d33d4b": {
          "model_module": "@jupyter-widgets/controls",
          "model_name": "HTMLModel",
          "model_module_version": "1.5.0",
          "state": {
            "_dom_classes": [],
            "_model_module": "@jupyter-widgets/controls",
            "_model_module_version": "1.5.0",
            "_model_name": "HTMLModel",
            "_view_count": null,
            "_view_module": "@jupyter-widgets/controls",
            "_view_module_version": "1.5.0",
            "_view_name": "HTMLView",
            "description": "",
            "description_tooltip": null,
            "layout": "IPY_MODEL_4171106f488a49feba2240296ec7de1a",
            "placeholder": "​",
            "style": "IPY_MODEL_89e02420183e4b43b119eb0639527b73",
            "value": "Generating train split: 100%"
          }
        },
        "51f8e77d7b024c77a36fc74bd40de7ed": {
          "model_module": "@jupyter-widgets/controls",
          "model_name": "FloatProgressModel",
          "model_module_version": "1.5.0",
          "state": {
            "_dom_classes": [],
            "_model_module": "@jupyter-widgets/controls",
            "_model_module_version": "1.5.0",
            "_model_name": "FloatProgressModel",
            "_view_count": null,
            "_view_module": "@jupyter-widgets/controls",
            "_view_module_version": "1.5.0",
            "_view_name": "ProgressView",
            "bar_style": "success",
            "description": "",
            "description_tooltip": null,
            "layout": "IPY_MODEL_ae09173f63fd4520a542ab683d48bb80",
            "max": 25000,
            "min": 0,
            "orientation": "horizontal",
            "style": "IPY_MODEL_71f76c20613e409aaf6f3c8a3450cac2",
            "value": 25000
          }
        },
        "5538a36fd68b4468af35936e66931cf6": {
          "model_module": "@jupyter-widgets/controls",
          "model_name": "HTMLModel",
          "model_module_version": "1.5.0",
          "state": {
            "_dom_classes": [],
            "_model_module": "@jupyter-widgets/controls",
            "_model_module_version": "1.5.0",
            "_model_name": "HTMLModel",
            "_view_count": null,
            "_view_module": "@jupyter-widgets/controls",
            "_view_module_version": "1.5.0",
            "_view_name": "HTMLView",
            "description": "",
            "description_tooltip": null,
            "layout": "IPY_MODEL_6b5c301420fd47b59abd4d3e1977de63",
            "placeholder": "​",
            "style": "IPY_MODEL_324cbc13f5644e8b89cc5023c85b79ac",
            "value": " 25000/25000 [00:00&lt;00:00, 46716.12 examples/s]"
          }
        },
        "61225504c3724cc4b066ba1a2edf4bfc": {
          "model_module": "@jupyter-widgets/base",
          "model_name": "LayoutModel",
          "model_module_version": "1.2.0",
          "state": {
            "_model_module": "@jupyter-widgets/base",
            "_model_module_version": "1.2.0",
            "_model_name": "LayoutModel",
            "_view_count": null,
            "_view_module": "@jupyter-widgets/base",
            "_view_module_version": "1.2.0",
            "_view_name": "LayoutView",
            "align_content": null,
            "align_items": null,
            "align_self": null,
            "border": null,
            "bottom": null,
            "display": null,
            "flex": null,
            "flex_flow": null,
            "grid_area": null,
            "grid_auto_columns": null,
            "grid_auto_flow": null,
            "grid_auto_rows": null,
            "grid_column": null,
            "grid_gap": null,
            "grid_row": null,
            "grid_template_areas": null,
            "grid_template_columns": null,
            "grid_template_rows": null,
            "height": null,
            "justify_content": null,
            "justify_items": null,
            "left": null,
            "margin": null,
            "max_height": null,
            "max_width": null,
            "min_height": null,
            "min_width": null,
            "object_fit": null,
            "object_position": null,
            "order": null,
            "overflow": null,
            "overflow_x": null,
            "overflow_y": null,
            "padding": null,
            "right": null,
            "top": null,
            "visibility": null,
            "width": null
          }
        },
        "4171106f488a49feba2240296ec7de1a": {
          "model_module": "@jupyter-widgets/base",
          "model_name": "LayoutModel",
          "model_module_version": "1.2.0",
          "state": {
            "_model_module": "@jupyter-widgets/base",
            "_model_module_version": "1.2.0",
            "_model_name": "LayoutModel",
            "_view_count": null,
            "_view_module": "@jupyter-widgets/base",
            "_view_module_version": "1.2.0",
            "_view_name": "LayoutView",
            "align_content": null,
            "align_items": null,
            "align_self": null,
            "border": null,
            "bottom": null,
            "display": null,
            "flex": null,
            "flex_flow": null,
            "grid_area": null,
            "grid_auto_columns": null,
            "grid_auto_flow": null,
            "grid_auto_rows": null,
            "grid_column": null,
            "grid_gap": null,
            "grid_row": null,
            "grid_template_areas": null,
            "grid_template_columns": null,
            "grid_template_rows": null,
            "height": null,
            "justify_content": null,
            "justify_items": null,
            "left": null,
            "margin": null,
            "max_height": null,
            "max_width": null,
            "min_height": null,
            "min_width": null,
            "object_fit": null,
            "object_position": null,
            "order": null,
            "overflow": null,
            "overflow_x": null,
            "overflow_y": null,
            "padding": null,
            "right": null,
            "top": null,
            "visibility": null,
            "width": null
          }
        },
        "89e02420183e4b43b119eb0639527b73": {
          "model_module": "@jupyter-widgets/controls",
          "model_name": "DescriptionStyleModel",
          "model_module_version": "1.5.0",
          "state": {
            "_model_module": "@jupyter-widgets/controls",
            "_model_module_version": "1.5.0",
            "_model_name": "DescriptionStyleModel",
            "_view_count": null,
            "_view_module": "@jupyter-widgets/base",
            "_view_module_version": "1.2.0",
            "_view_name": "StyleView",
            "description_width": ""
          }
        },
        "ae09173f63fd4520a542ab683d48bb80": {
          "model_module": "@jupyter-widgets/base",
          "model_name": "LayoutModel",
          "model_module_version": "1.2.0",
          "state": {
            "_model_module": "@jupyter-widgets/base",
            "_model_module_version": "1.2.0",
            "_model_name": "LayoutModel",
            "_view_count": null,
            "_view_module": "@jupyter-widgets/base",
            "_view_module_version": "1.2.0",
            "_view_name": "LayoutView",
            "align_content": null,
            "align_items": null,
            "align_self": null,
            "border": null,
            "bottom": null,
            "display": null,
            "flex": null,
            "flex_flow": null,
            "grid_area": null,
            "grid_auto_columns": null,
            "grid_auto_flow": null,
            "grid_auto_rows": null,
            "grid_column": null,
            "grid_gap": null,
            "grid_row": null,
            "grid_template_areas": null,
            "grid_template_columns": null,
            "grid_template_rows": null,
            "height": null,
            "justify_content": null,
            "justify_items": null,
            "left": null,
            "margin": null,
            "max_height": null,
            "max_width": null,
            "min_height": null,
            "min_width": null,
            "object_fit": null,
            "object_position": null,
            "order": null,
            "overflow": null,
            "overflow_x": null,
            "overflow_y": null,
            "padding": null,
            "right": null,
            "top": null,
            "visibility": null,
            "width": null
          }
        },
        "71f76c20613e409aaf6f3c8a3450cac2": {
          "model_module": "@jupyter-widgets/controls",
          "model_name": "ProgressStyleModel",
          "model_module_version": "1.5.0",
          "state": {
            "_model_module": "@jupyter-widgets/controls",
            "_model_module_version": "1.5.0",
            "_model_name": "ProgressStyleModel",
            "_view_count": null,
            "_view_module": "@jupyter-widgets/base",
            "_view_module_version": "1.2.0",
            "_view_name": "StyleView",
            "bar_color": null,
            "description_width": ""
          }
        },
        "6b5c301420fd47b59abd4d3e1977de63": {
          "model_module": "@jupyter-widgets/base",
          "model_name": "LayoutModel",
          "model_module_version": "1.2.0",
          "state": {
            "_model_module": "@jupyter-widgets/base",
            "_model_module_version": "1.2.0",
            "_model_name": "LayoutModel",
            "_view_count": null,
            "_view_module": "@jupyter-widgets/base",
            "_view_module_version": "1.2.0",
            "_view_name": "LayoutView",
            "align_content": null,
            "align_items": null,
            "align_self": null,
            "border": null,
            "bottom": null,
            "display": null,
            "flex": null,
            "flex_flow": null,
            "grid_area": null,
            "grid_auto_columns": null,
            "grid_auto_flow": null,
            "grid_auto_rows": null,
            "grid_column": null,
            "grid_gap": null,
            "grid_row": null,
            "grid_template_areas": null,
            "grid_template_columns": null,
            "grid_template_rows": null,
            "height": null,
            "justify_content": null,
            "justify_items": null,
            "left": null,
            "margin": null,
            "max_height": null,
            "max_width": null,
            "min_height": null,
            "min_width": null,
            "object_fit": null,
            "object_position": null,
            "order": null,
            "overflow": null,
            "overflow_x": null,
            "overflow_y": null,
            "padding": null,
            "right": null,
            "top": null,
            "visibility": null,
            "width": null
          }
        },
        "324cbc13f5644e8b89cc5023c85b79ac": {
          "model_module": "@jupyter-widgets/controls",
          "model_name": "DescriptionStyleModel",
          "model_module_version": "1.5.0",
          "state": {
            "_model_module": "@jupyter-widgets/controls",
            "_model_module_version": "1.5.0",
            "_model_name": "DescriptionStyleModel",
            "_view_count": null,
            "_view_module": "@jupyter-widgets/base",
            "_view_module_version": "1.2.0",
            "_view_name": "StyleView",
            "description_width": ""
          }
        },
        "31b287b857204559bbeea5fb94dbd5d6": {
          "model_module": "@jupyter-widgets/controls",
          "model_name": "HBoxModel",
          "model_module_version": "1.5.0",
          "state": {
            "_dom_classes": [],
            "_model_module": "@jupyter-widgets/controls",
            "_model_module_version": "1.5.0",
            "_model_name": "HBoxModel",
            "_view_count": null,
            "_view_module": "@jupyter-widgets/controls",
            "_view_module_version": "1.5.0",
            "_view_name": "HBoxView",
            "box_style": "",
            "children": [
              "IPY_MODEL_e938b1de1ad04a2a8ea86b4f2ba4d375",
              "IPY_MODEL_a9212cc010c84a75a2c87ce37430f2a4",
              "IPY_MODEL_9930481e76924598824fc8da2f0ff644"
            ],
            "layout": "IPY_MODEL_c2c8381ec59c471383238c5bc9b3e17f"
          }
        },
        "e938b1de1ad04a2a8ea86b4f2ba4d375": {
          "model_module": "@jupyter-widgets/controls",
          "model_name": "HTMLModel",
          "model_module_version": "1.5.0",
          "state": {
            "_dom_classes": [],
            "_model_module": "@jupyter-widgets/controls",
            "_model_module_version": "1.5.0",
            "_model_name": "HTMLModel",
            "_view_count": null,
            "_view_module": "@jupyter-widgets/controls",
            "_view_module_version": "1.5.0",
            "_view_name": "HTMLView",
            "description": "",
            "description_tooltip": null,
            "layout": "IPY_MODEL_6a10d316e19d49e8bb903339c11db06f",
            "placeholder": "​",
            "style": "IPY_MODEL_c387b15f220c4b1aa1a98f490f2c114d",
            "value": "Generating test split: 100%"
          }
        },
        "a9212cc010c84a75a2c87ce37430f2a4": {
          "model_module": "@jupyter-widgets/controls",
          "model_name": "FloatProgressModel",
          "model_module_version": "1.5.0",
          "state": {
            "_dom_classes": [],
            "_model_module": "@jupyter-widgets/controls",
            "_model_module_version": "1.5.0",
            "_model_name": "FloatProgressModel",
            "_view_count": null,
            "_view_module": "@jupyter-widgets/controls",
            "_view_module_version": "1.5.0",
            "_view_name": "ProgressView",
            "bar_style": "success",
            "description": "",
            "description_tooltip": null,
            "layout": "IPY_MODEL_4d2497e0c88346b58c59340688052c35",
            "max": 25000,
            "min": 0,
            "orientation": "horizontal",
            "style": "IPY_MODEL_e91df60e78244434bb6f5dda18181c95",
            "value": 25000
          }
        },
        "9930481e76924598824fc8da2f0ff644": {
          "model_module": "@jupyter-widgets/controls",
          "model_name": "HTMLModel",
          "model_module_version": "1.5.0",
          "state": {
            "_dom_classes": [],
            "_model_module": "@jupyter-widgets/controls",
            "_model_module_version": "1.5.0",
            "_model_name": "HTMLModel",
            "_view_count": null,
            "_view_module": "@jupyter-widgets/controls",
            "_view_module_version": "1.5.0",
            "_view_name": "HTMLView",
            "description": "",
            "description_tooltip": null,
            "layout": "IPY_MODEL_5e351f3b2f6a41b6b0825fd33b92da5e",
            "placeholder": "​",
            "style": "IPY_MODEL_069a7286228543db9328f6d71095a8b7",
            "value": " 25000/25000 [00:00&lt;00:00, 72742.10 examples/s]"
          }
        },
        "c2c8381ec59c471383238c5bc9b3e17f": {
          "model_module": "@jupyter-widgets/base",
          "model_name": "LayoutModel",
          "model_module_version": "1.2.0",
          "state": {
            "_model_module": "@jupyter-widgets/base",
            "_model_module_version": "1.2.0",
            "_model_name": "LayoutModel",
            "_view_count": null,
            "_view_module": "@jupyter-widgets/base",
            "_view_module_version": "1.2.0",
            "_view_name": "LayoutView",
            "align_content": null,
            "align_items": null,
            "align_self": null,
            "border": null,
            "bottom": null,
            "display": null,
            "flex": null,
            "flex_flow": null,
            "grid_area": null,
            "grid_auto_columns": null,
            "grid_auto_flow": null,
            "grid_auto_rows": null,
            "grid_column": null,
            "grid_gap": null,
            "grid_row": null,
            "grid_template_areas": null,
            "grid_template_columns": null,
            "grid_template_rows": null,
            "height": null,
            "justify_content": null,
            "justify_items": null,
            "left": null,
            "margin": null,
            "max_height": null,
            "max_width": null,
            "min_height": null,
            "min_width": null,
            "object_fit": null,
            "object_position": null,
            "order": null,
            "overflow": null,
            "overflow_x": null,
            "overflow_y": null,
            "padding": null,
            "right": null,
            "top": null,
            "visibility": null,
            "width": null
          }
        },
        "6a10d316e19d49e8bb903339c11db06f": {
          "model_module": "@jupyter-widgets/base",
          "model_name": "LayoutModel",
          "model_module_version": "1.2.0",
          "state": {
            "_model_module": "@jupyter-widgets/base",
            "_model_module_version": "1.2.0",
            "_model_name": "LayoutModel",
            "_view_count": null,
            "_view_module": "@jupyter-widgets/base",
            "_view_module_version": "1.2.0",
            "_view_name": "LayoutView",
            "align_content": null,
            "align_items": null,
            "align_self": null,
            "border": null,
            "bottom": null,
            "display": null,
            "flex": null,
            "flex_flow": null,
            "grid_area": null,
            "grid_auto_columns": null,
            "grid_auto_flow": null,
            "grid_auto_rows": null,
            "grid_column": null,
            "grid_gap": null,
            "grid_row": null,
            "grid_template_areas": null,
            "grid_template_columns": null,
            "grid_template_rows": null,
            "height": null,
            "justify_content": null,
            "justify_items": null,
            "left": null,
            "margin": null,
            "max_height": null,
            "max_width": null,
            "min_height": null,
            "min_width": null,
            "object_fit": null,
            "object_position": null,
            "order": null,
            "overflow": null,
            "overflow_x": null,
            "overflow_y": null,
            "padding": null,
            "right": null,
            "top": null,
            "visibility": null,
            "width": null
          }
        },
        "c387b15f220c4b1aa1a98f490f2c114d": {
          "model_module": "@jupyter-widgets/controls",
          "model_name": "DescriptionStyleModel",
          "model_module_version": "1.5.0",
          "state": {
            "_model_module": "@jupyter-widgets/controls",
            "_model_module_version": "1.5.0",
            "_model_name": "DescriptionStyleModel",
            "_view_count": null,
            "_view_module": "@jupyter-widgets/base",
            "_view_module_version": "1.2.0",
            "_view_name": "StyleView",
            "description_width": ""
          }
        },
        "4d2497e0c88346b58c59340688052c35": {
          "model_module": "@jupyter-widgets/base",
          "model_name": "LayoutModel",
          "model_module_version": "1.2.0",
          "state": {
            "_model_module": "@jupyter-widgets/base",
            "_model_module_version": "1.2.0",
            "_model_name": "LayoutModel",
            "_view_count": null,
            "_view_module": "@jupyter-widgets/base",
            "_view_module_version": "1.2.0",
            "_view_name": "LayoutView",
            "align_content": null,
            "align_items": null,
            "align_self": null,
            "border": null,
            "bottom": null,
            "display": null,
            "flex": null,
            "flex_flow": null,
            "grid_area": null,
            "grid_auto_columns": null,
            "grid_auto_flow": null,
            "grid_auto_rows": null,
            "grid_column": null,
            "grid_gap": null,
            "grid_row": null,
            "grid_template_areas": null,
            "grid_template_columns": null,
            "grid_template_rows": null,
            "height": null,
            "justify_content": null,
            "justify_items": null,
            "left": null,
            "margin": null,
            "max_height": null,
            "max_width": null,
            "min_height": null,
            "min_width": null,
            "object_fit": null,
            "object_position": null,
            "order": null,
            "overflow": null,
            "overflow_x": null,
            "overflow_y": null,
            "padding": null,
            "right": null,
            "top": null,
            "visibility": null,
            "width": null
          }
        },
        "e91df60e78244434bb6f5dda18181c95": {
          "model_module": "@jupyter-widgets/controls",
          "model_name": "ProgressStyleModel",
          "model_module_version": "1.5.0",
          "state": {
            "_model_module": "@jupyter-widgets/controls",
            "_model_module_version": "1.5.0",
            "_model_name": "ProgressStyleModel",
            "_view_count": null,
            "_view_module": "@jupyter-widgets/base",
            "_view_module_version": "1.2.0",
            "_view_name": "StyleView",
            "bar_color": null,
            "description_width": ""
          }
        },
        "5e351f3b2f6a41b6b0825fd33b92da5e": {
          "model_module": "@jupyter-widgets/base",
          "model_name": "LayoutModel",
          "model_module_version": "1.2.0",
          "state": {
            "_model_module": "@jupyter-widgets/base",
            "_model_module_version": "1.2.0",
            "_model_name": "LayoutModel",
            "_view_count": null,
            "_view_module": "@jupyter-widgets/base",
            "_view_module_version": "1.2.0",
            "_view_name": "LayoutView",
            "align_content": null,
            "align_items": null,
            "align_self": null,
            "border": null,
            "bottom": null,
            "display": null,
            "flex": null,
            "flex_flow": null,
            "grid_area": null,
            "grid_auto_columns": null,
            "grid_auto_flow": null,
            "grid_auto_rows": null,
            "grid_column": null,
            "grid_gap": null,
            "grid_row": null,
            "grid_template_areas": null,
            "grid_template_columns": null,
            "grid_template_rows": null,
            "height": null,
            "justify_content": null,
            "justify_items": null,
            "left": null,
            "margin": null,
            "max_height": null,
            "max_width": null,
            "min_height": null,
            "min_width": null,
            "object_fit": null,
            "object_position": null,
            "order": null,
            "overflow": null,
            "overflow_x": null,
            "overflow_y": null,
            "padding": null,
            "right": null,
            "top": null,
            "visibility": null,
            "width": null
          }
        },
        "069a7286228543db9328f6d71095a8b7": {
          "model_module": "@jupyter-widgets/controls",
          "model_name": "DescriptionStyleModel",
          "model_module_version": "1.5.0",
          "state": {
            "_model_module": "@jupyter-widgets/controls",
            "_model_module_version": "1.5.0",
            "_model_name": "DescriptionStyleModel",
            "_view_count": null,
            "_view_module": "@jupyter-widgets/base",
            "_view_module_version": "1.2.0",
            "_view_name": "StyleView",
            "description_width": ""
          }
        },
        "b96bc4cecf8346ad94c43bc20d788819": {
          "model_module": "@jupyter-widgets/controls",
          "model_name": "HBoxModel",
          "model_module_version": "1.5.0",
          "state": {
            "_dom_classes": [],
            "_model_module": "@jupyter-widgets/controls",
            "_model_module_version": "1.5.0",
            "_model_name": "HBoxModel",
            "_view_count": null,
            "_view_module": "@jupyter-widgets/controls",
            "_view_module_version": "1.5.0",
            "_view_name": "HBoxView",
            "box_style": "",
            "children": [
              "IPY_MODEL_7eb72ef8294d4a248b2918f9e1332722",
              "IPY_MODEL_26b9af4d9c2948b8a9cf26eb3e3749c0",
              "IPY_MODEL_8543d3aa46c04a70a68eddc6fea44382"
            ],
            "layout": "IPY_MODEL_25f443296da744f68774532d80637dd9"
          }
        },
        "7eb72ef8294d4a248b2918f9e1332722": {
          "model_module": "@jupyter-widgets/controls",
          "model_name": "HTMLModel",
          "model_module_version": "1.5.0",
          "state": {
            "_dom_classes": [],
            "_model_module": "@jupyter-widgets/controls",
            "_model_module_version": "1.5.0",
            "_model_name": "HTMLModel",
            "_view_count": null,
            "_view_module": "@jupyter-widgets/controls",
            "_view_module_version": "1.5.0",
            "_view_name": "HTMLView",
            "description": "",
            "description_tooltip": null,
            "layout": "IPY_MODEL_7f512267b4dd4af794adcbcef08cad1d",
            "placeholder": "​",
            "style": "IPY_MODEL_37838c0cb8864f4b8ca00979724d1d7a",
            "value": "Generating unsupervised split: 100%"
          }
        },
        "26b9af4d9c2948b8a9cf26eb3e3749c0": {
          "model_module": "@jupyter-widgets/controls",
          "model_name": "FloatProgressModel",
          "model_module_version": "1.5.0",
          "state": {
            "_dom_classes": [],
            "_model_module": "@jupyter-widgets/controls",
            "_model_module_version": "1.5.0",
            "_model_name": "FloatProgressModel",
            "_view_count": null,
            "_view_module": "@jupyter-widgets/controls",
            "_view_module_version": "1.5.0",
            "_view_name": "ProgressView",
            "bar_style": "success",
            "description": "",
            "description_tooltip": null,
            "layout": "IPY_MODEL_7c3ebde45b394bd2881e8f6fca591fd3",
            "max": 50000,
            "min": 0,
            "orientation": "horizontal",
            "style": "IPY_MODEL_da85170024e94953aca8c88c9db0178f",
            "value": 50000
          }
        },
        "8543d3aa46c04a70a68eddc6fea44382": {
          "model_module": "@jupyter-widgets/controls",
          "model_name": "HTMLModel",
          "model_module_version": "1.5.0",
          "state": {
            "_dom_classes": [],
            "_model_module": "@jupyter-widgets/controls",
            "_model_module_version": "1.5.0",
            "_model_name": "HTMLModel",
            "_view_count": null,
            "_view_module": "@jupyter-widgets/controls",
            "_view_module_version": "1.5.0",
            "_view_name": "HTMLView",
            "description": "",
            "description_tooltip": null,
            "layout": "IPY_MODEL_9723574f0a7f43089aa8e9f4d06452d5",
            "placeholder": "​",
            "style": "IPY_MODEL_8c5a38eca285434b8593b3c368318902",
            "value": " 50000/50000 [00:00&lt;00:00, 62608.74 examples/s]"
          }
        },
        "25f443296da744f68774532d80637dd9": {
          "model_module": "@jupyter-widgets/base",
          "model_name": "LayoutModel",
          "model_module_version": "1.2.0",
          "state": {
            "_model_module": "@jupyter-widgets/base",
            "_model_module_version": "1.2.0",
            "_model_name": "LayoutModel",
            "_view_count": null,
            "_view_module": "@jupyter-widgets/base",
            "_view_module_version": "1.2.0",
            "_view_name": "LayoutView",
            "align_content": null,
            "align_items": null,
            "align_self": null,
            "border": null,
            "bottom": null,
            "display": null,
            "flex": null,
            "flex_flow": null,
            "grid_area": null,
            "grid_auto_columns": null,
            "grid_auto_flow": null,
            "grid_auto_rows": null,
            "grid_column": null,
            "grid_gap": null,
            "grid_row": null,
            "grid_template_areas": null,
            "grid_template_columns": null,
            "grid_template_rows": null,
            "height": null,
            "justify_content": null,
            "justify_items": null,
            "left": null,
            "margin": null,
            "max_height": null,
            "max_width": null,
            "min_height": null,
            "min_width": null,
            "object_fit": null,
            "object_position": null,
            "order": null,
            "overflow": null,
            "overflow_x": null,
            "overflow_y": null,
            "padding": null,
            "right": null,
            "top": null,
            "visibility": null,
            "width": null
          }
        },
        "7f512267b4dd4af794adcbcef08cad1d": {
          "model_module": "@jupyter-widgets/base",
          "model_name": "LayoutModel",
          "model_module_version": "1.2.0",
          "state": {
            "_model_module": "@jupyter-widgets/base",
            "_model_module_version": "1.2.0",
            "_model_name": "LayoutModel",
            "_view_count": null,
            "_view_module": "@jupyter-widgets/base",
            "_view_module_version": "1.2.0",
            "_view_name": "LayoutView",
            "align_content": null,
            "align_items": null,
            "align_self": null,
            "border": null,
            "bottom": null,
            "display": null,
            "flex": null,
            "flex_flow": null,
            "grid_area": null,
            "grid_auto_columns": null,
            "grid_auto_flow": null,
            "grid_auto_rows": null,
            "grid_column": null,
            "grid_gap": null,
            "grid_row": null,
            "grid_template_areas": null,
            "grid_template_columns": null,
            "grid_template_rows": null,
            "height": null,
            "justify_content": null,
            "justify_items": null,
            "left": null,
            "margin": null,
            "max_height": null,
            "max_width": null,
            "min_height": null,
            "min_width": null,
            "object_fit": null,
            "object_position": null,
            "order": null,
            "overflow": null,
            "overflow_x": null,
            "overflow_y": null,
            "padding": null,
            "right": null,
            "top": null,
            "visibility": null,
            "width": null
          }
        },
        "37838c0cb8864f4b8ca00979724d1d7a": {
          "model_module": "@jupyter-widgets/controls",
          "model_name": "DescriptionStyleModel",
          "model_module_version": "1.5.0",
          "state": {
            "_model_module": "@jupyter-widgets/controls",
            "_model_module_version": "1.5.0",
            "_model_name": "DescriptionStyleModel",
            "_view_count": null,
            "_view_module": "@jupyter-widgets/base",
            "_view_module_version": "1.2.0",
            "_view_name": "StyleView",
            "description_width": ""
          }
        },
        "7c3ebde45b394bd2881e8f6fca591fd3": {
          "model_module": "@jupyter-widgets/base",
          "model_name": "LayoutModel",
          "model_module_version": "1.2.0",
          "state": {
            "_model_module": "@jupyter-widgets/base",
            "_model_module_version": "1.2.0",
            "_model_name": "LayoutModel",
            "_view_count": null,
            "_view_module": "@jupyter-widgets/base",
            "_view_module_version": "1.2.0",
            "_view_name": "LayoutView",
            "align_content": null,
            "align_items": null,
            "align_self": null,
            "border": null,
            "bottom": null,
            "display": null,
            "flex": null,
            "flex_flow": null,
            "grid_area": null,
            "grid_auto_columns": null,
            "grid_auto_flow": null,
            "grid_auto_rows": null,
            "grid_column": null,
            "grid_gap": null,
            "grid_row": null,
            "grid_template_areas": null,
            "grid_template_columns": null,
            "grid_template_rows": null,
            "height": null,
            "justify_content": null,
            "justify_items": null,
            "left": null,
            "margin": null,
            "max_height": null,
            "max_width": null,
            "min_height": null,
            "min_width": null,
            "object_fit": null,
            "object_position": null,
            "order": null,
            "overflow": null,
            "overflow_x": null,
            "overflow_y": null,
            "padding": null,
            "right": null,
            "top": null,
            "visibility": null,
            "width": null
          }
        },
        "da85170024e94953aca8c88c9db0178f": {
          "model_module": "@jupyter-widgets/controls",
          "model_name": "ProgressStyleModel",
          "model_module_version": "1.5.0",
          "state": {
            "_model_module": "@jupyter-widgets/controls",
            "_model_module_version": "1.5.0",
            "_model_name": "ProgressStyleModel",
            "_view_count": null,
            "_view_module": "@jupyter-widgets/base",
            "_view_module_version": "1.2.0",
            "_view_name": "StyleView",
            "bar_color": null,
            "description_width": ""
          }
        },
        "9723574f0a7f43089aa8e9f4d06452d5": {
          "model_module": "@jupyter-widgets/base",
          "model_name": "LayoutModel",
          "model_module_version": "1.2.0",
          "state": {
            "_model_module": "@jupyter-widgets/base",
            "_model_module_version": "1.2.0",
            "_model_name": "LayoutModel",
            "_view_count": null,
            "_view_module": "@jupyter-widgets/base",
            "_view_module_version": "1.2.0",
            "_view_name": "LayoutView",
            "align_content": null,
            "align_items": null,
            "align_self": null,
            "border": null,
            "bottom": null,
            "display": null,
            "flex": null,
            "flex_flow": null,
            "grid_area": null,
            "grid_auto_columns": null,
            "grid_auto_flow": null,
            "grid_auto_rows": null,
            "grid_column": null,
            "grid_gap": null,
            "grid_row": null,
            "grid_template_areas": null,
            "grid_template_columns": null,
            "grid_template_rows": null,
            "height": null,
            "justify_content": null,
            "justify_items": null,
            "left": null,
            "margin": null,
            "max_height": null,
            "max_width": null,
            "min_height": null,
            "min_width": null,
            "object_fit": null,
            "object_position": null,
            "order": null,
            "overflow": null,
            "overflow_x": null,
            "overflow_y": null,
            "padding": null,
            "right": null,
            "top": null,
            "visibility": null,
            "width": null
          }
        },
        "8c5a38eca285434b8593b3c368318902": {
          "model_module": "@jupyter-widgets/controls",
          "model_name": "DescriptionStyleModel",
          "model_module_version": "1.5.0",
          "state": {
            "_model_module": "@jupyter-widgets/controls",
            "_model_module_version": "1.5.0",
            "_model_name": "DescriptionStyleModel",
            "_view_count": null,
            "_view_module": "@jupyter-widgets/base",
            "_view_module_version": "1.2.0",
            "_view_name": "StyleView",
            "description_width": ""
          }
        },
        "5ee2ec85e3a7463fbbc53c1f8d28c2e0": {
          "model_module": "@jupyter-widgets/controls",
          "model_name": "HBoxModel",
          "model_module_version": "1.5.0",
          "state": {
            "_dom_classes": [],
            "_model_module": "@jupyter-widgets/controls",
            "_model_module_version": "1.5.0",
            "_model_name": "HBoxModel",
            "_view_count": null,
            "_view_module": "@jupyter-widgets/controls",
            "_view_module_version": "1.5.0",
            "_view_name": "HBoxView",
            "box_style": "",
            "children": [
              "IPY_MODEL_f18ef93d709e4b9a87f3da812e006480",
              "IPY_MODEL_9f5eafd1c879435893dd0bc629ba3aba",
              "IPY_MODEL_c40efb222be248f1bca5f5dacaaf3b8c"
            ],
            "layout": "IPY_MODEL_7e452ef372b74000bfe62eaca3d030ca"
          }
        },
        "f18ef93d709e4b9a87f3da812e006480": {
          "model_module": "@jupyter-widgets/controls",
          "model_name": "HTMLModel",
          "model_module_version": "1.5.0",
          "state": {
            "_dom_classes": [],
            "_model_module": "@jupyter-widgets/controls",
            "_model_module_version": "1.5.0",
            "_model_name": "HTMLModel",
            "_view_count": null,
            "_view_module": "@jupyter-widgets/controls",
            "_view_module_version": "1.5.0",
            "_view_name": "HTMLView",
            "description": "",
            "description_tooltip": null,
            "layout": "IPY_MODEL_2a9bb9bc9e064c0788eee5030856c1c9",
            "placeholder": "​",
            "style": "IPY_MODEL_47cec584c7bd462aae019cb72d03e56c",
            "value": ""
          }
        },
        "9f5eafd1c879435893dd0bc629ba3aba": {
          "model_module": "@jupyter-widgets/controls",
          "model_name": "FloatProgressModel",
          "model_module_version": "1.5.0",
          "state": {
            "_dom_classes": [],
            "_model_module": "@jupyter-widgets/controls",
            "_model_module_version": "1.5.0",
            "_model_name": "FloatProgressModel",
            "_view_count": null,
            "_view_module": "@jupyter-widgets/controls",
            "_view_module_version": "1.5.0",
            "_view_name": "ProgressView",
            "bar_style": "success",
            "description": "",
            "description_tooltip": null,
            "layout": "IPY_MODEL_9aea421d0eed47838232ede0bdb04156",
            "max": 1,
            "min": 0,
            "orientation": "horizontal",
            "style": "IPY_MODEL_2c979611e0714cf59c05560e8090f2bb",
            "value": 0
          }
        },
        "c40efb222be248f1bca5f5dacaaf3b8c": {
          "model_module": "@jupyter-widgets/controls",
          "model_name": "HTMLModel",
          "model_module_version": "1.5.0",
          "state": {
            "_dom_classes": [],
            "_model_module": "@jupyter-widgets/controls",
            "_model_module_version": "1.5.0",
            "_model_name": "HTMLModel",
            "_view_count": null,
            "_view_module": "@jupyter-widgets/controls",
            "_view_module_version": "1.5.0",
            "_view_name": "HTMLView",
            "description": "",
            "description_tooltip": null,
            "layout": "IPY_MODEL_c30beb1aed504cc1933c09be931b9467",
            "placeholder": "​",
            "style": "IPY_MODEL_f7095aed601e4b65bf33294872903e27",
            "value": " 0/0 [00:00&lt;?, ?it/s]"
          }
        },
        "7e452ef372b74000bfe62eaca3d030ca": {
          "model_module": "@jupyter-widgets/base",
          "model_name": "LayoutModel",
          "model_module_version": "1.2.0",
          "state": {
            "_model_module": "@jupyter-widgets/base",
            "_model_module_version": "1.2.0",
            "_model_name": "LayoutModel",
            "_view_count": null,
            "_view_module": "@jupyter-widgets/base",
            "_view_module_version": "1.2.0",
            "_view_name": "LayoutView",
            "align_content": null,
            "align_items": null,
            "align_self": null,
            "border": null,
            "bottom": null,
            "display": null,
            "flex": null,
            "flex_flow": null,
            "grid_area": null,
            "grid_auto_columns": null,
            "grid_auto_flow": null,
            "grid_auto_rows": null,
            "grid_column": null,
            "grid_gap": null,
            "grid_row": null,
            "grid_template_areas": null,
            "grid_template_columns": null,
            "grid_template_rows": null,
            "height": null,
            "justify_content": null,
            "justify_items": null,
            "left": null,
            "margin": null,
            "max_height": null,
            "max_width": null,
            "min_height": null,
            "min_width": null,
            "object_fit": null,
            "object_position": null,
            "order": null,
            "overflow": null,
            "overflow_x": null,
            "overflow_y": null,
            "padding": null,
            "right": null,
            "top": null,
            "visibility": null,
            "width": null
          }
        },
        "2a9bb9bc9e064c0788eee5030856c1c9": {
          "model_module": "@jupyter-widgets/base",
          "model_name": "LayoutModel",
          "model_module_version": "1.2.0",
          "state": {
            "_model_module": "@jupyter-widgets/base",
            "_model_module_version": "1.2.0",
            "_model_name": "LayoutModel",
            "_view_count": null,
            "_view_module": "@jupyter-widgets/base",
            "_view_module_version": "1.2.0",
            "_view_name": "LayoutView",
            "align_content": null,
            "align_items": null,
            "align_self": null,
            "border": null,
            "bottom": null,
            "display": null,
            "flex": null,
            "flex_flow": null,
            "grid_area": null,
            "grid_auto_columns": null,
            "grid_auto_flow": null,
            "grid_auto_rows": null,
            "grid_column": null,
            "grid_gap": null,
            "grid_row": null,
            "grid_template_areas": null,
            "grid_template_columns": null,
            "grid_template_rows": null,
            "height": null,
            "justify_content": null,
            "justify_items": null,
            "left": null,
            "margin": null,
            "max_height": null,
            "max_width": null,
            "min_height": null,
            "min_width": null,
            "object_fit": null,
            "object_position": null,
            "order": null,
            "overflow": null,
            "overflow_x": null,
            "overflow_y": null,
            "padding": null,
            "right": null,
            "top": null,
            "visibility": null,
            "width": null
          }
        },
        "47cec584c7bd462aae019cb72d03e56c": {
          "model_module": "@jupyter-widgets/controls",
          "model_name": "DescriptionStyleModel",
          "model_module_version": "1.5.0",
          "state": {
            "_model_module": "@jupyter-widgets/controls",
            "_model_module_version": "1.5.0",
            "_model_name": "DescriptionStyleModel",
            "_view_count": null,
            "_view_module": "@jupyter-widgets/base",
            "_view_module_version": "1.2.0",
            "_view_name": "StyleView",
            "description_width": ""
          }
        },
        "9aea421d0eed47838232ede0bdb04156": {
          "model_module": "@jupyter-widgets/base",
          "model_name": "LayoutModel",
          "model_module_version": "1.2.0",
          "state": {
            "_model_module": "@jupyter-widgets/base",
            "_model_module_version": "1.2.0",
            "_model_name": "LayoutModel",
            "_view_count": null,
            "_view_module": "@jupyter-widgets/base",
            "_view_module_version": "1.2.0",
            "_view_name": "LayoutView",
            "align_content": null,
            "align_items": null,
            "align_self": null,
            "border": null,
            "bottom": null,
            "display": null,
            "flex": null,
            "flex_flow": null,
            "grid_area": null,
            "grid_auto_columns": null,
            "grid_auto_flow": null,
            "grid_auto_rows": null,
            "grid_column": null,
            "grid_gap": null,
            "grid_row": null,
            "grid_template_areas": null,
            "grid_template_columns": null,
            "grid_template_rows": null,
            "height": null,
            "justify_content": null,
            "justify_items": null,
            "left": null,
            "margin": null,
            "max_height": null,
            "max_width": null,
            "min_height": null,
            "min_width": null,
            "object_fit": null,
            "object_position": null,
            "order": null,
            "overflow": null,
            "overflow_x": null,
            "overflow_y": null,
            "padding": null,
            "right": null,
            "top": null,
            "visibility": null,
            "width": "20px"
          }
        },
        "2c979611e0714cf59c05560e8090f2bb": {
          "model_module": "@jupyter-widgets/controls",
          "model_name": "ProgressStyleModel",
          "model_module_version": "1.5.0",
          "state": {
            "_model_module": "@jupyter-widgets/controls",
            "_model_module_version": "1.5.0",
            "_model_name": "ProgressStyleModel",
            "_view_count": null,
            "_view_module": "@jupyter-widgets/base",
            "_view_module_version": "1.2.0",
            "_view_name": "StyleView",
            "bar_color": null,
            "description_width": ""
          }
        },
        "c30beb1aed504cc1933c09be931b9467": {
          "model_module": "@jupyter-widgets/base",
          "model_name": "LayoutModel",
          "model_module_version": "1.2.0",
          "state": {
            "_model_module": "@jupyter-widgets/base",
            "_model_module_version": "1.2.0",
            "_model_name": "LayoutModel",
            "_view_count": null,
            "_view_module": "@jupyter-widgets/base",
            "_view_module_version": "1.2.0",
            "_view_name": "LayoutView",
            "align_content": null,
            "align_items": null,
            "align_self": null,
            "border": null,
            "bottom": null,
            "display": null,
            "flex": null,
            "flex_flow": null,
            "grid_area": null,
            "grid_auto_columns": null,
            "grid_auto_flow": null,
            "grid_auto_rows": null,
            "grid_column": null,
            "grid_gap": null,
            "grid_row": null,
            "grid_template_areas": null,
            "grid_template_columns": null,
            "grid_template_rows": null,
            "height": null,
            "justify_content": null,
            "justify_items": null,
            "left": null,
            "margin": null,
            "max_height": null,
            "max_width": null,
            "min_height": null,
            "min_width": null,
            "object_fit": null,
            "object_position": null,
            "order": null,
            "overflow": null,
            "overflow_x": null,
            "overflow_y": null,
            "padding": null,
            "right": null,
            "top": null,
            "visibility": null,
            "width": null
          }
        },
        "f7095aed601e4b65bf33294872903e27": {
          "model_module": "@jupyter-widgets/controls",
          "model_name": "DescriptionStyleModel",
          "model_module_version": "1.5.0",
          "state": {
            "_model_module": "@jupyter-widgets/controls",
            "_model_module_version": "1.5.0",
            "_model_name": "DescriptionStyleModel",
            "_view_count": null,
            "_view_module": "@jupyter-widgets/base",
            "_view_module_version": "1.2.0",
            "_view_name": "StyleView",
            "description_width": ""
          }
        },
        "3862cc33cdea4c54bb1651ec167e2e7c": {
          "model_module": "@jupyter-widgets/controls",
          "model_name": "HBoxModel",
          "model_module_version": "1.5.0",
          "state": {
            "_dom_classes": [],
            "_model_module": "@jupyter-widgets/controls",
            "_model_module_version": "1.5.0",
            "_model_name": "HBoxModel",
            "_view_count": null,
            "_view_module": "@jupyter-widgets/controls",
            "_view_module_version": "1.5.0",
            "_view_name": "HBoxView",
            "box_style": "",
            "children": [
              "IPY_MODEL_bbcadd5dc925499fbd397f574bbb3fcb",
              "IPY_MODEL_faec28e1ef2b4087930620e73d29484f",
              "IPY_MODEL_7d1a8533a5dd49cba5886559600cbb0c"
            ],
            "layout": "IPY_MODEL_ee49618ef0f7430993c144194174994b"
          }
        },
        "bbcadd5dc925499fbd397f574bbb3fcb": {
          "model_module": "@jupyter-widgets/controls",
          "model_name": "HTMLModel",
          "model_module_version": "1.5.0",
          "state": {
            "_dom_classes": [],
            "_model_module": "@jupyter-widgets/controls",
            "_model_module_version": "1.5.0",
            "_model_name": "HTMLModel",
            "_view_count": null,
            "_view_module": "@jupyter-widgets/controls",
            "_view_module_version": "1.5.0",
            "_view_name": "HTMLView",
            "description": "",
            "description_tooltip": null,
            "layout": "IPY_MODEL_d6c687ebfab148e6a8aad6d1b3c6da87",
            "placeholder": "​",
            "style": "IPY_MODEL_4c11c23ff3174736a4981f0a799cd25b",
            "value": "tokenizer_config.json: 100%"
          }
        },
        "faec28e1ef2b4087930620e73d29484f": {
          "model_module": "@jupyter-widgets/controls",
          "model_name": "FloatProgressModel",
          "model_module_version": "1.5.0",
          "state": {
            "_dom_classes": [],
            "_model_module": "@jupyter-widgets/controls",
            "_model_module_version": "1.5.0",
            "_model_name": "FloatProgressModel",
            "_view_count": null,
            "_view_module": "@jupyter-widgets/controls",
            "_view_module_version": "1.5.0",
            "_view_name": "ProgressView",
            "bar_style": "success",
            "description": "",
            "description_tooltip": null,
            "layout": "IPY_MODEL_bc3a792157ba4855a4d6833ef74bb752",
            "max": 48,
            "min": 0,
            "orientation": "horizontal",
            "style": "IPY_MODEL_6ed954b8f11643c8a35774945b883bd0",
            "value": 48
          }
        },
        "7d1a8533a5dd49cba5886559600cbb0c": {
          "model_module": "@jupyter-widgets/controls",
          "model_name": "HTMLModel",
          "model_module_version": "1.5.0",
          "state": {
            "_dom_classes": [],
            "_model_module": "@jupyter-widgets/controls",
            "_model_module_version": "1.5.0",
            "_model_name": "HTMLModel",
            "_view_count": null,
            "_view_module": "@jupyter-widgets/controls",
            "_view_module_version": "1.5.0",
            "_view_name": "HTMLView",
            "description": "",
            "description_tooltip": null,
            "layout": "IPY_MODEL_905a2c0c84fb4c9c8fc29662517fe998",
            "placeholder": "​",
            "style": "IPY_MODEL_b41f5a6d441e43c8ba52948f397333b2",
            "value": " 48.0/48.0 [00:00&lt;00:00, 2.21kB/s]"
          }
        },
        "ee49618ef0f7430993c144194174994b": {
          "model_module": "@jupyter-widgets/base",
          "model_name": "LayoutModel",
          "model_module_version": "1.2.0",
          "state": {
            "_model_module": "@jupyter-widgets/base",
            "_model_module_version": "1.2.0",
            "_model_name": "LayoutModel",
            "_view_count": null,
            "_view_module": "@jupyter-widgets/base",
            "_view_module_version": "1.2.0",
            "_view_name": "LayoutView",
            "align_content": null,
            "align_items": null,
            "align_self": null,
            "border": null,
            "bottom": null,
            "display": null,
            "flex": null,
            "flex_flow": null,
            "grid_area": null,
            "grid_auto_columns": null,
            "grid_auto_flow": null,
            "grid_auto_rows": null,
            "grid_column": null,
            "grid_gap": null,
            "grid_row": null,
            "grid_template_areas": null,
            "grid_template_columns": null,
            "grid_template_rows": null,
            "height": null,
            "justify_content": null,
            "justify_items": null,
            "left": null,
            "margin": null,
            "max_height": null,
            "max_width": null,
            "min_height": null,
            "min_width": null,
            "object_fit": null,
            "object_position": null,
            "order": null,
            "overflow": null,
            "overflow_x": null,
            "overflow_y": null,
            "padding": null,
            "right": null,
            "top": null,
            "visibility": null,
            "width": null
          }
        },
        "d6c687ebfab148e6a8aad6d1b3c6da87": {
          "model_module": "@jupyter-widgets/base",
          "model_name": "LayoutModel",
          "model_module_version": "1.2.0",
          "state": {
            "_model_module": "@jupyter-widgets/base",
            "_model_module_version": "1.2.0",
            "_model_name": "LayoutModel",
            "_view_count": null,
            "_view_module": "@jupyter-widgets/base",
            "_view_module_version": "1.2.0",
            "_view_name": "LayoutView",
            "align_content": null,
            "align_items": null,
            "align_self": null,
            "border": null,
            "bottom": null,
            "display": null,
            "flex": null,
            "flex_flow": null,
            "grid_area": null,
            "grid_auto_columns": null,
            "grid_auto_flow": null,
            "grid_auto_rows": null,
            "grid_column": null,
            "grid_gap": null,
            "grid_row": null,
            "grid_template_areas": null,
            "grid_template_columns": null,
            "grid_template_rows": null,
            "height": null,
            "justify_content": null,
            "justify_items": null,
            "left": null,
            "margin": null,
            "max_height": null,
            "max_width": null,
            "min_height": null,
            "min_width": null,
            "object_fit": null,
            "object_position": null,
            "order": null,
            "overflow": null,
            "overflow_x": null,
            "overflow_y": null,
            "padding": null,
            "right": null,
            "top": null,
            "visibility": null,
            "width": null
          }
        },
        "4c11c23ff3174736a4981f0a799cd25b": {
          "model_module": "@jupyter-widgets/controls",
          "model_name": "DescriptionStyleModel",
          "model_module_version": "1.5.0",
          "state": {
            "_model_module": "@jupyter-widgets/controls",
            "_model_module_version": "1.5.0",
            "_model_name": "DescriptionStyleModel",
            "_view_count": null,
            "_view_module": "@jupyter-widgets/base",
            "_view_module_version": "1.2.0",
            "_view_name": "StyleView",
            "description_width": ""
          }
        },
        "bc3a792157ba4855a4d6833ef74bb752": {
          "model_module": "@jupyter-widgets/base",
          "model_name": "LayoutModel",
          "model_module_version": "1.2.0",
          "state": {
            "_model_module": "@jupyter-widgets/base",
            "_model_module_version": "1.2.0",
            "_model_name": "LayoutModel",
            "_view_count": null,
            "_view_module": "@jupyter-widgets/base",
            "_view_module_version": "1.2.0",
            "_view_name": "LayoutView",
            "align_content": null,
            "align_items": null,
            "align_self": null,
            "border": null,
            "bottom": null,
            "display": null,
            "flex": null,
            "flex_flow": null,
            "grid_area": null,
            "grid_auto_columns": null,
            "grid_auto_flow": null,
            "grid_auto_rows": null,
            "grid_column": null,
            "grid_gap": null,
            "grid_row": null,
            "grid_template_areas": null,
            "grid_template_columns": null,
            "grid_template_rows": null,
            "height": null,
            "justify_content": null,
            "justify_items": null,
            "left": null,
            "margin": null,
            "max_height": null,
            "max_width": null,
            "min_height": null,
            "min_width": null,
            "object_fit": null,
            "object_position": null,
            "order": null,
            "overflow": null,
            "overflow_x": null,
            "overflow_y": null,
            "padding": null,
            "right": null,
            "top": null,
            "visibility": null,
            "width": null
          }
        },
        "6ed954b8f11643c8a35774945b883bd0": {
          "model_module": "@jupyter-widgets/controls",
          "model_name": "ProgressStyleModel",
          "model_module_version": "1.5.0",
          "state": {
            "_model_module": "@jupyter-widgets/controls",
            "_model_module_version": "1.5.0",
            "_model_name": "ProgressStyleModel",
            "_view_count": null,
            "_view_module": "@jupyter-widgets/base",
            "_view_module_version": "1.2.0",
            "_view_name": "StyleView",
            "bar_color": null,
            "description_width": ""
          }
        },
        "905a2c0c84fb4c9c8fc29662517fe998": {
          "model_module": "@jupyter-widgets/base",
          "model_name": "LayoutModel",
          "model_module_version": "1.2.0",
          "state": {
            "_model_module": "@jupyter-widgets/base",
            "_model_module_version": "1.2.0",
            "_model_name": "LayoutModel",
            "_view_count": null,
            "_view_module": "@jupyter-widgets/base",
            "_view_module_version": "1.2.0",
            "_view_name": "LayoutView",
            "align_content": null,
            "align_items": null,
            "align_self": null,
            "border": null,
            "bottom": null,
            "display": null,
            "flex": null,
            "flex_flow": null,
            "grid_area": null,
            "grid_auto_columns": null,
            "grid_auto_flow": null,
            "grid_auto_rows": null,
            "grid_column": null,
            "grid_gap": null,
            "grid_row": null,
            "grid_template_areas": null,
            "grid_template_columns": null,
            "grid_template_rows": null,
            "height": null,
            "justify_content": null,
            "justify_items": null,
            "left": null,
            "margin": null,
            "max_height": null,
            "max_width": null,
            "min_height": null,
            "min_width": null,
            "object_fit": null,
            "object_position": null,
            "order": null,
            "overflow": null,
            "overflow_x": null,
            "overflow_y": null,
            "padding": null,
            "right": null,
            "top": null,
            "visibility": null,
            "width": null
          }
        },
        "b41f5a6d441e43c8ba52948f397333b2": {
          "model_module": "@jupyter-widgets/controls",
          "model_name": "DescriptionStyleModel",
          "model_module_version": "1.5.0",
          "state": {
            "_model_module": "@jupyter-widgets/controls",
            "_model_module_version": "1.5.0",
            "_model_name": "DescriptionStyleModel",
            "_view_count": null,
            "_view_module": "@jupyter-widgets/base",
            "_view_module_version": "1.2.0",
            "_view_name": "StyleView",
            "description_width": ""
          }
        },
        "1a76972bcb2d4757b5bc03e95e55686f": {
          "model_module": "@jupyter-widgets/controls",
          "model_name": "HBoxModel",
          "model_module_version": "1.5.0",
          "state": {
            "_dom_classes": [],
            "_model_module": "@jupyter-widgets/controls",
            "_model_module_version": "1.5.0",
            "_model_name": "HBoxModel",
            "_view_count": null,
            "_view_module": "@jupyter-widgets/controls",
            "_view_module_version": "1.5.0",
            "_view_name": "HBoxView",
            "box_style": "",
            "children": [
              "IPY_MODEL_1131e7682d9043618a4569c828015d8a",
              "IPY_MODEL_ecf0e0827ac54c05b4c2e203b8cbba5a",
              "IPY_MODEL_83de388716e64239a39c11f566f8ee8b"
            ],
            "layout": "IPY_MODEL_f87ec528a4714800bae3386ad2336120"
          }
        },
        "1131e7682d9043618a4569c828015d8a": {
          "model_module": "@jupyter-widgets/controls",
          "model_name": "HTMLModel",
          "model_module_version": "1.5.0",
          "state": {
            "_dom_classes": [],
            "_model_module": "@jupyter-widgets/controls",
            "_model_module_version": "1.5.0",
            "_model_name": "HTMLModel",
            "_view_count": null,
            "_view_module": "@jupyter-widgets/controls",
            "_view_module_version": "1.5.0",
            "_view_name": "HTMLView",
            "description": "",
            "description_tooltip": null,
            "layout": "IPY_MODEL_95931b1d343542e1a9000f36b313b2f3",
            "placeholder": "​",
            "style": "IPY_MODEL_b734eb3509a9416bb01210f76c596a9a",
            "value": "config.json: 100%"
          }
        },
        "ecf0e0827ac54c05b4c2e203b8cbba5a": {
          "model_module": "@jupyter-widgets/controls",
          "model_name": "FloatProgressModel",
          "model_module_version": "1.5.0",
          "state": {
            "_dom_classes": [],
            "_model_module": "@jupyter-widgets/controls",
            "_model_module_version": "1.5.0",
            "_model_name": "FloatProgressModel",
            "_view_count": null,
            "_view_module": "@jupyter-widgets/controls",
            "_view_module_version": "1.5.0",
            "_view_name": "ProgressView",
            "bar_style": "success",
            "description": "",
            "description_tooltip": null,
            "layout": "IPY_MODEL_c0757fce61f64dc5ae31a75f064ff4c0",
            "max": 483,
            "min": 0,
            "orientation": "horizontal",
            "style": "IPY_MODEL_b38fe68c185147a7bc0ee551c34508b1",
            "value": 483
          }
        },
        "83de388716e64239a39c11f566f8ee8b": {
          "model_module": "@jupyter-widgets/controls",
          "model_name": "HTMLModel",
          "model_module_version": "1.5.0",
          "state": {
            "_dom_classes": [],
            "_model_module": "@jupyter-widgets/controls",
            "_model_module_version": "1.5.0",
            "_model_name": "HTMLModel",
            "_view_count": null,
            "_view_module": "@jupyter-widgets/controls",
            "_view_module_version": "1.5.0",
            "_view_name": "HTMLView",
            "description": "",
            "description_tooltip": null,
            "layout": "IPY_MODEL_3c8f196edb424f7aa9afd1d732349ba8",
            "placeholder": "​",
            "style": "IPY_MODEL_68291680a0c144e18879267ddb86ab87",
            "value": " 483/483 [00:00&lt;00:00, 19.9kB/s]"
          }
        },
        "f87ec528a4714800bae3386ad2336120": {
          "model_module": "@jupyter-widgets/base",
          "model_name": "LayoutModel",
          "model_module_version": "1.2.0",
          "state": {
            "_model_module": "@jupyter-widgets/base",
            "_model_module_version": "1.2.0",
            "_model_name": "LayoutModel",
            "_view_count": null,
            "_view_module": "@jupyter-widgets/base",
            "_view_module_version": "1.2.0",
            "_view_name": "LayoutView",
            "align_content": null,
            "align_items": null,
            "align_self": null,
            "border": null,
            "bottom": null,
            "display": null,
            "flex": null,
            "flex_flow": null,
            "grid_area": null,
            "grid_auto_columns": null,
            "grid_auto_flow": null,
            "grid_auto_rows": null,
            "grid_column": null,
            "grid_gap": null,
            "grid_row": null,
            "grid_template_areas": null,
            "grid_template_columns": null,
            "grid_template_rows": null,
            "height": null,
            "justify_content": null,
            "justify_items": null,
            "left": null,
            "margin": null,
            "max_height": null,
            "max_width": null,
            "min_height": null,
            "min_width": null,
            "object_fit": null,
            "object_position": null,
            "order": null,
            "overflow": null,
            "overflow_x": null,
            "overflow_y": null,
            "padding": null,
            "right": null,
            "top": null,
            "visibility": null,
            "width": null
          }
        },
        "95931b1d343542e1a9000f36b313b2f3": {
          "model_module": "@jupyter-widgets/base",
          "model_name": "LayoutModel",
          "model_module_version": "1.2.0",
          "state": {
            "_model_module": "@jupyter-widgets/base",
            "_model_module_version": "1.2.0",
            "_model_name": "LayoutModel",
            "_view_count": null,
            "_view_module": "@jupyter-widgets/base",
            "_view_module_version": "1.2.0",
            "_view_name": "LayoutView",
            "align_content": null,
            "align_items": null,
            "align_self": null,
            "border": null,
            "bottom": null,
            "display": null,
            "flex": null,
            "flex_flow": null,
            "grid_area": null,
            "grid_auto_columns": null,
            "grid_auto_flow": null,
            "grid_auto_rows": null,
            "grid_column": null,
            "grid_gap": null,
            "grid_row": null,
            "grid_template_areas": null,
            "grid_template_columns": null,
            "grid_template_rows": null,
            "height": null,
            "justify_content": null,
            "justify_items": null,
            "left": null,
            "margin": null,
            "max_height": null,
            "max_width": null,
            "min_height": null,
            "min_width": null,
            "object_fit": null,
            "object_position": null,
            "order": null,
            "overflow": null,
            "overflow_x": null,
            "overflow_y": null,
            "padding": null,
            "right": null,
            "top": null,
            "visibility": null,
            "width": null
          }
        },
        "b734eb3509a9416bb01210f76c596a9a": {
          "model_module": "@jupyter-widgets/controls",
          "model_name": "DescriptionStyleModel",
          "model_module_version": "1.5.0",
          "state": {
            "_model_module": "@jupyter-widgets/controls",
            "_model_module_version": "1.5.0",
            "_model_name": "DescriptionStyleModel",
            "_view_count": null,
            "_view_module": "@jupyter-widgets/base",
            "_view_module_version": "1.2.0",
            "_view_name": "StyleView",
            "description_width": ""
          }
        },
        "c0757fce61f64dc5ae31a75f064ff4c0": {
          "model_module": "@jupyter-widgets/base",
          "model_name": "LayoutModel",
          "model_module_version": "1.2.0",
          "state": {
            "_model_module": "@jupyter-widgets/base",
            "_model_module_version": "1.2.0",
            "_model_name": "LayoutModel",
            "_view_count": null,
            "_view_module": "@jupyter-widgets/base",
            "_view_module_version": "1.2.0",
            "_view_name": "LayoutView",
            "align_content": null,
            "align_items": null,
            "align_self": null,
            "border": null,
            "bottom": null,
            "display": null,
            "flex": null,
            "flex_flow": null,
            "grid_area": null,
            "grid_auto_columns": null,
            "grid_auto_flow": null,
            "grid_auto_rows": null,
            "grid_column": null,
            "grid_gap": null,
            "grid_row": null,
            "grid_template_areas": null,
            "grid_template_columns": null,
            "grid_template_rows": null,
            "height": null,
            "justify_content": null,
            "justify_items": null,
            "left": null,
            "margin": null,
            "max_height": null,
            "max_width": null,
            "min_height": null,
            "min_width": null,
            "object_fit": null,
            "object_position": null,
            "order": null,
            "overflow": null,
            "overflow_x": null,
            "overflow_y": null,
            "padding": null,
            "right": null,
            "top": null,
            "visibility": null,
            "width": null
          }
        },
        "b38fe68c185147a7bc0ee551c34508b1": {
          "model_module": "@jupyter-widgets/controls",
          "model_name": "ProgressStyleModel",
          "model_module_version": "1.5.0",
          "state": {
            "_model_module": "@jupyter-widgets/controls",
            "_model_module_version": "1.5.0",
            "_model_name": "ProgressStyleModel",
            "_view_count": null,
            "_view_module": "@jupyter-widgets/base",
            "_view_module_version": "1.2.0",
            "_view_name": "StyleView",
            "bar_color": null,
            "description_width": ""
          }
        },
        "3c8f196edb424f7aa9afd1d732349ba8": {
          "model_module": "@jupyter-widgets/base",
          "model_name": "LayoutModel",
          "model_module_version": "1.2.0",
          "state": {
            "_model_module": "@jupyter-widgets/base",
            "_model_module_version": "1.2.0",
            "_model_name": "LayoutModel",
            "_view_count": null,
            "_view_module": "@jupyter-widgets/base",
            "_view_module_version": "1.2.0",
            "_view_name": "LayoutView",
            "align_content": null,
            "align_items": null,
            "align_self": null,
            "border": null,
            "bottom": null,
            "display": null,
            "flex": null,
            "flex_flow": null,
            "grid_area": null,
            "grid_auto_columns": null,
            "grid_auto_flow": null,
            "grid_auto_rows": null,
            "grid_column": null,
            "grid_gap": null,
            "grid_row": null,
            "grid_template_areas": null,
            "grid_template_columns": null,
            "grid_template_rows": null,
            "height": null,
            "justify_content": null,
            "justify_items": null,
            "left": null,
            "margin": null,
            "max_height": null,
            "max_width": null,
            "min_height": null,
            "min_width": null,
            "object_fit": null,
            "object_position": null,
            "order": null,
            "overflow": null,
            "overflow_x": null,
            "overflow_y": null,
            "padding": null,
            "right": null,
            "top": null,
            "visibility": null,
            "width": null
          }
        },
        "68291680a0c144e18879267ddb86ab87": {
          "model_module": "@jupyter-widgets/controls",
          "model_name": "DescriptionStyleModel",
          "model_module_version": "1.5.0",
          "state": {
            "_model_module": "@jupyter-widgets/controls",
            "_model_module_version": "1.5.0",
            "_model_name": "DescriptionStyleModel",
            "_view_count": null,
            "_view_module": "@jupyter-widgets/base",
            "_view_module_version": "1.2.0",
            "_view_name": "StyleView",
            "description_width": ""
          }
        },
        "eee02bff615840a89d112211eb82267e": {
          "model_module": "@jupyter-widgets/controls",
          "model_name": "HBoxModel",
          "model_module_version": "1.5.0",
          "state": {
            "_dom_classes": [],
            "_model_module": "@jupyter-widgets/controls",
            "_model_module_version": "1.5.0",
            "_model_name": "HBoxModel",
            "_view_count": null,
            "_view_module": "@jupyter-widgets/controls",
            "_view_module_version": "1.5.0",
            "_view_name": "HBoxView",
            "box_style": "",
            "children": [
              "IPY_MODEL_c49e3f7bd97f439eb7dc2a2daf94c0ce",
              "IPY_MODEL_8334cb388c7b407cb139cea851ec4d02",
              "IPY_MODEL_f8ebe7cfe43c49c6bf91028e7bf7edf7"
            ],
            "layout": "IPY_MODEL_2b82c0befd02433f997684704e393c7f"
          }
        },
        "c49e3f7bd97f439eb7dc2a2daf94c0ce": {
          "model_module": "@jupyter-widgets/controls",
          "model_name": "HTMLModel",
          "model_module_version": "1.5.0",
          "state": {
            "_dom_classes": [],
            "_model_module": "@jupyter-widgets/controls",
            "_model_module_version": "1.5.0",
            "_model_name": "HTMLModel",
            "_view_count": null,
            "_view_module": "@jupyter-widgets/controls",
            "_view_module_version": "1.5.0",
            "_view_name": "HTMLView",
            "description": "",
            "description_tooltip": null,
            "layout": "IPY_MODEL_9083ef8d30854d068270049841dd1523",
            "placeholder": "​",
            "style": "IPY_MODEL_c2afd4f4fac14c1c913f20db34456007",
            "value": "vocab.txt: 100%"
          }
        },
        "8334cb388c7b407cb139cea851ec4d02": {
          "model_module": "@jupyter-widgets/controls",
          "model_name": "FloatProgressModel",
          "model_module_version": "1.5.0",
          "state": {
            "_dom_classes": [],
            "_model_module": "@jupyter-widgets/controls",
            "_model_module_version": "1.5.0",
            "_model_name": "FloatProgressModel",
            "_view_count": null,
            "_view_module": "@jupyter-widgets/controls",
            "_view_module_version": "1.5.0",
            "_view_name": "ProgressView",
            "bar_style": "success",
            "description": "",
            "description_tooltip": null,
            "layout": "IPY_MODEL_90e9fb3e0fe44591879bc26c453441d7",
            "max": 231508,
            "min": 0,
            "orientation": "horizontal",
            "style": "IPY_MODEL_145018d488524ad09deb301dae321b8b",
            "value": 231508
          }
        },
        "f8ebe7cfe43c49c6bf91028e7bf7edf7": {
          "model_module": "@jupyter-widgets/controls",
          "model_name": "HTMLModel",
          "model_module_version": "1.5.0",
          "state": {
            "_dom_classes": [],
            "_model_module": "@jupyter-widgets/controls",
            "_model_module_version": "1.5.0",
            "_model_name": "HTMLModel",
            "_view_count": null,
            "_view_module": "@jupyter-widgets/controls",
            "_view_module_version": "1.5.0",
            "_view_name": "HTMLView",
            "description": "",
            "description_tooltip": null,
            "layout": "IPY_MODEL_48daebdca7514f509ec44420ad1762b3",
            "placeholder": "​",
            "style": "IPY_MODEL_e8c72dcd6a56411ebadc5ebb8e5496b8",
            "value": " 232k/232k [00:00&lt;00:00, 3.46MB/s]"
          }
        },
        "2b82c0befd02433f997684704e393c7f": {
          "model_module": "@jupyter-widgets/base",
          "model_name": "LayoutModel",
          "model_module_version": "1.2.0",
          "state": {
            "_model_module": "@jupyter-widgets/base",
            "_model_module_version": "1.2.0",
            "_model_name": "LayoutModel",
            "_view_count": null,
            "_view_module": "@jupyter-widgets/base",
            "_view_module_version": "1.2.0",
            "_view_name": "LayoutView",
            "align_content": null,
            "align_items": null,
            "align_self": null,
            "border": null,
            "bottom": null,
            "display": null,
            "flex": null,
            "flex_flow": null,
            "grid_area": null,
            "grid_auto_columns": null,
            "grid_auto_flow": null,
            "grid_auto_rows": null,
            "grid_column": null,
            "grid_gap": null,
            "grid_row": null,
            "grid_template_areas": null,
            "grid_template_columns": null,
            "grid_template_rows": null,
            "height": null,
            "justify_content": null,
            "justify_items": null,
            "left": null,
            "margin": null,
            "max_height": null,
            "max_width": null,
            "min_height": null,
            "min_width": null,
            "object_fit": null,
            "object_position": null,
            "order": null,
            "overflow": null,
            "overflow_x": null,
            "overflow_y": null,
            "padding": null,
            "right": null,
            "top": null,
            "visibility": null,
            "width": null
          }
        },
        "9083ef8d30854d068270049841dd1523": {
          "model_module": "@jupyter-widgets/base",
          "model_name": "LayoutModel",
          "model_module_version": "1.2.0",
          "state": {
            "_model_module": "@jupyter-widgets/base",
            "_model_module_version": "1.2.0",
            "_model_name": "LayoutModel",
            "_view_count": null,
            "_view_module": "@jupyter-widgets/base",
            "_view_module_version": "1.2.0",
            "_view_name": "LayoutView",
            "align_content": null,
            "align_items": null,
            "align_self": null,
            "border": null,
            "bottom": null,
            "display": null,
            "flex": null,
            "flex_flow": null,
            "grid_area": null,
            "grid_auto_columns": null,
            "grid_auto_flow": null,
            "grid_auto_rows": null,
            "grid_column": null,
            "grid_gap": null,
            "grid_row": null,
            "grid_template_areas": null,
            "grid_template_columns": null,
            "grid_template_rows": null,
            "height": null,
            "justify_content": null,
            "justify_items": null,
            "left": null,
            "margin": null,
            "max_height": null,
            "max_width": null,
            "min_height": null,
            "min_width": null,
            "object_fit": null,
            "object_position": null,
            "order": null,
            "overflow": null,
            "overflow_x": null,
            "overflow_y": null,
            "padding": null,
            "right": null,
            "top": null,
            "visibility": null,
            "width": null
          }
        },
        "c2afd4f4fac14c1c913f20db34456007": {
          "model_module": "@jupyter-widgets/controls",
          "model_name": "DescriptionStyleModel",
          "model_module_version": "1.5.0",
          "state": {
            "_model_module": "@jupyter-widgets/controls",
            "_model_module_version": "1.5.0",
            "_model_name": "DescriptionStyleModel",
            "_view_count": null,
            "_view_module": "@jupyter-widgets/base",
            "_view_module_version": "1.2.0",
            "_view_name": "StyleView",
            "description_width": ""
          }
        },
        "90e9fb3e0fe44591879bc26c453441d7": {
          "model_module": "@jupyter-widgets/base",
          "model_name": "LayoutModel",
          "model_module_version": "1.2.0",
          "state": {
            "_model_module": "@jupyter-widgets/base",
            "_model_module_version": "1.2.0",
            "_model_name": "LayoutModel",
            "_view_count": null,
            "_view_module": "@jupyter-widgets/base",
            "_view_module_version": "1.2.0",
            "_view_name": "LayoutView",
            "align_content": null,
            "align_items": null,
            "align_self": null,
            "border": null,
            "bottom": null,
            "display": null,
            "flex": null,
            "flex_flow": null,
            "grid_area": null,
            "grid_auto_columns": null,
            "grid_auto_flow": null,
            "grid_auto_rows": null,
            "grid_column": null,
            "grid_gap": null,
            "grid_row": null,
            "grid_template_areas": null,
            "grid_template_columns": null,
            "grid_template_rows": null,
            "height": null,
            "justify_content": null,
            "justify_items": null,
            "left": null,
            "margin": null,
            "max_height": null,
            "max_width": null,
            "min_height": null,
            "min_width": null,
            "object_fit": null,
            "object_position": null,
            "order": null,
            "overflow": null,
            "overflow_x": null,
            "overflow_y": null,
            "padding": null,
            "right": null,
            "top": null,
            "visibility": null,
            "width": null
          }
        },
        "145018d488524ad09deb301dae321b8b": {
          "model_module": "@jupyter-widgets/controls",
          "model_name": "ProgressStyleModel",
          "model_module_version": "1.5.0",
          "state": {
            "_model_module": "@jupyter-widgets/controls",
            "_model_module_version": "1.5.0",
            "_model_name": "ProgressStyleModel",
            "_view_count": null,
            "_view_module": "@jupyter-widgets/base",
            "_view_module_version": "1.2.0",
            "_view_name": "StyleView",
            "bar_color": null,
            "description_width": ""
          }
        },
        "48daebdca7514f509ec44420ad1762b3": {
          "model_module": "@jupyter-widgets/base",
          "model_name": "LayoutModel",
          "model_module_version": "1.2.0",
          "state": {
            "_model_module": "@jupyter-widgets/base",
            "_model_module_version": "1.2.0",
            "_model_name": "LayoutModel",
            "_view_count": null,
            "_view_module": "@jupyter-widgets/base",
            "_view_module_version": "1.2.0",
            "_view_name": "LayoutView",
            "align_content": null,
            "align_items": null,
            "align_self": null,
            "border": null,
            "bottom": null,
            "display": null,
            "flex": null,
            "flex_flow": null,
            "grid_area": null,
            "grid_auto_columns": null,
            "grid_auto_flow": null,
            "grid_auto_rows": null,
            "grid_column": null,
            "grid_gap": null,
            "grid_row": null,
            "grid_template_areas": null,
            "grid_template_columns": null,
            "grid_template_rows": null,
            "height": null,
            "justify_content": null,
            "justify_items": null,
            "left": null,
            "margin": null,
            "max_height": null,
            "max_width": null,
            "min_height": null,
            "min_width": null,
            "object_fit": null,
            "object_position": null,
            "order": null,
            "overflow": null,
            "overflow_x": null,
            "overflow_y": null,
            "padding": null,
            "right": null,
            "top": null,
            "visibility": null,
            "width": null
          }
        },
        "e8c72dcd6a56411ebadc5ebb8e5496b8": {
          "model_module": "@jupyter-widgets/controls",
          "model_name": "DescriptionStyleModel",
          "model_module_version": "1.5.0",
          "state": {
            "_model_module": "@jupyter-widgets/controls",
            "_model_module_version": "1.5.0",
            "_model_name": "DescriptionStyleModel",
            "_view_count": null,
            "_view_module": "@jupyter-widgets/base",
            "_view_module_version": "1.2.0",
            "_view_name": "StyleView",
            "description_width": ""
          }
        },
        "4cee6646b5414508a4943dc267a1a74f": {
          "model_module": "@jupyter-widgets/controls",
          "model_name": "HBoxModel",
          "model_module_version": "1.5.0",
          "state": {
            "_dom_classes": [],
            "_model_module": "@jupyter-widgets/controls",
            "_model_module_version": "1.5.0",
            "_model_name": "HBoxModel",
            "_view_count": null,
            "_view_module": "@jupyter-widgets/controls",
            "_view_module_version": "1.5.0",
            "_view_name": "HBoxView",
            "box_style": "",
            "children": [
              "IPY_MODEL_f7ea97239e4a45089d2170a985779f32",
              "IPY_MODEL_38038ae0ea6d47498d5a0d8430e4a8f5",
              "IPY_MODEL_112be245071445ffbb8a06eae0c36b5a"
            ],
            "layout": "IPY_MODEL_bfe66a18ce9a49b2a65d8003176ff98d"
          }
        },
        "f7ea97239e4a45089d2170a985779f32": {
          "model_module": "@jupyter-widgets/controls",
          "model_name": "HTMLModel",
          "model_module_version": "1.5.0",
          "state": {
            "_dom_classes": [],
            "_model_module": "@jupyter-widgets/controls",
            "_model_module_version": "1.5.0",
            "_model_name": "HTMLModel",
            "_view_count": null,
            "_view_module": "@jupyter-widgets/controls",
            "_view_module_version": "1.5.0",
            "_view_name": "HTMLView",
            "description": "",
            "description_tooltip": null,
            "layout": "IPY_MODEL_b41c56fe242d419490f78650b147f501",
            "placeholder": "​",
            "style": "IPY_MODEL_2c14b27cafd249a99fca564da3370d6f",
            "value": "tokenizer.json: 100%"
          }
        },
        "38038ae0ea6d47498d5a0d8430e4a8f5": {
          "model_module": "@jupyter-widgets/controls",
          "model_name": "FloatProgressModel",
          "model_module_version": "1.5.0",
          "state": {
            "_dom_classes": [],
            "_model_module": "@jupyter-widgets/controls",
            "_model_module_version": "1.5.0",
            "_model_name": "FloatProgressModel",
            "_view_count": null,
            "_view_module": "@jupyter-widgets/controls",
            "_view_module_version": "1.5.0",
            "_view_name": "ProgressView",
            "bar_style": "success",
            "description": "",
            "description_tooltip": null,
            "layout": "IPY_MODEL_2785e4ed4f5845e9b1b7b68637d7f209",
            "max": 466062,
            "min": 0,
            "orientation": "horizontal",
            "style": "IPY_MODEL_b3d72bbac57344419bb46548948059b0",
            "value": 466062
          }
        },
        "112be245071445ffbb8a06eae0c36b5a": {
          "model_module": "@jupyter-widgets/controls",
          "model_name": "HTMLModel",
          "model_module_version": "1.5.0",
          "state": {
            "_dom_classes": [],
            "_model_module": "@jupyter-widgets/controls",
            "_model_module_version": "1.5.0",
            "_model_name": "HTMLModel",
            "_view_count": null,
            "_view_module": "@jupyter-widgets/controls",
            "_view_module_version": "1.5.0",
            "_view_name": "HTMLView",
            "description": "",
            "description_tooltip": null,
            "layout": "IPY_MODEL_55d14710442347c387bc0f29498c0b16",
            "placeholder": "​",
            "style": "IPY_MODEL_e26743b071e14aac947d4ada29f9299d",
            "value": " 466k/466k [00:00&lt;00:00, 3.43MB/s]"
          }
        },
        "bfe66a18ce9a49b2a65d8003176ff98d": {
          "model_module": "@jupyter-widgets/base",
          "model_name": "LayoutModel",
          "model_module_version": "1.2.0",
          "state": {
            "_model_module": "@jupyter-widgets/base",
            "_model_module_version": "1.2.0",
            "_model_name": "LayoutModel",
            "_view_count": null,
            "_view_module": "@jupyter-widgets/base",
            "_view_module_version": "1.2.0",
            "_view_name": "LayoutView",
            "align_content": null,
            "align_items": null,
            "align_self": null,
            "border": null,
            "bottom": null,
            "display": null,
            "flex": null,
            "flex_flow": null,
            "grid_area": null,
            "grid_auto_columns": null,
            "grid_auto_flow": null,
            "grid_auto_rows": null,
            "grid_column": null,
            "grid_gap": null,
            "grid_row": null,
            "grid_template_areas": null,
            "grid_template_columns": null,
            "grid_template_rows": null,
            "height": null,
            "justify_content": null,
            "justify_items": null,
            "left": null,
            "margin": null,
            "max_height": null,
            "max_width": null,
            "min_height": null,
            "min_width": null,
            "object_fit": null,
            "object_position": null,
            "order": null,
            "overflow": null,
            "overflow_x": null,
            "overflow_y": null,
            "padding": null,
            "right": null,
            "top": null,
            "visibility": null,
            "width": null
          }
        },
        "b41c56fe242d419490f78650b147f501": {
          "model_module": "@jupyter-widgets/base",
          "model_name": "LayoutModel",
          "model_module_version": "1.2.0",
          "state": {
            "_model_module": "@jupyter-widgets/base",
            "_model_module_version": "1.2.0",
            "_model_name": "LayoutModel",
            "_view_count": null,
            "_view_module": "@jupyter-widgets/base",
            "_view_module_version": "1.2.0",
            "_view_name": "LayoutView",
            "align_content": null,
            "align_items": null,
            "align_self": null,
            "border": null,
            "bottom": null,
            "display": null,
            "flex": null,
            "flex_flow": null,
            "grid_area": null,
            "grid_auto_columns": null,
            "grid_auto_flow": null,
            "grid_auto_rows": null,
            "grid_column": null,
            "grid_gap": null,
            "grid_row": null,
            "grid_template_areas": null,
            "grid_template_columns": null,
            "grid_template_rows": null,
            "height": null,
            "justify_content": null,
            "justify_items": null,
            "left": null,
            "margin": null,
            "max_height": null,
            "max_width": null,
            "min_height": null,
            "min_width": null,
            "object_fit": null,
            "object_position": null,
            "order": null,
            "overflow": null,
            "overflow_x": null,
            "overflow_y": null,
            "padding": null,
            "right": null,
            "top": null,
            "visibility": null,
            "width": null
          }
        },
        "2c14b27cafd249a99fca564da3370d6f": {
          "model_module": "@jupyter-widgets/controls",
          "model_name": "DescriptionStyleModel",
          "model_module_version": "1.5.0",
          "state": {
            "_model_module": "@jupyter-widgets/controls",
            "_model_module_version": "1.5.0",
            "_model_name": "DescriptionStyleModel",
            "_view_count": null,
            "_view_module": "@jupyter-widgets/base",
            "_view_module_version": "1.2.0",
            "_view_name": "StyleView",
            "description_width": ""
          }
        },
        "2785e4ed4f5845e9b1b7b68637d7f209": {
          "model_module": "@jupyter-widgets/base",
          "model_name": "LayoutModel",
          "model_module_version": "1.2.0",
          "state": {
            "_model_module": "@jupyter-widgets/base",
            "_model_module_version": "1.2.0",
            "_model_name": "LayoutModel",
            "_view_count": null,
            "_view_module": "@jupyter-widgets/base",
            "_view_module_version": "1.2.0",
            "_view_name": "LayoutView",
            "align_content": null,
            "align_items": null,
            "align_self": null,
            "border": null,
            "bottom": null,
            "display": null,
            "flex": null,
            "flex_flow": null,
            "grid_area": null,
            "grid_auto_columns": null,
            "grid_auto_flow": null,
            "grid_auto_rows": null,
            "grid_column": null,
            "grid_gap": null,
            "grid_row": null,
            "grid_template_areas": null,
            "grid_template_columns": null,
            "grid_template_rows": null,
            "height": null,
            "justify_content": null,
            "justify_items": null,
            "left": null,
            "margin": null,
            "max_height": null,
            "max_width": null,
            "min_height": null,
            "min_width": null,
            "object_fit": null,
            "object_position": null,
            "order": null,
            "overflow": null,
            "overflow_x": null,
            "overflow_y": null,
            "padding": null,
            "right": null,
            "top": null,
            "visibility": null,
            "width": null
          }
        },
        "b3d72bbac57344419bb46548948059b0": {
          "model_module": "@jupyter-widgets/controls",
          "model_name": "ProgressStyleModel",
          "model_module_version": "1.5.0",
          "state": {
            "_model_module": "@jupyter-widgets/controls",
            "_model_module_version": "1.5.0",
            "_model_name": "ProgressStyleModel",
            "_view_count": null,
            "_view_module": "@jupyter-widgets/base",
            "_view_module_version": "1.2.0",
            "_view_name": "StyleView",
            "bar_color": null,
            "description_width": ""
          }
        },
        "55d14710442347c387bc0f29498c0b16": {
          "model_module": "@jupyter-widgets/base",
          "model_name": "LayoutModel",
          "model_module_version": "1.2.0",
          "state": {
            "_model_module": "@jupyter-widgets/base",
            "_model_module_version": "1.2.0",
            "_model_name": "LayoutModel",
            "_view_count": null,
            "_view_module": "@jupyter-widgets/base",
            "_view_module_version": "1.2.0",
            "_view_name": "LayoutView",
            "align_content": null,
            "align_items": null,
            "align_self": null,
            "border": null,
            "bottom": null,
            "display": null,
            "flex": null,
            "flex_flow": null,
            "grid_area": null,
            "grid_auto_columns": null,
            "grid_auto_flow": null,
            "grid_auto_rows": null,
            "grid_column": null,
            "grid_gap": null,
            "grid_row": null,
            "grid_template_areas": null,
            "grid_template_columns": null,
            "grid_template_rows": null,
            "height": null,
            "justify_content": null,
            "justify_items": null,
            "left": null,
            "margin": null,
            "max_height": null,
            "max_width": null,
            "min_height": null,
            "min_width": null,
            "object_fit": null,
            "object_position": null,
            "order": null,
            "overflow": null,
            "overflow_x": null,
            "overflow_y": null,
            "padding": null,
            "right": null,
            "top": null,
            "visibility": null,
            "width": null
          }
        },
        "e26743b071e14aac947d4ada29f9299d": {
          "model_module": "@jupyter-widgets/controls",
          "model_name": "DescriptionStyleModel",
          "model_module_version": "1.5.0",
          "state": {
            "_model_module": "@jupyter-widgets/controls",
            "_model_module_version": "1.5.0",
            "_model_name": "DescriptionStyleModel",
            "_view_count": null,
            "_view_module": "@jupyter-widgets/base",
            "_view_module_version": "1.2.0",
            "_view_name": "StyleView",
            "description_width": ""
          }
        },
        "4027f80c126445b7bc7c44c354037f10": {
          "model_module": "@jupyter-widgets/controls",
          "model_name": "HBoxModel",
          "model_module_version": "1.5.0",
          "state": {
            "_dom_classes": [],
            "_model_module": "@jupyter-widgets/controls",
            "_model_module_version": "1.5.0",
            "_model_name": "HBoxModel",
            "_view_count": null,
            "_view_module": "@jupyter-widgets/controls",
            "_view_module_version": "1.5.0",
            "_view_name": "HBoxView",
            "box_style": "",
            "children": [
              "IPY_MODEL_d856d218e2824894b8a2a15f5fb65136",
              "IPY_MODEL_93f04a5b547a43a485aef76b8f9939b1",
              "IPY_MODEL_d1758bebbeaf4fec94071e18f1439afd"
            ],
            "layout": "IPY_MODEL_8a2b5f2b49db4707a350467db847f501"
          }
        },
        "d856d218e2824894b8a2a15f5fb65136": {
          "model_module": "@jupyter-widgets/controls",
          "model_name": "HTMLModel",
          "model_module_version": "1.5.0",
          "state": {
            "_dom_classes": [],
            "_model_module": "@jupyter-widgets/controls",
            "_model_module_version": "1.5.0",
            "_model_name": "HTMLModel",
            "_view_count": null,
            "_view_module": "@jupyter-widgets/controls",
            "_view_module_version": "1.5.0",
            "_view_name": "HTMLView",
            "description": "",
            "description_tooltip": null,
            "layout": "IPY_MODEL_2122d1382a9c4e68bf8c3d4f121a74c6",
            "placeholder": "​",
            "style": "IPY_MODEL_931e2309a94a40659611a5a1c6daac90",
            "value": "model.safetensors: 100%"
          }
        },
        "93f04a5b547a43a485aef76b8f9939b1": {
          "model_module": "@jupyter-widgets/controls",
          "model_name": "FloatProgressModel",
          "model_module_version": "1.5.0",
          "state": {
            "_dom_classes": [],
            "_model_module": "@jupyter-widgets/controls",
            "_model_module_version": "1.5.0",
            "_model_name": "FloatProgressModel",
            "_view_count": null,
            "_view_module": "@jupyter-widgets/controls",
            "_view_module_version": "1.5.0",
            "_view_name": "ProgressView",
            "bar_style": "success",
            "description": "",
            "description_tooltip": null,
            "layout": "IPY_MODEL_a028574ccfa0492e92aafdf0cf95922a",
            "max": 267954768,
            "min": 0,
            "orientation": "horizontal",
            "style": "IPY_MODEL_393f18f550404f3dad67ce6f193f55cb",
            "value": 267954768
          }
        },
        "d1758bebbeaf4fec94071e18f1439afd": {
          "model_module": "@jupyter-widgets/controls",
          "model_name": "HTMLModel",
          "model_module_version": "1.5.0",
          "state": {
            "_dom_classes": [],
            "_model_module": "@jupyter-widgets/controls",
            "_model_module_version": "1.5.0",
            "_model_name": "HTMLModel",
            "_view_count": null,
            "_view_module": "@jupyter-widgets/controls",
            "_view_module_version": "1.5.0",
            "_view_name": "HTMLView",
            "description": "",
            "description_tooltip": null,
            "layout": "IPY_MODEL_a4a41acb43ac4d459491bfe055ecae3f",
            "placeholder": "​",
            "style": "IPY_MODEL_01b9fbdbeeea42849eb3bd631342c884",
            "value": " 268M/268M [00:01&lt;00:00, 193MB/s]"
          }
        },
        "8a2b5f2b49db4707a350467db847f501": {
          "model_module": "@jupyter-widgets/base",
          "model_name": "LayoutModel",
          "model_module_version": "1.2.0",
          "state": {
            "_model_module": "@jupyter-widgets/base",
            "_model_module_version": "1.2.0",
            "_model_name": "LayoutModel",
            "_view_count": null,
            "_view_module": "@jupyter-widgets/base",
            "_view_module_version": "1.2.0",
            "_view_name": "LayoutView",
            "align_content": null,
            "align_items": null,
            "align_self": null,
            "border": null,
            "bottom": null,
            "display": null,
            "flex": null,
            "flex_flow": null,
            "grid_area": null,
            "grid_auto_columns": null,
            "grid_auto_flow": null,
            "grid_auto_rows": null,
            "grid_column": null,
            "grid_gap": null,
            "grid_row": null,
            "grid_template_areas": null,
            "grid_template_columns": null,
            "grid_template_rows": null,
            "height": null,
            "justify_content": null,
            "justify_items": null,
            "left": null,
            "margin": null,
            "max_height": null,
            "max_width": null,
            "min_height": null,
            "min_width": null,
            "object_fit": null,
            "object_position": null,
            "order": null,
            "overflow": null,
            "overflow_x": null,
            "overflow_y": null,
            "padding": null,
            "right": null,
            "top": null,
            "visibility": null,
            "width": null
          }
        },
        "2122d1382a9c4e68bf8c3d4f121a74c6": {
          "model_module": "@jupyter-widgets/base",
          "model_name": "LayoutModel",
          "model_module_version": "1.2.0",
          "state": {
            "_model_module": "@jupyter-widgets/base",
            "_model_module_version": "1.2.0",
            "_model_name": "LayoutModel",
            "_view_count": null,
            "_view_module": "@jupyter-widgets/base",
            "_view_module_version": "1.2.0",
            "_view_name": "LayoutView",
            "align_content": null,
            "align_items": null,
            "align_self": null,
            "border": null,
            "bottom": null,
            "display": null,
            "flex": null,
            "flex_flow": null,
            "grid_area": null,
            "grid_auto_columns": null,
            "grid_auto_flow": null,
            "grid_auto_rows": null,
            "grid_column": null,
            "grid_gap": null,
            "grid_row": null,
            "grid_template_areas": null,
            "grid_template_columns": null,
            "grid_template_rows": null,
            "height": null,
            "justify_content": null,
            "justify_items": null,
            "left": null,
            "margin": null,
            "max_height": null,
            "max_width": null,
            "min_height": null,
            "min_width": null,
            "object_fit": null,
            "object_position": null,
            "order": null,
            "overflow": null,
            "overflow_x": null,
            "overflow_y": null,
            "padding": null,
            "right": null,
            "top": null,
            "visibility": null,
            "width": null
          }
        },
        "931e2309a94a40659611a5a1c6daac90": {
          "model_module": "@jupyter-widgets/controls",
          "model_name": "DescriptionStyleModel",
          "model_module_version": "1.5.0",
          "state": {
            "_model_module": "@jupyter-widgets/controls",
            "_model_module_version": "1.5.0",
            "_model_name": "DescriptionStyleModel",
            "_view_count": null,
            "_view_module": "@jupyter-widgets/base",
            "_view_module_version": "1.2.0",
            "_view_name": "StyleView",
            "description_width": ""
          }
        },
        "a028574ccfa0492e92aafdf0cf95922a": {
          "model_module": "@jupyter-widgets/base",
          "model_name": "LayoutModel",
          "model_module_version": "1.2.0",
          "state": {
            "_model_module": "@jupyter-widgets/base",
            "_model_module_version": "1.2.0",
            "_model_name": "LayoutModel",
            "_view_count": null,
            "_view_module": "@jupyter-widgets/base",
            "_view_module_version": "1.2.0",
            "_view_name": "LayoutView",
            "align_content": null,
            "align_items": null,
            "align_self": null,
            "border": null,
            "bottom": null,
            "display": null,
            "flex": null,
            "flex_flow": null,
            "grid_area": null,
            "grid_auto_columns": null,
            "grid_auto_flow": null,
            "grid_auto_rows": null,
            "grid_column": null,
            "grid_gap": null,
            "grid_row": null,
            "grid_template_areas": null,
            "grid_template_columns": null,
            "grid_template_rows": null,
            "height": null,
            "justify_content": null,
            "justify_items": null,
            "left": null,
            "margin": null,
            "max_height": null,
            "max_width": null,
            "min_height": null,
            "min_width": null,
            "object_fit": null,
            "object_position": null,
            "order": null,
            "overflow": null,
            "overflow_x": null,
            "overflow_y": null,
            "padding": null,
            "right": null,
            "top": null,
            "visibility": null,
            "width": null
          }
        },
        "393f18f550404f3dad67ce6f193f55cb": {
          "model_module": "@jupyter-widgets/controls",
          "model_name": "ProgressStyleModel",
          "model_module_version": "1.5.0",
          "state": {
            "_model_module": "@jupyter-widgets/controls",
            "_model_module_version": "1.5.0",
            "_model_name": "ProgressStyleModel",
            "_view_count": null,
            "_view_module": "@jupyter-widgets/base",
            "_view_module_version": "1.2.0",
            "_view_name": "StyleView",
            "bar_color": null,
            "description_width": ""
          }
        },
        "a4a41acb43ac4d459491bfe055ecae3f": {
          "model_module": "@jupyter-widgets/base",
          "model_name": "LayoutModel",
          "model_module_version": "1.2.0",
          "state": {
            "_model_module": "@jupyter-widgets/base",
            "_model_module_version": "1.2.0",
            "_model_name": "LayoutModel",
            "_view_count": null,
            "_view_module": "@jupyter-widgets/base",
            "_view_module_version": "1.2.0",
            "_view_name": "LayoutView",
            "align_content": null,
            "align_items": null,
            "align_self": null,
            "border": null,
            "bottom": null,
            "display": null,
            "flex": null,
            "flex_flow": null,
            "grid_area": null,
            "grid_auto_columns": null,
            "grid_auto_flow": null,
            "grid_auto_rows": null,
            "grid_column": null,
            "grid_gap": null,
            "grid_row": null,
            "grid_template_areas": null,
            "grid_template_columns": null,
            "grid_template_rows": null,
            "height": null,
            "justify_content": null,
            "justify_items": null,
            "left": null,
            "margin": null,
            "max_height": null,
            "max_width": null,
            "min_height": null,
            "min_width": null,
            "object_fit": null,
            "object_position": null,
            "order": null,
            "overflow": null,
            "overflow_x": null,
            "overflow_y": null,
            "padding": null,
            "right": null,
            "top": null,
            "visibility": null,
            "width": null
          }
        },
        "01b9fbdbeeea42849eb3bd631342c884": {
          "model_module": "@jupyter-widgets/controls",
          "model_name": "DescriptionStyleModel",
          "model_module_version": "1.5.0",
          "state": {
            "_model_module": "@jupyter-widgets/controls",
            "_model_module_version": "1.5.0",
            "_model_name": "DescriptionStyleModel",
            "_view_count": null,
            "_view_module": "@jupyter-widgets/base",
            "_view_module_version": "1.2.0",
            "_view_name": "StyleView",
            "description_width": ""
          }
        }
      }
    }
  },
  "nbformat": 4,
  "nbformat_minor": 0
}