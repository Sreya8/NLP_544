{
  "cells": [
    {
      "cell_type": "code",
      "execution_count": 1,
      "metadata": {
        "id": "xwiNB_6Rx5M7"
      },
      "outputs": [],
      "source": [
        "!pip install datasets\n",
        "from IPython.display import clear_output\n",
        "clear_output()"
      ]
    },
    {
      "cell_type": "markdown",
      "metadata": {
        "id": "QS-G6o0OIo0j"
      },
      "source": [
        "# **Q1.** Autograd for MLPs from scratch (20 pts)\n",
        "\n",
        "Automatic differentiation is the backbone of modern deep learning toolkits like Torch, JAX, TensorFlow, and MLX. To build an understanding of how these tools work, we will define functions and their gradients/Jacobians and compose them together to as the building blocks of a neural network\n",
        "\n",
        "The gradient of a real-valued function $f:\\mathbb{R}^n\\to\\mathbb{R}$ is a vector where\n",
        "$$\\nabla f(\\boldsymbol{x})_{i}=\\frac{\\partial f(\\boldsymbol{x})}{\\partial x_i}$$\n",
        "\n",
        "The Jacobian is a generalization of the gradient for a vector-valued function $f:\\mathbb{R}^m\\to\\mathbb{R}^n$. It is a $m\\times n$ matrix where\n",
        "$$J_f(\\boldsymbol{x})_{i,j}=\\frac{\\partial f(\\boldsymbol{x})_i}{\\partial x_j}$$\n",
        "\n",
        "Neural nets are generally built from composed functions. To calculate the Jacobian of composed functions, we can use matrix multiplication to apply the chain rule.\n",
        "\n",
        "$$\n",
        "J_{f\\circ g}(\\boldsymbol{x})\n",
        "= J_f(g(\\boldsymbol{x}))J_g(\\boldsymbol{x})\n",
        "$$\n",
        "\n",
        "([Proof](https://math.stackexchange.com/questions/3260609/how-to-show-jacobian-of-a-composite-function-is-the-product-of-jacobians).)\n",
        "\n",
        "We will define a series of functions which take 2D inputs and return 2D outputs.\n",
        "```\n",
        "arg1: (M, N)\n",
        "arg2: (O, P)\n",
        "...\n",
        "returns: (Q, R)\n",
        "```\n",
        "We will also define Jacobian functions, which return the function output as well as the Jacobian vector of each of the inputs.\n",
        "```\n",
        "arg1: (M, N)\n",
        "arg2: (O, P)\n",
        "...\n",
        "returns: (Q, R), (Q, R, M, N), (Q, R, O, P), ...\n",
        "```\n",
        "Note that the first two dimensions of the Jacobians match the output shape (Q, R), and the last two match the dimensions of the arguments so that they can be composed together\n",
        "\n",
        "```python\n",
        "output1, jac1 = func1_and_jac(x) # Shape: (M, N, O, P)\n",
        "output2, jac2 = func2_and_jac(output1) # Shape: (O, P, Q, R)\n",
        "jac = np.einsum(\"mnop,opqr->mnqr\", jac1, jac2) # Shape (M, N, Q, R)\n",
        "```"
      ]
    },
    {
      "cell_type": "code",
      "execution_count": 2,
      "metadata": {
        "id": "lr0x4JJGXn9O"
      },
      "outputs": [],
      "source": [
        "import jax\n",
        "import jax.numpy as np\n",
        "from numpy import testing\n",
        "import math\n",
        "\n",
        "def test(func, func_and_jac, *params):\n",
        "  testing.assert_allclose(func(*params), func_and_jac(*params)[0], rtol=1e-6, atol=1e-6)\n",
        "  for i in range(len(params)):\n",
        "    print(f\"Testing Jacobian of parameter {i}\")\n",
        "    testing.assert_allclose(jax.jacfwd(func, argnums=i)(*params), func_and_jac(*params)[i + 1], rtol=1e-6, atol=1e-6)\n",
        "  print(\"All passed!\")"
      ]
    },
    {
      "cell_type": "code",
      "execution_count": 3,
      "metadata": {
        "id": "ABgqxvY-p0J3",
        "colab": {
          "base_uri": "https://localhost:8080/"
        },
        "outputId": "565ce073-c232-4229-e274-650f139109de"
      },
      "outputs": [
        {
          "output_type": "stream",
          "name": "stdout",
          "text": [
            "Testing Jacobian of parameter 0\n",
            "Testing Jacobian of parameter 1\n",
            "All passed!\n"
          ]
        }
      ],
      "source": [
        "# Reference implementation of a func_and_jac function.\n",
        "def add_and_jac(x, y):\n",
        "  output = x + y\n",
        "  x_jac = np.eye(math.prod(x.shape)).reshape(*x.shape, *x.shape)\n",
        "  x_jac = np.broadcast_to(x_jac, (*output.shape, *x.shape))\n",
        "  y_jac = np.eye(math.prod(y.shape)).reshape(*y.shape, *y.shape)\n",
        "  y_jac = np.broadcast_to(y_jac, (*output.shape, *y.shape))\n",
        "  return output, x_jac, y_jac\n",
        "\n",
        "x, y = np.arange(24).reshape(2, 3, 4).astype(float)\n",
        "test(np.add, add_and_jac, x, y)"
      ]
    },
    {
      "cell_type": "markdown",
      "metadata": {
        "id": "PiL_MwUGst78"
      },
      "source": [
        "## Q1.1 (5 pts)\n",
        "Now its your turn: define the Jacobian of the matmul function. You can use `jax.jacfwd` to help check your work, but you should only use `numpy` functions in your solution."
      ]
    },
    {
      "cell_type": "code",
      "execution_count": 4,
      "metadata": {
        "id": "twyuvpUBp4NU",
        "colab": {
          "base_uri": "https://localhost:8080/"
        },
        "outputId": "d17a1591-da6c-433f-9f7c-887f892a8091"
      },
      "outputs": [
        {
          "output_type": "stream",
          "name": "stdout",
          "text": [
            "Testing Jacobian of parameter 0\n",
            "Testing Jacobian of parameter 1\n",
            "All passed!\n"
          ]
        }
      ],
      "source": [
        "def matmul_and_jac(x, y):\n",
        "  # TODO: define the Jacobian for the matmul function.\n",
        "  ### BEGIN IMPLEMENTATION ###\n",
        "  output = np.matmul(x, y)\n",
        "\n",
        "  x_jac = np.zeros((*output.shape, *x.shape))\n",
        "  y_jac = np.zeros((*output.shape, *y.shape))\n",
        "\n",
        "  output_indices = np.indices(output.shape)\n",
        "  i, j = output_indices[0], output_indices[1]\n",
        "\n",
        "  for k in range(x.shape[1]):\n",
        "    x_jac = x_jac.at[i, j, i, k].set(y[k, j])\n",
        "\n",
        "  for k in range(y.shape[0]):\n",
        "    y_jac = y_jac.at[i, j, k, j].set(x[i, k])\n",
        "\n",
        "  return output, x_jac, y_jac\n",
        "\n",
        "\n",
        "x = np.arange(12).reshape(3, 4).astype(float)\n",
        "y = np.arange(20).reshape(4, 5).astype(float)\n",
        "test(np.matmul, matmul_and_jac, x, y)"
      ]
    },
    {
      "cell_type": "markdown",
      "metadata": {
        "id": "fzME4-pEtU5t"
      },
      "source": [
        "## Q1.2 (5 pts)\n",
        "\n",
        "Now we will define a function that combine `matmul` and `add` to define the *affine* function (sometimes misleadingly called the \"linear\" function in neural network libraries)"
      ]
    },
    {
      "cell_type": "code",
      "execution_count": 5,
      "metadata": {
        "id": "atHiRVpDp6qg",
        "colab": {
          "base_uri": "https://localhost:8080/"
        },
        "outputId": "4c34a313-b28a-4ce5-82e0-c9d736cdc520"
      },
      "outputs": [
        {
          "output_type": "stream",
          "name": "stdout",
          "text": [
            "Testing Jacobian of parameter 0\n",
            "Testing Jacobian of parameter 1\n",
            "Testing Jacobian of parameter 2\n",
            "All passed!\n"
          ]
        }
      ],
      "source": [
        "def affine(x, w, b):\n",
        "  return np.dot(x, w) + b\n",
        "\n",
        "def affine_and_jac(x, w, b):\n",
        "  # TODO: use add_and_jac and matmul_and_jac\n",
        "  # to define the Jacobian of the affine function\n",
        "  ### BEGIN IMPLEMENTATION ###\n",
        "  matmul_output, x_jac, w_jac = matmul_and_jac(x, w)\n",
        "  add_output, matmul_jac, b_jac = add_and_jac(matmul_output, b)\n",
        "  return add_output, x_jac, w_jac, b_jac\n",
        "\n",
        "x = np.arange(12).reshape(3, 4).astype(float)\n",
        "w = np.arange(20).reshape(4, 5).astype(float)\n",
        "b = np.arange(5).reshape(1, 5).astype(float)\n",
        "test(affine, affine_and_jac, x, w, b)"
      ]
    },
    {
      "cell_type": "markdown",
      "metadata": {
        "id": "HTLbNskOtzCe"
      },
      "source": [
        "## Q1.3 (5 pts)\n",
        "Now lets define the Jacobian of some nonlinear functions (we'll implemnt `relu`, you implement `logsoftmax`.)"
      ]
    },
    {
      "cell_type": "code",
      "execution_count": 6,
      "metadata": {
        "id": "ScKwmMiurkp_",
        "colab": {
          "base_uri": "https://localhost:8080/"
        },
        "outputId": "dca6f5bf-2aef-42b6-a084-ee99e64ef2d4"
      },
      "outputs": [
        {
          "output_type": "stream",
          "name": "stdout",
          "text": [
            "Testing Jacobian of parameter 0\n",
            "All passed!\n"
          ]
        }
      ],
      "source": [
        "def relu(x):\n",
        "  return np.maximum(x, 0)\n",
        "\n",
        "def relu_and_jac(x):\n",
        "  # Some libraries define $d relu(0) / dx$ to be 0.5.\n",
        "  x_jac = (np.diagflat(x > 0) + np.diagflat(x == 0) / 2).reshape(*x.shape, *x.shape)\n",
        "  return np.maximum(x, 0), x_jac\n",
        "\n",
        "def logsoftmax(x):\n",
        "  stabilized_x = x - np.max(x, axis=1, keepdims=True)\n",
        "  return stabilized_x - np.log(np.sum(np.exp(stabilized_x), axis=1, keepdims=True))\n",
        "\n",
        "def logsoftmax_and_jac(x):\n",
        "  # TODO: define the Jacobian of the log_softmax function\n",
        "  ### BEGIN IMPLEMENTATION ###\n",
        "  output = logsoftmax(x)\n",
        "  softmax_output = np.exp(output)\n",
        "\n",
        "  jacobian = np.zeros((*output.shape, *x.shape))\n",
        "  for i in range(x.shape[0]):\n",
        "    for j in range(x.shape[1]):\n",
        "      for k in range(x.shape[1]):\n",
        "        if j == k:\n",
        "          jacobian = jacobian.at[i, j, i, k].set(1 - softmax_output[i, k])\n",
        "        else:\n",
        "          jacobian = jacobian.at[i, j, i, k].set(-softmax_output[i, k])\n",
        "  return output, jacobian\n",
        "\n",
        "x = np.arange(12).reshape(3, 4).astype(float)\n",
        "test(logsoftmax, logsoftmax_and_jac, x)"
      ]
    },
    {
      "cell_type": "markdown",
      "metadata": {
        "id": "pmLjPdUArqof"
      },
      "source": [
        "Now that you have all the building blocks, we can compose them together to create an MLP and its Jacobian!"
      ]
    },
    {
      "cell_type": "code",
      "execution_count": 7,
      "metadata": {
        "id": "6-MrO-19rt0-",
        "colab": {
          "base_uri": "https://localhost:8080/"
        },
        "outputId": "9e261f25-aade-4bff-ea53-cdfea90d94e9"
      },
      "outputs": [
        {
          "output_type": "stream",
          "name": "stdout",
          "text": [
            "Testing MLP Jacobian\n",
            "Passed!\n"
          ]
        }
      ],
      "source": [
        "# Here are some utilities to deal with nested parameters and composing the Jacobians we defined.\n",
        "def tree_map(func, *trees: np.ndarray | tuple[np.ndarray], **kwargs):\n",
        "  if not isinstance(trees[0], tuple):\n",
        "    return func(*trees, **kwargs)\n",
        "  else:\n",
        "    return tuple(tree_map(func, *subtrees, **kwargs) for subtrees in zip(*trees))\n",
        "\n",
        "def sequential(func_and_jac_seq):\n",
        "  def func_and_jac(x, params_seq):\n",
        "    params_jac = ()\n",
        "    x, x_jac, _ = add_and_jac(x, np.zeros_like(x))\n",
        "    for func_and_jac, params in zip(func_and_jac_seq, params_seq):\n",
        "      x, x_layer_jac, *param_layer_jacs = func_and_jac(x, *params)\n",
        "      params_jac = tree_map(lambda param: np.einsum(\"...kl,klmn->...mn\", x_layer_jac, param), params_jac)\n",
        "      x_jac = np.einsum(\"...kl,klmn->...mn\", x_layer_jac, x_jac)\n",
        "      params_jac += (tuple(param_layer_jacs),)\n",
        "    return x, x_jac, params_jac\n",
        "  return func_and_jac\n",
        "\n",
        "# Here is a 2-layer MLP\n",
        "def mlp(x, params):\n",
        "  affine1_params, _, affine2_params, _ = params\n",
        "  return logsoftmax(affine(relu(affine(x, *affine1_params)), *affine2_params))\n",
        "\n",
        "# ...and its Jacobian!\n",
        "mlp_and_jac = sequential(\n",
        "    [affine_and_jac, relu_and_jac, affine_and_jac, logsoftmax_and_jac]\n",
        ")\n",
        "\n",
        "import numpy\n",
        "\n",
        "mlp_params = (\n",
        "    (\n",
        "      numpy.random.randn(10,100), # first matmul\n",
        "      numpy.random.randn(1, 100) # first bias\n",
        "    ),\n",
        "    (), # relu has no params\n",
        "    (\n",
        "      numpy.random.randn(100,10), # final matmul\n",
        "      numpy.random.randn(1, 10) # final bias\n",
        "    ),\n",
        "    (), # logsoftmax has no params\n",
        ")\n",
        "\n",
        "x = numpy.random.randn(3,10)\n",
        "y = np.eye(10)[numpy.random.randint(0, 10, size=3)]\n",
        "print(\"Testing MLP Jacobian\")\n",
        "tree_map(\n",
        "  numpy.testing.assert_allclose,\n",
        "  jax.jacfwd(mlp, argnums=1)(x, mlp_params),\n",
        "  mlp_and_jac(x, mlp_params)[2],\n",
        "  atol=1e-5\n",
        ")\n",
        "print(\"Passed!\")"
      ]
    },
    {
      "cell_type": "markdown",
      "metadata": {
        "id": "8QJUAhh0sInG"
      },
      "source": [
        "## Q1.4 (5 pts)\n",
        "Given the MLP Jacobian, if we define a loss function and its gradient, we can compose them together to get the parameter gradients of the MLP."
      ]
    },
    {
      "cell_type": "code",
      "execution_count": 8,
      "metadata": {
        "id": "CupWwxYyr8x4",
        "colab": {
          "base_uri": "https://localhost:8080/"
        },
        "outputId": "343a344a-107c-4702-decc-86a3315a9708"
      },
      "outputs": [
        {
          "output_type": "stream",
          "name": "stdout",
          "text": [
            "Testing MLP grad\n",
            "All tests passed!\n"
          ]
        }
      ],
      "source": [
        "def cross_entropy_loss(params, x, y):\n",
        "  logprobs = mlp(x, params)\n",
        "  return -np.mean(np.sum(logprobs * y, axis=1))\n",
        "\n",
        "def cross_entropy_loss_and_grad(logprobs, y):\n",
        "    return -np.mean(np.sum(logprobs * y, axis=1)), -y / logprobs.shape[0]\n",
        "\n",
        "x = numpy.random.randn(3,10)\n",
        "y = np.eye(10)[numpy.random.randint(0, 10, size=3)]\n",
        "logprobs, x_jac, params_jac = mlp_and_jac(x, mlp_params)\n",
        "loss, output_grad = cross_entropy_loss_and_grad(logprobs, y)\n",
        "\n",
        "param_grads = tree_map(\n",
        "    # TODO: Write the function to compute the parameter gradients\n",
        "    # using the output_grad and each parameter jacobian.\n",
        "    # BEGIN IMPLEMENTATION\n",
        "    lambda jacobian: np.tensordot(output_grad, jacobian, axes=[[0, 1], [0, 1]]),\n",
        "    params_jac\n",
        ")\n",
        "\n",
        "print(\"Testing MLP grad\")\n",
        "jax_grads = jax.grad(cross_entropy_loss)(mlp_params, x, y)\n",
        "tree_map(numpy.testing.assert_allclose, param_grads, jax_grads, atol=1e-5)\n",
        "print(\"All tests passed!\")"
      ]
    },
    {
      "cell_type": "markdown",
      "metadata": {
        "id": "wfb-MVQRsa0m"
      },
      "source": [
        "Now that you have a taste for how autodiff works, take a look at this example, where we use JAX's autograd to do gradient descent, training an MLP to mimic a the sine function."
      ]
    },
    {
      "cell_type": "code",
      "execution_count": 9,
      "metadata": {
        "id": "z_7BuXtkseTE",
        "colab": {
          "base_uri": "https://localhost:8080/",
          "height": 600
        },
        "outputId": "6b16543c-fb7f-4452-bd3f-8751c1eff48e"
      },
      "outputs": [
        {
          "output_type": "stream",
          "name": "stdout",
          "text": [
            "Epoch 0, Loss: 22.767864227294922\n",
            "Epoch 1000, Loss: 0.06815874576568604\n",
            "Epoch 2000, Loss: 0.02795281633734703\n",
            "Epoch 3000, Loss: 0.012034187093377113\n",
            "Epoch 4000, Loss: 0.0061746444553136826\n",
            "Epoch 5000, Loss: 0.0037407446652650833\n",
            "Epoch 6000, Loss: 0.0024744884576648474\n",
            "Epoch 7000, Loss: 0.0017195675754919648\n",
            "Epoch 8000, Loss: 0.0013325471663847566\n",
            "Epoch 9000, Loss: 0.00105439149774611\n"
          ]
        },
        {
          "output_type": "display_data",
          "data": {
            "text/plain": [
              "<Figure size 640x480 with 1 Axes>"
            ],
            "image/png": "[encoded data removed]"
          },
          "metadata": {}
        }
      ],
      "source": [
        "# Nothing to do in this cell, just a reference implementation.\n",
        "\n",
        "import jax.numpy as jnp\n",
        "from jax import random, grad, jit\n",
        "import matplotlib.pyplot as plt\n",
        "\n",
        "# 1. Define the MLP Model\n",
        "def init_mlp_params(layer_sizes, key):\n",
        "    \"\"\"Initialize the parameters for an MLP.\"\"\"\n",
        "    params = []\n",
        "    keys = random.split(key, len(layer_sizes) - 1)\n",
        "    for in_size, out_size, key in zip(layer_sizes[:-1], layer_sizes[1:], keys):\n",
        "        weight_key, bias_key = random.split(key)\n",
        "        W = random.normal(weight_key, (in_size, out_size)) * jnp.sqrt(2.0 / in_size)\n",
        "        b = jnp.zeros(out_size)\n",
        "        params.append((W, b))\n",
        "    return params\n",
        "\n",
        "def mlp(params, x):\n",
        "    \"\"\"Forward pass for an MLP.\"\"\"\n",
        "    activations = x\n",
        "    for W, b in params[:-1]:\n",
        "        activations = jax.nn.relu(jnp.dot(activations, W) + b)\n",
        "    final_W, final_b = params[-1]\n",
        "    return jnp.dot(activations, final_W) + final_b\n",
        "\n",
        "# 2. Define the loss function\n",
        "def loss_fn(params, x, y):\n",
        "    predictions = mlp(params, x)\n",
        "    return jnp.mean((predictions - y) ** 2)\n",
        "\n",
        "# 3. Generate data (sine function between -π and π)\n",
        "key = random.PRNGKey(0)\n",
        "x_train = jnp.linspace(-jnp.pi, jnp.pi, 256).reshape(-1, 1)\n",
        "y_train = jnp.sin(x_train)\n",
        "\n",
        "# 4. Initialize the model parameters\n",
        "layer_sizes = [1, 64, 64, 1]  # MLP with two hidden layers\n",
        "params = init_mlp_params(layer_sizes, key)\n",
        "\n",
        "# 5. Gradient Descent update rule\n",
        "learning_rate = 0.01  # Set a suitable learning rate\n",
        "\n",
        "@jit\n",
        "def update(params, x, y):\n",
        "    \"\"\"Performs one update step using plain gradient descent.\"\"\"\n",
        "    grads = grad(loss_fn)(params, x, y)  # Compute gradients\n",
        "    new_params = [(W - learning_rate * dW, b - learning_rate * db)\n",
        "                  for (W, b), (dW, db) in zip(params, grads)]\n",
        "    return new_params\n",
        "\n",
        "# 6. Train the model\n",
        "num_epochs = 10000\n",
        "for epoch in range(num_epochs):\n",
        "    params = update(params, x_train, y_train)\n",
        "    if epoch % 1000 == 0:\n",
        "        loss = loss_fn(params, x_train, y_train)\n",
        "        print(f'Epoch {epoch}, Loss: {loss}')\n",
        "\n",
        "# 7. Plot the results\n",
        "x_test = jnp.linspace(-jnp.pi, jnp.pi, 256).reshape(-1, 1)\n",
        "y_pred = mlp(params, x_test)\n",
        "\n",
        "plt.plot(x_train, y_train, label='True function (sin)')\n",
        "plt.plot(x_test, y_pred, label='MLP approximation', linestyle='dashed')\n",
        "plt.legend()\n",
        "plt.show()"
      ]
    },
    {
      "cell_type": "markdown",
      "metadata": {
        "id": "jHUtRC4Cx4dc"
      },
      "source": [
        "# Q2. Co-occurrence Embeddings (20 points)\n",
        "Consider the technique of embedding words to vectors using counts of context co-occurrences, as taught in class.\n",
        "\n",
        "Here we will implement this technique to find embeddings for each unique word in the Shakespeare corpus. Later in the assignment, we will compare them to word embeddings learnt using Word2vec.\n"
      ]
    },
    {
      "cell_type": "markdown",
      "metadata": {
        "id": "PTNuAnESrkJl"
      },
      "source": [
        "\n",
        "## Q2.1 Co-occurrence + PPMI (15 points)\n",
        "\n",
        "(Full credit if close enough to the asserted value)\n",
        "\n",
        "Fill in the code to complete the implementation of calculating co-occurrences and also weighing them by PPMI (Positive Pointwise Mutual Infomation) as taught in class. All assert statements should pass. Use a span length of `5` words on each side (total window length 11) as already set default in the starter code provided.\n",
        "\n",
        "Note: Use log base e in your PPMI formula as mentioned in class slides."
      ]
    },
    {
      "cell_type": "code",
      "execution_count": 10,
      "metadata": {
        "id": "ehw3TlEF4oWo",
        "colab": {
          "base_uri": "https://localhost:8080/"
        },
        "outputId": "cd5c596d-60b4-42c5-f792-16d3ebb76980"
      },
      "outputs": [
        {
          "output_type": "execute_result",
          "data": {
            "text/plain": [
              "(1115394,\n",
              " 'First Citizen:\\nBefore we proceed any further, hear me speak.\\n\\nAll:\\nSpeak, speak.\\n\\nFirst Citizen:\\nYou')"
            ]
          },
          "metadata": {},
          "execution_count": 10
        }
      ],
      "source": [
        "# Download data - do not change\n",
        "import requests\n",
        "import numpy as np\n",
        "from tqdm.notebook import tqdm\n",
        "import time\n",
        "\n",
        "url = \"https://raw.githubusercontent.com/karpathy/char-rnn/master/data/tinyshakespeare/input.txt\"\n",
        "response = requests.get(url)\n",
        "response.raise_for_status() # Raise an exception for invalid HTTP status codes\n",
        "text_data = response.text\n",
        "len(text_data), text_data[:100]\n"
      ]
    },
    {
      "cell_type": "code",
      "execution_count": 11,
      "metadata": {
        "id": "KQCd1lgS5raE",
        "colab": {
          "base_uri": "https://localhost:8080/"
        },
        "outputId": "d50d8e45-b460-4d64-9114-f2139cc29be2"
      },
      "outputs": [
        {
          "output_type": "execute_result",
          "data": {
            "text/plain": [
              "(1451204,\n",
              " '<s> First Citizen: </s> <s> Before we proceed any further , hear me speak .  </s> <s> All: </s> <s> ')"
            ]
          },
          "metadata": {},
          "execution_count": 11
        }
      ],
      "source": [
        "\n",
        "# preprocessing - do not change\n",
        "text_data = response.text\n",
        "text_data = text_data.replace(',',' , ').replace('.',' . ').replace('?',' ? ').replace('!',' ! ')\n",
        "text_data = text_data.replace('  ', ' ')\n",
        "text_data = text_data.replace('\\n\\n','\\n').replace('\\n',' </s> <s> ')\n",
        "text_data = '<s> ' + text_data + ' </s>'\n",
        "len(text_data), text_data[:100]"
      ]
    },
    {
      "cell_type": "code",
      "execution_count": 12,
      "metadata": {
        "id": "GAQCKh8v4rN0"
      },
      "outputs": [],
      "source": [
        "data = text_data.split(' ')\n",
        "vocab = list(set(data))\n",
        "revmap = {v:k for k,v in enumerate(vocab)} # dictionary to map words to indices\n"
      ]
    },
    {
      "cell_type": "code",
      "execution_count": 13,
      "metadata": {
        "id": "Fo9XV5LX44LC",
        "colab": {
          "base_uri": "https://localhost:8080/",
          "height": 66,
          "referenced_widgets": [
            "67d8c1a1a9e84a8488afb11ba9fccec1",
            "a5a8fbfa4d5044f1bcc02afd8e18db52",
            "066ea1e0c3d940b28e60ef9f8ebbc362",
            "3328f108de204a54879c3938b0630a46",
            "fa6b2a11db1b47e3bc79a5ecddcf426e",
            "01712ac204cd44a7bcdd4f9df306c989",
            "0aa209b4d3d8405abeddbbf74fe16113",
            "3fb46472ba4f43c69e00bb7a777ca6ba",
            "343ae075cfe0434696f50ba53a3fee1d",
            "1f128163820449109e5db9592325c4b8",
            "5ef67a6efa4f4a7dbb07b44769c8b78d"
          ]
        },
        "outputId": "af8b9184-8e31-43c8-e624-e49335b4a657"
      },
      "outputs": [
        {
          "output_type": "display_data",
          "data": {
            "text/plain": [
              "  0%|          | 0/316243 [00:00<?, ?it/s]"
            ],
            "application/vnd.jupyter.widget-view+json": {
              "version_major": 2,
              "version_minor": 0,
              "model_id": "67d8c1a1a9e84a8488afb11ba9fccec1"
            }
          },
          "metadata": {}
        },
        {
          "output_type": "stream",
          "name": "stdout",
          "text": [
            "--- 129.26602864265442 seconds ---\n"
          ]
        }
      ],
      "source": [
        "counts = np.zeros(shape=(len(vocab), len(vocab)))\n",
        "assert counts.shape == (18118, 18118)\n",
        "\n",
        "span_length = 5\n",
        "start_time = time.time()\n",
        "\n",
        "# IMPLEMENT HERE\n",
        "\n",
        "for i,w in tqdm(enumerate(data), total=len(data)):\n",
        "  # Hint: calculate co-occurrences in each window\n",
        "  start_index = max(i - span_length, 0)\n",
        "  end_index = min(i + span_length + 1, len(data))\n",
        "  for j in range(start_index, end_index):\n",
        "    if i != j:  # Not counting the word with itself\n",
        "      counts[revmap[w], revmap[data[j]]] += 1\n",
        "\n",
        "# Hint: calculate PPMI values using co-occurrences\n",
        "total_co_occurrences = np.sum(counts)\n",
        "probs = counts / total_co_occurrences  # P(w, c) - joint probability\n",
        "word_probs = np.sum(counts, axis=1) / total_co_occurrences\n",
        "context_probs = np.sum(counts, axis=0) / total_co_occurrences  # P(c) - probability of context c\n",
        "\n",
        "# PPMI calculation\n",
        "ppmi = np.zeros_like(counts)\n",
        "for i in range(len(vocab)):\n",
        "  for j in range(len(vocab)):\n",
        "    if probs[i, j] > 0:\n",
        "      ppmi[i, j] = max(0, np.log(probs[i, j] / (word_probs[i] * context_probs[j])))\n",
        "\n",
        "# Hint: Find L2 norms to convinently calculate cosine similiarity scores\n",
        "ppmi_norms = np.sqrt(np.sum(ppmi ** 2, axis=1))\n",
        "\n",
        "### END OF IMPLEMENTATION ####\n",
        "print(\"--- %s seconds ---\" % (time.time() - start_time))\n",
        "# Note down this Training Time\n",
        "\n",
        "assert ppmi.shape == (len(vocab), len(vocab))\n",
        "assert counts[revmap['First'],revmap['Citizen:']] == 44.\n",
        "np.testing.assert_allclose(ppmi[revmap['First'],revmap['Citizen:']], 4.024266, rtol=1e-3)"
      ]
    },
    {
      "cell_type": "markdown",
      "metadata": {
        "id": "4UTV3lFlZcvf"
      },
      "source": [
        "## Q2.2 Nearest Neighbours (5 points)\n",
        "Implement the function `get_nearest_neighbours` which given a target word (e.g., `eye`) or a vector (e.g., `[0.123, 1.993, ...]` as well as a 2D array `vectors` and the corresponding list of words `vocab`, returns `top_k` words that are most similar to the target vector in the embedding space, as measured by cosine similarity. Note that the closest word to the vector of `eye` must be `eye`."
      ]
    },
    {
      "cell_type": "code",
      "execution_count": 14,
      "metadata": {
        "id": "fcnL7Yvfw0fr"
      },
      "outputs": [],
      "source": [
        "def get_nearest_neighbours(word_or_vector, vectors=ppmi, top_k=5, vocab=vocab, norms=ppmi_norms):\n",
        "# IMPLEMENT HERE\n",
        "  # Hint: L2 norms can be used for ease of calculating cosine similarity.\n",
        "  # Hint: avoid iterating over vocabulary and use np.dot matrix multiplication.\n",
        "  # Hint: sort by cosine similarity scores.\n",
        "  if isinstance(word_or_vector, str):\n",
        "    index = revmap[word_or_vector]\n",
        "    target_vector = vectors[index]\n",
        "  else:\n",
        "    target_vector = np.array(word_or_vector)\n",
        "\n",
        "  similarities = np.dot(vectors, target_vector) / (norms * np.linalg.norm(target_vector))\n",
        "  nearest_indices = np.argsort(similarities)[-top_k:][::-1]\n",
        "  nearest_words = [vocab[i] for i in nearest_indices]\n",
        "\n",
        "  return nearest_words"
      ]
    },
    {
      "cell_type": "code",
      "execution_count": 15,
      "metadata": {
        "id": "XFmwDCAIMaYk",
        "colab": {
          "base_uri": "https://localhost:8080/"
        },
        "outputId": "0a771d70-66fc-44f0-8afc-6d6fa232ae70"
      },
      "outputs": [
        {
          "output_type": "stream",
          "name": "stdout",
          "text": [
            "['he', 'hath', 'his', 'is', 'that']\n"
          ]
        }
      ],
      "source": [
        "get_nearest_neighbours('he')\n",
        "print(get_nearest_neighbours('he'))\n",
        "assert 'he' in get_nearest_neighbours('he')"
      ]
    },
    {
      "cell_type": "markdown",
      "metadata": {
        "id": "n0UueucVoP_L"
      },
      "source": [
        "Here we will evaluate the embeddings on Analogy Task. You do not need to implement anything in this subsection.\n",
        "Do not be concerned if your output results in a low score. Hit@100 is a metric which checks whether the ground truth answer was among the top 100 predictions made by a model.\n",
        "\n",
        "**Do note down the time taken to run inference over the benchmark, and the final Hit@100 scores.**\n"
      ]
    },
    {
      "cell_type": "code",
      "execution_count": 16,
      "metadata": {
        "id": "rBPggSzNdQRo",
        "colab": {
          "base_uri": "https://localhost:8080/",
          "height": 66,
          "referenced_widgets": [
            "a434411ef5594407b0b21cd49e63b048",
            "51ee6a36a22e4cc6907e765f05277f86",
            "02a0a7868fc94f33902ae2b182a63cc1",
            "7c8d74ed6fe14a05b3fcea35fa63fa2c",
            "5ddde4b657f44a3bb6754c699e53b916",
            "e76a87c911f7496bba7c3d846263b730",
            "a04302c4cc2b430ebc316d532b26b9b0",
            "7e4fe248d2b94ecb881ffa8c069d7917",
            "cdc884bfd76e48db8a8aa340f7f69af3",
            "46609ca1749445aebb5754d1e6e926ac",
            "214a10e7621b4365a9400ed294d6da9d"
          ]
        },
        "outputId": "2674e6b5-e774-4666-dc1f-def043f71e91"
      },
      "outputs": [
        {
          "output_type": "display_data",
          "data": {
            "text/plain": [
              "  0%|          | 0/19559 [00:00<?, ?it/s]"
            ],
            "application/vnd.jupyter.widget-view+json": {
              "version_major": 2,
              "version_minor": 0,
              "model_id": "a434411ef5594407b0b21cd49e63b048"
            }
          },
          "metadata": {}
        },
        {
          "output_type": "execute_result",
          "data": {
            "text/plain": [
              "(2396, ['write', 'writes', 'work', 'works'])"
            ]
          },
          "metadata": {},
          "execution_count": 16
        }
      ],
      "source": [
        "# Download and preprocessing data - do not change\n",
        "import requests\n",
        "import numpy as np\n",
        "from tqdm.notebook import tqdm\n",
        "\n",
        "url = \"http://download.tensorflow.org/data/questions-words.txt\"\n",
        "response = requests.get(url)\n",
        "response.raise_for_status() # Raise an exception for invalid HTTP status codes\n",
        "analogy = response.text.split('\\n')\n",
        "\n",
        "# filtering out analogies that do not exist in our vocabulary\n",
        "task = []\n",
        "for line in tqdm(analogy, total=len(analogy)):\n",
        "  row = line.split(' ')\n",
        "  if len(row) != 4 or line.startswith(':'):\n",
        "    continue\n",
        "  if sum(_ in vocab for _ in row) == 4:\n",
        "    task.append(row)\n",
        "len(task), task[-1]"
      ]
    },
    {
      "cell_type": "code",
      "execution_count": 17,
      "metadata": {
        "id": "tGZlm9OedSuG",
        "colab": {
          "base_uri": "https://localhost:8080/",
          "height": 100,
          "referenced_widgets": [
            "7e9adb042cc745929be123b506714e54",
            "45f32da5da0843819da754199180d42d",
            "e630ce61f92449d09800d62600fe24b8",
            "9b17017b360b41c48bae6dc6e00798e8",
            "9af4da0021cd40c4a08180ffa334b4c9",
            "39f7a56dbdd7462782243eae68e8a1c2",
            "e8a0520113f948dc85d3861ff445fcda",
            "5b1600c9c93a43839c926d28c336a7ba",
            "d706888578a94d26a599dbcb51d85d05",
            "776629c386df47cda9bb30d7363567ba",
            "4e2d745c08a24e85b418e347c8e8cbc8"
          ]
        },
        "outputId": "4d67eea6-8b6c-4b31-b04d-79ec743ea0ad"
      },
      "outputs": [
        {
          "output_type": "display_data",
          "data": {
            "text/plain": [
              "  0%|          | 0/50 [00:00<?, ?it/s]"
            ],
            "application/vnd.jupyter.widget-view+json": {
              "version_major": 2,
              "version_minor": 0,
              "model_id": "7e9adb042cc745929be123b506714e54"
            }
          },
          "metadata": {}
        },
        {
          "output_type": "stream",
          "name": "stdout",
          "text": [
            "inference time: 12.084386587142944\n",
            "Acc/len: 0.00041736227045075126\n",
            "Acc/50: 0.02\n"
          ]
        }
      ],
      "source": [
        "# Inference over Analogy Benchmark - do not change\n",
        "start_time = time.time()\n",
        "acc = 0.\n",
        "for a,b,c,d in tqdm(task[:50]): # Note down this Inference Time\n",
        "  d_ = get_nearest_neighbours(\n",
        "        word_or_vector=ppmi[revmap[a]]+ppmi[revmap[b]]-ppmi[revmap[c]],\n",
        "        top_k=100\n",
        "      )\n",
        "  if d in d_:\n",
        "    acc += 1\n",
        "print('inference time:', time.time() - start_time)\n",
        "print(\"Acc/len:\", acc/len(task))\n",
        "print(\"Acc/50:\", acc/50)"
      ]
    },
    {
      "cell_type": "markdown",
      "metadata": {
        "id": "rV4ycjVinvac"
      },
      "source": [
        "# **Q3.** Word2vec Gradient Derivation (10 points)\n",
        "\n",
        "Remember the negative sampling loss function for Word2vec from the [lecture](https://drive.google.com/file/d/1xN5FiqtutlFrhID64qDGA3DqaZMIZfMh/view). Given the target word embedding $w$, context word embedding $c_\\text{pos}$ from positive examples, and $K$ noise word embeddings $c_\\text{neg$_i$}$ from negative examples,\n",
        "\n",
        "$L = - [\\log \\sigma(w.c_\\text{pos})+\\Sigma_{i=1..K} \\log \\sigma(-w.c_\\text{neg$_i$})]$\n",
        "\n",
        "where $\\sigma$ is the sigmoid function."
      ]
    },
    {
      "cell_type": "markdown",
      "metadata": {
        "id": "it8gxqe7-3eU"
      },
      "source": [
        "## ***Q3.1*** Derive the following gradients. (4 points)\n",
        "**Hint:** First show that $\\frac{\\partial \\sigma(x)}{\\partial x} = \\sigma(x) (1 - \\sigma(x))$, and then use this throughout your derivations. Also, if you're not comfortable with LaTeX, feel free to write your answer on a sheet of paper and upload an image here."
      ]
    },
    {
      "cell_type": "markdown",
      "metadata": {
        "id": "5vi98lOd-6Ae"
      },
      "source": [
        "$\\frac{∂ L}{∂ w}$\n",
        "\n",
        "$\\frac{∂ L}{∂ c_\\text{pos}}$\n",
        "\n",
        "$\\frac{∂ L}{∂ c_\\text{neg$_i$}}$\n",
        "\n",
        "Answer:\n",
        "The derivative of the sigmoid function is:\n",
        "\n",
        "\n",
        "$\\frac{\\partial \\sigma(x)}{\\partial x} = \\sigma(x) (1 - \\sigma(x))$\n",
        "\n",
        "### Deriving \\( $\\frac{\\partial L}{\\partial w}$ \\)\n",
        "\n",
        "1. From the positive context word:\n",
        "\n",
        "$\\frac{\\partial L}{\\partial w} = -\\frac{\\partial}{\\partial w} \\log \\sigma(w \\cdot c_{\\text{pos}})$\n",
        "\n",
        "Using the chain rule:\n",
        "\n",
        "$\\frac{\\partial L}{\\partial w} = -\\frac{1}{\\sigma(w \\cdot c_{\\text{pos}})} \\cdot \\sigma(w \\cdot c_{\\text{pos}}) (1 - \\sigma(w \\cdot c_{\\text{pos}})) \\cdot c_{\\text{pos}}$\n",
        "\n",
        "$\\frac{\\partial L}{\\partial w} = - (1 - \\sigma(w \\cdot c_{\\text{pos}})) \\cdot c_{\\text{pos}}$\n",
        "\n",
        "2. From the negative context words:\n",
        "\n",
        "$\\frac{\\partial L}{\\partial w} = \\sum_{i=1}^{K} \\sigma(-w \\cdot c_{\\text{neg}_i}) \\cdot c_{\\text{neg}_i}$\n",
        "\n",
        "Combining both parts gives:\n",
        "\n",
        "$\\frac{\\partial L}{\\partial w} = - (1 - \\sigma(w \\cdot c_{\\text{pos}})) \\cdot c_{\\text{pos}} + \\sum_{i=1}^{K} \\sigma(-w \\cdot c_{\\text{neg}_i}) \\cdot c_{\\text{neg}_i}$\n",
        "\n",
        "### Deriving \\( $\\frac{\\partial L}{\\partial c_{\\text{pos}}}$ \\)\n",
        "\n",
        "From the positive context word:\n",
        "\n",
        "$\\frac{\\partial L}{\\partial c_{\\text{pos}}} = -\\frac{\\partial}{\\partial c_{\\text{pos}}} \\log \\sigma(w \\cdot c_{\\text{pos}})$\n",
        "\n",
        "Using the chain rule:\n",
        "\n",
        "$\\frac{\\partial L}{\\partial c_{\\text{pos}}} = -\\frac{1}{\\sigma(w \\cdot c_{\\text{pos}})} \\cdot \\sigma(w \\cdot c_{\\text{pos}}) (1 - \\sigma(w \\cdot c_{\\text{pos}})) \\cdot w$\n",
        "\n",
        "$\\frac{\\partial L}{\\partial c_{\\text{pos}}} = - (1 - \\sigma(w \\cdot c_{\\text{pos}})) \\cdot w$\n",
        "\n",
        "### Deriving \\( $\\frac{\\partial L}{\\partial c_{\\text{neg}_i}}$ \\)\n",
        "\n",
        "From the negative context words:\n",
        "\n",
        "$\\frac{\\partial L}{\\partial c_{\\text{neg}_i}} = -\\frac{\\partial}{\\partial c_{\\text{neg}_i}} \\log \\sigma(-w \\cdot c_{\\text{neg}_i})$\n",
        "\n",
        "Using the chain rule:\n",
        "\n",
        "$\\frac{\\partial L}{\\partial c_{\\text{neg}_i}} = -\\frac{1}{\\sigma(-w \\cdot c_{\\text{neg}_i})} \\cdot \\sigma(-w \\cdot c_{\\text{neg}_i}) (1 - \\sigma(-w \\cdot c_{\\text{neg}_i})) \\cdot (-w)$\n",
        "\n",
        "$\\frac{\\partial L}{\\partial c_{\\text{neg}_i}} = (1 - \\sigma(-w \\cdot c_{\\text{neg}_i})) \\cdot w$"
      ]
    },
    {
      "cell_type": "markdown",
      "metadata": {
        "id": "JVPB3aMX-rDB"
      },
      "source": [
        "## ***Q3.2*** In your own words, describe intuitively how embeddings change when updated using SGD under the gradients above (no additional equations besides the gradients above required, description in words is enough). (3 points)"
      ]
    },
    {
      "cell_type": "markdown",
      "metadata": {
        "id": "EEk_LubW-qxz"
      },
      "source": [
        "When we use Stochastic Gradient Descent (SGD) to update word embeddings based on the gradients, the process works as follows:\n",
        "\n",
        "1. Positive Context Words: When a target word \\( w \\) is paired with a positive context word \\( $c_{\\text{pos}}$ \\), the embedding for \\( w \\) is adjusted to be more similar to \\( $c_{\\text{pos}}$ \\). This means they are pulled closer together in the embedding space, reflecting their relationship.\n",
        "\n",
        "2. Negative Context Words: Conversely, when \\( w \\) is associated with negative context words \\( $c_{\\text{neg}_i}$ \\), the updates will push those negative words further away from \\( w \\). This helps distinguish between words that should not be related.\n",
        "\n",
        "Over many iterations, these updates fine-tune the embeddings so that words that frequently appear together become more alike, while unrelated words drift apart, leading to a more accurate representation of their meanings.\n",
        "\n",
        "SGD helps words learn their meanings based on the context they appear in, making the embeddings more meaningful over time."
      ]
    },
    {
      "cell_type": "markdown",
      "metadata": {
        "id": "Uwj9em-j-esW"
      },
      "source": [
        "## ***Q3.3*** Why is negative sampling required? What happens if we solely rely on positive examples? (3 points)"
      ]
    },
    {
      "cell_type": "markdown",
      "metadata": {
        "id": "EVjjwMPZ-oZI"
      },
      "source": [
        "Negative sampling is important because it helps the model efficiently learn to distinguish between valid and invalid word pairs. Without negative sampling, the model would only learn about words that co-occur, but wouldn't understand which words shouldn't appear together, leading to poor word embeddings.\n",
        "\n",
        "Negative sampling also makes the training process faster by only updating a few random wrong examples, rather than comparing the target word to the entire vocabulary every time.\n",
        "\n",
        "Relying only on positive examples would blur the lines between words, making it hard for the model to learn meaningful differences. Negative sampling helps create clearer boundaries by introducing words that shouldn’t be similar.\n",
        "\n",
        "Negative sampling makes learning faster, improves the quality of word representations, and helps the model generalize better."
      ]
    },
    {
      "cell_type": "markdown",
      "metadata": {
        "id": "g9xeasHf_jrv"
      },
      "source": [
        "# Q4. Learn Word2Vec Embeddings (20 points)\n",
        "\n",
        "Here we will convert the above equations into code and learn word2vec embeddings for each word. We will then compare these embeddings to those learnt using PPMI in Q1."
      ]
    },
    {
      "cell_type": "markdown",
      "metadata": {
        "id": "hLD0EtaU_0yy"
      },
      "source": [
        "## Q4.1 Learning Word2vec (15 points)\n",
        "\n",
        "Implement the Word2Vec as taught in class. Use a span length of `5` words on each side (total window length 11), `50` dimensions per embeddings, `0.01` learning rate, `15` negative samples per target word, and `500_000` number of iterations or trainig updates, as already set default in the starter code provided.\n",
        "\n",
        "While calculating the loss explicitly is not needed to find gradient updates, we require you to calculate it so we can log it every 10K steps (code already provided - do not change). This will help track the loss as it goes down over training steps.\n",
        "\n",
        "Hint: Do not try to find real negatives for a given context, instead randomly sample 15 words from the vocabulary to use as negative samples, and given the size of the vocabulary, it is very unlikely to include a word among the 11 context words.\n",
        "\n",
        "**Updated Hint**: Also optionally do not try to find samples without replacement. You can use `np.random.randint` to instead sample with replacement, which is much more efficient hence brings down training time.\n",
        "\n"
      ]
    },
    {
      "cell_type": "code",
      "execution_count": 18,
      "metadata": {
        "id": "lRUSk7HWv8cP"
      },
      "outputs": [],
      "source": [
        "import scipy.special\n",
        "import numpy as np\n",
        "\n",
        "D = 50 # embedding_dimensions\n",
        "w_vectors = np.random.rand(len(vocab), D) # target\n",
        "c_vectors = np.random.rand(len(vocab), D) # context and noise"
      ]
    },
    {
      "cell_type": "code",
      "execution_count": 19,
      "metadata": {
        "id": "W_BwOXkqAA0C",
        "colab": {
          "base_uri": "https://localhost:8080/",
          "height": 916,
          "referenced_widgets": [
            "6a577ea99bd04e0489b31cc328f3f092",
            "9a0c908831794146a5115f5f8d1c4454",
            "a6299cea6f94429d81323751538f0897",
            "423f5568acf04784a148ac92c477b4c4",
            "8c05a9819f484b54bbb604a4bf1956c0",
            "4c68b213e3694003af3a87ac6c653a90",
            "e2b552b65a47417fbc2d3da9fc36bc6d",
            "35cd6b80ca92468182bb5153ec8b9f37",
            "2a890ffc28ff40bb91cebfce8b6b814f",
            "7b85e156df8a405b8f0c353450e0c96c",
            "b2f979a088864443855ec9c90f15619c"
          ]
        },
        "outputId": "2b50f397-b722-44b8-d448-6a5674af943b"
      },
      "outputs": [
        {
          "output_type": "display_data",
          "data": {
            "text/plain": [
              "  0%|          | 0/500000 [00:00<?, ?it/s]"
            ],
            "application/vnd.jupyter.widget-view+json": {
              "version_major": 2,
              "version_minor": 0,
              "model_id": "6a577ea99bd04e0489b31cc328f3f092"
            }
          },
          "metadata": {}
        },
        {
          "output_type": "stream",
          "name": "stdout",
          "text": [
            "174.59465647968315\n",
            "64.20701277722777\n",
            "45.05856866399522\n",
            "36.913025183813424\n",
            "33.0132420770445\n",
            "30.786325638850766\n",
            "28.30222803595559\n",
            "26.25783234772167\n",
            "25.184477212151243\n",
            "23.94493055027992\n",
            "23.01422088254867\n",
            "21.87240519062544\n",
            "21.33630741388984\n",
            "20.855626703217183\n",
            "19.99273670645486\n",
            "19.23803892509387\n",
            "18.871512115459698\n",
            "18.39730315493043\n",
            "18.449346449945924\n",
            "18.026884046907966\n",
            "16.86083620215875\n",
            "17.175152128841187\n",
            "16.645157674509186\n",
            "15.755043807086619\n",
            "15.610245213993117\n",
            "15.231853740813865\n",
            "15.50366845900375\n",
            "15.06799928054525\n",
            "14.937545047696375\n",
            "14.519309158179153\n",
            "14.63412228870535\n",
            "14.187654049051474\n",
            "14.646654456888218\n",
            "13.830033659851754\n",
            "13.653380613032091\n",
            "13.588566979341227\n",
            "13.366099021840249\n",
            "13.287656363194543\n",
            "12.807396915533925\n",
            "13.011373499039259\n",
            "12.593738317613697\n",
            "12.607712931621725\n",
            "12.63655248507435\n",
            "12.688427942513654\n",
            "12.09352139284036\n",
            "11.973411992307705\n",
            "12.263657828813145\n",
            "12.192213898684894\n",
            "11.674529081098678\n",
            "12.162045882587917\n",
            "training time: 280.7902374267578\n"
          ]
        }
      ],
      "source": [
        "start_time = time.time()\n",
        "LR = 1e-2 # learning_rate\n",
        "K = 15 # num_negatives\n",
        "span_length = 5 # number of words before and after target in context\n",
        "num_iter = 500_000 # number of iterations or update steps\n",
        "\n",
        "losses = []\n",
        "for iter in tqdm(range(num_iter)): # # Note down this Training Time\n",
        "  # IMPLEMENT HERE\n",
        "  # Hint: Pick a random target word from data, then iterate over each positive word in its context (using span_length)\n",
        "  # Hint: Fetch target, context, and negatives from w_vectors and c_vectors.\n",
        "  # Hint: Calculate gradient updates as derived in Q2.\n",
        "  # Hint: You may use scipy.special.expit function to implement sigmoid.\n",
        "  # Hint: Apply gradient updates to parts of w_vectors and c_vectors properly\n",
        "  target_index = np.random.randint(0, len(data))\n",
        "\n",
        "  context_indices = range(max(0, target_index - span_length),\n",
        "                          min(len(data), target_index + span_length + 1))\n",
        "  context_words = [data[i] for i in context_indices if i != target_index]\n",
        "\n",
        "  pos_indices = [revmap[word] for word in context_words]\n",
        "  neg_indices = np.random.randint(0, len(vocab), size=K)\n",
        "  target_word = data[target_index]\n",
        "  target_vector = w_vectors[revmap[target_word]]\n",
        "\n",
        "  loss = 0\n",
        "\n",
        "  for pos_index in pos_indices:\n",
        "      pos_score = scipy.special.expit(np.dot(target_vector, c_vectors[pos_index]))\n",
        "      loss -= np.log(pos_score)\n",
        "      grad_w = (1 - pos_score) * c_vectors[pos_index]\n",
        "      grad_c = (1 - pos_score) * target_vector\n",
        "      w_vectors[revmap[target_word]] += LR * grad_w\n",
        "      c_vectors[pos_index] += LR * grad_c\n",
        "\n",
        "  for neg_index in neg_indices:\n",
        "      neg_score = scipy.special.expit(np.dot(target_vector, c_vectors[neg_index]))\n",
        "      loss -= np.log(1 - neg_score)\n",
        "      grad_neg_w = neg_score * c_vectors[neg_index]\n",
        "      grad_neg_c = neg_score * target_vector\n",
        "      w_vectors[revmap[target_word]] -= LR * grad_neg_w\n",
        "      c_vectors[neg_index] -= LR * grad_neg_c\n",
        "\n",
        "  losses.append(loss)\n",
        "\n",
        "  if iter%10_000 == 0:\n",
        "      print(sum(losses)/len(losses)) # This should go down as training proceeds\n",
        "      losses = [] # resetting log every 10K steps\n",
        "\n",
        "print('training time:', time.time()-start_time)"
      ]
    },
    {
      "cell_type": "code",
      "execution_count": 20,
      "metadata": {
        "id": "Z20QH35mcy56"
      },
      "outputs": [],
      "source": [
        "w_vectors_norms = np.linalg.norm(w_vectors, axis=1)\n",
        "c_vectors_norms = np.linalg.norm(c_vectors, axis=1)"
      ]
    },
    {
      "cell_type": "code",
      "execution_count": 21,
      "metadata": {
        "id": "3p914znskw4X",
        "colab": {
          "base_uri": "https://localhost:8080/"
        },
        "outputId": "8d0d8514-bce7-4612-ef67-348c20b0dfd9"
      },
      "outputs": [
        {
          "output_type": "execute_result",
          "data": {
            "text/plain": [
              "['First', 'the', '.', '', 'by']"
            ]
          },
          "metadata": {},
          "execution_count": 21
        }
      ],
      "source": [
        "get_nearest_neighbours('First', vectors=w_vectors, top_k=5, vocab=vocab,\n",
        "                       norms=w_vectors_norms)"
      ]
    },
    {
      "cell_type": "code",
      "execution_count": 22,
      "metadata": {
        "id": "q8nfcDWXugRR",
        "colab": {
          "base_uri": "https://localhost:8080/"
        },
        "outputId": "07701f8a-99ac-4892-dd6e-966a777a5bea"
      },
      "outputs": [
        {
          "output_type": "execute_result",
          "data": {
            "text/plain": [
              "['First', 'look', 'more', 'in', 'For']"
            ]
          },
          "metadata": {},
          "execution_count": 22
        }
      ],
      "source": [
        "get_nearest_neighbours('First', vectors=c_vectors, top_k=5, vocab=vocab,\n",
        "                       norms=c_vectors_norms)"
      ]
    },
    {
      "cell_type": "code",
      "execution_count": 23,
      "metadata": {
        "id": "x59eG1yioV9l",
        "colab": {
          "base_uri": "https://localhost:8080/",
          "height": 83,
          "referenced_widgets": [
            "e9ee9ba931cb4144b36deb8e0212ec1d",
            "a3fdf22db2794333aa61fb7e98f4fe26",
            "318b81fda1404f258d68100a1101f3c9",
            "402fe316502841639815d2a50a2883e8",
            "df7927d2eb1f4888a473d80745917607",
            "4efa9aa40cf54da29f6863bd91ad2c1f",
            "9d694f6652e3431689de7da3835f2686",
            "d86c548288b4462896fd593fb53c783d",
            "08d3f5ec621e4fceabad8b69ad8b9759",
            "3dc62e27ced144cda8d4a28f97109904",
            "9be86c6e0d024983a427309428a245d5"
          ]
        },
        "outputId": "d600416a-0fad-4df1-b67c-675f8d638776"
      },
      "outputs": [
        {
          "output_type": "display_data",
          "data": {
            "text/plain": [
              "  0%|          | 0/2396 [00:00<?, ?it/s]"
            ],
            "application/vnd.jupyter.widget-view+json": {
              "version_major": 2,
              "version_minor": 0,
              "model_id": "e9ee9ba931cb4144b36deb8e0212ec1d"
            }
          },
          "metadata": {}
        },
        {
          "output_type": "stream",
          "name": "stdout",
          "text": [
            "inference time: 8.428026676177979\n",
            "0.008764607679465776\n"
          ]
        }
      ],
      "source": [
        "# evaluation - do not change\n",
        "start_time = time.time()\n",
        "hit_at_k = 0.\n",
        "for a,b,c,d in tqdm(task): # Note down this Inference Time\n",
        "  d_ = get_nearest_neighbours(\n",
        "        word_or_vector=w_vectors[revmap[a]]+w_vectors[revmap[b]]-w_vectors[revmap[c]],\n",
        "        top_k=100,\n",
        "        vectors=w_vectors,\n",
        "        norms=w_vectors_norms,\n",
        "      )\n",
        "  # Note that we could have used c_vectors as well instead of w_vectors\n",
        "  if d in d_:\n",
        "    hit_at_k += 1\n",
        "hit_at_k/=len(task)\n",
        "print('inference time:', time.time() - start_time)\n",
        "print(hit_at_k)"
      ]
    },
    {
      "cell_type": "markdown",
      "metadata": {
        "id": "hGmHRUXWxJbI"
      },
      "source": [
        "## Q4.2 Comparison of embeddings (3 points)\n",
        "\n",
        "Now that we have trained two variants of embeddings, we can compare their results in terms of:\n",
        "- Analogy Task Hit@100 scores\n",
        "- Training and Inference Speed (time taken)\n",
        "- Memory Requirement\n",
        "\n",
        "Fill the following evaluations (based on runtime of the main loops within each embedding method, and total memory required for the embedding arrays):\n"
      ]
    },
    {
      "cell_type": "code",
      "execution_count": 24,
      "metadata": {
        "id": "wj5YcZRomI8J",
        "colab": {
          "base_uri": "https://localhost:8080/"
        },
        "outputId": "e8bfdcae-738b-4396-e7e1-2ca1b2fd99d0"
      },
      "outputs": [
        {
          "output_type": "stream",
          "name": "stdout",
          "text": [
            "PPMI Memory (MB): 2504.44\n",
            "Word2Vec Memory (MB): 6.91\n"
          ]
        }
      ],
      "source": [
        "import sys # Hint: use sys.getsizeof() and convert to MBs\n",
        "\n",
        "# IMPLEMENT HERE\n",
        "ppmi_mb = sys.getsizeof(ppmi) / (1024 ** 2)\n",
        "word2vec_mb = sys.getsizeof(w_vectors) / (1024 ** 2)\n",
        "\n",
        "print(f\"PPMI Memory (MB): {ppmi_mb:.2f}\")\n",
        "print(f\"Word2Vec Memory (MB): {word2vec_mb:.2f}\")"
      ]
    },
    {
      "cell_type": "markdown",
      "metadata": {
        "id": "oGItsjf-s0_W"
      },
      "source": [
        "\\# COMPLETE THIS TABLE.\n",
        "\n",
        "Round each value up to two decimal points and use seconds for speed, MBs for memory, and % for Analogy Hit@100 scores.\n",
        "\n",
        "Method|Training Speed|Inference Speed|Memory|Analogy\n",
        "---|---|---|---|---\n",
        "PPMI|129.27|12.08|2504.44|2%\n",
        "SGNS|280.79|8.43|6.91|0.87%"
      ]
    },
    {
      "cell_type": "markdown",
      "metadata": {
        "id": "E2NxDNdms_J8"
      },
      "source": [
        "## Q4.3 Difference in Results (2 points)\n",
        "\n",
        "Could you hypothesize the cause of the differences in training speed, inference speed, memory, and analogy results between the two methods?\n",
        "\n",
        "Training Speed: PPMI is generally faster to train because it leverages precomputed co-occurrence statistics, whereas SGNS involves iterative training with stochastic gradient descent, making it slower due to repeated updates for word pairs.\n",
        "   \n",
        "Inference Speed: PPMI is slightly slower during inference as it doesn't fine-tune word vectors for context, while SGNS, with learned embeddings, can retrieve vectors faster once trained.\n",
        "   \n",
        "Memory: PPMI uses more memory because it stores large, dense co-occurrence matrices, while SGNS only stores compact, learned word embeddings, resulting in much lower memory usage.\n",
        "   \n",
        "Analogy Performance: Despite SGNS typically being better at capturing semantic relationships, in this case, PPMI has a higher analogy score compared to SGNS. This could be because PPMI directly captures word co-occurrences, which may help in simple analogy tasks, while SGNS might require more fine-tuning or more training data to perform better."
      ]
    },
    {
      "cell_type": "markdown",
      "metadata": {
        "id": "gi4rGS71kTFK"
      },
      "source": [
        "# Q5. Context Aware Embeddings using Self-Attention (25 + 5 points)"
      ]
    },
    {
      "cell_type": "markdown",
      "metadata": {
        "id": "srk1IYYtkWuo"
      },
      "source": [
        "In this last question, you will build upon all the implementation done from Q1-4 to build your own context-aware embeddings using Self-Attention mechanism.\n",
        "\n",
        "## Recap Self-Attention\n",
        "\n",
        "Recall that Self-Attention is a type of a scaled dot-product attention. It allows the model to weigh different positions of a sequence differently when constructing a representation of that sequence. This is crucial in NLP tasks because it enables the model to focus on relevant parts of a sentence, regardless of their position in the sequence.\n",
        "\n",
        "Given an input sequence with $n$ tokens, each token is first converted into an embedding vector. Let's denote these embeddings as $\\mathbf{X} \\in \\mathbb{R}^{n \\times d_{\\text{model}}}$, where $d_{\\text{model}}$ is the dimension of the embeddings.\n",
        "\n",
        "For each token, we compute three vectors: Query ($\\mathbf{Q}$), Key ($\\mathbf{K}$), and Value ($\\mathbf{V}$). These vectors are obtained by multiplying the input embeddings by three learnable weight matrices:\n",
        "\n",
        "$$\n",
        "\\mathbf{Q} = \\mathbf{X}\\mathbf{W}_Q, \\quad \\mathbf{K} = \\mathbf{X}\\mathbf{W}_K, \\quad \\mathbf{V} = \\mathbf{X}\\mathbf{W}_V\n",
        "$$\n",
        "\n",
        "where:\n",
        "\n",
        "*  $\\mathbf{W}_Q \\in \\mathbb{R}^{d_{\\text{model}} \\times d_k}$,\n",
        "*  $\\mathbf{W}_K \\in \\mathbb{R}^{d_{\\text{model}} \\times d_k}$\n",
        "*  $\\mathbf{W}_V \\in \\mathbb{R}^{d_{\\text{model}} \\times d_v}$\n",
        "\n",
        "$d_k$ and $d_v$ are the dimensions of the Query/Key and Value vectors, respectively.\n",
        "\n",
        "The attention mechanism calculates the attention scores between the Query and Key vectors to determine how much focus should be placed on different tokens in the sequence.\n",
        "\n",
        "The attention scores are computed using the dot product of the Query and Key vectors, scaled by the square root of the dimension of the Key vectors $d_k$:\n",
        "\n",
        "$$\n",
        "\\text{Attention}(\\mathbf{Q}, \\mathbf{K}, \\mathbf{V}) = \\text{softmax}\\left(\\frac{\\mathbf{Q}\\mathbf{K}^\\top}{\\sqrt{d_k}}\\right)\\mathbf{V}\n",
        "$$\n",
        "\n",
        "Here:\n",
        "\n",
        "* $\\mathbf{Q}\\mathbf{K}^\\top$ gives the similarity scores between the Query and Key vectors.\n",
        "* $\\frac{1}{\\sqrt{d_k}}$ is a scaling factor to prevent the dot products from growing too large, which could lead to very small gradients.\n",
        "* The softmax function normalizes the scores so that they sum to 1.\n",
        "* The resulting matrix is then multiplied by the Value matrix $\\mathbf{V}$ to produce the output.\n",
        "\n"
      ]
    },
    {
      "cell_type": "markdown",
      "metadata": {
        "id": "mqQsz7mvPWXk"
      },
      "source": [
        "In this question, we will use a PyTorch-style autograd (again implemented in NumPY) instead of the JAX-style autograd from Q1. Let's first define an abstract class that will be the base of all neural network components and a few basic components. Here, backpropagation relies on forward and backward passes to calculate the gradients required for updating parameters. So each component needs to have a `forward` and `backward` method."
      ]
    },
    {
      "cell_type": "code",
      "execution_count": 25,
      "metadata": {
        "id": "vhhy9Sdtwh0G"
      },
      "outputs": [],
      "source": [
        "# do not change\n",
        "import numpy as np\n",
        "\n",
        "from abc import ABC, abstractmethod\n",
        "\n",
        "class NNComp(ABC):\n",
        "    @abstractmethod\n",
        "    def forward(self, x):\n",
        "        pass\n",
        "\n",
        "    @abstractmethod\n",
        "    def backward(self, incoming_grad):\n",
        "        pass\n",
        "\n",
        "\n",
        "class Linear(NNComp):\n",
        "    def __init__(self, in_dim, out_dim):\n",
        "        k = 1 / in_dim\n",
        "        self.in_dim = in_dim\n",
        "        self.out_dim = out_dim\n",
        "\n",
        "        # forward stuff, we need to initialize the weight and the bias\n",
        "        self.weight = np.random.uniform(-np.sqrt(k), np.sqrt(k), size=(in_dim, out_dim))\n",
        "        self.bias = np.random.uniform(-np.sqrt(k), np.sqrt(k), size=out_dim)\n",
        "\n",
        "        # backward stuff\n",
        "        self.backward_context = None\n",
        "        self.dweight = np.empty_like(self.weight, dtype=float)\n",
        "        self.dbias = np.empty_like(self.bias, dtype=float)\n",
        "\n",
        "    def forward(self, x):\n",
        "        assert np.shape(x)[-1] == self.in_dim\n",
        "        self.backward_context = x\n",
        "        return x @ self.weight + self.bias\n",
        "\n",
        "    def backward(self, incoming_grad):\n",
        "        self.dweight = self.backward_context.T @ incoming_grad\n",
        "        self.dbias = incoming_grad.sum(axis=0)\n",
        "        return incoming_grad @ self.weight.T\n",
        "\n",
        "    def update_parameters(self, lr):\n",
        "        self.weight -= lr * self.dweight\n",
        "        self.bias -= lr * self.dbias\n",
        "\n",
        "\n",
        "class LogSoftmax(NNComp):\n",
        "    def __init__(self):\n",
        "        self.backward_context = None\n",
        "\n",
        "    def forward(self, x):\n",
        "        self.backward_context = x - np.max(x, axis=-1, keepdims=True)\n",
        "        return self.backward_context - np.log(np.exp(self.backward_context).sum(axis=-1, keepdims=True))\n",
        "\n",
        "    def backward(self, incoming_grad):\n",
        "        softmax = np.exp(self.backward_context) / np.exp(self.backward_context).sum(axis=-1, keepdims=True)\n",
        "        return incoming_grad - softmax * incoming_grad.sum(axis=-1, keepdims=True)"
      ]
    },
    {
      "cell_type": "markdown",
      "metadata": {
        "id": "4wOZPRtnP9jT"
      },
      "source": [
        "## ***Q5.1*** Implement the Self-Attention Module. (10 points)\n",
        "\n",
        "Based on the description of Linear and LogSoftmax classes shown above, implement the Self-Attention module below.\n",
        "\n",
        "__Hint__: Make use of broadcasting in numpy for operations to implement attention."
      ]
    },
    {
      "cell_type": "code",
      "execution_count": 26,
      "metadata": {
        "id": "ZAUml-JelmhP"
      },
      "outputs": [],
      "source": [
        "from sklearn.feature_extraction.text import CountVectorizer\n",
        "from sklearn.linear_model import LogisticRegression\n",
        "from sklearn.metrics import accuracy_score"
      ]
    },
    {
      "cell_type": "code",
      "execution_count": 27,
      "metadata": {
        "id": "T0_n2A20kV_-"
      },
      "outputs": [],
      "source": [
        "class SelfAttention(NNComp):\n",
        "  def __init__(self, embed_dim):\n",
        "    # do not change\n",
        "    self.embed_dim = embed_dim # Specify the embedding dimension\n",
        "\n",
        "    # Initializer Q, K, V vectors\n",
        "    self.query_layer = Linear(embed_dim, embed_dim)\n",
        "    self.key_layer = Linear(embed_dim, embed_dim)\n",
        "    self.value_layer = Linear(embed_dim, embed_dim)\n",
        "    self.softmax = LogSoftmax()\n",
        "\n",
        "    self.backward_context = None\n",
        "\n",
        "  def forward(self, x):\n",
        "    # Start with setting up the Q, K, V vectors\n",
        "    # Compute the attention scores using Q, K and normalize them using softmax\n",
        "    # Combine the attention weights with V\n",
        "    # Don't forget to store the backward context\n",
        "    # IMPLEMENT HERE\n",
        "    Q = self.query_layer.forward(x)\n",
        "    K = self.key_layer.forward(x)\n",
        "    V = self.value_layer.forward(x)\n",
        "      # Compute attention scores: Q @ K^T / sqrt(d_k)\n",
        "    d_k = self.embed_dim\n",
        "    attention_scores = Q @ K.T / np.sqrt(d_k)\n",
        "\n",
        "    # Normalize attention scores using softmax\n",
        "    attention_weights = np.exp(attention_scores - np.max(attention_scores, axis=-1, keepdims=True))\n",
        "    attention_weights /= attention_weights.sum(axis=-1, keepdims=True)\n",
        "\n",
        "    # Apply attention weights to V\n",
        "    output = attention_weights @ V\n",
        "\n",
        "    # Store context for backward pass\n",
        "    self.backward_context = (x, Q, K, V, attention_weights)\n",
        "\n",
        "    return output\n",
        "\n",
        "  def backward(self, incoming_grad):\n",
        "    # Implement backward for Self-Attention, feel free to use the backward() functions defined for modules above\n",
        "    # Utilize the gradient formulation provided above\n",
        "    # IMPLEMENT HERE\n",
        "    # Retrieve context\n",
        "    x, Q, K, V, attention_weights = self.backward_context\n",
        "\n",
        "    # Gradient of the output with respect to attention weights\n",
        "    d_attention_weights = incoming_grad @ V.T\n",
        "\n",
        "    # Backpropagate through the attention weights\n",
        "    d_attention_scores = d_attention_weights * attention_weights * (1 - attention_weights)\n",
        "\n",
        "    # Backpropagate through the attention scores to get gradients for Q, K, V\n",
        "    d_Q = d_attention_scores @ K\n",
        "    d_K = d_attention_scores.T @ Q\n",
        "    d_V = attention_weights.T @ incoming_grad\n",
        "\n",
        "    # Backpropagate through the query, key, and value layers\n",
        "    d_x_query = self.query_layer.backward(d_Q)\n",
        "    d_x_key = self.key_layer.backward(d_K)\n",
        "    d_x_value = self.value_layer.backward(d_V)\n",
        "\n",
        "    # Combine gradients for input x\n",
        "    return d_x_query + d_x_key + d_x_value\n",
        "\n",
        "  def update_parameters(self, lr):\n",
        "    # Implement update here\n",
        "    # IMPLEMENT HERE\n",
        "    # Update the parameters of query, key, and value layers\n",
        "        self.query_layer.update_parameters(lr)\n",
        "        self.key_layer.update_parameters(lr)\n",
        "        self.value_layer.update_parameters(lr)\n"
      ]
    },
    {
      "cell_type": "markdown",
      "metadata": {
        "id": "BEetHtyDRhKA"
      },
      "source": [
        "## ***Q5.2*** Training Self-Attention Module (10 points)\n",
        "\n",
        "Now, you will use the word embeddings developed in Q4 (word2vec) and apply Self-Attention on them to obtain **contextual embeddings**.\n",
        "\n",
        "Contextual embeddings, like those from BERT or GPT, capture the meaning of a word based on the context in which it appears, producing different embeddings for the same word in different contexts. In contrast, Word2Vec generates static embeddings, where each word has a single fixed vector representation regardless of its context.\n",
        "\n",
        "For this, we will explore a new dataset from the [SuperGLUE Benchmark](https://super.gluebenchmark.com/) called 'Words in Context' (WiC [link text](https://aclanthology.org/N19-1128/)). This task evaluates settings where the \"context\" of the word is important to infer its meaning -- for example, the meaning of the word \"bank\" changes when used in context of money or a river.\n",
        "\n",
        "This dataset comprises of a pair of sentences, and a binary label. The label is 1 if a target word is used in the same context, and 0 otherwise. See examples below."
      ]
    },
    {
      "cell_type": "code",
      "execution_count": 28,
      "metadata": {
        "id": "CWAcFkkYD55D",
        "colab": {
          "base_uri": "https://localhost:8080/",
          "height": 331,
          "referenced_widgets": [
            "0ddb565175594bff9baff982883ceabf",
            "5c03f6393db74c48891b35fc1d479dc1",
            "bb83ab0a49f142d3a878f6dac442f430",
            "f5745a0b54aa45629439e44fe3b9f9a5",
            "95d5ca15de64483b8d6fcf86d4e6e595",
            "c0ccfa67dffa45ffbf361dc8d3c05744",
            "01851e7f14f740beb54c3746835f4074",
            "79a90a6467cc4d16bf755a390e8baec5",
            "1d8a6715bbd241a585e2a844d785fe4d",
            "ce9d992cac0b4f26b303fae78bec08fb",
            "f72f7d43a83a4cec9978e777a979817f",
            "61433ced22c04a1a901dce0979a16393",
            "254bfd64136d4b5ab22928e1e6596b73",
            "49593fc669a74c33bae810b29fc5664e",
            "01405c9206324bf1953321d5e1281178",
            "263a250feba14d71aac48c05129f5cdc",
            "f9a7e0a3f7f7417aa0036720608301d1",
            "3ab39ce772f1406699a1682a5e035b9f",
            "3dafdc7975cd48a5838c980c37e743cb",
            "3e58f64207994e9993118edc4a4ca6cf",
            "82862a8056f64d34927e152ffe54a8cd",
            "41b16adb85c549beb86085da5ab49287",
            "19298ec081b64632b94a21cfa03f08e2",
            "7ddc9c02b43b462b8c328feafd2fcfa2",
            "edd056fd310f449f97a0d5c7e48fe2bd",
            "6a9e91817de646dfb4a5c7e71efaf1ba",
            "2604af414ff1473ab82245349bc2ae9f",
            "eff972a1aa83439c8ab76e450b898713",
            "e6eb3a519bbf4ddca8a9efc3cea03b89",
            "665a45efa034466098f88234b77c5ebc",
            "be26fb7e19764e51a8e6be81098db44c",
            "b481d59c58334dcbabd2b1eabfe49ff5",
            "0588f3a9599944f380d4b63728b77f0a",
            "bf2966a5711345e79da215cd214a4f5f",
            "efe1b65f4f5242adba53a585a4d4bb8c",
            "223ff98524634d9daf0ba4da48795979",
            "d3180e76c89e49dea9ae859a5003e665",
            "cc438f6cbf614fae8cf225c215d96419",
            "6ace4c94fd884122a263b4bd13fd482e",
            "4608d81e93ee46869bdda440dbdaf5c6",
            "1b0e01cc69e54a579da6c589ed011153",
            "66142d8d25b14121bf83064145c53370",
            "a7b0263a6d6e44469a2c9dbe5b001e84",
            "600ddaa77c5c4a578efb797af2c5449e",
            "506264241bf747eb83b597bdf4d1d56a",
            "87499d6a1c25439c8cfd706e4628b42f",
            "13a858d836c34e3e9192dcf3877f1993",
            "5d16e174190546a691466aa94dd9a548",
            "978da01541384011b60fb9e67fd28874",
            "256f9529b8ec496ba9e4cf91b14bff2c",
            "830290b42a914d1fbd98e20319269f35",
            "9c92865f6c8b4123b95de42abbfc6bdb",
            "3cf718e8c04d40e0a41ce13eaba28afe",
            "7dc3708186684bc991a9669fd3787302",
            "753249ae2adc4fc6acbb897191a87504",
            "4912efadb49f425c8a64a0bb923f4381",
            "618d45bf80de492d8982084d48c0a07c",
            "5039398f0a2f4d32916c5d81fecd05d5",
            "28874b776735418ca2aa3f06bf29182f",
            "ce4e0a3c69c0472c9b3f116c421d40ab",
            "f97a0af14f2f4d2fa8068eefd1995935",
            "b70ce96b7cea4d1f8c564734027c5ec7",
            "57e7f871e10543689edb54b09a7444fb",
            "6c4e3d4088704509b50bd053863d3a46",
            "5f361ca9bdf74bd78543b420177d2566",
            "2a2b3169f6c24f2f853340af9c1c0014"
          ]
        },
        "outputId": "dae0971a-9d3b-4e99-b513-149ed526ef5b"
      },
      "outputs": [
        {
          "output_type": "stream",
          "name": "stderr",
          "text": [
            "/usr/local/lib/python3.10/dist-packages/huggingface_hub/utils/_token.py:89: UserWarning: \n",
            "The secret `HF_TOKEN` does not exist in your Colab secrets.\n",
            "To authenticate with the Hugging Face Hub, create a token in your settings tab (https://huggingface.co/settings/tokens), set it as secret in your Google Colab and restart your session.\n",
            "You will be able to reuse this secret in all of your notebooks.\n",
            "Please note that authentication is recommended but still optional to access public models or datasets.\n",
            "  warnings.warn(\n"
          ]
        },
        {
          "output_type": "display_data",
          "data": {
            "text/plain": [
              "super_glue.py:   0%|          | 0.00/30.7k [00:00<?, ?B/s]"
            ],
            "application/vnd.jupyter.widget-view+json": {
              "version_major": 2,
              "version_minor": 0,
              "model_id": "0ddb565175594bff9baff982883ceabf"
            }
          },
          "metadata": {}
        },
        {
          "output_type": "display_data",
          "data": {
            "text/plain": [
              "README.md:   0%|          | 0.00/18.2k [00:00<?, ?B/s]"
            ],
            "application/vnd.jupyter.widget-view+json": {
              "version_major": 2,
              "version_minor": 0,
              "model_id": "61433ced22c04a1a901dce0979a16393"
            }
          },
          "metadata": {}
        },
        {
          "output_type": "display_data",
          "data": {
            "text/plain": [
              "Downloading data:   0%|          | 0.00/396k [00:00<?, ?B/s]"
            ],
            "application/vnd.jupyter.widget-view+json": {
              "version_major": 2,
              "version_minor": 0,
              "model_id": "19298ec081b64632b94a21cfa03f08e2"
            }
          },
          "metadata": {}
        },
        {
          "output_type": "display_data",
          "data": {
            "text/plain": [
              "Generating train split:   0%|          | 0/5428 [00:00<?, ? examples/s]"
            ],
            "application/vnd.jupyter.widget-view+json": {
              "version_major": 2,
              "version_minor": 0,
              "model_id": "bf2966a5711345e79da215cd214a4f5f"
            }
          },
          "metadata": {}
        },
        {
          "output_type": "display_data",
          "data": {
            "text/plain": [
              "Generating validation split:   0%|          | 0/638 [00:00<?, ? examples/s]"
            ],
            "application/vnd.jupyter.widget-view+json": {
              "version_major": 2,
              "version_minor": 0,
              "model_id": "506264241bf747eb83b597bdf4d1d56a"
            }
          },
          "metadata": {}
        },
        {
          "output_type": "display_data",
          "data": {
            "text/plain": [
              "Generating test split:   0%|          | 0/1400 [00:00<?, ? examples/s]"
            ],
            "application/vnd.jupyter.widget-view+json": {
              "version_major": 2,
              "version_minor": 0,
              "model_id": "4912efadb49f425c8a64a0bb923f4381"
            }
          },
          "metadata": {}
        }
      ],
      "source": [
        "# do not change\n",
        "from datasets import load_dataset\n",
        "\n",
        "# Load the SuperGLUE WiC dataset\n",
        "dataset = load_dataset('super_glue', 'wic', trust_remote_code=True)\n",
        "\n",
        "# Extract the training and testing data\n",
        "train_data = dataset['train']\n",
        "test_data = dataset['validation']\n",
        "\n",
        "# Prepare sentences and labels\n",
        "sentences_1_train = train_data['sentence1']\n",
        "sentences_2_train = train_data['sentence2']\n",
        "labels_train = train_data['label']\n",
        "\n",
        "sentences_1_test = test_data['sentence1']\n",
        "sentences_2_test = test_data['sentence2']\n",
        "labels_test = test_data['label']"
      ]
    },
    {
      "cell_type": "code",
      "execution_count": 29,
      "metadata": {
        "id": "LFox7OcVWRBI",
        "colab": {
          "base_uri": "https://localhost:8080/"
        },
        "outputId": "b8d6224f-6036-4ec6-ae4a-7d3ec0060885"
      },
      "outputs": [
        {
          "output_type": "execute_result",
          "data": {
            "text/plain": [
              "('Do you want to come over to my place later?',\n",
              " 'A political system with no place for the less prominent groups.',\n",
              " 0)"
            ]
          },
          "metadata": {},
          "execution_count": 29
        }
      ],
      "source": [
        "# Example of an instance where the meaning of the word \"place\" is not the same\n",
        "sentences_1_train[0], sentences_2_train[0], labels_train[0]"
      ]
    },
    {
      "cell_type": "code",
      "execution_count": 30,
      "metadata": {
        "id": "pGVa2FFGWsdd",
        "colab": {
          "base_uri": "https://localhost:8080/"
        },
        "outputId": "7040f41c-c75c-405f-b075-ea4456785f62"
      },
      "outputs": [
        {
          "output_type": "execute_result",
          "data": {
            "text/plain": [
              "('We like to summer in the Mediterranean.', 'We summered in Kashmir.', 1)"
            ]
          },
          "metadata": {},
          "execution_count": 30
        }
      ],
      "source": [
        "# Example of an instance where the meaning of the word \"summer\" is the same\n",
        "sentences_1_train[4], sentences_2_train[4], labels_train[4]"
      ]
    },
    {
      "cell_type": "markdown",
      "metadata": {
        "id": "3oK7lh85XmjJ"
      },
      "source": [
        "Given this dataset, you first need to train a Self-Attention Model over the word2vec embeddings, to better learn the context and position of words on this dataset.\n",
        "\n",
        "For training self-attention, we will make use of a Binary Cross Entropy Loss. First, we perform a forward pass through the self-attention model for both sentences:\n",
        "\n",
        "$$\n",
        "\\text{output}_1 = \\text{AttentionModel}(\\text{emb}_1) \\quad \\text{and} \\quad \\text{output}_2 = \\text{AttentionModel}(\\text{emb}_2)\n",
        "$$\n",
        "\n",
        "These outputs are the contextual embeddings for the first and second sentences, respectively.\n",
        "\n",
        "Next, we compute the similarity score between the two outputs using cosine similarity:\n",
        "\n",
        "$$\n",
        "\\text{similarity} = \\frac{\\text{output}_1 \\cdot \\text{output}_2}{\\|\\text{output}_1\\| \\|\\text{output}_2\\|}\n",
        "$$\n",
        "\n",
        "We then apply the sigmoid function to this similarity score to obtain a predicted probability:\n",
        "\n",
        "$$\n",
        "\\text{predicted} = \\frac{1}{1 + e^{-\\text{similarity}}}\n",
        "$$\n",
        "\n",
        "Given a target label $\\text{target} \\in \\{0, 1\\}$, we compute the Binary Cross-Entropy Loss:\n",
        "\n",
        "$$\n",
        "\\text{loss} = - \\left( \\text{target} \\cdot \\log(\\text{predicted} + 10^{-10}) + (1 - \\text{target}) \\cdot \\log(1 - \\text{predicted} + 10^{-10}) \\right)\n",
        "$$\n",
        "\n",
        "Note that we add $10^{-10}$ for stability in log, during training.\n",
        "\n",
        "The gradient of the loss with respect to the predicted output is:\n",
        "\n",
        "$$\n",
        "\\text{grad_loss} = \\text{predicted} - \\text{target}\n",
        "$$\n",
        "\n",
        "Finally, we backpropagate the gradients through the attention model for both embeddings.\n"
      ]
    },
    {
      "cell_type": "code",
      "execution_count": 31,
      "metadata": {
        "id": "3v2d4nOQf2FR"
      },
      "outputs": [],
      "source": [
        "# do not change, helper functions to implement padding for w2v embeddings\n",
        "\n",
        "def normalize_embeddings(embeddings):\n",
        "  mean = np.mean(embeddings, axis=0)\n",
        "  std = np.std(embeddings, axis=0)\n",
        "  return (embeddings - mean) / (std + 1e-8)\n",
        "\n",
        "def extract_w2v_embeddings(sentences, max_tokens=10):\n",
        "  embeddings = []\n",
        "  for sentence in sentences:\n",
        "    w2v_embeddings_sentence = []\n",
        "    words = sentence.split()\n",
        "\n",
        "    for word in words:\n",
        "      if word in revmap:\n",
        "        w2v_embeddings_sentence.append(w_vectors[revmap[word]])\n",
        "\n",
        "    if len(w2v_embeddings_sentence) < max_tokens:\n",
        "      pad_tokens = max_tokens - len(w2v_embeddings_sentence)\n",
        "      w2v_embeddings_sentence.extend([np.zeros(D) for i in range(pad_tokens)])\n",
        "    else:\n",
        "      w2v_embeddings_sentence = w2v_embeddings_sentence[:max_tokens]\n",
        "\n",
        "    embeddings.append(np.array(w2v_embeddings_sentence))\n",
        "\n",
        "  return embeddings\n",
        "\n",
        "input_embeddings_1 = extract_w2v_embeddings(sentences_1_train)\n",
        "input_embeddings_2 = extract_w2v_embeddings(sentences_2_train)"
      ]
    },
    {
      "cell_type": "code",
      "execution_count": 32,
      "metadata": {
        "id": "9dSYlRqJbCjH",
        "colab": {
          "base_uri": "https://localhost:8080/"
        },
        "outputId": "c7a9886a-08f8-4c9a-861c-e3d30d179e3a"
      },
      "outputs": [
        {
          "output_type": "stream",
          "name": "stdout",
          "text": [
            "Epoch 1/10, Loss: 0.7861587254621389\n",
            "Epoch 2/10, Loss: 0.7848441147400151\n",
            "Epoch 3/10, Loss: 0.7834187809114761\n",
            "Epoch 4/10, Loss: 0.7818707646312308\n",
            "Epoch 5/10, Loss: 0.7801868151907174\n",
            "Epoch 6/10, Loss: 0.7783523554953931\n",
            "Epoch 7/10, Loss: 0.7763515143055741\n",
            "Epoch 8/10, Loss: 0.7741672679582406\n",
            "Epoch 9/10, Loss: 0.7717817519755882\n",
            "Epoch 10/10, Loss: 0.7691768259649387\n"
          ]
        }
      ],
      "source": [
        "# Example learning rate and number of epochs\n",
        "lr = 1e-5\n",
        "epochs = 10\n",
        "\n",
        "attention_model = SelfAttention(D)\n",
        "\n",
        "for epoch in range(epochs):\n",
        "  total_loss = 0\n",
        "  for i, (emb1, emb2) in enumerate(zip(input_embeddings_1, input_embeddings_2)):\n",
        "    # IMPLEMENT HERE\n",
        "    # Forward pass through self-attention model for both sentences\n",
        "    output_1 = attention_model.forward(emb1)\n",
        "    output_2 = attention_model.forward(emb2)\n",
        "\n",
        "    # Compute similarity score between the two outputs (e.g., cosine similarity)\n",
        "    dot_product = np.sum(output_1 * output_2)\n",
        "    norm_output_1 = np.linalg.norm(output_1)\n",
        "    norm_output_2 = np.linalg.norm(output_2)\n",
        "    similarity = dot_product / (norm_output_1 * norm_output_2 + 1e-8)  # Add small epsilon for stability\n",
        "    predicted = 1 / (1 + np.exp(-similarity))\n",
        "\n",
        "    # Define target (either 0 or 1)\n",
        "    target = labels_train[i]\n",
        "\n",
        "    # Compute Binary Cross-Entropy Loss\n",
        "    loss = - (target * np.log(predicted + 1e-10) + (1 - target) * np.log(1 - predicted + 1e-10))\n",
        "    total_loss += loss\n",
        "\n",
        "    # Compute gradient of the loss w.r.t. predicted output\n",
        "    grad_loss = predicted - target\n",
        "\n",
        "    # Backpropagate the gradients through the attention model for both embeddings\n",
        "    grad_output_1 = grad_loss * output_2 / (norm_output_1 * norm_output_2 + 1e-8)  # Gradient w.r.t. output_1\n",
        "    grad_output_2 = grad_loss * output_1 / (norm_output_1 * norm_output_2 + 1e-8)  # Gradient w.r.t. output_2\n",
        "\n",
        "    attention_model.backward(grad_output_1)  # Backpropagate for output_1\n",
        "    attention_model.backward(grad_output_2)  # Backpropagate for output_2\n",
        "\n",
        "    # Update parameters\n",
        "    attention_model.update_parameters(lr)\n",
        "\n",
        "  print(f\"Epoch {epoch+1}/{epochs}, Loss: {total_loss/len(input_embeddings_1)}\")"
      ]
    },
    {
      "cell_type": "markdown",
      "metadata": {
        "id": "GqZ-uHYQwvKe"
      },
      "source": [
        "## ***Q5.3*** Word2vec vs. Contextual Embeddings (5 points)"
      ]
    },
    {
      "cell_type": "markdown",
      "metadata": {
        "id": "Q3ytiioEQD4o"
      },
      "source": [
        "We will now compare word2vec embeddings and the contextual embeddings we just made on the WiC task from above. Please make a note of the final accuracies.\n",
        "\n",
        "Nothing to code here, just note the final accuracies."
      ]
    },
    {
      "cell_type": "code",
      "execution_count": 33,
      "metadata": {
        "id": "cNoEoc6ZKbXV"
      },
      "outputs": [],
      "source": [
        "# do not change\n",
        "\n",
        "# get_sentence_embeddings is a general purpose function that will create sentence embeddings given any type of embeddings\n",
        "def get_sentence_embeddings(sentences, attention_model=None):\n",
        "  feature_matrix = np.zeros((len(sentences), D))\n",
        "\n",
        "  for i, sentence in enumerate(sentences):\n",
        "    words = sentence.split()\n",
        "\n",
        "    # We only look for words that occur in our vocabulary (specially since we are using a different dataset to build the vocabulary)\n",
        "    word_indices = [revmap[word] for word in words if word in revmap]\n",
        "\n",
        "    # Sentence embeddings are created by aggregating the word embeddings obtained\n",
        "    if word_indices:\n",
        "      word_embeddings = w_vectors[word_indices, :]\n",
        "      if attention_model:\n",
        "        word_embeddings = attention_model.forward(word_embeddings)\n",
        "      feature_matrix[i] = np.mean(word_embeddings, axis=0)\n",
        "    else:\n",
        "      feature_matrix[i] = np.zeros(D)\n",
        "\n",
        "  return feature_matrix"
      ]
    },
    {
      "cell_type": "code",
      "execution_count": 34,
      "metadata": {
        "id": "xkkPsKpTlY5-"
      },
      "outputs": [],
      "source": [
        "# do not change\n",
        "\n",
        "# Extract features for both sets of sentences in training and testing\n",
        "features_1_train_word2vec = get_sentence_embeddings(sentences_1_train)\n",
        "features_2_train_word2vec = get_sentence_embeddings(sentences_2_train)\n",
        "features_1_test_word2vec = get_sentence_embeddings(sentences_1_test)\n",
        "features_2_test_word2vec = get_sentence_embeddings(sentences_2_test)\n",
        "\n",
        "# Same for contextual embeddings\n",
        "features_1_train_contextual = get_sentence_embeddings(sentences_1_train, attention_model=attention_model)\n",
        "features_2_train_contextual = get_sentence_embeddings(sentences_2_train, attention_model=attention_model)\n",
        "features_1_test_contextual = get_sentence_embeddings(sentences_1_test, attention_model=attention_model)\n",
        "features_2_test_contextual = get_sentence_embeddings(sentences_2_test, attention_model=attention_model)"
      ]
    },
    {
      "cell_type": "code",
      "execution_count": 35,
      "metadata": {
        "id": "__4N64hJKA-g"
      },
      "outputs": [],
      "source": [
        "# do not change\n",
        "\n",
        "import numpy as np\n",
        "\n",
        "# Combine the features from both sentences for the classifier input\n",
        "X_train_word2vec = np.concatenate([features_1_train_word2vec, features_2_train_word2vec], axis=1)\n",
        "X_test_word2vec = np.concatenate([features_1_test_word2vec, features_2_test_word2vec], axis=1)\n",
        "\n",
        "X_train_contextual = np.concatenate([features_1_train_contextual, features_2_train_contextual], axis=1)\n",
        "X_test_contextual = np.concatenate([features_1_test_contextual, features_2_test_contextual], axis=1)"
      ]
    },
    {
      "cell_type": "code",
      "execution_count": 36,
      "metadata": {
        "id": "Fdx6SXXaKog0",
        "colab": {
          "base_uri": "https://localhost:8080/"
        },
        "outputId": "a3340e49-59fd-41a2-a5ea-9a17a18d6af6"
      },
      "outputs": [
        {
          "output_type": "stream",
          "name": "stdout",
          "text": [
            "Word2Vec Embeddings Accuracy: 0.5266457680250783\n",
            "Contextual Embeddings Accuracy: 0.5564263322884012\n"
          ]
        }
      ],
      "source": [
        "# do not change\n",
        "\n",
        "from sklearn.linear_model import LogisticRegression\n",
        "from sklearn.metrics import accuracy_score\n",
        "\n",
        "# Train classifier on word2vec embeddings\n",
        "clf_word2vec = LogisticRegression(max_iter=1000)\n",
        "clf_word2vec.fit(X_train_word2vec, labels_train)\n",
        "pred_word2vec = clf_word2vec.predict(X_test_word2vec)\n",
        "\n",
        "# Train classifier on contextual embeddings\n",
        "clf_contextual = LogisticRegression(max_iter=1000)\n",
        "clf_contextual.fit(X_train_contextual, labels_train)\n",
        "pred_contextual = clf_contextual.predict(X_test_contextual)\n",
        "\n",
        "# Evaluate and compare accuracies\n",
        "accuracy_word2vec = accuracy_score(labels_test, pred_word2vec)\n",
        "accuracy_contextual = accuracy_score(labels_test, pred_contextual)\n",
        "\n",
        "print(f\"Word2Vec Embeddings Accuracy: {accuracy_word2vec}\")\n",
        "print(f\"Contextual Embeddings Accuracy: {accuracy_contextual}\")"
      ]
    },
    {
      "cell_type": "markdown",
      "metadata": {
        "id": "jAhY3Q983sUw"
      },
      "source": [
        "## ***Q5.4*** (Bonus) Word2vec vs. Contextual Embeddings (5 points)\n",
        "\n",
        "What do you observe above from accuracy values, for both contextual and word2vec embeddings? Which one performs better and why?"
      ]
    },
    {
      "cell_type": "markdown",
      "metadata": {
        "id": "mWrvGoGb368S"
      },
      "source": [
        "The results show that contextual embeddings achieved an accuracy of 0.5266, slightly outperforming Word2Vec embeddings at 0.5564.\n",
        "\n",
        "This difference highlights the strength of contextual embeddings in capturing the meaning of words in a more dynamic and flexible way. Contextual embeddings adjust word representations based on the surrounding context, allowing the model to better understand polysemy and nuanced relationships between words.\n",
        "\n",
        "On the other hand, Word2Vec embeddings create static representations of words, meaning that the same word has the same vector regardless of the context. This limits Word2Vec's ability to adapt to different word usages and can result in lower accuracy, especially in tasks that require understanding specific contexts.\n",
        "\n",
        "Therefore, the higher accuracy of contextual embeddings suggests they are better at handling the complexities of natural language, making them more effective for tasks that depend on deeper understanding of word meaning and relationships."
      ]
    },
    {
      "cell_type": "code",
      "execution_count": 36,
      "metadata": {
        "id": "PwVYF-5TdxwF"
      },
      "outputs": [],
      "source": []
    }
  ],
  "metadata": {
    "colab": {
      "provenance": [],
      "toc_visible": true
    },
    "kernelspec": {
      "display_name": "Python 3 (ipykernel)",
      "language": "python",
      "name": "python3"
    },
    "language_info": {
      "codemirror_mode": {
        "name": "ipython",
        "version": 3
      },
      "file_extension": ".py",
      "mimetype": "text/x-python",
      "name": "python",
      "nbconvert_exporter": "python",
      "pygments_lexer": "ipython3",
      "version": "3.12.4"
    },
    "widgets": {
      "application/vnd.jupyter.widget-state+json": {
        "67d8c1a1a9e84a8488afb11ba9fccec1": {
          "model_module": "@jupyter-widgets/controls",
          "model_name": "HBoxModel",
          "model_module_version": "1.5.0",
          "state": {
            "_dom_classes": [],
            "_model_module": "@jupyter-widgets/controls",
            "_model_module_version": "1.5.0",
            "_model_name": "HBoxModel",
            "_view_count": null,
            "_view_module": "@jupyter-widgets/controls",
            "_view_module_version": "1.5.0",
            "_view_name": "HBoxView",
            "box_style": "",
            "children": [
              "IPY_MODEL_a5a8fbfa4d5044f1bcc02afd8e18db52",
              "IPY_MODEL_066ea1e0c3d940b28e60ef9f8ebbc362",
              "IPY_MODEL_3328f108de204a54879c3938b0630a46"
            ],
            "layout": "IPY_MODEL_fa6b2a11db1b47e3bc79a5ecddcf426e"
          }
        },
        "a5a8fbfa4d5044f1bcc02afd8e18db52": {
          "model_module": "@jupyter-widgets/controls",
          "model_name": "HTMLModel",
          "model_module_version": "1.5.0",
          "state": {
            "_dom_classes": [],
            "_model_module": "@jupyter-widgets/controls",
            "_model_module_version": "1.5.0",
            "_model_name": "HTMLModel",
            "_view_count": null,
            "_view_module": "@jupyter-widgets/controls",
            "_view_module_version": "1.5.0",
            "_view_name": "HTMLView",
            "description": "",
            "description_tooltip": null,
            "layout": "IPY_MODEL_01712ac204cd44a7bcdd4f9df306c989",
            "placeholder": "​",
            "style": "IPY_MODEL_0aa209b4d3d8405abeddbbf74fe16113",
            "value": "100%"
          }
        },
        "066ea1e0c3d940b28e60ef9f8ebbc362": {
          "model_module": "@jupyter-widgets/controls",
          "model_name": "FloatProgressModel",
          "model_module_version": "1.5.0",
          "state": {
            "_dom_classes": [],
            "_model_module": "@jupyter-widgets/controls",
            "_model_module_version": "1.5.0",
            "_model_name": "FloatProgressModel",
            "_view_count": null,
            "_view_module": "@jupyter-widgets/controls",
            "_view_module_version": "1.5.0",
            "_view_name": "ProgressView",
            "bar_style": "success",
            "description": "",
            "description_tooltip": null,
            "layout": "IPY_MODEL_3fb46472ba4f43c69e00bb7a777ca6ba",
            "max": 316243,
            "min": 0,
            "orientation": "horizontal",
            "style": "IPY_MODEL_343ae075cfe0434696f50ba53a3fee1d",
            "value": 316243
          }
        },
        "3328f108de204a54879c3938b0630a46": {
          "model_module": "@jupyter-widgets/controls",
          "model_name": "HTMLModel",
          "model_module_version": "1.5.0",
          "state": {
            "_dom_classes": [],
            "_model_module": "@jupyter-widgets/controls",
            "_model_module_version": "1.5.0",
            "_model_name": "HTMLModel",
            "_view_count": null,
            "_view_module": "@jupyter-widgets/controls",
            "_view_module_version": "1.5.0",
            "_view_name": "HTMLView",
            "description": "",
            "description_tooltip": null,
            "layout": "IPY_MODEL_1f128163820449109e5db9592325c4b8",
            "placeholder": "​",
            "style": "IPY_MODEL_5ef67a6efa4f4a7dbb07b44769c8b78d",
            "value": " 316243/316243 [00:06&lt;00:00, 66985.37it/s]"
          }
        },
        "fa6b2a11db1b47e3bc79a5ecddcf426e": {
          "model_module": "@jupyter-widgets/base",
          "model_name": "LayoutModel",
          "model_module_version": "1.2.0",
          "state": {
            "_model_module": "@jupyter-widgets/base",
            "_model_module_version": "1.2.0",
            "_model_name": "LayoutModel",
            "_view_count": null,
            "_view_module": "@jupyter-widgets/base",
            "_view_module_version": "1.2.0",
            "_view_name": "LayoutView",
            "align_content": null,
            "align_items": null,
            "align_self": null,
            "border": null,
            "bottom": null,
            "display": null,
            "flex": null,
            "flex_flow": null,
            "grid_area": null,
            "grid_auto_columns": null,
            "grid_auto_flow": null,
            "grid_auto_rows": null,
            "grid_column": null,
            "grid_gap": null,
            "grid_row": null,
            "grid_template_areas": null,
            "grid_template_columns": null,
            "grid_template_rows": null,
            "height": null,
            "justify_content": null,
            "justify_items": null,
            "left": null,
            "margin": null,
            "max_height": null,
            "max_width": null,
            "min_height": null,
            "min_width": null,
            "object_fit": null,
            "object_position": null,
            "order": null,
            "overflow": null,
            "overflow_x": null,
            "overflow_y": null,
            "padding": null,
            "right": null,
            "top": null,
            "visibility": null,
            "width": null
          }
        },
        "01712ac204cd44a7bcdd4f9df306c989": {
          "model_module": "@jupyter-widgets/base",
          "model_name": "LayoutModel",
          "model_module_version": "1.2.0",
          "state": {
            "_model_module": "@jupyter-widgets/base",
            "_model_module_version": "1.2.0",
            "_model_name": "LayoutModel",
            "_view_count": null,
            "_view_module": "@jupyter-widgets/base",
            "_view_module_version": "1.2.0",
            "_view_name": "LayoutView",
            "align_content": null,
            "align_items": null,
            "align_self": null,
            "border": null,
            "bottom": null,
            "display": null,
            "flex": null,
            "flex_flow": null,
            "grid_area": null,
            "grid_auto_columns": null,
            "grid_auto_flow": null,
            "grid_auto_rows": null,
            "grid_column": null,
            "grid_gap": null,
            "grid_row": null,
            "grid_template_areas": null,
            "grid_template_columns": null,
            "grid_template_rows": null,
            "height": null,
            "justify_content": null,
            "justify_items": null,
            "left": null,
            "margin": null,
            "max_height": null,
            "max_width": null,
            "min_height": null,
            "min_width": null,
            "object_fit": null,
            "object_position": null,
            "order": null,
            "overflow": null,
            "overflow_x": null,
            "overflow_y": null,
            "padding": null,
            "right": null,
            "top": null,
            "visibility": null,
            "width": null
          }
        },
        "0aa209b4d3d8405abeddbbf74fe16113": {
          "model_module": "@jupyter-widgets/controls",
          "model_name": "DescriptionStyleModel",
          "model_module_version": "1.5.0",
          "state": {
            "_model_module": "@jupyter-widgets/controls",
            "_model_module_version": "1.5.0",
            "_model_name": "DescriptionStyleModel",
            "_view_count": null,
            "_view_module": "@jupyter-widgets/base",
            "_view_module_version": "1.2.0",
            "_view_name": "StyleView",
            "description_width": ""
          }
        },
        "3fb46472ba4f43c69e00bb7a777ca6ba": {
          "model_module": "@jupyter-widgets/base",
          "model_name": "LayoutModel",
          "model_module_version": "1.2.0",
          "state": {
            "_model_module": "@jupyter-widgets/base",
            "_model_module_version": "1.2.0",
            "_model_name": "LayoutModel",
            "_view_count": null,
            "_view_module": "@jupyter-widgets/base",
            "_view_module_version": "1.2.0",
            "_view_name": "LayoutView",
            "align_content": null,
            "align_items": null,
            "align_self": null,
            "border": null,
            "bottom": null,
            "display": null,
            "flex": null,
            "flex_flow": null,
            "grid_area": null,
            "grid_auto_columns": null,
            "grid_auto_flow": null,
            "grid_auto_rows": null,
            "grid_column": null,
            "grid_gap": null,
            "grid_row": null,
            "grid_template_areas": null,
            "grid_template_columns": null,
            "grid_template_rows": null,
            "height": null,
            "justify_content": null,
            "justify_items": null,
            "left": null,
            "margin": null,
            "max_height": null,
            "max_width": null,
            "min_height": null,
            "min_width": null,
            "object_fit": null,
            "object_position": null,
            "order": null,
            "overflow": null,
            "overflow_x": null,
            "overflow_y": null,
            "padding": null,
            "right": null,
            "top": null,
            "visibility": null,
            "width": null
          }
        },
        "343ae075cfe0434696f50ba53a3fee1d": {
          "model_module": "@jupyter-widgets/controls",
          "model_name": "ProgressStyleModel",
          "model_module_version": "1.5.0",
          "state": {
            "_model_module": "@jupyter-widgets/controls",
            "_model_module_version": "1.5.0",
            "_model_name": "ProgressStyleModel",
            "_view_count": null,
            "_view_module": "@jupyter-widgets/base",
            "_view_module_version": "1.2.0",
            "_view_name": "StyleView",
            "bar_color": null,
            "description_width": ""
          }
        },
        "1f128163820449109e5db9592325c4b8": {
          "model_module": "@jupyter-widgets/base",
          "model_name": "LayoutModel",
          "model_module_version": "1.2.0",
          "state": {
            "_model_module": "@jupyter-widgets/base",
            "_model_module_version": "1.2.0",
            "_model_name": "LayoutModel",
            "_view_count": null,
            "_view_module": "@jupyter-widgets/base",
            "_view_module_version": "1.2.0",
            "_view_name": "LayoutView",
            "align_content": null,
            "align_items": null,
            "align_self": null,
            "border": null,
            "bottom": null,
            "display": null,
            "flex": null,
            "flex_flow": null,
            "grid_area": null,
            "grid_auto_columns": null,
            "grid_auto_flow": null,
            "grid_auto_rows": null,
            "grid_column": null,
            "grid_gap": null,
            "grid_row": null,
            "grid_template_areas": null,
            "grid_template_columns": null,
            "grid_template_rows": null,
            "height": null,
            "justify_content": null,
            "justify_items": null,
            "left": null,
            "margin": null,
            "max_height": null,
            "max_width": null,
            "min_height": null,
            "min_width": null,
            "object_fit": null,
            "object_position": null,
            "order": null,
            "overflow": null,
            "overflow_x": null,
            "overflow_y": null,
            "padding": null,
            "right": null,
            "top": null,
            "visibility": null,
            "width": null
          }
        },
        "5ef67a6efa4f4a7dbb07b44769c8b78d": {
          "model_module": "@jupyter-widgets/controls",
          "model_name": "DescriptionStyleModel",
          "model_module_version": "1.5.0",
          "state": {
            "_model_module": "@jupyter-widgets/controls",
            "_model_module_version": "1.5.0",
            "_model_name": "DescriptionStyleModel",
            "_view_count": null,
            "_view_module": "@jupyter-widgets/base",
            "_view_module_version": "1.2.0",
            "_view_name": "StyleView",
            "description_width": ""
          }
        },
        "a434411ef5594407b0b21cd49e63b048": {
          "model_module": "@jupyter-widgets/controls",
          "model_name": "HBoxModel",
          "model_module_version": "1.5.0",
          "state": {
            "_dom_classes": [],
            "_model_module": "@jupyter-widgets/controls",
            "_model_module_version": "1.5.0",
            "_model_name": "HBoxModel",
            "_view_count": null,
            "_view_module": "@jupyter-widgets/controls",
            "_view_module_version": "1.5.0",
            "_view_name": "HBoxView",
            "box_style": "",
            "children": [
              "IPY_MODEL_51ee6a36a22e4cc6907e765f05277f86",
              "IPY_MODEL_02a0a7868fc94f33902ae2b182a63cc1",
              "IPY_MODEL_7c8d74ed6fe14a05b3fcea35fa63fa2c"
            ],
            "layout": "IPY_MODEL_5ddde4b657f44a3bb6754c699e53b916"
          }
        },
        "51ee6a36a22e4cc6907e765f05277f86": {
          "model_module": "@jupyter-widgets/controls",
          "model_name": "HTMLModel",
          "model_module_version": "1.5.0",
          "state": {
            "_dom_classes": [],
            "_model_module": "@jupyter-widgets/controls",
            "_model_module_version": "1.5.0",
            "_model_name": "HTMLModel",
            "_view_count": null,
            "_view_module": "@jupyter-widgets/controls",
            "_view_module_version": "1.5.0",
            "_view_name": "HTMLView",
            "description": "",
            "description_tooltip": null,
            "layout": "IPY_MODEL_e76a87c911f7496bba7c3d846263b730",
            "placeholder": "​",
            "style": "IPY_MODEL_a04302c4cc2b430ebc316d532b26b9b0",
            "value": "100%"
          }
        },
        "02a0a7868fc94f33902ae2b182a63cc1": {
          "model_module": "@jupyter-widgets/controls",
          "model_name": "FloatProgressModel",
          "model_module_version": "1.5.0",
          "state": {
            "_dom_classes": [],
            "_model_module": "@jupyter-widgets/controls",
            "_model_module_version": "1.5.0",
            "_model_name": "FloatProgressModel",
            "_view_count": null,
            "_view_module": "@jupyter-widgets/controls",
            "_view_module_version": "1.5.0",
            "_view_name": "ProgressView",
            "bar_style": "success",
            "description": "",
            "description_tooltip": null,
            "layout": "IPY_MODEL_7e4fe248d2b94ecb881ffa8c069d7917",
            "max": 19559,
            "min": 0,
            "orientation": "horizontal",
            "style": "IPY_MODEL_cdc884bfd76e48db8a8aa340f7f69af3",
            "value": 19559
          }
        },
        "7c8d74ed6fe14a05b3fcea35fa63fa2c": {
          "model_module": "@jupyter-widgets/controls",
          "model_name": "HTMLModel",
          "model_module_version": "1.5.0",
          "state": {
            "_dom_classes": [],
            "_model_module": "@jupyter-widgets/controls",
            "_model_module_version": "1.5.0",
            "_model_name": "HTMLModel",
            "_view_count": null,
            "_view_module": "@jupyter-widgets/controls",
            "_view_module_version": "1.5.0",
            "_view_name": "HTMLView",
            "description": "",
            "description_tooltip": null,
            "layout": "IPY_MODEL_46609ca1749445aebb5754d1e6e926ac",
            "placeholder": "​",
            "style": "IPY_MODEL_214a10e7621b4365a9400ed294d6da9d",
            "value": " 19559/19559 [00:35&lt;00:00, 806.39it/s]"
          }
        },
        "5ddde4b657f44a3bb6754c699e53b916": {
          "model_module": "@jupyter-widgets/base",
          "model_name": "LayoutModel",
          "model_module_version": "1.2.0",
          "state": {
            "_model_module": "@jupyter-widgets/base",
            "_model_module_version": "1.2.0",
            "_model_name": "LayoutModel",
            "_view_count": null,
            "_view_module": "@jupyter-widgets/base",
            "_view_module_version": "1.2.0",
            "_view_name": "LayoutView",
            "align_content": null,
            "align_items": null,
            "align_self": null,
            "border": null,
            "bottom": null,
            "display": null,
            "flex": null,
            "flex_flow": null,
            "grid_area": null,
            "grid_auto_columns": null,
            "grid_auto_flow": null,
            "grid_auto_rows": null,
            "grid_column": null,
            "grid_gap": null,
            "grid_row": null,
            "grid_template_areas": null,
            "grid_template_columns": null,
            "grid_template_rows": null,
            "height": null,
            "justify_content": null,
            "justify_items": null,
            "left": null,
            "margin": null,
            "max_height": null,
            "max_width": null,
            "min_height": null,
            "min_width": null,
            "object_fit": null,
            "object_position": null,
            "order": null,
            "overflow": null,
            "overflow_x": null,
            "overflow_y": null,
            "padding": null,
            "right": null,
            "top": null,
            "visibility": null,
            "width": null
          }
        },
        "e76a87c911f7496bba7c3d846263b730": {
          "model_module": "@jupyter-widgets/base",
          "model_name": "LayoutModel",
          "model_module_version": "1.2.0",
          "state": {
            "_model_module": "@jupyter-widgets/base",
            "_model_module_version": "1.2.0",
            "_model_name": "LayoutModel",
            "_view_count": null,
            "_view_module": "@jupyter-widgets/base",
            "_view_module_version": "1.2.0",
            "_view_name": "LayoutView",
            "align_content": null,
            "align_items": null,
            "align_self": null,
            "border": null,
            "bottom": null,
            "display": null,
            "flex": null,
            "flex_flow": null,
            "grid_area": null,
            "grid_auto_columns": null,
            "grid_auto_flow": null,
            "grid_auto_rows": null,
            "grid_column": null,
            "grid_gap": null,
            "grid_row": null,
            "grid_template_areas": null,
            "grid_template_columns": null,
            "grid_template_rows": null,
            "height": null,
            "justify_content": null,
            "justify_items": null,
            "left": null,
            "margin": null,
            "max_height": null,
            "max_width": null,
            "min_height": null,
            "min_width": null,
            "object_fit": null,
            "object_position": null,
            "order": null,
            "overflow": null,
            "overflow_x": null,
            "overflow_y": null,
            "padding": null,
            "right": null,
            "top": null,
            "visibility": null,
            "width": null
          }
        },
        "a04302c4cc2b430ebc316d532b26b9b0": {
          "model_module": "@jupyter-widgets/controls",
          "model_name": "DescriptionStyleModel",
          "model_module_version": "1.5.0",
          "state": {
            "_model_module": "@jupyter-widgets/controls",
            "_model_module_version": "1.5.0",
            "_model_name": "DescriptionStyleModel",
            "_view_count": null,
            "_view_module": "@jupyter-widgets/base",
            "_view_module_version": "1.2.0",
            "_view_name": "StyleView",
            "description_width": ""
          }
        },
        "7e4fe248d2b94ecb881ffa8c069d7917": {
          "model_module": "@jupyter-widgets/base",
          "model_name": "LayoutModel",
          "model_module_version": "1.2.0",
          "state": {
            "_model_module": "@jupyter-widgets/base",
            "_model_module_version": "1.2.0",
            "_model_name": "LayoutModel",
            "_view_count": null,
            "_view_module": "@jupyter-widgets/base",
            "_view_module_version": "1.2.0",
            "_view_name": "LayoutView",
            "align_content": null,
            "align_items": null,
            "align_self": null,
            "border": null,
            "bottom": null,
            "display": null,
            "flex": null,
            "flex_flow": null,
            "grid_area": null,
            "grid_auto_columns": null,
            "grid_auto_flow": null,
            "grid_auto_rows": null,
            "grid_column": null,
            "grid_gap": null,
            "grid_row": null,
            "grid_template_areas": null,
            "grid_template_columns": null,
            "grid_template_rows": null,
            "height": null,
            "justify_content": null,
            "justify_items": null,
            "left": null,
            "margin": null,
            "max_height": null,
            "max_width": null,
            "min_height": null,
            "min_width": null,
            "object_fit": null,
            "object_position": null,
            "order": null,
            "overflow": null,
            "overflow_x": null,
            "overflow_y": null,
            "padding": null,
            "right": null,
            "top": null,
            "visibility": null,
            "width": null
          }
        },
        "cdc884bfd76e48db8a8aa340f7f69af3": {
          "model_module": "@jupyter-widgets/controls",
          "model_name": "ProgressStyleModel",
          "model_module_version": "1.5.0",
          "state": {
            "_model_module": "@jupyter-widgets/controls",
            "_model_module_version": "1.5.0",
            "_model_name": "ProgressStyleModel",
            "_view_count": null,
            "_view_module": "@jupyter-widgets/base",
            "_view_module_version": "1.2.0",
            "_view_name": "StyleView",
            "bar_color": null,
            "description_width": ""
          }
        },
        "46609ca1749445aebb5754d1e6e926ac": {
          "model_module": "@jupyter-widgets/base",
          "model_name": "LayoutModel",
          "model_module_version": "1.2.0",
          "state": {
            "_model_module": "@jupyter-widgets/base",
            "_model_module_version": "1.2.0",
            "_model_name": "LayoutModel",
            "_view_count": null,
            "_view_module": "@jupyter-widgets/base",
            "_view_module_version": "1.2.0",
            "_view_name": "LayoutView",
            "align_content": null,
            "align_items": null,
            "align_self": null,
            "border": null,
            "bottom": null,
            "display": null,
            "flex": null,
            "flex_flow": null,
            "grid_area": null,
            "grid_auto_columns": null,
            "grid_auto_flow": null,
            "grid_auto_rows": null,
            "grid_column": null,
            "grid_gap": null,
            "grid_row": null,
            "grid_template_areas": null,
            "grid_template_columns": null,
            "grid_template_rows": null,
            "height": null,
            "justify_content": null,
            "justify_items": null,
            "left": null,
            "margin": null,
            "max_height": null,
            "max_width": null,
            "min_height": null,
            "min_width": null,
            "object_fit": null,
            "object_position": null,
            "order": null,
            "overflow": null,
            "overflow_x": null,
            "overflow_y": null,
            "padding": null,
            "right": null,
            "top": null,
            "visibility": null,
            "width": null
          }
        },
        "214a10e7621b4365a9400ed294d6da9d": {
          "model_module": "@jupyter-widgets/controls",
          "model_name": "DescriptionStyleModel",
          "model_module_version": "1.5.0",
          "state": {
            "_model_module": "@jupyter-widgets/controls",
            "_model_module_version": "1.5.0",
            "_model_name": "DescriptionStyleModel",
            "_view_count": null,
            "_view_module": "@jupyter-widgets/base",
            "_view_module_version": "1.2.0",
            "_view_name": "StyleView",
            "description_width": ""
          }
        },
        "7e9adb042cc745929be123b506714e54": {
          "model_module": "@jupyter-widgets/controls",
          "model_name": "HBoxModel",
          "model_module_version": "1.5.0",
          "state": {
            "_dom_classes": [],
            "_model_module": "@jupyter-widgets/controls",
            "_model_module_version": "1.5.0",
            "_model_name": "HBoxModel",
            "_view_count": null,
            "_view_module": "@jupyter-widgets/controls",
            "_view_module_version": "1.5.0",
            "_view_name": "HBoxView",
            "box_style": "",
            "children": [
              "IPY_MODEL_45f32da5da0843819da754199180d42d",
              "IPY_MODEL_e630ce61f92449d09800d62600fe24b8",
              "IPY_MODEL_9b17017b360b41c48bae6dc6e00798e8"
            ],
            "layout": "IPY_MODEL_9af4da0021cd40c4a08180ffa334b4c9"
          }
        },
        "45f32da5da0843819da754199180d42d": {
          "model_module": "@jupyter-widgets/controls",
          "model_name": "HTMLModel",
          "model_module_version": "1.5.0",
          "state": {
            "_dom_classes": [],
            "_model_module": "@jupyter-widgets/controls",
            "_model_module_version": "1.5.0",
            "_model_name": "HTMLModel",
            "_view_count": null,
            "_view_module": "@jupyter-widgets/controls",
            "_view_module_version": "1.5.0",
            "_view_name": "HTMLView",
            "description": "",
            "description_tooltip": null,
            "layout": "IPY_MODEL_39f7a56dbdd7462782243eae68e8a1c2",
            "placeholder": "​",
            "style": "IPY_MODEL_e8a0520113f948dc85d3861ff445fcda",
            "value": "100%"
          }
        },
        "e630ce61f92449d09800d62600fe24b8": {
          "model_module": "@jupyter-widgets/controls",
          "model_name": "FloatProgressModel",
          "model_module_version": "1.5.0",
          "state": {
            "_dom_classes": [],
            "_model_module": "@jupyter-widgets/controls",
            "_model_module_version": "1.5.0",
            "_model_name": "FloatProgressModel",
            "_view_count": null,
            "_view_module": "@jupyter-widgets/controls",
            "_view_module_version": "1.5.0",
            "_view_name": "ProgressView",
            "bar_style": "success",
            "description": "",
            "description_tooltip": null,
            "layout": "IPY_MODEL_5b1600c9c93a43839c926d28c336a7ba",
            "max": 50,
            "min": 0,
            "orientation": "horizontal",
            "style": "IPY_MODEL_d706888578a94d26a599dbcb51d85d05",
            "value": 50
          }
        },
        "9b17017b360b41c48bae6dc6e00798e8": {
          "model_module": "@jupyter-widgets/controls",
          "model_name": "HTMLModel",
          "model_module_version": "1.5.0",
          "state": {
            "_dom_classes": [],
            "_model_module": "@jupyter-widgets/controls",
            "_model_module_version": "1.5.0",
            "_model_name": "HTMLModel",
            "_view_count": null,
            "_view_module": "@jupyter-widgets/controls",
            "_view_module_version": "1.5.0",
            "_view_name": "HTMLView",
            "description": "",
            "description_tooltip": null,
            "layout": "IPY_MODEL_776629c386df47cda9bb30d7363567ba",
            "placeholder": "​",
            "style": "IPY_MODEL_4e2d745c08a24e85b418e347c8e8cbc8",
            "value": " 50/50 [00:12&lt;00:00,  3.52it/s]"
          }
        },
        "9af4da0021cd40c4a08180ffa334b4c9": {
          "model_module": "@jupyter-widgets/base",
          "model_name": "LayoutModel",
          "model_module_version": "1.2.0",
          "state": {
            "_model_module": "@jupyter-widgets/base",
            "_model_module_version": "1.2.0",
            "_model_name": "LayoutModel",
            "_view_count": null,
            "_view_module": "@jupyter-widgets/base",
            "_view_module_version": "1.2.0",
            "_view_name": "LayoutView",
            "align_content": null,
            "align_items": null,
            "align_self": null,
            "border": null,
            "bottom": null,
            "display": null,
            "flex": null,
            "flex_flow": null,
            "grid_area": null,
            "grid_auto_columns": null,
            "grid_auto_flow": null,
            "grid_auto_rows": null,
            "grid_column": null,
            "grid_gap": null,
            "grid_row": null,
            "grid_template_areas": null,
            "grid_template_columns": null,
            "grid_template_rows": null,
            "height": null,
            "justify_content": null,
            "justify_items": null,
            "left": null,
            "margin": null,
            "max_height": null,
            "max_width": null,
            "min_height": null,
            "min_width": null,
            "object_fit": null,
            "object_position": null,
            "order": null,
            "overflow": null,
            "overflow_x": null,
            "overflow_y": null,
            "padding": null,
            "right": null,
            "top": null,
            "visibility": null,
            "width": null
          }
        },
        "39f7a56dbdd7462782243eae68e8a1c2": {
          "model_module": "@jupyter-widgets/base",
          "model_name": "LayoutModel",
          "model_module_version": "1.2.0",
          "state": {
            "_model_module": "@jupyter-widgets/base",
            "_model_module_version": "1.2.0",
            "_model_name": "LayoutModel",
            "_view_count": null,
            "_view_module": "@jupyter-widgets/base",
            "_view_module_version": "1.2.0",
            "_view_name": "LayoutView",
            "align_content": null,
            "align_items": null,
            "align_self": null,
            "border": null,
            "bottom": null,
            "display": null,
            "flex": null,
            "flex_flow": null,
            "grid_area": null,
            "grid_auto_columns": null,
            "grid_auto_flow": null,
            "grid_auto_rows": null,
            "grid_column": null,
            "grid_gap": null,
            "grid_row": null,
            "grid_template_areas": null,
            "grid_template_columns": null,
            "grid_template_rows": null,
            "height": null,
            "justify_content": null,
            "justify_items": null,
            "left": null,
            "margin": null,
            "max_height": null,
            "max_width": null,
            "min_height": null,
            "min_width": null,
            "object_fit": null,
            "object_position": null,
            "order": null,
            "overflow": null,
            "overflow_x": null,
            "overflow_y": null,
            "padding": null,
            "right": null,
            "top": null,
            "visibility": null,
            "width": null
          }
        },
        "e8a0520113f948dc85d3861ff445fcda": {
          "model_module": "@jupyter-widgets/controls",
          "model_name": "DescriptionStyleModel",
          "model_module_version": "1.5.0",
          "state": {
            "_model_module": "@jupyter-widgets/controls",
            "_model_module_version": "1.5.0",
            "_model_name": "DescriptionStyleModel",
            "_view_count": null,
            "_view_module": "@jupyter-widgets/base",
            "_view_module_version": "1.2.0",
            "_view_name": "StyleView",
            "description_width": ""
          }
        },
        "5b1600c9c93a43839c926d28c336a7ba": {
          "model_module": "@jupyter-widgets/base",
          "model_name": "LayoutModel",
          "model_module_version": "1.2.0",
          "state": {
            "_model_module": "@jupyter-widgets/base",
            "_model_module_version": "1.2.0",
            "_model_name": "LayoutModel",
            "_view_count": null,
            "_view_module": "@jupyter-widgets/base",
            "_view_module_version": "1.2.0",
            "_view_name": "LayoutView",
            "align_content": null,
            "align_items": null,
            "align_self": null,
            "border": null,
            "bottom": null,
            "display": null,
            "flex": null,
            "flex_flow": null,
            "grid_area": null,
            "grid_auto_columns": null,
            "grid_auto_flow": null,
            "grid_auto_rows": null,
            "grid_column": null,
            "grid_gap": null,
            "grid_row": null,
            "grid_template_areas": null,
            "grid_template_columns": null,
            "grid_template_rows": null,
            "height": null,
            "justify_content": null,
            "justify_items": null,
            "left": null,
            "margin": null,
            "max_height": null,
            "max_width": null,
            "min_height": null,
            "min_width": null,
            "object_fit": null,
            "object_position": null,
            "order": null,
            "overflow": null,
            "overflow_x": null,
            "overflow_y": null,
            "padding": null,
            "right": null,
            "top": null,
            "visibility": null,
            "width": null
          }
        },
        "d706888578a94d26a599dbcb51d85d05": {
          "model_module": "@jupyter-widgets/controls",
          "model_name": "ProgressStyleModel",
          "model_module_version": "1.5.0",
          "state": {
            "_model_module": "@jupyter-widgets/controls",
            "_model_module_version": "1.5.0",
            "_model_name": "ProgressStyleModel",
            "_view_count": null,
            "_view_module": "@jupyter-widgets/base",
            "_view_module_version": "1.2.0",
            "_view_name": "StyleView",
            "bar_color": null,
            "description_width": ""
          }
        },
        "776629c386df47cda9bb30d7363567ba": {
          "model_module": "@jupyter-widgets/base",
          "model_name": "LayoutModel",
          "model_module_version": "1.2.0",
          "state": {
            "_model_module": "@jupyter-widgets/base",
            "_model_module_version": "1.2.0",
            "_model_name": "LayoutModel",
            "_view_count": null,
            "_view_module": "@jupyter-widgets/base",
            "_view_module_version": "1.2.0",
            "_view_name": "LayoutView",
            "align_content": null,
            "align_items": null,
            "align_self": null,
            "border": null,
            "bottom": null,
            "display": null,
            "flex": null,
            "flex_flow": null,
            "grid_area": null,
            "grid_auto_columns": null,
            "grid_auto_flow": null,
            "grid_auto_rows": null,
            "grid_column": null,
            "grid_gap": null,
            "grid_row": null,
            "grid_template_areas": null,
            "grid_template_columns": null,
            "grid_template_rows": null,
            "height": null,
            "justify_content": null,
            "justify_items": null,
            "left": null,
            "margin": null,
            "max_height": null,
            "max_width": null,
            "min_height": null,
            "min_width": null,
            "object_fit": null,
            "object_position": null,
            "order": null,
            "overflow": null,
            "overflow_x": null,
            "overflow_y": null,
            "padding": null,
            "right": null,
            "top": null,
            "visibility": null,
            "width": null
          }
        },
        "4e2d745c08a24e85b418e347c8e8cbc8": {
          "model_module": "@jupyter-widgets/controls",
          "model_name": "DescriptionStyleModel",
          "model_module_version": "1.5.0",
          "state": {
            "_model_module": "@jupyter-widgets/controls",
            "_model_module_version": "1.5.0",
            "_model_name": "DescriptionStyleModel",
            "_view_count": null,
            "_view_module": "@jupyter-widgets/base",
            "_view_module_version": "1.2.0",
            "_view_name": "StyleView",
            "description_width": ""
          }
        },
        "6a577ea99bd04e0489b31cc328f3f092": {
          "model_module": "@jupyter-widgets/controls",
          "model_name": "HBoxModel",
          "model_module_version": "1.5.0",
          "state": {
            "_dom_classes": [],
            "_model_module": "@jupyter-widgets/controls",
            "_model_module_version": "1.5.0",
            "_model_name": "HBoxModel",
            "_view_count": null,
            "_view_module": "@jupyter-widgets/controls",
            "_view_module_version": "1.5.0",
            "_view_name": "HBoxView",
            "box_style": "",
            "children": [
              "IPY_MODEL_9a0c908831794146a5115f5f8d1c4454",
              "IPY_MODEL_a6299cea6f94429d81323751538f0897",
              "IPY_MODEL_423f5568acf04784a148ac92c477b4c4"
            ],
            "layout": "IPY_MODEL_8c05a9819f484b54bbb604a4bf1956c0"
          }
        },
        "9a0c908831794146a5115f5f8d1c4454": {
          "model_module": "@jupyter-widgets/controls",
          "model_name": "HTMLModel",
          "model_module_version": "1.5.0",
          "state": {
            "_dom_classes": [],
            "_model_module": "@jupyter-widgets/controls",
            "_model_module_version": "1.5.0",
            "_model_name": "HTMLModel",
            "_view_count": null,
            "_view_module": "@jupyter-widgets/controls",
            "_view_module_version": "1.5.0",
            "_view_name": "HTMLView",
            "description": "",
            "description_tooltip": null,
            "layout": "IPY_MODEL_4c68b213e3694003af3a87ac6c653a90",
            "placeholder": "​",
            "style": "IPY_MODEL_e2b552b65a47417fbc2d3da9fc36bc6d",
            "value": "100%"
          }
        },
        "a6299cea6f94429d81323751538f0897": {
          "model_module": "@jupyter-widgets/controls",
          "model_name": "FloatProgressModel",
          "model_module_version": "1.5.0",
          "state": {
            "_dom_classes": [],
            "_model_module": "@jupyter-widgets/controls",
            "_model_module_version": "1.5.0",
            "_model_name": "FloatProgressModel",
            "_view_count": null,
            "_view_module": "@jupyter-widgets/controls",
            "_view_module_version": "1.5.0",
            "_view_name": "ProgressView",
            "bar_style": "success",
            "description": "",
            "description_tooltip": null,
            "layout": "IPY_MODEL_35cd6b80ca92468182bb5153ec8b9f37",
            "max": 500000,
            "min": 0,
            "orientation": "horizontal",
            "style": "IPY_MODEL_2a890ffc28ff40bb91cebfce8b6b814f",
            "value": 500000
          }
        },
        "423f5568acf04784a148ac92c477b4c4": {
          "model_module": "@jupyter-widgets/controls",
          "model_name": "HTMLModel",
          "model_module_version": "1.5.0",
          "state": {
            "_dom_classes": [],
            "_model_module": "@jupyter-widgets/controls",
            "_model_module_version": "1.5.0",
            "_model_name": "HTMLModel",
            "_view_count": null,
            "_view_module": "@jupyter-widgets/controls",
            "_view_module_version": "1.5.0",
            "_view_name": "HTMLView",
            "description": "",
            "description_tooltip": null,
            "layout": "IPY_MODEL_7b85e156df8a405b8f0c353450e0c96c",
            "placeholder": "​",
            "style": "IPY_MODEL_b2f979a088864443855ec9c90f15619c",
            "value": " 500000/500000 [04:40&lt;00:00, 1924.10it/s]"
          }
        },
        "8c05a9819f484b54bbb604a4bf1956c0": {
          "model_module": "@jupyter-widgets/base",
          "model_name": "LayoutModel",
          "model_module_version": "1.2.0",
          "state": {
            "_model_module": "@jupyter-widgets/base",
            "_model_module_version": "1.2.0",
            "_model_name": "LayoutModel",
            "_view_count": null,
            "_view_module": "@jupyter-widgets/base",
            "_view_module_version": "1.2.0",
            "_view_name": "LayoutView",
            "align_content": null,
            "align_items": null,
            "align_self": null,
            "border": null,
            "bottom": null,
            "display": null,
            "flex": null,
            "flex_flow": null,
            "grid_area": null,
            "grid_auto_columns": null,
            "grid_auto_flow": null,
            "grid_auto_rows": null,
            "grid_column": null,
            "grid_gap": null,
            "grid_row": null,
            "grid_template_areas": null,
            "grid_template_columns": null,
            "grid_template_rows": null,
            "height": null,
            "justify_content": null,
            "justify_items": null,
            "left": null,
            "margin": null,
            "max_height": null,
            "max_width": null,
            "min_height": null,
            "min_width": null,
            "object_fit": null,
            "object_position": null,
            "order": null,
            "overflow": null,
            "overflow_x": null,
            "overflow_y": null,
            "padding": null,
            "right": null,
            "top": null,
            "visibility": null,
            "width": null
          }
        },
        "4c68b213e3694003af3a87ac6c653a90": {
          "model_module": "@jupyter-widgets/base",
          "model_name": "LayoutModel",
          "model_module_version": "1.2.0",
          "state": {
            "_model_module": "@jupyter-widgets/base",
            "_model_module_version": "1.2.0",
            "_model_name": "LayoutModel",
            "_view_count": null,
            "_view_module": "@jupyter-widgets/base",
            "_view_module_version": "1.2.0",
            "_view_name": "LayoutView",
            "align_content": null,
            "align_items": null,
            "align_self": null,
            "border": null,
            "bottom": null,
            "display": null,
            "flex": null,
            "flex_flow": null,
            "grid_area": null,
            "grid_auto_columns": null,
            "grid_auto_flow": null,
            "grid_auto_rows": null,
            "grid_column": null,
            "grid_gap": null,
            "grid_row": null,
            "grid_template_areas": null,
            "grid_template_columns": null,
            "grid_template_rows": null,
            "height": null,
            "justify_content": null,
            "justify_items": null,
            "left": null,
            "margin": null,
            "max_height": null,
            "max_width": null,
            "min_height": null,
            "min_width": null,
            "object_fit": null,
            "object_position": null,
            "order": null,
            "overflow": null,
            "overflow_x": null,
            "overflow_y": null,
            "padding": null,
            "right": null,
            "top": null,
            "visibility": null,
            "width": null
          }
        },
        "e2b552b65a47417fbc2d3da9fc36bc6d": {
          "model_module": "@jupyter-widgets/controls",
          "model_name": "DescriptionStyleModel",
          "model_module_version": "1.5.0",
          "state": {
            "_model_module": "@jupyter-widgets/controls",
            "_model_module_version": "1.5.0",
            "_model_name": "DescriptionStyleModel",
            "_view_count": null,
            "_view_module": "@jupyter-widgets/base",
            "_view_module_version": "1.2.0",
            "_view_name": "StyleView",
            "description_width": ""
          }
        },
        "35cd6b80ca92468182bb5153ec8b9f37": {
          "model_module": "@jupyter-widgets/base",
          "model_name": "LayoutModel",
          "model_module_version": "1.2.0",
          "state": {
            "_model_module": "@jupyter-widgets/base",
            "_model_module_version": "1.2.0",
            "_model_name": "LayoutModel",
            "_view_count": null,
            "_view_module": "@jupyter-widgets/base",
            "_view_module_version": "1.2.0",
            "_view_name": "LayoutView",
            "align_content": null,
            "align_items": null,
            "align_self": null,
            "border": null,
            "bottom": null,
            "display": null,
            "flex": null,
            "flex_flow": null,
            "grid_area": null,
            "grid_auto_columns": null,
            "grid_auto_flow": null,
            "grid_auto_rows": null,
            "grid_column": null,
            "grid_gap": null,
            "grid_row": null,
            "grid_template_areas": null,
            "grid_template_columns": null,
            "grid_template_rows": null,
            "height": null,
            "justify_content": null,
            "justify_items": null,
            "left": null,
            "margin": null,
            "max_height": null,
            "max_width": null,
            "min_height": null,
            "min_width": null,
            "object_fit": null,
            "object_position": null,
            "order": null,
            "overflow": null,
            "overflow_x": null,
            "overflow_y": null,
            "padding": null,
            "right": null,
            "top": null,
            "visibility": null,
            "width": null
          }
        },
        "2a890ffc28ff40bb91cebfce8b6b814f": {
          "model_module": "@jupyter-widgets/controls",
          "model_name": "ProgressStyleModel",
          "model_module_version": "1.5.0",
          "state": {
            "_model_module": "@jupyter-widgets/controls",
            "_model_module_version": "1.5.0",
            "_model_name": "ProgressStyleModel",
            "_view_count": null,
            "_view_module": "@jupyter-widgets/base",
            "_view_module_version": "1.2.0",
            "_view_name": "StyleView",
            "bar_color": null,
            "description_width": ""
          }
        },
        "7b85e156df8a405b8f0c353450e0c96c": {
          "model_module": "@jupyter-widgets/base",
          "model_name": "LayoutModel",
          "model_module_version": "1.2.0",
          "state": {
            "_model_module": "@jupyter-widgets/base",
            "_model_module_version": "1.2.0",
            "_model_name": "LayoutModel",
            "_view_count": null,
            "_view_module": "@jupyter-widgets/base",
            "_view_module_version": "1.2.0",
            "_view_name": "LayoutView",
            "align_content": null,
            "align_items": null,
            "align_self": null,
            "border": null,
            "bottom": null,
            "display": null,
            "flex": null,
            "flex_flow": null,
            "grid_area": null,
            "grid_auto_columns": null,
            "grid_auto_flow": null,
            "grid_auto_rows": null,
            "grid_column": null,
            "grid_gap": null,
            "grid_row": null,
            "grid_template_areas": null,
            "grid_template_columns": null,
            "grid_template_rows": null,
            "height": null,
            "justify_content": null,
            "justify_items": null,
            "left": null,
            "margin": null,
            "max_height": null,
            "max_width": null,
            "min_height": null,
            "min_width": null,
            "object_fit": null,
            "object_position": null,
            "order": null,
            "overflow": null,
            "overflow_x": null,
            "overflow_y": null,
            "padding": null,
            "right": null,
            "top": null,
            "visibility": null,
            "width": null
          }
        },
        "b2f979a088864443855ec9c90f15619c": {
          "model_module": "@jupyter-widgets/controls",
          "model_name": "DescriptionStyleModel",
          "model_module_version": "1.5.0",
          "state": {
            "_model_module": "@jupyter-widgets/controls",
            "_model_module_version": "1.5.0",
            "_model_name": "DescriptionStyleModel",
            "_view_count": null,
            "_view_module": "@jupyter-widgets/base",
            "_view_module_version": "1.2.0",
            "_view_name": "StyleView",
            "description_width": ""
          }
        },
        "e9ee9ba931cb4144b36deb8e0212ec1d": {
          "model_module": "@jupyter-widgets/controls",
          "model_name": "HBoxModel",
          "model_module_version": "1.5.0",
          "state": {
            "_dom_classes": [],
            "_model_module": "@jupyter-widgets/controls",
            "_model_module_version": "1.5.0",
            "_model_name": "HBoxModel",
            "_view_count": null,
            "_view_module": "@jupyter-widgets/controls",
            "_view_module_version": "1.5.0",
            "_view_name": "HBoxView",
            "box_style": "",
            "children": [
              "IPY_MODEL_a3fdf22db2794333aa61fb7e98f4fe26",
              "IPY_MODEL_318b81fda1404f258d68100a1101f3c9",
              "IPY_MODEL_402fe316502841639815d2a50a2883e8"
            ],
            "layout": "IPY_MODEL_df7927d2eb1f4888a473d80745917607"
          }
        },
        "a3fdf22db2794333aa61fb7e98f4fe26": {
          "model_module": "@jupyter-widgets/controls",
          "model_name": "HTMLModel",
          "model_module_version": "1.5.0",
          "state": {
            "_dom_classes": [],
            "_model_module": "@jupyter-widgets/controls",
            "_model_module_version": "1.5.0",
            "_model_name": "HTMLModel",
            "_view_count": null,
            "_view_module": "@jupyter-widgets/controls",
            "_view_module_version": "1.5.0",
            "_view_name": "HTMLView",
            "description": "",
            "description_tooltip": null,
            "layout": "IPY_MODEL_4efa9aa40cf54da29f6863bd91ad2c1f",
            "placeholder": "​",
            "style": "IPY_MODEL_9d694f6652e3431689de7da3835f2686",
            "value": "100%"
          }
        },
        "318b81fda1404f258d68100a1101f3c9": {
          "model_module": "@jupyter-widgets/controls",
          "model_name": "FloatProgressModel",
          "model_module_version": "1.5.0",
          "state": {
            "_dom_classes": [],
            "_model_module": "@jupyter-widgets/controls",
            "_model_module_version": "1.5.0",
            "_model_name": "FloatProgressModel",
            "_view_count": null,
            "_view_module": "@jupyter-widgets/controls",
            "_view_module_version": "1.5.0",
            "_view_name": "ProgressView",
            "bar_style": "success",
            "description": "",
            "description_tooltip": null,
            "layout": "IPY_MODEL_d86c548288b4462896fd593fb53c783d",
            "max": 2396,
            "min": 0,
            "orientation": "horizontal",
            "style": "IPY_MODEL_08d3f5ec621e4fceabad8b69ad8b9759",
            "value": 2396
          }
        },
        "402fe316502841639815d2a50a2883e8": {
          "model_module": "@jupyter-widgets/controls",
          "model_name": "HTMLModel",
          "model_module_version": "1.5.0",
          "state": {
            "_dom_classes": [],
            "_model_module": "@jupyter-widgets/controls",
            "_model_module_version": "1.5.0",
            "_model_name": "HTMLModel",
            "_view_count": null,
            "_view_module": "@jupyter-widgets/controls",
            "_view_module_version": "1.5.0",
            "_view_name": "HTMLView",
            "description": "",
            "description_tooltip": null,
            "layout": "IPY_MODEL_3dc62e27ced144cda8d4a28f97109904",
            "placeholder": "​",
            "style": "IPY_MODEL_9be86c6e0d024983a427309428a245d5",
            "value": " 2396/2396 [00:08&lt;00:00, 270.27it/s]"
          }
        },
        "df7927d2eb1f4888a473d80745917607": {
          "model_module": "@jupyter-widgets/base",
          "model_name": "LayoutModel",
          "model_module_version": "1.2.0",
          "state": {
            "_model_module": "@jupyter-widgets/base",
            "_model_module_version": "1.2.0",
            "_model_name": "LayoutModel",
            "_view_count": null,
            "_view_module": "@jupyter-widgets/base",
            "_view_module_version": "1.2.0",
            "_view_name": "LayoutView",
            "align_content": null,
            "align_items": null,
            "align_self": null,
            "border": null,
            "bottom": null,
            "display": null,
            "flex": null,
            "flex_flow": null,
            "grid_area": null,
            "grid_auto_columns": null,
            "grid_auto_flow": null,
            "grid_auto_rows": null,
            "grid_column": null,
            "grid_gap": null,
            "grid_row": null,
            "grid_template_areas": null,
            "grid_template_columns": null,
            "grid_template_rows": null,
            "height": null,
            "justify_content": null,
            "justify_items": null,
            "left": null,
            "margin": null,
            "max_height": null,
            "max_width": null,
            "min_height": null,
            "min_width": null,
            "object_fit": null,
            "object_position": null,
            "order": null,
            "overflow": null,
            "overflow_x": null,
            "overflow_y": null,
            "padding": null,
            "right": null,
            "top": null,
            "visibility": null,
            "width": null
          }
        },
        "4efa9aa40cf54da29f6863bd91ad2c1f": {
          "model_module": "@jupyter-widgets/base",
          "model_name": "LayoutModel",
          "model_module_version": "1.2.0",
          "state": {
            "_model_module": "@jupyter-widgets/base",
            "_model_module_version": "1.2.0",
            "_model_name": "LayoutModel",
            "_view_count": null,
            "_view_module": "@jupyter-widgets/base",
            "_view_module_version": "1.2.0",
            "_view_name": "LayoutView",
            "align_content": null,
            "align_items": null,
            "align_self": null,
            "border": null,
            "bottom": null,
            "display": null,
            "flex": null,
            "flex_flow": null,
            "grid_area": null,
            "grid_auto_columns": null,
            "grid_auto_flow": null,
            "grid_auto_rows": null,
            "grid_column": null,
            "grid_gap": null,
            "grid_row": null,
            "grid_template_areas": null,
            "grid_template_columns": null,
            "grid_template_rows": null,
            "height": null,
            "justify_content": null,
            "justify_items": null,
            "left": null,
            "margin": null,
            "max_height": null,
            "max_width": null,
            "min_height": null,
            "min_width": null,
            "object_fit": null,
            "object_position": null,
            "order": null,
            "overflow": null,
            "overflow_x": null,
            "overflow_y": null,
            "padding": null,
            "right": null,
            "top": null,
            "visibility": null,
            "width": null
          }
        },
        "9d694f6652e3431689de7da3835f2686": {
          "model_module": "@jupyter-widgets/controls",
          "model_name": "DescriptionStyleModel",
          "model_module_version": "1.5.0",
          "state": {
            "_model_module": "@jupyter-widgets/controls",
            "_model_module_version": "1.5.0",
            "_model_name": "DescriptionStyleModel",
            "_view_count": null,
            "_view_module": "@jupyter-widgets/base",
            "_view_module_version": "1.2.0",
            "_view_name": "StyleView",
            "description_width": ""
          }
        },
        "d86c548288b4462896fd593fb53c783d": {
          "model_module": "@jupyter-widgets/base",
          "model_name": "LayoutModel",
          "model_module_version": "1.2.0",
          "state": {
            "_model_module": "@jupyter-widgets/base",
            "_model_module_version": "1.2.0",
            "_model_name": "LayoutModel",
            "_view_count": null,
            "_view_module": "@jupyter-widgets/base",
            "_view_module_version": "1.2.0",
            "_view_name": "LayoutView",
            "align_content": null,
            "align_items": null,
            "align_self": null,
            "border": null,
            "bottom": null,
            "display": null,
            "flex": null,
            "flex_flow": null,
            "grid_area": null,
            "grid_auto_columns": null,
            "grid_auto_flow": null,
            "grid_auto_rows": null,
            "grid_column": null,
            "grid_gap": null,
            "grid_row": null,
            "grid_template_areas": null,
            "grid_template_columns": null,
            "grid_template_rows": null,
            "height": null,
            "justify_content": null,
            "justify_items": null,
            "left": null,
            "margin": null,
            "max_height": null,
            "max_width": null,
            "min_height": null,
            "min_width": null,
            "object_fit": null,
            "object_position": null,
            "order": null,
            "overflow": null,
            "overflow_x": null,
            "overflow_y": null,
            "padding": null,
            "right": null,
            "top": null,
            "visibility": null,
            "width": null
          }
        },
        "08d3f5ec621e4fceabad8b69ad8b9759": {
          "model_module": "@jupyter-widgets/controls",
          "model_name": "ProgressStyleModel",
          "model_module_version": "1.5.0",
          "state": {
            "_model_module": "@jupyter-widgets/controls",
            "_model_module_version": "1.5.0",
            "_model_name": "ProgressStyleModel",
            "_view_count": null,
            "_view_module": "@jupyter-widgets/base",
            "_view_module_version": "1.2.0",
            "_view_name": "StyleView",
            "bar_color": null,
            "description_width": ""
          }
        },
        "3dc62e27ced144cda8d4a28f97109904": {
          "model_module": "@jupyter-widgets/base",
          "model_name": "LayoutModel",
          "model_module_version": "1.2.0",
          "state": {
            "_model_module": "@jupyter-widgets/base",
            "_model_module_version": "1.2.0",
            "_model_name": "LayoutModel",
            "_view_count": null,
            "_view_module": "@jupyter-widgets/base",
            "_view_module_version": "1.2.0",
            "_view_name": "LayoutView",
            "align_content": null,
            "align_items": null,
            "align_self": null,
            "border": null,
            "bottom": null,
            "display": null,
            "flex": null,
            "flex_flow": null,
            "grid_area": null,
            "grid_auto_columns": null,
            "grid_auto_flow": null,
            "grid_auto_rows": null,
            "grid_column": null,
            "grid_gap": null,
            "grid_row": null,
            "grid_template_areas": null,
            "grid_template_columns": null,
            "grid_template_rows": null,
            "height": null,
            "justify_content": null,
            "justify_items": null,
            "left": null,
            "margin": null,
            "max_height": null,
            "max_width": null,
            "min_height": null,
            "min_width": null,
            "object_fit": null,
            "object_position": null,
            "order": null,
            "overflow": null,
            "overflow_x": null,
            "overflow_y": null,
            "padding": null,
            "right": null,
            "top": null,
            "visibility": null,
            "width": null
          }
        },
        "9be86c6e0d024983a427309428a245d5": {
          "model_module": "@jupyter-widgets/controls",
          "model_name": "DescriptionStyleModel",
          "model_module_version": "1.5.0",
          "state": {
            "_model_module": "@jupyter-widgets/controls",
            "_model_module_version": "1.5.0",
            "_model_name": "DescriptionStyleModel",
            "_view_count": null,
            "_view_module": "@jupyter-widgets/base",
            "_view_module_version": "1.2.0",
            "_view_name": "StyleView",
            "description_width": ""
          }
        },
        "0ddb565175594bff9baff982883ceabf": {
          "model_module": "@jupyter-widgets/controls",
          "model_name": "HBoxModel",
          "model_module_version": "1.5.0",
          "state": {
            "_dom_classes": [],
            "_model_module": "@jupyter-widgets/controls",
            "_model_module_version": "1.5.0",
            "_model_name": "HBoxModel",
            "_view_count": null,
            "_view_module": "@jupyter-widgets/controls",
            "_view_module_version": "1.5.0",
            "_view_name": "HBoxView",
            "box_style": "",
            "children": [
              "IPY_MODEL_5c03f6393db74c48891b35fc1d479dc1",
              "IPY_MODEL_bb83ab0a49f142d3a878f6dac442f430",
              "IPY_MODEL_f5745a0b54aa45629439e44fe3b9f9a5"
            ],
            "layout": "IPY_MODEL_95d5ca15de64483b8d6fcf86d4e6e595"
          }
        },
        "5c03f6393db74c48891b35fc1d479dc1": {
          "model_module": "@jupyter-widgets/controls",
          "model_name": "HTMLModel",
          "model_module_version": "1.5.0",
          "state": {
            "_dom_classes": [],
            "_model_module": "@jupyter-widgets/controls",
            "_model_module_version": "1.5.0",
            "_model_name": "HTMLModel",
            "_view_count": null,
            "_view_module": "@jupyter-widgets/controls",
            "_view_module_version": "1.5.0",
            "_view_name": "HTMLView",
            "description": "",
            "description_tooltip": null,
            "layout": "IPY_MODEL_c0ccfa67dffa45ffbf361dc8d3c05744",
            "placeholder": "​",
            "style": "IPY_MODEL_01851e7f14f740beb54c3746835f4074",
            "value": "super_glue.py: 100%"
          }
        },
        "bb83ab0a49f142d3a878f6dac442f430": {
          "model_module": "@jupyter-widgets/controls",
          "model_name": "FloatProgressModel",
          "model_module_version": "1.5.0",
          "state": {
            "_dom_classes": [],
            "_model_module": "@jupyter-widgets/controls",
            "_model_module_version": "1.5.0",
            "_model_name": "FloatProgressModel",
            "_view_count": null,
            "_view_module": "@jupyter-widgets/controls",
            "_view_module_version": "1.5.0",
            "_view_name": "ProgressView",
            "bar_style": "success",
            "description": "",
            "description_tooltip": null,
            "layout": "IPY_MODEL_79a90a6467cc4d16bf755a390e8baec5",
            "max": 30733,
            "min": 0,
            "orientation": "horizontal",
            "style": "IPY_MODEL_1d8a6715bbd241a585e2a844d785fe4d",
            "value": 30733
          }
        },
        "f5745a0b54aa45629439e44fe3b9f9a5": {
          "model_module": "@jupyter-widgets/controls",
          "model_name": "HTMLModel",
          "model_module_version": "1.5.0",
          "state": {
            "_dom_classes": [],
            "_model_module": "@jupyter-widgets/controls",
            "_model_module_version": "1.5.0",
            "_model_name": "HTMLModel",
            "_view_count": null,
            "_view_module": "@jupyter-widgets/controls",
            "_view_module_version": "1.5.0",
            "_view_name": "HTMLView",
            "description": "",
            "description_tooltip": null,
            "layout": "IPY_MODEL_ce9d992cac0b4f26b303fae78bec08fb",
            "placeholder": "​",
            "style": "IPY_MODEL_f72f7d43a83a4cec9978e777a979817f",
            "value": " 30.7k/30.7k [00:00&lt;00:00, 1.37MB/s]"
          }
        },
        "95d5ca15de64483b8d6fcf86d4e6e595": {
          "model_module": "@jupyter-widgets/base",
          "model_name": "LayoutModel",
          "model_module_version": "1.2.0",
          "state": {
            "_model_module": "@jupyter-widgets/base",
            "_model_module_version": "1.2.0",
            "_model_name": "LayoutModel",
            "_view_count": null,
            "_view_module": "@jupyter-widgets/base",
            "_view_module_version": "1.2.0",
            "_view_name": "LayoutView",
            "align_content": null,
            "align_items": null,
            "align_self": null,
            "border": null,
            "bottom": null,
            "display": null,
            "flex": null,
            "flex_flow": null,
            "grid_area": null,
            "grid_auto_columns": null,
            "grid_auto_flow": null,
            "grid_auto_rows": null,
            "grid_column": null,
            "grid_gap": null,
            "grid_row": null,
            "grid_template_areas": null,
            "grid_template_columns": null,
            "grid_template_rows": null,
            "height": null,
            "justify_content": null,
            "justify_items": null,
            "left": null,
            "margin": null,
            "max_height": null,
            "max_width": null,
            "min_height": null,
            "min_width": null,
            "object_fit": null,
            "object_position": null,
            "order": null,
            "overflow": null,
            "overflow_x": null,
            "overflow_y": null,
            "padding": null,
            "right": null,
            "top": null,
            "visibility": null,
            "width": null
          }
        },
        "c0ccfa67dffa45ffbf361dc8d3c05744": {
          "model_module": "@jupyter-widgets/base",
          "model_name": "LayoutModel",
          "model_module_version": "1.2.0",
          "state": {
            "_model_module": "@jupyter-widgets/base",
            "_model_module_version": "1.2.0",
            "_model_name": "LayoutModel",
            "_view_count": null,
            "_view_module": "@jupyter-widgets/base",
            "_view_module_version": "1.2.0",
            "_view_name": "LayoutView",
            "align_content": null,
            "align_items": null,
            "align_self": null,
            "border": null,
            "bottom": null,
            "display": null,
            "flex": null,
            "flex_flow": null,
            "grid_area": null,
            "grid_auto_columns": null,
            "grid_auto_flow": null,
            "grid_auto_rows": null,
            "grid_column": null,
            "grid_gap": null,
            "grid_row": null,
            "grid_template_areas": null,
            "grid_template_columns": null,
            "grid_template_rows": null,
            "height": null,
            "justify_content": null,
            "justify_items": null,
            "left": null,
            "margin": null,
            "max_height": null,
            "max_width": null,
            "min_height": null,
            "min_width": null,
            "object_fit": null,
            "object_position": null,
            "order": null,
            "overflow": null,
            "overflow_x": null,
            "overflow_y": null,
            "padding": null,
            "right": null,
            "top": null,
            "visibility": null,
            "width": null
          }
        },
        "01851e7f14f740beb54c3746835f4074": {
          "model_module": "@jupyter-widgets/controls",
          "model_name": "DescriptionStyleModel",
          "model_module_version": "1.5.0",
          "state": {
            "_model_module": "@jupyter-widgets/controls",
            "_model_module_version": "1.5.0",
            "_model_name": "DescriptionStyleModel",
            "_view_count": null,
            "_view_module": "@jupyter-widgets/base",
            "_view_module_version": "1.2.0",
            "_view_name": "StyleView",
            "description_width": ""
          }
        },
        "79a90a6467cc4d16bf755a390e8baec5": {
          "model_module": "@jupyter-widgets/base",
          "model_name": "LayoutModel",
          "model_module_version": "1.2.0",
          "state": {
            "_model_module": "@jupyter-widgets/base",
            "_model_module_version": "1.2.0",
            "_model_name": "LayoutModel",
            "_view_count": null,
            "_view_module": "@jupyter-widgets/base",
            "_view_module_version": "1.2.0",
            "_view_name": "LayoutView",
            "align_content": null,
            "align_items": null,
            "align_self": null,
            "border": null,
            "bottom": null,
            "display": null,
            "flex": null,
            "flex_flow": null,
            "grid_area": null,
            "grid_auto_columns": null,
            "grid_auto_flow": null,
            "grid_auto_rows": null,
            "grid_column": null,
            "grid_gap": null,
            "grid_row": null,
            "grid_template_areas": null,
            "grid_template_columns": null,
            "grid_template_rows": null,
            "height": null,
            "justify_content": null,
            "justify_items": null,
            "left": null,
            "margin": null,
            "max_height": null,
            "max_width": null,
            "min_height": null,
            "min_width": null,
            "object_fit": null,
            "object_position": null,
            "order": null,
            "overflow": null,
            "overflow_x": null,
            "overflow_y": null,
            "padding": null,
            "right": null,
            "top": null,
            "visibility": null,
            "width": null
          }
        },
        "1d8a6715bbd241a585e2a844d785fe4d": {
          "model_module": "@jupyter-widgets/controls",
          "model_name": "ProgressStyleModel",
          "model_module_version": "1.5.0",
          "state": {
            "_model_module": "@jupyter-widgets/controls",
            "_model_module_version": "1.5.0",
            "_model_name": "ProgressStyleModel",
            "_view_count": null,
            "_view_module": "@jupyter-widgets/base",
            "_view_module_version": "1.2.0",
            "_view_name": "StyleView",
            "bar_color": null,
            "description_width": ""
          }
        },
        "ce9d992cac0b4f26b303fae78bec08fb": {
          "model_module": "@jupyter-widgets/base",
          "model_name": "LayoutModel",
          "model_module_version": "1.2.0",
          "state": {
            "_model_module": "@jupyter-widgets/base",
            "_model_module_version": "1.2.0",
            "_model_name": "LayoutModel",
            "_view_count": null,
            "_view_module": "@jupyter-widgets/base",
            "_view_module_version": "1.2.0",
            "_view_name": "LayoutView",
            "align_content": null,
            "align_items": null,
            "align_self": null,
            "border": null,
            "bottom": null,
            "display": null,
            "flex": null,
            "flex_flow": null,
            "grid_area": null,
            "grid_auto_columns": null,
            "grid_auto_flow": null,
            "grid_auto_rows": null,
            "grid_column": null,
            "grid_gap": null,
            "grid_row": null,
            "grid_template_areas": null,
            "grid_template_columns": null,
            "grid_template_rows": null,
            "height": null,
            "justify_content": null,
            "justify_items": null,
            "left": null,
            "margin": null,
            "max_height": null,
            "max_width": null,
            "min_height": null,
            "min_width": null,
            "object_fit": null,
            "object_position": null,
            "order": null,
            "overflow": null,
            "overflow_x": null,
            "overflow_y": null,
            "padding": null,
            "right": null,
            "top": null,
            "visibility": null,
            "width": null
          }
        },
        "f72f7d43a83a4cec9978e777a979817f": {
          "model_module": "@jupyter-widgets/controls",
          "model_name": "DescriptionStyleModel",
          "model_module_version": "1.5.0",
          "state": {
            "_model_module": "@jupyter-widgets/controls",
            "_model_module_version": "1.5.0",
            "_model_name": "DescriptionStyleModel",
            "_view_count": null,
            "_view_module": "@jupyter-widgets/base",
            "_view_module_version": "1.2.0",
            "_view_name": "StyleView",
            "description_width": ""
          }
        },
        "61433ced22c04a1a901dce0979a16393": {
          "model_module": "@jupyter-widgets/controls",
          "model_name": "HBoxModel",
          "model_module_version": "1.5.0",
          "state": {
            "_dom_classes": [],
            "_model_module": "@jupyter-widgets/controls",
            "_model_module_version": "1.5.0",
            "_model_name": "HBoxModel",
            "_view_count": null,
            "_view_module": "@jupyter-widgets/controls",
            "_view_module_version": "1.5.0",
            "_view_name": "HBoxView",
            "box_style": "",
            "children": [
              "IPY_MODEL_254bfd64136d4b5ab22928e1e6596b73",
              "IPY_MODEL_49593fc669a74c33bae810b29fc5664e",
              "IPY_MODEL_01405c9206324bf1953321d5e1281178"
            ],
            "layout": "IPY_MODEL_263a250feba14d71aac48c05129f5cdc"
          }
        },
        "254bfd64136d4b5ab22928e1e6596b73": {
          "model_module": "@jupyter-widgets/controls",
          "model_name": "HTMLModel",
          "model_module_version": "1.5.0",
          "state": {
            "_dom_classes": [],
            "_model_module": "@jupyter-widgets/controls",
            "_model_module_version": "1.5.0",
            "_model_name": "HTMLModel",
            "_view_count": null,
            "_view_module": "@jupyter-widgets/controls",
            "_view_module_version": "1.5.0",
            "_view_name": "HTMLView",
            "description": "",
            "description_tooltip": null,
            "layout": "IPY_MODEL_f9a7e0a3f7f7417aa0036720608301d1",
            "placeholder": "​",
            "style": "IPY_MODEL_3ab39ce772f1406699a1682a5e035b9f",
            "value": "README.md: 100%"
          }
        },
        "49593fc669a74c33bae810b29fc5664e": {
          "model_module": "@jupyter-widgets/controls",
          "model_name": "FloatProgressModel",
          "model_module_version": "1.5.0",
          "state": {
            "_dom_classes": [],
            "_model_module": "@jupyter-widgets/controls",
            "_model_module_version": "1.5.0",
            "_model_name": "FloatProgressModel",
            "_view_count": null,
            "_view_module": "@jupyter-widgets/controls",
            "_view_module_version": "1.5.0",
            "_view_name": "ProgressView",
            "bar_style": "success",
            "description": "",
            "description_tooltip": null,
            "layout": "IPY_MODEL_3dafdc7975cd48a5838c980c37e743cb",
            "max": 18151,
            "min": 0,
            "orientation": "horizontal",
            "style": "IPY_MODEL_3e58f64207994e9993118edc4a4ca6cf",
            "value": 18151
          }
        },
        "01405c9206324bf1953321d5e1281178": {
          "model_module": "@jupyter-widgets/controls",
          "model_name": "HTMLModel",
          "model_module_version": "1.5.0",
          "state": {
            "_dom_classes": [],
            "_model_module": "@jupyter-widgets/controls",
            "_model_module_version": "1.5.0",
            "_model_name": "HTMLModel",
            "_view_count": null,
            "_view_module": "@jupyter-widgets/controls",
            "_view_module_version": "1.5.0",
            "_view_name": "HTMLView",
            "description": "",
            "description_tooltip": null,
            "layout": "IPY_MODEL_82862a8056f64d34927e152ffe54a8cd",
            "placeholder": "​",
            "style": "IPY_MODEL_41b16adb85c549beb86085da5ab49287",
            "value": " 18.2k/18.2k [00:00&lt;00:00, 857kB/s]"
          }
        },
        "263a250feba14d71aac48c05129f5cdc": {
          "model_module": "@jupyter-widgets/base",
          "model_name": "LayoutModel",
          "model_module_version": "1.2.0",
          "state": {
            "_model_module": "@jupyter-widgets/base",
            "_model_module_version": "1.2.0",
            "_model_name": "LayoutModel",
            "_view_count": null,
            "_view_module": "@jupyter-widgets/base",
            "_view_module_version": "1.2.0",
            "_view_name": "LayoutView",
            "align_content": null,
            "align_items": null,
            "align_self": null,
            "border": null,
            "bottom": null,
            "display": null,
            "flex": null,
            "flex_flow": null,
            "grid_area": null,
            "grid_auto_columns": null,
            "grid_auto_flow": null,
            "grid_auto_rows": null,
            "grid_column": null,
            "grid_gap": null,
            "grid_row": null,
            "grid_template_areas": null,
            "grid_template_columns": null,
            "grid_template_rows": null,
            "height": null,
            "justify_content": null,
            "justify_items": null,
            "left": null,
            "margin": null,
            "max_height": null,
            "max_width": null,
            "min_height": null,
            "min_width": null,
            "object_fit": null,
            "object_position": null,
            "order": null,
            "overflow": null,
            "overflow_x": null,
            "overflow_y": null,
            "padding": null,
            "right": null,
            "top": null,
            "visibility": null,
            "width": null
          }
        },
        "f9a7e0a3f7f7417aa0036720608301d1": {
          "model_module": "@jupyter-widgets/base",
          "model_name": "LayoutModel",
          "model_module_version": "1.2.0",
          "state": {
            "_model_module": "@jupyter-widgets/base",
            "_model_module_version": "1.2.0",
            "_model_name": "LayoutModel",
            "_view_count": null,
            "_view_module": "@jupyter-widgets/base",
            "_view_module_version": "1.2.0",
            "_view_name": "LayoutView",
            "align_content": null,
            "align_items": null,
            "align_self": null,
            "border": null,
            "bottom": null,
            "display": null,
            "flex": null,
            "flex_flow": null,
            "grid_area": null,
            "grid_auto_columns": null,
            "grid_auto_flow": null,
            "grid_auto_rows": null,
            "grid_column": null,
            "grid_gap": null,
            "grid_row": null,
            "grid_template_areas": null,
            "grid_template_columns": null,
            "grid_template_rows": null,
            "height": null,
            "justify_content": null,
            "justify_items": null,
            "left": null,
            "margin": null,
            "max_height": null,
            "max_width": null,
            "min_height": null,
            "min_width": null,
            "object_fit": null,
            "object_position": null,
            "order": null,
            "overflow": null,
            "overflow_x": null,
            "overflow_y": null,
            "padding": null,
            "right": null,
            "top": null,
            "visibility": null,
            "width": null
          }
        },
        "3ab39ce772f1406699a1682a5e035b9f": {
          "model_module": "@jupyter-widgets/controls",
          "model_name": "DescriptionStyleModel",
          "model_module_version": "1.5.0",
          "state": {
            "_model_module": "@jupyter-widgets/controls",
            "_model_module_version": "1.5.0",
            "_model_name": "DescriptionStyleModel",
            "_view_count": null,
            "_view_module": "@jupyter-widgets/base",
            "_view_module_version": "1.2.0",
            "_view_name": "StyleView",
            "description_width": ""
          }
        },
        "3dafdc7975cd48a5838c980c37e743cb": {
          "model_module": "@jupyter-widgets/base",
          "model_name": "LayoutModel",
          "model_module_version": "1.2.0",
          "state": {
            "_model_module": "@jupyter-widgets/base",
            "_model_module_version": "1.2.0",
            "_model_name": "LayoutModel",
            "_view_count": null,
            "_view_module": "@jupyter-widgets/base",
            "_view_module_version": "1.2.0",
            "_view_name": "LayoutView",
            "align_content": null,
            "align_items": null,
            "align_self": null,
            "border": null,
            "bottom": null,
            "display": null,
            "flex": null,
            "flex_flow": null,
            "grid_area": null,
            "grid_auto_columns": null,
            "grid_auto_flow": null,
            "grid_auto_rows": null,
            "grid_column": null,
            "grid_gap": null,
            "grid_row": null,
            "grid_template_areas": null,
            "grid_template_columns": null,
            "grid_template_rows": null,
            "height": null,
            "justify_content": null,
            "justify_items": null,
            "left": null,
            "margin": null,
            "max_height": null,
            "max_width": null,
            "min_height": null,
            "min_width": null,
            "object_fit": null,
            "object_position": null,
            "order": null,
            "overflow": null,
            "overflow_x": null,
            "overflow_y": null,
            "padding": null,
            "right": null,
            "top": null,
            "visibility": null,
            "width": null
          }
        },
        "3e58f64207994e9993118edc4a4ca6cf": {
          "model_module": "@jupyter-widgets/controls",
          "model_name": "ProgressStyleModel",
          "model_module_version": "1.5.0",
          "state": {
            "_model_module": "@jupyter-widgets/controls",
            "_model_module_version": "1.5.0",
            "_model_name": "ProgressStyleModel",
            "_view_count": null,
            "_view_module": "@jupyter-widgets/base",
            "_view_module_version": "1.2.0",
            "_view_name": "StyleView",
            "bar_color": null,
            "description_width": ""
          }
        },
        "82862a8056f64d34927e152ffe54a8cd": {
          "model_module": "@jupyter-widgets/base",
          "model_name": "LayoutModel",
          "model_module_version": "1.2.0",
          "state": {
            "_model_module": "@jupyter-widgets/base",
            "_model_module_version": "1.2.0",
            "_model_name": "LayoutModel",
            "_view_count": null,
            "_view_module": "@jupyter-widgets/base",
            "_view_module_version": "1.2.0",
            "_view_name": "LayoutView",
            "align_content": null,
            "align_items": null,
            "align_self": null,
            "border": null,
            "bottom": null,
            "display": null,
            "flex": null,
            "flex_flow": null,
            "grid_area": null,
            "grid_auto_columns": null,
            "grid_auto_flow": null,
            "grid_auto_rows": null,
            "grid_column": null,
            "grid_gap": null,
            "grid_row": null,
            "grid_template_areas": null,
            "grid_template_columns": null,
            "grid_template_rows": null,
            "height": null,
            "justify_content": null,
            "justify_items": null,
            "left": null,
            "margin": null,
            "max_height": null,
            "max_width": null,
            "min_height": null,
            "min_width": null,
            "object_fit": null,
            "object_position": null,
            "order": null,
            "overflow": null,
            "overflow_x": null,
            "overflow_y": null,
            "padding": null,
            "right": null,
            "top": null,
            "visibility": null,
            "width": null
          }
        },
        "41b16adb85c549beb86085da5ab49287": {
          "model_module": "@jupyter-widgets/controls",
          "model_name": "DescriptionStyleModel",
          "model_module_version": "1.5.0",
          "state": {
            "_model_module": "@jupyter-widgets/controls",
            "_model_module_version": "1.5.0",
            "_model_name": "DescriptionStyleModel",
            "_view_count": null,
            "_view_module": "@jupyter-widgets/base",
            "_view_module_version": "1.2.0",
            "_view_name": "StyleView",
            "description_width": ""
          }
        },
        "19298ec081b64632b94a21cfa03f08e2": {
          "model_module": "@jupyter-widgets/controls",
          "model_name": "HBoxModel",
          "model_module_version": "1.5.0",
          "state": {
            "_dom_classes": [],
            "_model_module": "@jupyter-widgets/controls",
            "_model_module_version": "1.5.0",
            "_model_name": "HBoxModel",
            "_view_count": null,
            "_view_module": "@jupyter-widgets/controls",
            "_view_module_version": "1.5.0",
            "_view_name": "HBoxView",
            "box_style": "",
            "children": [
              "IPY_MODEL_7ddc9c02b43b462b8c328feafd2fcfa2",
              "IPY_MODEL_edd056fd310f449f97a0d5c7e48fe2bd",
              "IPY_MODEL_6a9e91817de646dfb4a5c7e71efaf1ba"
            ],
            "layout": "IPY_MODEL_2604af414ff1473ab82245349bc2ae9f"
          }
        },
        "7ddc9c02b43b462b8c328feafd2fcfa2": {
          "model_module": "@jupyter-widgets/controls",
          "model_name": "HTMLModel",
          "model_module_version": "1.5.0",
          "state": {
            "_dom_classes": [],
            "_model_module": "@jupyter-widgets/controls",
            "_model_module_version": "1.5.0",
            "_model_name": "HTMLModel",
            "_view_count": null,
            "_view_module": "@jupyter-widgets/controls",
            "_view_module_version": "1.5.0",
            "_view_name": "HTMLView",
            "description": "",
            "description_tooltip": null,
            "layout": "IPY_MODEL_eff972a1aa83439c8ab76e450b898713",
            "placeholder": "​",
            "style": "IPY_MODEL_e6eb3a519bbf4ddca8a9efc3cea03b89",
            "value": "Downloading data: 100%"
          }
        },
        "edd056fd310f449f97a0d5c7e48fe2bd": {
          "model_module": "@jupyter-widgets/controls",
          "model_name": "FloatProgressModel",
          "model_module_version": "1.5.0",
          "state": {
            "_dom_classes": [],
            "_model_module": "@jupyter-widgets/controls",
            "_model_module_version": "1.5.0",
            "_model_name": "FloatProgressModel",
            "_view_count": null,
            "_view_module": "@jupyter-widgets/controls",
            "_view_module_version": "1.5.0",
            "_view_name": "ProgressView",
            "bar_style": "success",
            "description": "",
            "description_tooltip": null,
            "layout": "IPY_MODEL_665a45efa034466098f88234b77c5ebc",
            "max": 396213,
            "min": 0,
            "orientation": "horizontal",
            "style": "IPY_MODEL_be26fb7e19764e51a8e6be81098db44c",
            "value": 396213
          }
        },
        "6a9e91817de646dfb4a5c7e71efaf1ba": {
          "model_module": "@jupyter-widgets/controls",
          "model_name": "HTMLModel",
          "model_module_version": "1.5.0",
          "state": {
            "_dom_classes": [],
            "_model_module": "@jupyter-widgets/controls",
            "_model_module_version": "1.5.0",
            "_model_name": "HTMLModel",
            "_view_count": null,
            "_view_module": "@jupyter-widgets/controls",
            "_view_module_version": "1.5.0",
            "_view_name": "HTMLView",
            "description": "",
            "description_tooltip": null,
            "layout": "IPY_MODEL_b481d59c58334dcbabd2b1eabfe49ff5",
            "placeholder": "​",
            "style": "IPY_MODEL_0588f3a9599944f380d4b63728b77f0a",
            "value": " 396k/396k [00:00&lt;00:00, 6.81MB/s]"
          }
        },
        "2604af414ff1473ab82245349bc2ae9f": {
          "model_module": "@jupyter-widgets/base",
          "model_name": "LayoutModel",
          "model_module_version": "1.2.0",
          "state": {
            "_model_module": "@jupyter-widgets/base",
            "_model_module_version": "1.2.0",
            "_model_name": "LayoutModel",
            "_view_count": null,
            "_view_module": "@jupyter-widgets/base",
            "_view_module_version": "1.2.0",
            "_view_name": "LayoutView",
            "align_content": null,
            "align_items": null,
            "align_self": null,
            "border": null,
            "bottom": null,
            "display": null,
            "flex": null,
            "flex_flow": null,
            "grid_area": null,
            "grid_auto_columns": null,
            "grid_auto_flow": null,
            "grid_auto_rows": null,
            "grid_column": null,
            "grid_gap": null,
            "grid_row": null,
            "grid_template_areas": null,
            "grid_template_columns": null,
            "grid_template_rows": null,
            "height": null,
            "justify_content": null,
            "justify_items": null,
            "left": null,
            "margin": null,
            "max_height": null,
            "max_width": null,
            "min_height": null,
            "min_width": null,
            "object_fit": null,
            "object_position": null,
            "order": null,
            "overflow": null,
            "overflow_x": null,
            "overflow_y": null,
            "padding": null,
            "right": null,
            "top": null,
            "visibility": null,
            "width": null
          }
        },
        "eff972a1aa83439c8ab76e450b898713": {
          "model_module": "@jupyter-widgets/base",
          "model_name": "LayoutModel",
          "model_module_version": "1.2.0",
          "state": {
            "_model_module": "@jupyter-widgets/base",
            "_model_module_version": "1.2.0",
            "_model_name": "LayoutModel",
            "_view_count": null,
            "_view_module": "@jupyter-widgets/base",
            "_view_module_version": "1.2.0",
            "_view_name": "LayoutView",
            "align_content": null,
            "align_items": null,
            "align_self": null,
            "border": null,
            "bottom": null,
            "display": null,
            "flex": null,
            "flex_flow": null,
            "grid_area": null,
            "grid_auto_columns": null,
            "grid_auto_flow": null,
            "grid_auto_rows": null,
            "grid_column": null,
            "grid_gap": null,
            "grid_row": null,
            "grid_template_areas": null,
            "grid_template_columns": null,
            "grid_template_rows": null,
            "height": null,
            "justify_content": null,
            "justify_items": null,
            "left": null,
            "margin": null,
            "max_height": null,
            "max_width": null,
            "min_height": null,
            "min_width": null,
            "object_fit": null,
            "object_position": null,
            "order": null,
            "overflow": null,
            "overflow_x": null,
            "overflow_y": null,
            "padding": null,
            "right": null,
            "top": null,
            "visibility": null,
            "width": null
          }
        },
        "e6eb3a519bbf4ddca8a9efc3cea03b89": {
          "model_module": "@jupyter-widgets/controls",
          "model_name": "DescriptionStyleModel",
          "model_module_version": "1.5.0",
          "state": {
            "_model_module": "@jupyter-widgets/controls",
            "_model_module_version": "1.5.0",
            "_model_name": "DescriptionStyleModel",
            "_view_count": null,
            "_view_module": "@jupyter-widgets/base",
            "_view_module_version": "1.2.0",
            "_view_name": "StyleView",
            "description_width": ""
          }
        },
        "665a45efa034466098f88234b77c5ebc": {
          "model_module": "@jupyter-widgets/base",
          "model_name": "LayoutModel",
          "model_module_version": "1.2.0",
          "state": {
            "_model_module": "@jupyter-widgets/base",
            "_model_module_version": "1.2.0",
            "_model_name": "LayoutModel",
            "_view_count": null,
            "_view_module": "@jupyter-widgets/base",
            "_view_module_version": "1.2.0",
            "_view_name": "LayoutView",
            "align_content": null,
            "align_items": null,
            "align_self": null,
            "border": null,
            "bottom": null,
            "display": null,
            "flex": null,
            "flex_flow": null,
            "grid_area": null,
            "grid_auto_columns": null,
            "grid_auto_flow": null,
            "grid_auto_rows": null,
            "grid_column": null,
            "grid_gap": null,
            "grid_row": null,
            "grid_template_areas": null,
            "grid_template_columns": null,
            "grid_template_rows": null,
            "height": null,
            "justify_content": null,
            "justify_items": null,
            "left": null,
            "margin": null,
            "max_height": null,
            "max_width": null,
            "min_height": null,
            "min_width": null,
            "object_fit": null,
            "object_position": null,
            "order": null,
            "overflow": null,
            "overflow_x": null,
            "overflow_y": null,
            "padding": null,
            "right": null,
            "top": null,
            "visibility": null,
            "width": null
          }
        },
        "be26fb7e19764e51a8e6be81098db44c": {
          "model_module": "@jupyter-widgets/controls",
          "model_name": "ProgressStyleModel",
          "model_module_version": "1.5.0",
          "state": {
            "_model_module": "@jupyter-widgets/controls",
            "_model_module_version": "1.5.0",
            "_model_name": "ProgressStyleModel",
            "_view_count": null,
            "_view_module": "@jupyter-widgets/base",
            "_view_module_version": "1.2.0",
            "_view_name": "StyleView",
            "bar_color": null,
            "description_width": ""
          }
        },
        "b481d59c58334dcbabd2b1eabfe49ff5": {
          "model_module": "@jupyter-widgets/base",
          "model_name": "LayoutModel",
          "model_module_version": "1.2.0",
          "state": {
            "_model_module": "@jupyter-widgets/base",
            "_model_module_version": "1.2.0",
            "_model_name": "LayoutModel",
            "_view_count": null,
            "_view_module": "@jupyter-widgets/base",
            "_view_module_version": "1.2.0",
            "_view_name": "LayoutView",
            "align_content": null,
            "align_items": null,
            "align_self": null,
            "border": null,
            "bottom": null,
            "display": null,
            "flex": null,
            "flex_flow": null,
            "grid_area": null,
            "grid_auto_columns": null,
            "grid_auto_flow": null,
            "grid_auto_rows": null,
            "grid_column": null,
            "grid_gap": null,
            "grid_row": null,
            "grid_template_areas": null,
            "grid_template_columns": null,
            "grid_template_rows": null,
            "height": null,
            "justify_content": null,
            "justify_items": null,
            "left": null,
            "margin": null,
            "max_height": null,
            "max_width": null,
            "min_height": null,
            "min_width": null,
            "object_fit": null,
            "object_position": null,
            "order": null,
            "overflow": null,
            "overflow_x": null,
            "overflow_y": null,
            "padding": null,
            "right": null,
            "top": null,
            "visibility": null,
            "width": null
          }
        },
        "0588f3a9599944f380d4b63728b77f0a": {
          "model_module": "@jupyter-widgets/controls",
          "model_name": "DescriptionStyleModel",
          "model_module_version": "1.5.0",
          "state": {
            "_model_module": "@jupyter-widgets/controls",
            "_model_module_version": "1.5.0",
            "_model_name": "DescriptionStyleModel",
            "_view_count": null,
            "_view_module": "@jupyter-widgets/base",
            "_view_module_version": "1.2.0",
            "_view_name": "StyleView",
            "description_width": ""
          }
        },
        "bf2966a5711345e79da215cd214a4f5f": {
          "model_module": "@jupyter-widgets/controls",
          "model_name": "HBoxModel",
          "model_module_version": "1.5.0",
          "state": {
            "_dom_classes": [],
            "_model_module": "@jupyter-widgets/controls",
            "_model_module_version": "1.5.0",
            "_model_name": "HBoxModel",
            "_view_count": null,
            "_view_module": "@jupyter-widgets/controls",
            "_view_module_version": "1.5.0",
            "_view_name": "HBoxView",
            "box_style": "",
            "children": [
              "IPY_MODEL_efe1b65f4f5242adba53a585a4d4bb8c",
              "IPY_MODEL_223ff98524634d9daf0ba4da48795979",
              "IPY_MODEL_d3180e76c89e49dea9ae859a5003e665"
            ],
            "layout": "IPY_MODEL_cc438f6cbf614fae8cf225c215d96419"
          }
        },
        "efe1b65f4f5242adba53a585a4d4bb8c": {
          "model_module": "@jupyter-widgets/controls",
          "model_name": "HTMLModel",
          "model_module_version": "1.5.0",
          "state": {
            "_dom_classes": [],
            "_model_module": "@jupyter-widgets/controls",
            "_model_module_version": "1.5.0",
            "_model_name": "HTMLModel",
            "_view_count": null,
            "_view_module": "@jupyter-widgets/controls",
            "_view_module_version": "1.5.0",
            "_view_name": "HTMLView",
            "description": "",
            "description_tooltip": null,
            "layout": "IPY_MODEL_6ace4c94fd884122a263b4bd13fd482e",
            "placeholder": "​",
            "style": "IPY_MODEL_4608d81e93ee46869bdda440dbdaf5c6",
            "value": "Generating train split: 100%"
          }
        },
        "223ff98524634d9daf0ba4da48795979": {
          "model_module": "@jupyter-widgets/controls",
          "model_name": "FloatProgressModel",
          "model_module_version": "1.5.0",
          "state": {
            "_dom_classes": [],
            "_model_module": "@jupyter-widgets/controls",
            "_model_module_version": "1.5.0",
            "_model_name": "FloatProgressModel",
            "_view_count": null,
            "_view_module": "@jupyter-widgets/controls",
            "_view_module_version": "1.5.0",
            "_view_name": "ProgressView",
            "bar_style": "success",
            "description": "",
            "description_tooltip": null,
            "layout": "IPY_MODEL_1b0e01cc69e54a579da6c589ed011153",
            "max": 5428,
            "min": 0,
            "orientation": "horizontal",
            "style": "IPY_MODEL_66142d8d25b14121bf83064145c53370",
            "value": 5428
          }
        },
        "d3180e76c89e49dea9ae859a5003e665": {
          "model_module": "@jupyter-widgets/controls",
          "model_name": "HTMLModel",
          "model_module_version": "1.5.0",
          "state": {
            "_dom_classes": [],
            "_model_module": "@jupyter-widgets/controls",
            "_model_module_version": "1.5.0",
            "_model_name": "HTMLModel",
            "_view_count": null,
            "_view_module": "@jupyter-widgets/controls",
            "_view_module_version": "1.5.0",
            "_view_name": "HTMLView",
            "description": "",
            "description_tooltip": null,
            "layout": "IPY_MODEL_a7b0263a6d6e44469a2c9dbe5b001e84",
            "placeholder": "​",
            "style": "IPY_MODEL_600ddaa77c5c4a578efb797af2c5449e",
            "value": " 5428/5428 [00:00&lt;00:00, 9100.48 examples/s]"
          }
        },
        "cc438f6cbf614fae8cf225c215d96419": {
          "model_module": "@jupyter-widgets/base",
          "model_name": "LayoutModel",
          "model_module_version": "1.2.0",
          "state": {
            "_model_module": "@jupyter-widgets/base",
            "_model_module_version": "1.2.0",
            "_model_name": "LayoutModel",
            "_view_count": null,
            "_view_module": "@jupyter-widgets/base",
            "_view_module_version": "1.2.0",
            "_view_name": "LayoutView",
            "align_content": null,
            "align_items": null,
            "align_self": null,
            "border": null,
            "bottom": null,
            "display": null,
            "flex": null,
            "flex_flow": null,
            "grid_area": null,
            "grid_auto_columns": null,
            "grid_auto_flow": null,
            "grid_auto_rows": null,
            "grid_column": null,
            "grid_gap": null,
            "grid_row": null,
            "grid_template_areas": null,
            "grid_template_columns": null,
            "grid_template_rows": null,
            "height": null,
            "justify_content": null,
            "justify_items": null,
            "left": null,
            "margin": null,
            "max_height": null,
            "max_width": null,
            "min_height": null,
            "min_width": null,
            "object_fit": null,
            "object_position": null,
            "order": null,
            "overflow": null,
            "overflow_x": null,
            "overflow_y": null,
            "padding": null,
            "right": null,
            "top": null,
            "visibility": null,
            "width": null
          }
        },
        "6ace4c94fd884122a263b4bd13fd482e": {
          "model_module": "@jupyter-widgets/base",
          "model_name": "LayoutModel",
          "model_module_version": "1.2.0",
          "state": {
            "_model_module": "@jupyter-widgets/base",
            "_model_module_version": "1.2.0",
            "_model_name": "LayoutModel",
            "_view_count": null,
            "_view_module": "@jupyter-widgets/base",
            "_view_module_version": "1.2.0",
            "_view_name": "LayoutView",
            "align_content": null,
            "align_items": null,
            "align_self": null,
            "border": null,
            "bottom": null,
            "display": null,
            "flex": null,
            "flex_flow": null,
            "grid_area": null,
            "grid_auto_columns": null,
            "grid_auto_flow": null,
            "grid_auto_rows": null,
            "grid_column": null,
            "grid_gap": null,
            "grid_row": null,
            "grid_template_areas": null,
            "grid_template_columns": null,
            "grid_template_rows": null,
            "height": null,
            "justify_content": null,
            "justify_items": null,
            "left": null,
            "margin": null,
            "max_height": null,
            "max_width": null,
            "min_height": null,
            "min_width": null,
            "object_fit": null,
            "object_position": null,
            "order": null,
            "overflow": null,
            "overflow_x": null,
            "overflow_y": null,
            "padding": null,
            "right": null,
            "top": null,
            "visibility": null,
            "width": null
          }
        },
        "4608d81e93ee46869bdda440dbdaf5c6": {
          "model_module": "@jupyter-widgets/controls",
          "model_name": "DescriptionStyleModel",
          "model_module_version": "1.5.0",
          "state": {
            "_model_module": "@jupyter-widgets/controls",
            "_model_module_version": "1.5.0",
            "_model_name": "DescriptionStyleModel",
            "_view_count": null,
            "_view_module": "@jupyter-widgets/base",
            "_view_module_version": "1.2.0",
            "_view_name": "StyleView",
            "description_width": ""
          }
        },
        "1b0e01cc69e54a579da6c589ed011153": {
          "model_module": "@jupyter-widgets/base",
          "model_name": "LayoutModel",
          "model_module_version": "1.2.0",
          "state": {
            "_model_module": "@jupyter-widgets/base",
            "_model_module_version": "1.2.0",
            "_model_name": "LayoutModel",
            "_view_count": null,
            "_view_module": "@jupyter-widgets/base",
            "_view_module_version": "1.2.0",
            "_view_name": "LayoutView",
            "align_content": null,
            "align_items": null,
            "align_self": null,
            "border": null,
            "bottom": null,
            "display": null,
            "flex": null,
            "flex_flow": null,
            "grid_area": null,
            "grid_auto_columns": null,
            "grid_auto_flow": null,
            "grid_auto_rows": null,
            "grid_column": null,
            "grid_gap": null,
            "grid_row": null,
            "grid_template_areas": null,
            "grid_template_columns": null,
            "grid_template_rows": null,
            "height": null,
            "justify_content": null,
            "justify_items": null,
            "left": null,
            "margin": null,
            "max_height": null,
            "max_width": null,
            "min_height": null,
            "min_width": null,
            "object_fit": null,
            "object_position": null,
            "order": null,
            "overflow": null,
            "overflow_x": null,
            "overflow_y": null,
            "padding": null,
            "right": null,
            "top": null,
            "visibility": null,
            "width": null
          }
        },
        "66142d8d25b14121bf83064145c53370": {
          "model_module": "@jupyter-widgets/controls",
          "model_name": "ProgressStyleModel",
          "model_module_version": "1.5.0",
          "state": {
            "_model_module": "@jupyter-widgets/controls",
            "_model_module_version": "1.5.0",
            "_model_name": "ProgressStyleModel",
            "_view_count": null,
            "_view_module": "@jupyter-widgets/base",
            "_view_module_version": "1.2.0",
            "_view_name": "StyleView",
            "bar_color": null,
            "description_width": ""
          }
        },
        "a7b0263a6d6e44469a2c9dbe5b001e84": {
          "model_module": "@jupyter-widgets/base",
          "model_name": "LayoutModel",
          "model_module_version": "1.2.0",
          "state": {
            "_model_module": "@jupyter-widgets/base",
            "_model_module_version": "1.2.0",
            "_model_name": "LayoutModel",
            "_view_count": null,
            "_view_module": "@jupyter-widgets/base",
            "_view_module_version": "1.2.0",
            "_view_name": "LayoutView",
            "align_content": null,
            "align_items": null,
            "align_self": null,
            "border": null,
            "bottom": null,
            "display": null,
            "flex": null,
            "flex_flow": null,
            "grid_area": null,
            "grid_auto_columns": null,
            "grid_auto_flow": null,
            "grid_auto_rows": null,
            "grid_column": null,
            "grid_gap": null,
            "grid_row": null,
            "grid_template_areas": null,
            "grid_template_columns": null,
            "grid_template_rows": null,
            "height": null,
            "justify_content": null,
            "justify_items": null,
            "left": null,
            "margin": null,
            "max_height": null,
            "max_width": null,
            "min_height": null,
            "min_width": null,
            "object_fit": null,
            "object_position": null,
            "order": null,
            "overflow": null,
            "overflow_x": null,
            "overflow_y": null,
            "padding": null,
            "right": null,
            "top": null,
            "visibility": null,
            "width": null
          }
        },
        "600ddaa77c5c4a578efb797af2c5449e": {
          "model_module": "@jupyter-widgets/controls",
          "model_name": "DescriptionStyleModel",
          "model_module_version": "1.5.0",
          "state": {
            "_model_module": "@jupyter-widgets/controls",
            "_model_module_version": "1.5.0",
            "_model_name": "DescriptionStyleModel",
            "_view_count": null,
            "_view_module": "@jupyter-widgets/base",
            "_view_module_version": "1.2.0",
            "_view_name": "StyleView",
            "description_width": ""
          }
        },
        "506264241bf747eb83b597bdf4d1d56a": {
          "model_module": "@jupyter-widgets/controls",
          "model_name": "HBoxModel",
          "model_module_version": "1.5.0",
          "state": {
            "_dom_classes": [],
            "_model_module": "@jupyter-widgets/controls",
            "_model_module_version": "1.5.0",
            "_model_name": "HBoxModel",
            "_view_count": null,
            "_view_module": "@jupyter-widgets/controls",
            "_view_module_version": "1.5.0",
            "_view_name": "HBoxView",
            "box_style": "",
            "children": [
              "IPY_MODEL_87499d6a1c25439c8cfd706e4628b42f",
              "IPY_MODEL_13a858d836c34e3e9192dcf3877f1993",
              "IPY_MODEL_5d16e174190546a691466aa94dd9a548"
            ],
            "layout": "IPY_MODEL_978da01541384011b60fb9e67fd28874"
          }
        },
        "87499d6a1c25439c8cfd706e4628b42f": {
          "model_module": "@jupyter-widgets/controls",
          "model_name": "HTMLModel",
          "model_module_version": "1.5.0",
          "state": {
            "_dom_classes": [],
            "_model_module": "@jupyter-widgets/controls",
            "_model_module_version": "1.5.0",
            "_model_name": "HTMLModel",
            "_view_count": null,
            "_view_module": "@jupyter-widgets/controls",
            "_view_module_version": "1.5.0",
            "_view_name": "HTMLView",
            "description": "",
            "description_tooltip": null,
            "layout": "IPY_MODEL_256f9529b8ec496ba9e4cf91b14bff2c",
            "placeholder": "​",
            "style": "IPY_MODEL_830290b42a914d1fbd98e20319269f35",
            "value": "Generating validation split: 100%"
          }
        },
        "13a858d836c34e3e9192dcf3877f1993": {
          "model_module": "@jupyter-widgets/controls",
          "model_name": "FloatProgressModel",
          "model_module_version": "1.5.0",
          "state": {
            "_dom_classes": [],
            "_model_module": "@jupyter-widgets/controls",
            "_model_module_version": "1.5.0",
            "_model_name": "FloatProgressModel",
            "_view_count": null,
            "_view_module": "@jupyter-widgets/controls",
            "_view_module_version": "1.5.0",
            "_view_name": "ProgressView",
            "bar_style": "success",
            "description": "",
            "description_tooltip": null,
            "layout": "IPY_MODEL_9c92865f6c8b4123b95de42abbfc6bdb",
            "max": 638,
            "min": 0,
            "orientation": "horizontal",
            "style": "IPY_MODEL_3cf718e8c04d40e0a41ce13eaba28afe",
            "value": 638
          }
        },
        "5d16e174190546a691466aa94dd9a548": {
          "model_module": "@jupyter-widgets/controls",
          "model_name": "HTMLModel",
          "model_module_version": "1.5.0",
          "state": {
            "_dom_classes": [],
            "_model_module": "@jupyter-widgets/controls",
            "_model_module_version": "1.5.0",
            "_model_name": "HTMLModel",
            "_view_count": null,
            "_view_module": "@jupyter-widgets/controls",
            "_view_module_version": "1.5.0",
            "_view_name": "HTMLView",
            "description": "",
            "description_tooltip": null,
            "layout": "IPY_MODEL_7dc3708186684bc991a9669fd3787302",
            "placeholder": "​",
            "style": "IPY_MODEL_753249ae2adc4fc6acbb897191a87504",
            "value": " 638/638 [00:00&lt;00:00, 5690.07 examples/s]"
          }
        },
        "978da01541384011b60fb9e67fd28874": {
          "model_module": "@jupyter-widgets/base",
          "model_name": "LayoutModel",
          "model_module_version": "1.2.0",
          "state": {
            "_model_module": "@jupyter-widgets/base",
            "_model_module_version": "1.2.0",
            "_model_name": "LayoutModel",
            "_view_count": null,
            "_view_module": "@jupyter-widgets/base",
            "_view_module_version": "1.2.0",
            "_view_name": "LayoutView",
            "align_content": null,
            "align_items": null,
            "align_self": null,
            "border": null,
            "bottom": null,
            "display": null,
            "flex": null,
            "flex_flow": null,
            "grid_area": null,
            "grid_auto_columns": null,
            "grid_auto_flow": null,
            "grid_auto_rows": null,
            "grid_column": null,
            "grid_gap": null,
            "grid_row": null,
            "grid_template_areas": null,
            "grid_template_columns": null,
            "grid_template_rows": null,
            "height": null,
            "justify_content": null,
            "justify_items": null,
            "left": null,
            "margin": null,
            "max_height": null,
            "max_width": null,
            "min_height": null,
            "min_width": null,
            "object_fit": null,
            "object_position": null,
            "order": null,
            "overflow": null,
            "overflow_x": null,
            "overflow_y": null,
            "padding": null,
            "right": null,
            "top": null,
            "visibility": null,
            "width": null
          }
        },
        "256f9529b8ec496ba9e4cf91b14bff2c": {
          "model_module": "@jupyter-widgets/base",
          "model_name": "LayoutModel",
          "model_module_version": "1.2.0",
          "state": {
            "_model_module": "@jupyter-widgets/base",
            "_model_module_version": "1.2.0",
            "_model_name": "LayoutModel",
            "_view_count": null,
            "_view_module": "@jupyter-widgets/base",
            "_view_module_version": "1.2.0",
            "_view_name": "LayoutView",
            "align_content": null,
            "align_items": null,
            "align_self": null,
            "border": null,
            "bottom": null,
            "display": null,
            "flex": null,
            "flex_flow": null,
            "grid_area": null,
            "grid_auto_columns": null,
            "grid_auto_flow": null,
            "grid_auto_rows": null,
            "grid_column": null,
            "grid_gap": null,
            "grid_row": null,
            "grid_template_areas": null,
            "grid_template_columns": null,
            "grid_template_rows": null,
            "height": null,
            "justify_content": null,
            "justify_items": null,
            "left": null,
            "margin": null,
            "max_height": null,
            "max_width": null,
            "min_height": null,
            "min_width": null,
            "object_fit": null,
            "object_position": null,
            "order": null,
            "overflow": null,
            "overflow_x": null,
            "overflow_y": null,
            "padding": null,
            "right": null,
            "top": null,
            "visibility": null,
            "width": null
          }
        },
        "830290b42a914d1fbd98e20319269f35": {
          "model_module": "@jupyter-widgets/controls",
          "model_name": "DescriptionStyleModel",
          "model_module_version": "1.5.0",
          "state": {
            "_model_module": "@jupyter-widgets/controls",
            "_model_module_version": "1.5.0",
            "_model_name": "DescriptionStyleModel",
            "_view_count": null,
            "_view_module": "@jupyter-widgets/base",
            "_view_module_version": "1.2.0",
            "_view_name": "StyleView",
            "description_width": ""
          }
        },
        "9c92865f6c8b4123b95de42abbfc6bdb": {
          "model_module": "@jupyter-widgets/base",
          "model_name": "LayoutModel",
          "model_module_version": "1.2.0",
          "state": {
            "_model_module": "@jupyter-widgets/base",
            "_model_module_version": "1.2.0",
            "_model_name": "LayoutModel",
            "_view_count": null,
            "_view_module": "@jupyter-widgets/base",
            "_view_module_version": "1.2.0",
            "_view_name": "LayoutView",
            "align_content": null,
            "align_items": null,
            "align_self": null,
            "border": null,
            "bottom": null,
            "display": null,
            "flex": null,
            "flex_flow": null,
            "grid_area": null,
            "grid_auto_columns": null,
            "grid_auto_flow": null,
            "grid_auto_rows": null,
            "grid_column": null,
            "grid_gap": null,
            "grid_row": null,
            "grid_template_areas": null,
            "grid_template_columns": null,
            "grid_template_rows": null,
            "height": null,
            "justify_content": null,
            "justify_items": null,
            "left": null,
            "margin": null,
            "max_height": null,
            "max_width": null,
            "min_height": null,
            "min_width": null,
            "object_fit": null,
            "object_position": null,
            "order": null,
            "overflow": null,
            "overflow_x": null,
            "overflow_y": null,
            "padding": null,
            "right": null,
            "top": null,
            "visibility": null,
            "width": null
          }
        },
        "3cf718e8c04d40e0a41ce13eaba28afe": {
          "model_module": "@jupyter-widgets/controls",
          "model_name": "ProgressStyleModel",
          "model_module_version": "1.5.0",
          "state": {
            "_model_module": "@jupyter-widgets/controls",
            "_model_module_version": "1.5.0",
            "_model_name": "ProgressStyleModel",
            "_view_count": null,
            "_view_module": "@jupyter-widgets/base",
            "_view_module_version": "1.2.0",
            "_view_name": "StyleView",
            "bar_color": null,
            "description_width": ""
          }
        },
        "7dc3708186684bc991a9669fd3787302": {
          "model_module": "@jupyter-widgets/base",
          "model_name": "LayoutModel",
          "model_module_version": "1.2.0",
          "state": {
            "_model_module": "@jupyter-widgets/base",
            "_model_module_version": "1.2.0",
            "_model_name": "LayoutModel",
            "_view_count": null,
            "_view_module": "@jupyter-widgets/base",
            "_view_module_version": "1.2.0",
            "_view_name": "LayoutView",
            "align_content": null,
            "align_items": null,
            "align_self": null,
            "border": null,
            "bottom": null,
            "display": null,
            "flex": null,
            "flex_flow": null,
            "grid_area": null,
            "grid_auto_columns": null,
            "grid_auto_flow": null,
            "grid_auto_rows": null,
            "grid_column": null,
            "grid_gap": null,
            "grid_row": null,
            "grid_template_areas": null,
            "grid_template_columns": null,
            "grid_template_rows": null,
            "height": null,
            "justify_content": null,
            "justify_items": null,
            "left": null,
            "margin": null,
            "max_height": null,
            "max_width": null,
            "min_height": null,
            "min_width": null,
            "object_fit": null,
            "object_position": null,
            "order": null,
            "overflow": null,
            "overflow_x": null,
            "overflow_y": null,
            "padding": null,
            "right": null,
            "top": null,
            "visibility": null,
            "width": null
          }
        },
        "753249ae2adc4fc6acbb897191a87504": {
          "model_module": "@jupyter-widgets/controls",
          "model_name": "DescriptionStyleModel",
          "model_module_version": "1.5.0",
          "state": {
            "_model_module": "@jupyter-widgets/controls",
            "_model_module_version": "1.5.0",
            "_model_name": "DescriptionStyleModel",
            "_view_count": null,
            "_view_module": "@jupyter-widgets/base",
            "_view_module_version": "1.2.0",
            "_view_name": "StyleView",
            "description_width": ""
          }
        },
        "4912efadb49f425c8a64a0bb923f4381": {
          "model_module": "@jupyter-widgets/controls",
          "model_name": "HBoxModel",
          "model_module_version": "1.5.0",
          "state": {
            "_dom_classes": [],
            "_model_module": "@jupyter-widgets/controls",
            "_model_module_version": "1.5.0",
            "_model_name": "HBoxModel",
            "_view_count": null,
            "_view_module": "@jupyter-widgets/controls",
            "_view_module_version": "1.5.0",
            "_view_name": "HBoxView",
            "box_style": "",
            "children": [
              "IPY_MODEL_618d45bf80de492d8982084d48c0a07c",
              "IPY_MODEL_5039398f0a2f4d32916c5d81fecd05d5",
              "IPY_MODEL_28874b776735418ca2aa3f06bf29182f"
            ],
            "layout": "IPY_MODEL_ce4e0a3c69c0472c9b3f116c421d40ab"
          }
        },
        "618d45bf80de492d8982084d48c0a07c": {
          "model_module": "@jupyter-widgets/controls",
          "model_name": "HTMLModel",
          "model_module_version": "1.5.0",
          "state": {
            "_dom_classes": [],
            "_model_module": "@jupyter-widgets/controls",
            "_model_module_version": "1.5.0",
            "_model_name": "HTMLModel",
            "_view_count": null,
            "_view_module": "@jupyter-widgets/controls",
            "_view_module_version": "1.5.0",
            "_view_name": "HTMLView",
            "description": "",
            "description_tooltip": null,
            "layout": "IPY_MODEL_f97a0af14f2f4d2fa8068eefd1995935",
            "placeholder": "​",
            "style": "IPY_MODEL_b70ce96b7cea4d1f8c564734027c5ec7",
            "value": "Generating test split: 100%"
          }
        },
        "5039398f0a2f4d32916c5d81fecd05d5": {
          "model_module": "@jupyter-widgets/controls",
          "model_name": "FloatProgressModel",
          "model_module_version": "1.5.0",
          "state": {
            "_dom_classes": [],
            "_model_module": "@jupyter-widgets/controls",
            "_model_module_version": "1.5.0",
            "_model_name": "FloatProgressModel",
            "_view_count": null,
            "_view_module": "@jupyter-widgets/controls",
            "_view_module_version": "1.5.0",
            "_view_name": "ProgressView",
            "bar_style": "success",
            "description": "",
            "description_tooltip": null,
            "layout": "IPY_MODEL_57e7f871e10543689edb54b09a7444fb",
            "max": 1400,
            "min": 0,
            "orientation": "horizontal",
            "style": "IPY_MODEL_6c4e3d4088704509b50bd053863d3a46",
            "value": 1400
          }
        },
        "28874b776735418ca2aa3f06bf29182f": {
          "model_module": "@jupyter-widgets/controls",
          "model_name": "HTMLModel",
          "model_module_version": "1.5.0",
          "state": {
            "_dom_classes": [],
            "_model_module": "@jupyter-widgets/controls",
            "_model_module_version": "1.5.0",
            "_model_name": "HTMLModel",
            "_view_count": null,
            "_view_module": "@jupyter-widgets/controls",
            "_view_module_version": "1.5.0",
            "_view_name": "HTMLView",
            "description": "",
            "description_tooltip": null,
            "layout": "IPY_MODEL_5f361ca9bdf74bd78543b420177d2566",
            "placeholder": "​",
            "style": "IPY_MODEL_2a2b3169f6c24f2f853340af9c1c0014",
            "value": " 1400/1400 [00:00&lt;00:00, 6784.22 examples/s]"
          }
        },
        "ce4e0a3c69c0472c9b3f116c421d40ab": {
          "model_module": "@jupyter-widgets/base",
          "model_name": "LayoutModel",
          "model_module_version": "1.2.0",
          "state": {
            "_model_module": "@jupyter-widgets/base",
            "_model_module_version": "1.2.0",
            "_model_name": "LayoutModel",
            "_view_count": null,
            "_view_module": "@jupyter-widgets/base",
            "_view_module_version": "1.2.0",
            "_view_name": "LayoutView",
            "align_content": null,
            "align_items": null,
            "align_self": null,
            "border": null,
            "bottom": null,
            "display": null,
            "flex": null,
            "flex_flow": null,
            "grid_area": null,
            "grid_auto_columns": null,
            "grid_auto_flow": null,
            "grid_auto_rows": null,
            "grid_column": null,
            "grid_gap": null,
            "grid_row": null,
            "grid_template_areas": null,
            "grid_template_columns": null,
            "grid_template_rows": null,
            "height": null,
            "justify_content": null,
            "justify_items": null,
            "left": null,
            "margin": null,
            "max_height": null,
            "max_width": null,
            "min_height": null,
            "min_width": null,
            "object_fit": null,
            "object_position": null,
            "order": null,
            "overflow": null,
            "overflow_x": null,
            "overflow_y": null,
            "padding": null,
            "right": null,
            "top": null,
            "visibility": null,
            "width": null
          }
        },
        "f97a0af14f2f4d2fa8068eefd1995935": {
          "model_module": "@jupyter-widgets/base",
          "model_name": "LayoutModel",
          "model_module_version": "1.2.0",
          "state": {
            "_model_module": "@jupyter-widgets/base",
            "_model_module_version": "1.2.0",
            "_model_name": "LayoutModel",
            "_view_count": null,
            "_view_module": "@jupyter-widgets/base",
            "_view_module_version": "1.2.0",
            "_view_name": "LayoutView",
            "align_content": null,
            "align_items": null,
            "align_self": null,
            "border": null,
            "bottom": null,
            "display": null,
            "flex": null,
            "flex_flow": null,
            "grid_area": null,
            "grid_auto_columns": null,
            "grid_auto_flow": null,
            "grid_auto_rows": null,
            "grid_column": null,
            "grid_gap": null,
            "grid_row": null,
            "grid_template_areas": null,
            "grid_template_columns": null,
            "grid_template_rows": null,
            "height": null,
            "justify_content": null,
            "justify_items": null,
            "left": null,
            "margin": null,
            "max_height": null,
            "max_width": null,
            "min_height": null,
            "min_width": null,
            "object_fit": null,
            "object_position": null,
            "order": null,
            "overflow": null,
            "overflow_x": null,
            "overflow_y": null,
            "padding": null,
            "right": null,
            "top": null,
            "visibility": null,
            "width": null
          }
        },
        "b70ce96b7cea4d1f8c564734027c5ec7": {
          "model_module": "@jupyter-widgets/controls",
          "model_name": "DescriptionStyleModel",
          "model_module_version": "1.5.0",
          "state": {
            "_model_module": "@jupyter-widgets/controls",
            "_model_module_version": "1.5.0",
            "_model_name": "DescriptionStyleModel",
            "_view_count": null,
            "_view_module": "@jupyter-widgets/base",
            "_view_module_version": "1.2.0",
            "_view_name": "StyleView",
            "description_width": ""
          }
        },
        "57e7f871e10543689edb54b09a7444fb": {
          "model_module": "@jupyter-widgets/base",
          "model_name": "LayoutModel",
          "model_module_version": "1.2.0",
          "state": {
            "_model_module": "@jupyter-widgets/base",
            "_model_module_version": "1.2.0",
            "_model_name": "LayoutModel",
            "_view_count": null,
            "_view_module": "@jupyter-widgets/base",
            "_view_module_version": "1.2.0",
            "_view_name": "LayoutView",
            "align_content": null,
            "align_items": null,
            "align_self": null,
            "border": null,
            "bottom": null,
            "display": null,
            "flex": null,
            "flex_flow": null,
            "grid_area": null,
            "grid_auto_columns": null,
            "grid_auto_flow": null,
            "grid_auto_rows": null,
            "grid_column": null,
            "grid_gap": null,
            "grid_row": null,
            "grid_template_areas": null,
            "grid_template_columns": null,
            "grid_template_rows": null,
            "height": null,
            "justify_content": null,
            "justify_items": null,
            "left": null,
            "margin": null,
            "max_height": null,
            "max_width": null,
            "min_height": null,
            "min_width": null,
            "object_fit": null,
            "object_position": null,
            "order": null,
            "overflow": null,
            "overflow_x": null,
            "overflow_y": null,
            "padding": null,
            "right": null,
            "top": null,
            "visibility": null,
            "width": null
          }
        },
        "6c4e3d4088704509b50bd053863d3a46": {
          "model_module": "@jupyter-widgets/controls",
          "model_name": "ProgressStyleModel",
          "model_module_version": "1.5.0",
          "state": {
            "_model_module": "@jupyter-widgets/controls",
            "_model_module_version": "1.5.0",
            "_model_name": "ProgressStyleModel",
            "_view_count": null,
            "_view_module": "@jupyter-widgets/base",
            "_view_module_version": "1.2.0",
            "_view_name": "StyleView",
            "bar_color": null,
            "description_width": ""
          }
        },
        "5f361ca9bdf74bd78543b420177d2566": {
          "model_module": "@jupyter-widgets/base",
          "model_name": "LayoutModel",
          "model_module_version": "1.2.0",
          "state": {
            "_model_module": "@jupyter-widgets/base",
            "_model_module_version": "1.2.0",
            "_model_name": "LayoutModel",
            "_view_count": null,
            "_view_module": "@jupyter-widgets/base",
            "_view_module_version": "1.2.0",
            "_view_name": "LayoutView",
            "align_content": null,
            "align_items": null,
            "align_self": null,
            "border": null,
            "bottom": null,
            "display": null,
            "flex": null,
            "flex_flow": null,
            "grid_area": null,
            "grid_auto_columns": null,
            "grid_auto_flow": null,
            "grid_auto_rows": null,
            "grid_column": null,
            "grid_gap": null,
            "grid_row": null,
            "grid_template_areas": null,
            "grid_template_columns": null,
            "grid_template_rows": null,
            "height": null,
            "justify_content": null,
            "justify_items": null,
            "left": null,
            "margin": null,
            "max_height": null,
            "max_width": null,
            "min_height": null,
            "min_width": null,
            "object_fit": null,
            "object_position": null,
            "order": null,
            "overflow": null,
            "overflow_x": null,
            "overflow_y": null,
            "padding": null,
            "right": null,
            "top": null,
            "visibility": null,
            "width": null
          }
        },
        "2a2b3169f6c24f2f853340af9c1c0014": {
          "model_module": "@jupyter-widgets/controls",
          "model_name": "DescriptionStyleModel",
          "model_module_version": "1.5.0",
          "state": {
            "_model_module": "@jupyter-widgets/controls",
            "_model_module_version": "1.5.0",
            "_model_name": "DescriptionStyleModel",
            "_view_count": null,
            "_view_module": "@jupyter-widgets/base",
            "_view_module_version": "1.2.0",
            "_view_name": "StyleView",
            "description_width": ""
          }
        }
      }
    }
  },
  "nbformat": 4,
  "nbformat_minor": 0
}